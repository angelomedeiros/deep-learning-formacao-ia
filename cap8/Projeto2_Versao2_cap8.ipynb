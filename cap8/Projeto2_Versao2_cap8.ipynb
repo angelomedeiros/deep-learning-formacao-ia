{
  "cells": [
    {
      "cell_type": "markdown",
      "metadata": {
        "id": "bnHDtzoUkj7S"
      },
      "source": [
        "# Projeto 2 - Fine-Tuning de um modelo transformer para classificação de sentimento"
      ]
    },
    {
      "cell_type": "code",
      "execution_count": 302,
      "metadata": {
        "colab": {
          "base_uri": "https://localhost:8080/"
        },
        "id": "ea2bHoMQlLnt",
        "outputId": "3835da50-134e-4198-84c1-d2cfee41ea42"
      },
      "outputs": [
        {
          "name": "stdout",
          "output_type": "stream",
          "text": [
            "Note: you may need to restart the kernel to use updated packages.\n"
          ]
        }
      ],
      "source": [
        "%pip install -q -U watermark"
      ]
    },
    {
      "cell_type": "code",
      "execution_count": 303,
      "metadata": {},
      "outputs": [],
      "source": [
        "# %pip install -q transformers==4.46.3\n",
        "# %pip install -q scikit-learn==1.5.2\n",
        "# %pip install -q tokenizers==0.20.3\n",
        "# %pip install -q numpy==1.26.2\n",
        "# %pip install -q tqdm==4.65.0\n",
        "# %pip install -q tensorflow==2.18.0\n",
        "# %pip install -q keras==3.7.0\n",
        "# %pip install -q spacy==3.7.2\n",
        "# %pip install -q scipy==1.11.1\n",
        "# %pip install -q nltk==3.8.1\n",
        "# %pip install -q pandas==2.2.3\n",
        "# %pip install -q keras-preprocessing==1.1.2\n",
        "# %pip install -q matplotlib==3.7.4"
      ]
    },
    {
      "cell_type": "code",
      "execution_count": 304,
      "metadata": {
        "id": "EwLPqJzxr5F9"
      },
      "outputs": [],
      "source": [
        "# %watermark --iversions"
      ]
    },
    {
      "cell_type": "code",
      "execution_count": 305,
      "metadata": {
        "id": "ffHLauv-lz07"
      },
      "outputs": [],
      "source": [
        "# Imports\n",
        "\n",
        "import math\n",
        "import nltk\n",
        "import spacy\n",
        "import numpy as np\n",
        "import pandas as pd\n",
        "import tensorflow as tf\n",
        "import matplotlib.pyplot as plt\n",
        "import transformers\n",
        "from tokenizers import BertWordPieceTokenizer\n",
        "from tqdm import tqdm\n",
        "from nltk.corpus import stopwords\n",
        "from sklearn.preprocessing import LabelEncoder\n",
        "from sklearn.feature_extraction.text import TfidfVectorizer\n",
        "from sklearn.model_selection import train_test_split\n",
        "from sklearn.utils.class_weight import compute_class_weight\n",
        "from sklearn.metrics import confusion_matrix, accuracy_score, classification_report\n",
        "from keras.api.utils import to_categorical\n",
        "import keras\n",
        "from keras.api.regularizers import l1_l2\n",
        "from keras.api.models import Sequential\n",
        "from keras.api.models import load_model\n",
        "from keras_preprocessing.text import Tokenizer\n",
        "from keras_preprocessing.sequence import pad_sequences\n",
        "from keras.api.metrics import Precision, Recall, AUC\n",
        "from keras.api.layers import Embedding, LSTM, Dense, Dropout, Bidirectional\n",
        "from keras.api.callbacks import EarlyStopping, LearningRateScheduler, CallbackList, ReduceLROnPlateau\n",
        "from keras.api.optimizers import Adam\n"
      ]
    },
    {
      "cell_type": "code",
      "execution_count": 306,
      "metadata": {
        "colab": {
          "base_uri": "https://localhost:8080/"
        },
        "id": "vSOZVr6frLOF",
        "outputId": "ac330d29-081b-41ba-f809-c188f32b1240"
      },
      "outputs": [
        {
          "name": "stdout",
          "output_type": "stream",
          "text": [
            "Author: Angelo Medeiros Nóbrega\n",
            "\n"
          ]
        }
      ],
      "source": [
        "%reload_ext watermark\n",
        "%watermark -a \"Angelo Medeiros Nóbrega\""
      ]
    },
    {
      "cell_type": "markdown",
      "metadata": {
        "id": "JaHXTRDWu5re"
      },
      "source": [
        "# Carregando os dados de texto"
      ]
    },
    {
      "cell_type": "code",
      "execution_count": 307,
      "metadata": {
        "id": "drT3-W8qu450"
      },
      "outputs": [],
      "source": [
        "# Carrega os dados de treino\n",
        "dados_treino = pd.read_csv(\"dados_treino.txt\", header=None, delimiter=\";\")"
      ]
    },
    {
      "cell_type": "code",
      "execution_count": 308,
      "metadata": {
        "id": "4x1CBRq9vONl"
      },
      "outputs": [],
      "source": [
        "# Carrega os dados de teste\n",
        "dados_teste = pd.read_csv(\"dados_teste.txt\", header=None, delimiter=\";\")"
      ]
    },
    {
      "cell_type": "code",
      "execution_count": 309,
      "metadata": {
        "id": "6vT_NLsGvhuL"
      },
      "outputs": [],
      "source": [
        "# Ajusta os nomes das colunas\n",
        "dados_treino = dados_treino.rename(columns={0: \"texto\", 1: \"sentimento\"})\n",
        "dados_teste = dados_teste.rename(columns={0: \"texto\", 1: \"sentimento\"})"
      ]
    },
    {
      "cell_type": "code",
      "execution_count": 310,
      "metadata": {
        "colab": {
          "base_uri": "https://localhost:8080/"
        },
        "id": "Gtr2x8SPwFce",
        "outputId": "d384a7e4-0465-4fa6-fbe5-ff69c87ca851"
      },
      "outputs": [
        {
          "data": {
            "text/plain": [
              "(16000, 2)"
            ]
          },
          "execution_count": 310,
          "metadata": {},
          "output_type": "execute_result"
        }
      ],
      "source": [
        "# Shape - Dados de treino\n",
        "dados_treino.shape"
      ]
    },
    {
      "cell_type": "code",
      "execution_count": 311,
      "metadata": {
        "colab": {
          "base_uri": "https://localhost:8080/"
        },
        "id": "oo4790UpwJWX",
        "outputId": "d1b3c3aa-6137-4214-ea91-5d45123455d5"
      },
      "outputs": [
        {
          "data": {
            "text/plain": [
              "(2000, 2)"
            ]
          },
          "execution_count": 311,
          "metadata": {},
          "output_type": "execute_result"
        }
      ],
      "source": [
        "# Shape - Dados de teste\n",
        "dados_teste.shape"
      ]
    },
    {
      "cell_type": "code",
      "execution_count": 312,
      "metadata": {
        "id": "KEVzWsLTwmmd"
      },
      "outputs": [
        {
          "data": {
            "text/html": [
              "<div>\n",
              "<style scoped>\n",
              "    .dataframe tbody tr th:only-of-type {\n",
              "        vertical-align: middle;\n",
              "    }\n",
              "\n",
              "    .dataframe tbody tr th {\n",
              "        vertical-align: top;\n",
              "    }\n",
              "\n",
              "    .dataframe thead th {\n",
              "        text-align: right;\n",
              "    }\n",
              "</style>\n",
              "<table border=\"1\" class=\"dataframe\">\n",
              "  <thead>\n",
              "    <tr style=\"text-align: right;\">\n",
              "      <th></th>\n",
              "      <th>texto</th>\n",
              "      <th>sentimento</th>\n",
              "    </tr>\n",
              "  </thead>\n",
              "  <tbody>\n",
              "    <tr>\n",
              "      <th>0</th>\n",
              "      <td>i feel like my only role now would be to tear ...</td>\n",
              "      <td>sadness</td>\n",
              "    </tr>\n",
              "    <tr>\n",
              "      <th>1</th>\n",
              "      <td>i feel just bcoz a fight we get mad to each ot...</td>\n",
              "      <td>anger</td>\n",
              "    </tr>\n",
              "    <tr>\n",
              "      <th>2</th>\n",
              "      <td>i feel like reds and purples are just so rich ...</td>\n",
              "      <td>joy</td>\n",
              "    </tr>\n",
              "    <tr>\n",
              "      <th>3</th>\n",
              "      <td>im not sure the feeling of loss will ever go a...</td>\n",
              "      <td>sadness</td>\n",
              "    </tr>\n",
              "    <tr>\n",
              "      <th>4</th>\n",
              "      <td>i feel like ive gotten to know many of you thr...</td>\n",
              "      <td>joy</td>\n",
              "    </tr>\n",
              "  </tbody>\n",
              "</table>\n",
              "</div>"
            ],
            "text/plain": [
              "                                               texto sentimento\n",
              "0  i feel like my only role now would be to tear ...    sadness\n",
              "1  i feel just bcoz a fight we get mad to each ot...      anger\n",
              "2  i feel like reds and purples are just so rich ...        joy\n",
              "3  im not sure the feeling of loss will ever go a...    sadness\n",
              "4  i feel like ive gotten to know many of you thr...        joy"
            ]
          },
          "execution_count": 312,
          "metadata": {},
          "output_type": "execute_result"
        }
      ],
      "source": [
        "# Amostra de teste\n",
        "dados_teste.head()"
      ]
    },
    {
      "cell_type": "code",
      "execution_count": 313,
      "metadata": {
        "colab": {
          "base_uri": "https://localhost:8080/",
          "height": 206
        },
        "id": "YZFNZ3XNwSGK",
        "outputId": "c180c164-22e9-48c1-eb2c-02cca275694b"
      },
      "outputs": [
        {
          "data": {
            "text/html": [
              "<div>\n",
              "<style scoped>\n",
              "    .dataframe tbody tr th:only-of-type {\n",
              "        vertical-align: middle;\n",
              "    }\n",
              "\n",
              "    .dataframe tbody tr th {\n",
              "        vertical-align: top;\n",
              "    }\n",
              "\n",
              "    .dataframe thead th {\n",
              "        text-align: right;\n",
              "    }\n",
              "</style>\n",
              "<table border=\"1\" class=\"dataframe\">\n",
              "  <thead>\n",
              "    <tr style=\"text-align: right;\">\n",
              "      <th></th>\n",
              "      <th>texto</th>\n",
              "      <th>sentimento</th>\n",
              "    </tr>\n",
              "  </thead>\n",
              "  <tbody>\n",
              "    <tr>\n",
              "      <th>0</th>\n",
              "      <td>i am feeling completely overwhelmed i have two...</td>\n",
              "      <td>fear</td>\n",
              "    </tr>\n",
              "    <tr>\n",
              "      <th>1</th>\n",
              "      <td>i have the feeling she was amused and delighted</td>\n",
              "      <td>joy</td>\n",
              "    </tr>\n",
              "    <tr>\n",
              "      <th>2</th>\n",
              "      <td>i was able to help chai lifeline with your sup...</td>\n",
              "      <td>joy</td>\n",
              "    </tr>\n",
              "    <tr>\n",
              "      <th>3</th>\n",
              "      <td>i already feel like i fucked up though because...</td>\n",
              "      <td>anger</td>\n",
              "    </tr>\n",
              "    <tr>\n",
              "      <th>4</th>\n",
              "      <td>i still love my so and wish the best for him i...</td>\n",
              "      <td>sadness</td>\n",
              "    </tr>\n",
              "  </tbody>\n",
              "</table>\n",
              "</div>"
            ],
            "text/plain": [
              "                                               texto sentimento\n",
              "0  i am feeling completely overwhelmed i have two...       fear\n",
              "1    i have the feeling she was amused and delighted        joy\n",
              "2  i was able to help chai lifeline with your sup...        joy\n",
              "3  i already feel like i fucked up though because...      anger\n",
              "4  i still love my so and wish the best for him i...    sadness"
            ]
          },
          "execution_count": 313,
          "metadata": {},
          "output_type": "execute_result"
        }
      ],
      "source": [
        "# Amostra de treino\n",
        "dados_treino.head()"
      ]
    },
    {
      "cell_type": "code",
      "execution_count": 314,
      "metadata": {
        "colab": {
          "base_uri": "https://localhost:8080/",
          "height": 303
        },
        "id": "ts4Hz4-BxT4h",
        "outputId": "ce969593-0460-4e60-818a-555405013030"
      },
      "outputs": [
        {
          "data": {
            "text/plain": [
              "sentimento\n",
              "joy         5362\n",
              "sadness     4666\n",
              "anger       2159\n",
              "fear        1937\n",
              "love        1304\n",
              "surprise     572\n",
              "Name: count, dtype: int64"
            ]
          },
          "execution_count": 314,
          "metadata": {},
          "output_type": "execute_result"
        }
      ],
      "source": [
        "# Sentimentos presentes nos dados de treino\n",
        "dados_treino[\"sentimento\"].value_counts()"
      ]
    },
    {
      "cell_type": "code",
      "execution_count": 315,
      "metadata": {
        "colab": {
          "base_uri": "https://localhost:8080/",
          "height": 303
        },
        "id": "Sbt7c4vhxxAi",
        "outputId": "d28d0960-0773-402a-f29e-6ee6490321da"
      },
      "outputs": [
        {
          "data": {
            "text/plain": [
              "sentimento\n",
              "joy         695\n",
              "sadness     581\n",
              "anger       275\n",
              "fear        224\n",
              "love        159\n",
              "surprise     66\n",
              "Name: count, dtype: int64"
            ]
          },
          "execution_count": 315,
          "metadata": {},
          "output_type": "execute_result"
        }
      ],
      "source": [
        "# Sentimentos presentes nos dados de teste\n",
        "dados_teste[\"sentimento\"].value_counts()"
      ]
    },
    {
      "cell_type": "markdown",
      "metadata": {
        "id": "GNeIXSCd5TEA"
      },
      "source": [
        "# Pré-processamento dos dados de texto com SpaCy"
      ]
    },
    {
      "cell_type": "code",
      "execution_count": 316,
      "metadata": {
        "colab": {
          "base_uri": "https://localhost:8080/"
        },
        "id": "0BBL-1an5YjE",
        "outputId": "0d9495da-319e-40df-8055-bd532e87a6f1"
      },
      "outputs": [
        {
          "name": "stdout",
          "output_type": "stream",
          "text": [
            "\u001b[38;5;2m✔ Download and installation successful\u001b[0m\n",
            "You can now load the package via spacy.load('en_core_web_md')\n"
          ]
        }
      ],
      "source": [
        "!python -m spacy download en_core_web_md -q"
      ]
    },
    {
      "cell_type": "code",
      "execution_count": 317,
      "metadata": {
        "id": "b-Om1Ifh5lmy"
      },
      "outputs": [],
      "source": [
        "# Carrega o dicionário\n",
        "nlp = spacy.load(\"en_core_web_md\")"
      ]
    },
    {
      "cell_type": "code",
      "execution_count": 318,
      "metadata": {
        "id": "Li6v4Ecl7Wc9"
      },
      "outputs": [],
      "source": [
        "# Definição da função `preprocessamento_texto` que recebe um texto como parâmetro\n",
        "def preprocessamento_texto(text):\n",
        "  # Processa o texto usando o dicionário\n",
        "  doc = nlp(text)\n",
        "\n",
        "  # Cria umalista de lemas dos tokens, convertidos para minúsculas e sem espaços em branco,\n",
        "  # excluindo as palabras que são stopwords\n",
        "  tokens = [token.lemma_.lower().strip() for token in doc if not token.is_stop]\n",
        "\n",
        "  # Retorna os tokens processados como uma string única, unindo-os com espaços\n",
        "  return ' '.join(tokens)"
      ]
    },
    {
      "cell_type": "code",
      "execution_count": 319,
      "metadata": {
        "id": "7_Jz1M908Ooo"
      },
      "outputs": [],
      "source": [
        "# Aplica a função em treino\n",
        "dados_treino['texto_processado'] = dados_treino['texto'].apply(preprocessamento_texto)"
      ]
    },
    {
      "cell_type": "code",
      "execution_count": 320,
      "metadata": {
        "id": "wDlEPYQ-8a37"
      },
      "outputs": [],
      "source": [
        "# Aplica a função em teste\n",
        "dados_teste['texto_processado'] = dados_teste['texto'].apply(preprocessamento_texto)"
      ]
    },
    {
      "cell_type": "code",
      "execution_count": 321,
      "metadata": {
        "colab": {
          "base_uri": "https://localhost:8080/",
          "height": 206
        },
        "id": "Yez2PAli8kfn",
        "outputId": "a87425bb-5458-4f09-87c2-06c7d316a24d"
      },
      "outputs": [
        {
          "data": {
            "text/html": [
              "<div>\n",
              "<style scoped>\n",
              "    .dataframe tbody tr th:only-of-type {\n",
              "        vertical-align: middle;\n",
              "    }\n",
              "\n",
              "    .dataframe tbody tr th {\n",
              "        vertical-align: top;\n",
              "    }\n",
              "\n",
              "    .dataframe thead th {\n",
              "        text-align: right;\n",
              "    }\n",
              "</style>\n",
              "<table border=\"1\" class=\"dataframe\">\n",
              "  <thead>\n",
              "    <tr style=\"text-align: right;\">\n",
              "      <th></th>\n",
              "      <th>texto</th>\n",
              "      <th>sentimento</th>\n",
              "      <th>texto_processado</th>\n",
              "    </tr>\n",
              "  </thead>\n",
              "  <tbody>\n",
              "    <tr>\n",
              "      <th>0</th>\n",
              "      <td>i am feeling completely overwhelmed i have two...</td>\n",
              "      <td>fear</td>\n",
              "      <td>feel completely overwhelmed strategy help feel...</td>\n",
              "    </tr>\n",
              "    <tr>\n",
              "      <th>1</th>\n",
              "      <td>i have the feeling she was amused and delighted</td>\n",
              "      <td>joy</td>\n",
              "      <td>feeling amuse delight</td>\n",
              "    </tr>\n",
              "    <tr>\n",
              "      <th>2</th>\n",
              "      <td>i was able to help chai lifeline with your sup...</td>\n",
              "      <td>joy</td>\n",
              "      <td>able help chai lifeline support encouragement ...</td>\n",
              "    </tr>\n",
              "    <tr>\n",
              "      <th>3</th>\n",
              "      <td>i already feel like i fucked up though because...</td>\n",
              "      <td>anger</td>\n",
              "      <td>feel like fuck not usually eat morning</td>\n",
              "    </tr>\n",
              "    <tr>\n",
              "      <th>4</th>\n",
              "      <td>i still love my so and wish the best for him i...</td>\n",
              "      <td>sadness</td>\n",
              "      <td>love wish good long tolerate effect bm life fa...</td>\n",
              "    </tr>\n",
              "  </tbody>\n",
              "</table>\n",
              "</div>"
            ],
            "text/plain": [
              "                                               texto sentimento  \\\n",
              "0  i am feeling completely overwhelmed i have two...       fear   \n",
              "1    i have the feeling she was amused and delighted        joy   \n",
              "2  i was able to help chai lifeline with your sup...        joy   \n",
              "3  i already feel like i fucked up though because...      anger   \n",
              "4  i still love my so and wish the best for him i...    sadness   \n",
              "\n",
              "                                    texto_processado  \n",
              "0  feel completely overwhelmed strategy help feel...  \n",
              "1                              feeling amuse delight  \n",
              "2  able help chai lifeline support encouragement ...  \n",
              "3             feel like fuck not usually eat morning  \n",
              "4  love wish good long tolerate effect bm life fa...  "
            ]
          },
          "execution_count": 321,
          "metadata": {},
          "output_type": "execute_result"
        }
      ],
      "source": [
        "# Amostra dos dados de treino\n",
        "dados_treino.head()"
      ]
    },
    {
      "cell_type": "markdown",
      "metadata": {},
      "source": [
        "# Versao 1 do modelo - Arquitetura Fully Connected neural network"
      ]
    },
    {
      "cell_type": "markdown",
      "metadata": {},
      "source": [
        "Vetorização serve para converter os dados de entrada em uma representação numérica. Ideal para textos muito simples onde o contexto não é tão relevante. Calcula a frequência de cada palavra em cada texto e cria um vetor com essas frequências.\n",
        "\n",
        "Desvantagens do TF-IDF:\n",
        "- Não consegue capturar o contexto;"
      ]
    },
    {
      "cell_type": "markdown",
      "metadata": {},
      "source": [
        "## Passo 1: Vetorização com TF-IDF"
      ]
    },
    {
      "cell_type": "code",
      "execution_count": 322,
      "metadata": {},
      "outputs": [],
      "source": [
        "tfidf = TfidfVectorizer(max_df=0.95, min_df=2, stop_words='english')"
      ]
    },
    {
      "cell_type": "code",
      "execution_count": 323,
      "metadata": {},
      "outputs": [],
      "source": [
        "# Aplicar o vetorizador\n",
        "dados_treino_tfidf = tfidf.fit_transform(dados_treino['texto_processado'])\n",
        "dados_teste_tfidf = tfidf.transform(dados_teste['texto_processado'])"
      ]
    },
    {
      "cell_type": "code",
      "execution_count": 324,
      "metadata": {},
      "outputs": [
        {
          "data": {
            "text/plain": [
              "(16000, 5586)"
            ]
          },
          "execution_count": 324,
          "metadata": {},
          "output_type": "execute_result"
        }
      ],
      "source": [
        "dados_treino_tfidf.shape"
      ]
    },
    {
      "cell_type": "code",
      "execution_count": 325,
      "metadata": {},
      "outputs": [
        {
          "data": {
            "text/plain": [
              "(2000, 5586)"
            ]
          },
          "execution_count": 325,
          "metadata": {},
          "output_type": "execute_result"
        }
      ],
      "source": [
        "dados_teste_tfidf.shape"
      ]
    },
    {
      "cell_type": "code",
      "execution_count": 326,
      "metadata": {},
      "outputs": [
        {
          "data": {
            "text/plain": [
              "scipy.sparse._csr.csr_matrix"
            ]
          },
          "execution_count": 326,
          "metadata": {},
          "output_type": "execute_result"
        }
      ],
      "source": [
        "type(dados_treino_tfidf)"
      ]
    },
    {
      "cell_type": "code",
      "execution_count": 327,
      "metadata": {},
      "outputs": [
        {
          "data": {
            "text/plain": [
              "scipy.sparse._csr.csr_matrix"
            ]
          },
          "execution_count": 327,
          "metadata": {},
          "output_type": "execute_result"
        }
      ],
      "source": [
        "type(dados_teste_tfidf)"
      ]
    },
    {
      "cell_type": "code",
      "execution_count": 328,
      "metadata": {},
      "outputs": [
        {
          "data": {
            "text/plain": [
              "numpy.ndarray"
            ]
          },
          "execution_count": 328,
          "metadata": {},
          "output_type": "execute_result"
        }
      ],
      "source": [
        "# Converte os dados de entrada (text) para array\n",
        "X_treino_array = dados_treino_tfidf.toarray()\n",
        "X_teste_array = dados_teste_tfidf.toarray()\n",
        "\n",
        "type(X_treino_array)"
      ]
    },
    {
      "cell_type": "markdown",
      "metadata": {},
      "source": [
        "## Passo 2: Preparaçào dos dados\n"
      ]
    },
    {
      "cell_type": "markdown",
      "metadata": {},
      "source": [
        "Precisamos agora converter a variável alvo para representaçào numérica. Para isso, vamos usar a função LabelEncoder do scikit-learn."
      ]
    },
    {
      "cell_type": "code",
      "execution_count": 329,
      "metadata": {},
      "outputs": [],
      "source": [
        "# Cria o label encoder\n",
        "le = LabelEncoder()"
      ]
    },
    {
      "cell_type": "code",
      "execution_count": 330,
      "metadata": {},
      "outputs": [],
      "source": [
        "# Faz o fit e transform na variável alvo em treino\n",
        "y_treino_le = le.fit_transform(dados_treino['sentimento'])"
      ]
    },
    {
      "cell_type": "code",
      "execution_count": 331,
      "metadata": {},
      "outputs": [],
      "source": [
        "# Faz o transform na variável alvo em teste\n",
        "y_teste_le = le.transform(dados_teste['sentimento'])"
      ]
    },
    {
      "cell_type": "markdown",
      "metadata": {},
      "source": [
        "Vamos tratar de forma automática o desbalanceamento de classe"
      ]
    },
    {
      "cell_type": "code",
      "execution_count": 332,
      "metadata": {},
      "outputs": [],
      "source": [
        "# Peso das classes\n",
        "pesos_classes = compute_class_weight('balanced', classes=np.unique(y_treino_le), y=y_treino_le)"
      ]
    },
    {
      "cell_type": "code",
      "execution_count": 333,
      "metadata": {},
      "outputs": [
        {
          "data": {
            "text/plain": [
              "array([0, 1, 2, 3, 4, 5])"
            ]
          },
          "execution_count": 333,
          "metadata": {},
          "output_type": "execute_result"
        }
      ],
      "source": [
        "np.unique(y_treino_le)"
      ]
    },
    {
      "cell_type": "code",
      "execution_count": 334,
      "metadata": {},
      "outputs": [
        {
          "data": {
            "text/plain": [
              "numpy.ndarray"
            ]
          },
          "execution_count": 334,
          "metadata": {},
          "output_type": "execute_result"
        }
      ],
      "source": [
        "type(pesos_classes)"
      ]
    },
    {
      "cell_type": "code",
      "execution_count": 335,
      "metadata": {},
      "outputs": [
        {
          "name": "stdout",
          "output_type": "stream",
          "text": [
            "[1.23513973 1.37669936 0.49732687 2.04498978 0.57151022 4.66200466]\n"
          ]
        }
      ],
      "source": [
        "print(pesos_classes)"
      ]
    },
    {
      "cell_type": "markdown",
      "metadata": {},
      "source": [
        "### Validação"
      ]
    },
    {
      "cell_type": "code",
      "execution_count": 336,
      "metadata": {},
      "outputs": [],
      "source": [
        "# Divisão em dados de treino e teste (validação)\n",
        "X_treino, X_val, y_treino, y_val = train_test_split(X_treino_array, y_treino_le, test_size=0.2, random_state=42, stratify=y_treino_le)"
      ]
    },
    {
      "cell_type": "code",
      "execution_count": 337,
      "metadata": {},
      "outputs": [],
      "source": [
        "# Ajusta a variável alvo como tipo categórica\n",
        "y_treino_encoded = to_categorical(y_treino)\n",
        "y_teste_encoded = to_categorical(y_teste_le)\n",
        "y_val_encoded = to_categorical(y_val)"
      ]
    },
    {
      "cell_type": "code",
      "execution_count": 338,
      "metadata": {},
      "outputs": [
        {
          "data": {
            "text/plain": [
              "((12800, 6), (2000, 6), (3200, 6))"
            ]
          },
          "execution_count": 338,
          "metadata": {},
          "output_type": "execute_result"
        }
      ],
      "source": [
        "# Shapes\n",
        "y_treino_encoded.shape, y_teste_encoded.shape, y_val_encoded.shape"
      ]
    },
    {
      "cell_type": "markdown",
      "metadata": {},
      "source": [
        "# Passo 3: Construção do modelo"
      ]
    },
    {
      "cell_type": "code",
      "execution_count": 339,
      "metadata": {},
      "outputs": [
        {
          "name": "stderr",
          "output_type": "stream",
          "text": [
            "c:\\Users\\angel\\anaconda3\\envs\\dsa-formacao-ia\\Lib\\site-packages\\keras\\src\\layers\\core\\dense.py:87: UserWarning: Do not pass an `input_shape`/`input_dim` argument to a layer. When using Sequential models, prefer using an `Input(shape)` object as the first layer in the model instead.\n",
            "  super().__init__(activity_regularizer=activity_regularizer, **kwargs)\n"
          ]
        }
      ],
      "source": [
        "# Cria o modelo\n",
        "\n",
        "# Inicializa um modelo sequencial. Modelos sequencias sao uma pilha linear de camadas.\n",
        "model_v1 = Sequential()\n",
        "\n",
        "# Define o número de colunas do X_treino\n",
        "numero_de_colunas_X_treino = X_treino.shape[1]\n",
        "\n",
        "# Adiciona a primeira camada densa (Fully-connected) ao modelo\n",
        "model_v1.add(\n",
        "    Dense(\n",
        "        4096,\n",
        "        # Utiliza a funcao de ativacao SELU (Scaled Exponential Linear Unit)\n",
        "        activation='selu',\n",
        "\n",
        "        # Inicializa os pesos com a distribuicao LeCun Normal\n",
        "        kernel_initializer='lecun_normal',\n",
        "\n",
        "        # Define o formato da entrada com base no número de features do X_treino\n",
        "        input_shape=(numero_de_colunas_X_treino,),\n",
        "\n",
        "        # Aplica regularização L2 para reduzir o overfitting\n",
        "        kernel_regularizer=tf.keras.regularizers.l2(0.01)\n",
        "    )\n",
        ")\n",
        "\n",
        "# Adiciona a segunda camada densa\n",
        "model_v1.add(\n",
        "    Dense(\n",
        "        2048,\n",
        "        activation='selu',\n",
        "        kernel_initializer='lecun_normal',\n",
        "        kernel_regularizer=tf.keras.regularizers.l2(0.01)\n",
        "    )\n",
        ")\n",
        "\n",
        "# Adiciona a terceira camada densa\n",
        "model_v1.add(\n",
        "    Dense(\n",
        "        1024,\n",
        "        activation='selu',\n",
        "        kernel_initializer='lecun_normal',\n",
        "        kernel_regularizer=tf.keras.regularizers.l2(0.01)\n",
        "    )\n",
        ")\n",
        "\n",
        "# Adiciona a quarta camada densa\n",
        "# Camada com 64 neurônios e ativacao SELU\n",
        "model_v1.add(\n",
        "    Dense(\n",
        "        64,\n",
        "        activation='selu',\n",
        "    )\n",
        ")\n",
        "\n",
        "# Adiciona a camada de saída\n",
        "# Camada com 6 neurônios e ativacao softmax para classificação multiclasse\n",
        "model_v1.add(Dense(6, activation='softmax'))\n",
        "\n",
        "# O número de neuronios de cada camada é definido a partir de testes e experimentações.\n",
        "# Não existe uma regra fixa para definir o número de neurônios de cada camada.\n",
        "# O número de camadas e neurônios é um hiperparâmetro que deve ser ajustado de acordo com o problema."
      ]
    },
    {
      "cell_type": "markdown",
      "metadata": {},
      "source": [
        "# Passo 4: Compilação e Sumário do Modelo"
      ]
    },
    {
      "cell_type": "code",
      "execution_count": 340,
      "metadata": {},
      "outputs": [
        {
          "data": {
            "text/plain": [
              "<tf.Tensor: shape=(6,), dtype=float32, numpy=\n",
              "array([1.2351397 , 1.3766993 , 0.49732688, 2.0449898 , 0.5715102 ,\n",
              "       4.6620045 ], dtype=float32)>"
            ]
          },
          "execution_count": 340,
          "metadata": {},
          "output_type": "execute_result"
        }
      ],
      "source": [
        "# Atribui pesos específicos ao betor de bias da última camada do modelo\n",
        "model_v1.layers[-1].bias.assign(pesos_classes)"
      ]
    },
    {
      "cell_type": "markdown",
      "metadata": {},
      "source": [
        "#### Compila o odelo\n",
        "\n",
        "- Define o otimizador Adam.\n",
        "\n",
        "   Adam é um algortimo de otimização que pode ser usado no lugar do procedimento \n",
        "   clássico de descida do gradiente estocástico para atualizar os pesos da rede e minimizar a função de perda."
      ]
    },
    {
      "cell_type": "code",
      "execution_count": 341,
      "metadata": {},
      "outputs": [],
      "source": [
        "model_v1.compile(optimizer='Adam', loss=tf.losses.categorical_crossentropy, metrics=['accuracy', Precision(), Recall(), AUC()])"
      ]
    },
    {
      "cell_type": "code",
      "execution_count": 342,
      "metadata": {},
      "outputs": [
        {
          "data": {
            "text/html": [
              "<pre style=\"white-space:pre;overflow-x:auto;line-height:normal;font-family:Menlo,'DejaVu Sans Mono',consolas,'Courier New',monospace\"><span style=\"font-weight: bold\">Model: \"sequential_6\"</span>\n",
              "</pre>\n"
            ],
            "text/plain": [
              "\u001b[1mModel: \"sequential_6\"\u001b[0m\n"
            ]
          },
          "metadata": {},
          "output_type": "display_data"
        },
        {
          "data": {
            "text/html": [
              "<pre style=\"white-space:pre;overflow-x:auto;line-height:normal;font-family:Menlo,'DejaVu Sans Mono',consolas,'Courier New',monospace\">┏━━━━━━━━━━━━━━━━━━━━━━━━━━━━━━━━━┳━━━━━━━━━━━━━━━━━━━━━━━━┳━━━━━━━━━━━━━━━┓\n",
              "┃<span style=\"font-weight: bold\"> Layer (type)                    </span>┃<span style=\"font-weight: bold\"> Output Shape           </span>┃<span style=\"font-weight: bold\">       Param # </span>┃\n",
              "┡━━━━━━━━━━━━━━━━━━━━━━━━━━━━━━━━━╇━━━━━━━━━━━━━━━━━━━━━━━━╇━━━━━━━━━━━━━━━┩\n",
              "│ dense_28 (<span style=\"color: #0087ff; text-decoration-color: #0087ff\">Dense</span>)                │ (<span style=\"color: #00d7ff; text-decoration-color: #00d7ff\">None</span>, <span style=\"color: #00af00; text-decoration-color: #00af00\">4096</span>)           │    <span style=\"color: #00af00; text-decoration-color: #00af00\">22,884,352</span> │\n",
              "├─────────────────────────────────┼────────────────────────┼───────────────┤\n",
              "│ dense_29 (<span style=\"color: #0087ff; text-decoration-color: #0087ff\">Dense</span>)                │ (<span style=\"color: #00d7ff; text-decoration-color: #00d7ff\">None</span>, <span style=\"color: #00af00; text-decoration-color: #00af00\">2048</span>)           │     <span style=\"color: #00af00; text-decoration-color: #00af00\">8,390,656</span> │\n",
              "├─────────────────────────────────┼────────────────────────┼───────────────┤\n",
              "│ dense_30 (<span style=\"color: #0087ff; text-decoration-color: #0087ff\">Dense</span>)                │ (<span style=\"color: #00d7ff; text-decoration-color: #00d7ff\">None</span>, <span style=\"color: #00af00; text-decoration-color: #00af00\">1024</span>)           │     <span style=\"color: #00af00; text-decoration-color: #00af00\">2,098,176</span> │\n",
              "├─────────────────────────────────┼────────────────────────┼───────────────┤\n",
              "│ dense_31 (<span style=\"color: #0087ff; text-decoration-color: #0087ff\">Dense</span>)                │ (<span style=\"color: #00d7ff; text-decoration-color: #00d7ff\">None</span>, <span style=\"color: #00af00; text-decoration-color: #00af00\">64</span>)             │        <span style=\"color: #00af00; text-decoration-color: #00af00\">65,600</span> │\n",
              "├─────────────────────────────────┼────────────────────────┼───────────────┤\n",
              "│ dense_32 (<span style=\"color: #0087ff; text-decoration-color: #0087ff\">Dense</span>)                │ (<span style=\"color: #00d7ff; text-decoration-color: #00d7ff\">None</span>, <span style=\"color: #00af00; text-decoration-color: #00af00\">6</span>)              │           <span style=\"color: #00af00; text-decoration-color: #00af00\">390</span> │\n",
              "└─────────────────────────────────┴────────────────────────┴───────────────┘\n",
              "</pre>\n"
            ],
            "text/plain": [
              "┏━━━━━━━━━━━━━━━━━━━━━━━━━━━━━━━━━┳━━━━━━━━━━━━━━━━━━━━━━━━┳━━━━━━━━━━━━━━━┓\n",
              "┃\u001b[1m \u001b[0m\u001b[1mLayer (type)                   \u001b[0m\u001b[1m \u001b[0m┃\u001b[1m \u001b[0m\u001b[1mOutput Shape          \u001b[0m\u001b[1m \u001b[0m┃\u001b[1m \u001b[0m\u001b[1m      Param #\u001b[0m\u001b[1m \u001b[0m┃\n",
              "┡━━━━━━━━━━━━━━━━━━━━━━━━━━━━━━━━━╇━━━━━━━━━━━━━━━━━━━━━━━━╇━━━━━━━━━━━━━━━┩\n",
              "│ dense_28 (\u001b[38;5;33mDense\u001b[0m)                │ (\u001b[38;5;45mNone\u001b[0m, \u001b[38;5;34m4096\u001b[0m)           │    \u001b[38;5;34m22,884,352\u001b[0m │\n",
              "├─────────────────────────────────┼────────────────────────┼───────────────┤\n",
              "│ dense_29 (\u001b[38;5;33mDense\u001b[0m)                │ (\u001b[38;5;45mNone\u001b[0m, \u001b[38;5;34m2048\u001b[0m)           │     \u001b[38;5;34m8,390,656\u001b[0m │\n",
              "├─────────────────────────────────┼────────────────────────┼───────────────┤\n",
              "│ dense_30 (\u001b[38;5;33mDense\u001b[0m)                │ (\u001b[38;5;45mNone\u001b[0m, \u001b[38;5;34m1024\u001b[0m)           │     \u001b[38;5;34m2,098,176\u001b[0m │\n",
              "├─────────────────────────────────┼────────────────────────┼───────────────┤\n",
              "│ dense_31 (\u001b[38;5;33mDense\u001b[0m)                │ (\u001b[38;5;45mNone\u001b[0m, \u001b[38;5;34m64\u001b[0m)             │        \u001b[38;5;34m65,600\u001b[0m │\n",
              "├─────────────────────────────────┼────────────────────────┼───────────────┤\n",
              "│ dense_32 (\u001b[38;5;33mDense\u001b[0m)                │ (\u001b[38;5;45mNone\u001b[0m, \u001b[38;5;34m6\u001b[0m)              │           \u001b[38;5;34m390\u001b[0m │\n",
              "└─────────────────────────────────┴────────────────────────┴───────────────┘\n"
            ]
          },
          "metadata": {},
          "output_type": "display_data"
        },
        {
          "data": {
            "text/html": [
              "<pre style=\"white-space:pre;overflow-x:auto;line-height:normal;font-family:Menlo,'DejaVu Sans Mono',consolas,'Courier New',monospace\"><span style=\"font-weight: bold\"> Total params: </span><span style=\"color: #00af00; text-decoration-color: #00af00\">33,439,174</span> (127.56 MB)\n",
              "</pre>\n"
            ],
            "text/plain": [
              "\u001b[1m Total params: \u001b[0m\u001b[38;5;34m33,439,174\u001b[0m (127.56 MB)\n"
            ]
          },
          "metadata": {},
          "output_type": "display_data"
        },
        {
          "data": {
            "text/html": [
              "<pre style=\"white-space:pre;overflow-x:auto;line-height:normal;font-family:Menlo,'DejaVu Sans Mono',consolas,'Courier New',monospace\"><span style=\"font-weight: bold\"> Trainable params: </span><span style=\"color: #00af00; text-decoration-color: #00af00\">33,439,174</span> (127.56 MB)\n",
              "</pre>\n"
            ],
            "text/plain": [
              "\u001b[1m Trainable params: \u001b[0m\u001b[38;5;34m33,439,174\u001b[0m (127.56 MB)\n"
            ]
          },
          "metadata": {},
          "output_type": "display_data"
        },
        {
          "data": {
            "text/html": [
              "<pre style=\"white-space:pre;overflow-x:auto;line-height:normal;font-family:Menlo,'DejaVu Sans Mono',consolas,'Courier New',monospace\"><span style=\"font-weight: bold\"> Non-trainable params: </span><span style=\"color: #00af00; text-decoration-color: #00af00\">0</span> (0.00 B)\n",
              "</pre>\n"
            ],
            "text/plain": [
              "\u001b[1m Non-trainable params: \u001b[0m\u001b[38;5;34m0\u001b[0m (0.00 B)\n"
            ]
          },
          "metadata": {},
          "output_type": "display_data"
        }
      ],
      "source": [
        "model_v1.summary()"
      ]
    },
    {
      "cell_type": "markdown",
      "metadata": {},
      "source": [
        "# Passo 5: Callbacks e Early Stopping"
      ]
    },
    {
      "cell_type": "code",
      "execution_count": 343,
      "metadata": {},
      "outputs": [],
      "source": [
        "# Funcao para os paramentros de scheduler da taxa de aprendizado\n",
        "def step_decay(epoch):\n",
        "    initial_lrate = 0.001\n",
        "    drop = 0.5\n",
        "    epochs_drop = 10.0\n",
        "    lrate = initial_lrate * math.pow(drop, math.floor((1+epoch)/epochs_drop))\n",
        "    return lrate"
      ]
    },
    {
      "cell_type": "code",
      "execution_count": 344,
      "metadata": {},
      "outputs": [],
      "source": [
        "# Scheduler da taxa de aprendizado\n",
        "ls_scheduler = LearningRateScheduler(step_decay)"
      ]
    },
    {
      "cell_type": "code",
      "execution_count": 345,
      "metadata": {},
      "outputs": [],
      "source": [
        "# Early stopping\n",
        "early_stopping = EarlyStopping(\n",
        "    monitor='val_loss',\n",
        "    patience=3,\n",
        "    restore_best_weights=True\n",
        ")"
      ]
    },
    {
      "cell_type": "markdown",
      "metadata": {},
      "source": [
        "# Passo 6: Treinamento do Modelo"
      ]
    },
    {
      "cell_type": "code",
      "execution_count": 346,
      "metadata": {},
      "outputs": [],
      "source": [
        "# Hiperparâmetros\n",
        "num_epochs = 20\n",
        "tamanho_batch = 256"
      ]
    },
    {
      "cell_type": "code",
      "execution_count": 347,
      "metadata": {},
      "outputs": [
        {
          "name": "stdout",
          "output_type": "stream",
          "text": [
            "Epoch 1/20\n",
            "\u001b[1m50/50\u001b[0m \u001b[32m━━━━━━━━━━━━━━━━━━━━\u001b[0m\u001b[37m\u001b[0m \u001b[1m20s\u001b[0m 368ms/step - accuracy: 0.5083 - auc_5: 0.7970 - loss: 33.6329 - precision_5: 0.6134 - recall_5: 0.3572 - val_accuracy: 0.8072 - val_auc_5: 0.9673 - val_loss: 1.9581 - val_precision_5: 0.8699 - val_recall_5: 0.7206 - learning_rate: 0.0010\n",
            "Epoch 2/20\n",
            "\u001b[1m50/50\u001b[0m \u001b[32m━━━━━━━━━━━━━━━━━━━━\u001b[0m\u001b[37m\u001b[0m \u001b[1m18s\u001b[0m 369ms/step - accuracy: 0.8419 - auc_5: 0.9776 - loss: 1.5062 - precision_5: 0.8883 - recall_5: 0.7860 - val_accuracy: 0.8213 - val_auc_5: 0.9719 - val_loss: 1.2489 - val_precision_5: 0.8673 - val_recall_5: 0.7681 - learning_rate: 0.0010\n",
            "Epoch 3/20\n",
            "\u001b[1m50/50\u001b[0m \u001b[32m━━━━━━━━━━━━━━━━━━━━\u001b[0m\u001b[37m\u001b[0m \u001b[1m18s\u001b[0m 366ms/step - accuracy: 0.8756 - auc_5: 0.9848 - loss: 1.0628 - precision_5: 0.9065 - recall_5: 0.8331 - val_accuracy: 0.8094 - val_auc_5: 0.9699 - val_loss: 1.2100 - val_precision_5: 0.8428 - val_recall_5: 0.7659 - learning_rate: 0.0010\n",
            "Epoch 4/20\n",
            "\u001b[1m50/50\u001b[0m \u001b[32m━━━━━━━━━━━━━━━━━━━━\u001b[0m\u001b[37m\u001b[0m \u001b[1m19s\u001b[0m 373ms/step - accuracy: 0.8970 - auc_5: 0.9884 - loss: 0.9602 - precision_5: 0.9239 - recall_5: 0.8683 - val_accuracy: 0.8309 - val_auc_5: 0.9765 - val_loss: 1.1313 - val_precision_5: 0.8700 - val_recall_5: 0.7966 - learning_rate: 0.0010\n",
            "Epoch 5/20\n",
            "\u001b[1m50/50\u001b[0m \u001b[32m━━━━━━━━━━━━━━━━━━━━\u001b[0m\u001b[37m\u001b[0m \u001b[1m18s\u001b[0m 353ms/step - accuracy: 0.9212 - auc_5: 0.9929 - loss: 0.8827 - precision_5: 0.9374 - recall_5: 0.8968 - val_accuracy: 0.8181 - val_auc_5: 0.9711 - val_loss: 1.1666 - val_precision_5: 0.8535 - val_recall_5: 0.7881 - learning_rate: 0.0010\n",
            "Epoch 6/20\n",
            "\u001b[1m50/50\u001b[0m \u001b[32m━━━━━━━━━━━━━━━━━━━━\u001b[0m\u001b[37m\u001b[0m \u001b[1m18s\u001b[0m 354ms/step - accuracy: 0.9305 - auc_5: 0.9944 - loss: 0.8447 - precision_5: 0.9432 - recall_5: 0.9134 - val_accuracy: 0.8306 - val_auc_5: 0.9738 - val_loss: 1.1455 - val_precision_5: 0.8552 - val_recall_5: 0.8062 - learning_rate: 0.0010\n",
            "Epoch 7/20\n",
            "\u001b[1m50/50\u001b[0m \u001b[32m━━━━━━━━━━━━━━━━━━━━\u001b[0m\u001b[37m\u001b[0m \u001b[1m19s\u001b[0m 371ms/step - accuracy: 0.9296 - auc_5: 0.9947 - loss: 0.8361 - precision_5: 0.9418 - recall_5: 0.9174 - val_accuracy: 0.8256 - val_auc_5: 0.9715 - val_loss: 1.2512 - val_precision_5: 0.8503 - val_recall_5: 0.8041 - learning_rate: 0.0010\n",
            "CPU times: total: 20min 6s\n",
            "Wall time: 2min 10s\n"
          ]
        }
      ],
      "source": [
        "%%time\n",
        "history = model_v1.fit(\n",
        "    X_treino,\n",
        "    y_treino_encoded,\n",
        "    validation_data=(X_val, y_val_encoded),\n",
        "    epochs=num_epochs,\n",
        "    batch_size=tamanho_batch,\n",
        "    callbacks=[ls_scheduler, early_stopping]\n",
        ")"
      ]
    },
    {
      "cell_type": "markdown",
      "metadata": {},
      "source": [
        "# Passo 7: Avaliação do Modelo"
      ]
    },
    {
      "cell_type": "code",
      "execution_count": 348,
      "metadata": {},
      "outputs": [],
      "source": [
        "# Extrai o erro em treino e validaçao\n",
        "loss, val_loss = history.history['loss'], history.history['val_loss']"
      ]
    },
    {
      "cell_type": "code",
      "execution_count": 349,
      "metadata": {},
      "outputs": [
        {
          "data": {
            "image/png": "[encoded data removed]",
            "text/plain": [
              "<Figure size 640x480 with 1 Axes>"
            ]
          },
          "metadata": {},
          "output_type": "display_data"
        }
      ],
      "source": [
        "# Plot\n",
        "plt.plot(loss, label='loss')\n",
        "plt.plot(val_loss, label='val_loss')\n",
        "plt.legend()\n",
        "plt.show()\n"
      ]
    },
    {
      "cell_type": "code",
      "execution_count": 350,
      "metadata": {},
      "outputs": [
        {
          "name": "stdout",
          "output_type": "stream",
          "text": [
            "\u001b[1m63/63\u001b[0m \u001b[32m━━━━━━━━━━━━━━━━━━━━\u001b[0m\u001b[37m\u001b[0m \u001b[1m1s\u001b[0m 11ms/step\n"
          ]
        }
      ],
      "source": [
        "# Previsões com dados de teste\n",
        "previsoes_v1 = model_v1.predict(X_teste_array)"
      ]
    },
    {
      "cell_type": "code",
      "execution_count": 351,
      "metadata": {},
      "outputs": [],
      "source": [
        "# Extrai os labels\n",
        "previsoes_v1_labels = previsoes_v1.argmax(axis=1)"
      ]
    },
    {
      "cell_type": "code",
      "execution_count": 352,
      "metadata": {},
      "outputs": [
        {
          "name": "stdout",
          "output_type": "stream",
          "text": [
            "              precision    recall  f1-score   support\n",
            "\n",
            "           0       0.88      0.76      0.81       275\n",
            "           1       0.86      0.72      0.78       224\n",
            "           2       0.88      0.87      0.87       695\n",
            "           3       0.63      0.75      0.69       159\n",
            "           4       0.82      0.91      0.87       581\n",
            "           5       0.66      0.56      0.61        66\n",
            "\n",
            "    accuracy                           0.83      2000\n",
            "   macro avg       0.79      0.76      0.77      2000\n",
            "weighted avg       0.83      0.83      0.83      2000\n",
            "\n"
          ]
        }
      ],
      "source": [
        "print(classification_report(y_teste_le, previsoes_v1_labels))"
      ]
    },
    {
      "cell_type": "code",
      "execution_count": 353,
      "metadata": {},
      "outputs": [
        {
          "data": {
            "text/plain": [
              "array([[208,   6,  10,   9,  40,   2],\n",
              "       [ 12, 161,  10,   0,  28,  13],\n",
              "       [  3,   4, 604,  49,  33,   2],\n",
              "       [  1,   1,  26, 120,  10,   1],\n",
              "       [ 12,   3,  26,   9, 530,   1],\n",
              "       [  1,  12,  12,   2,   2,  37]], dtype=int64)"
            ]
          },
          "execution_count": 353,
          "metadata": {},
          "output_type": "execute_result"
        }
      ],
      "source": [
        "# Matriz de confusão\n",
        "confusion_matrix(y_teste_le, previsoes_v1_labels)"
      ]
    },
    {
      "cell_type": "code",
      "execution_count": 354,
      "metadata": {},
      "outputs": [
        {
          "data": {
            "text/plain": [
              "0.83"
            ]
          },
          "execution_count": 354,
          "metadata": {},
          "output_type": "execute_result"
        }
      ],
      "source": [
        "# Acurácia\n",
        "accuracy_score(y_teste_le, previsoes_v1_labels)"
      ]
    },
    {
      "cell_type": "code",
      "execution_count": 355,
      "metadata": {},
      "outputs": [],
      "source": [
        "# Salva o modelo\n",
        "model_v1.save(\"model_v1.keras\")"
      ]
    },
    {
      "cell_type": "markdown",
      "metadata": {},
      "source": [
        "# Passo 8: Deploy da Versão 1 do modelo"
      ]
    },
    {
      "cell_type": "code",
      "execution_count": 356,
      "metadata": {},
      "outputs": [],
      "source": [
        "# Carrega o modelo\n",
        "modelo_carregado = load_model(\"model_v1.keras\")"
      ]
    },
    {
      "cell_type": "code",
      "execution_count": 357,
      "metadata": {},
      "outputs": [],
      "source": [
        "# Nova frase (sentimento medo [fear])\n",
        "frase1 = \"I'm afraid of the dark\"\n",
        "# Nova frase (sentimento medo [fear])\n",
        "frase2 = \"I even feel a little shaky\"\n",
        "# Nova frase (sentimento medo [happy])\n",
        "frase3 = \"I am very happy today\"\n",
        "\n",
        "frases = [frase1, frase2, frase3]"
      ]
    },
    {
      "cell_type": "code",
      "execution_count": 358,
      "metadata": {},
      "outputs": [],
      "source": [
        "# Cria um dataframe com a nova frase\n",
        "df_novo = pd.DataFrame(frases)"
      ]
    },
    {
      "cell_type": "code",
      "execution_count": 359,
      "metadata": {},
      "outputs": [],
      "source": [
        "# Aplica a função de preprocessamento\n",
        "df_novo['Frase_Processada'] = df_novo[0].apply(preprocessamento_texto)"
      ]
    },
    {
      "cell_type": "code",
      "execution_count": 360,
      "metadata": {},
      "outputs": [
        {
          "data": {
            "text/html": [
              "<div>\n",
              "<style scoped>\n",
              "    .dataframe tbody tr th:only-of-type {\n",
              "        vertical-align: middle;\n",
              "    }\n",
              "\n",
              "    .dataframe tbody tr th {\n",
              "        vertical-align: top;\n",
              "    }\n",
              "\n",
              "    .dataframe thead th {\n",
              "        text-align: right;\n",
              "    }\n",
              "</style>\n",
              "<table border=\"1\" class=\"dataframe\">\n",
              "  <thead>\n",
              "    <tr style=\"text-align: right;\">\n",
              "      <th></th>\n",
              "      <th>0</th>\n",
              "      <th>Frase_Processada</th>\n",
              "    </tr>\n",
              "  </thead>\n",
              "  <tbody>\n",
              "    <tr>\n",
              "      <th>0</th>\n",
              "      <td>I'm afraid of the dark</td>\n",
              "      <td>afraid dark</td>\n",
              "    </tr>\n",
              "    <tr>\n",
              "      <th>1</th>\n",
              "      <td>I even feel a little shaky</td>\n",
              "      <td>feel little shaky</td>\n",
              "    </tr>\n",
              "    <tr>\n",
              "      <th>2</th>\n",
              "      <td>I am very happy today</td>\n",
              "      <td>happy today</td>\n",
              "    </tr>\n",
              "  </tbody>\n",
              "</table>\n",
              "</div>"
            ],
            "text/plain": [
              "                            0   Frase_Processada\n",
              "0      I'm afraid of the dark        afraid dark\n",
              "1  I even feel a little shaky  feel little shaky\n",
              "2       I am very happy today        happy today"
            ]
          },
          "execution_count": 360,
          "metadata": {},
          "output_type": "execute_result"
        }
      ],
      "source": [
        "df_novo"
      ]
    },
    {
      "cell_type": "code",
      "execution_count": 361,
      "metadata": {},
      "outputs": [],
      "source": [
        "# Aplica a vetorização\n",
        "df_novo_tfidf = tfidf.transform(df_novo['Frase_Processada'])"
      ]
    },
    {
      "cell_type": "code",
      "execution_count": 362,
      "metadata": {},
      "outputs": [],
      "source": [
        "# Transforma em array\n",
        "df_novo_array = df_novo_tfidf.toarray()"
      ]
    },
    {
      "cell_type": "code",
      "execution_count": 363,
      "metadata": {},
      "outputs": [
        {
          "name": "stdout",
          "output_type": "stream",
          "text": [
            "\u001b[1m1/1\u001b[0m \u001b[32m━━━━━━━━━━━━━━━━━━━━\u001b[0m\u001b[37m\u001b[0m \u001b[1m0s\u001b[0m 72ms/step\n"
          ]
        }
      ],
      "source": [
        "# Previsões\n",
        "previsoes_novo = modelo_carregado.predict(df_novo_array)"
      ]
    },
    {
      "cell_type": "code",
      "execution_count": 364,
      "metadata": {},
      "outputs": [
        {
          "data": {
            "text/plain": [
              "array([[6.30481495e-03, 9.43214774e-01, 6.54509431e-03, 3.67464905e-04,\n",
              "        1.10131940e-02, 3.25546637e-02],\n",
              "       [1.45121582e-03, 9.76917028e-01, 1.47228490e-03, 5.02761031e-05,\n",
              "        1.10232411e-02, 9.08591039e-03],\n",
              "       [1.51466625e-02, 4.67678066e-03, 9.14451778e-01, 2.35542413e-02,\n",
              "        4.08967659e-02, 1.27387710e-03]], dtype=float32)"
            ]
          },
          "execution_count": 364,
          "metadata": {},
          "output_type": "execute_result"
        }
      ],
      "source": [
        "previsoes_novo"
      ]
    },
    {
      "cell_type": "code",
      "execution_count": 365,
      "metadata": {},
      "outputs": [],
      "source": [
        "# Seleciona a classe com maior probabilidade\n",
        "classe_maior_prob = previsoes_novo.argmax(axis=1)"
      ]
    },
    {
      "cell_type": "code",
      "execution_count": 366,
      "metadata": {},
      "outputs": [
        {
          "data": {
            "text/plain": [
              "array([1, 1, 2], dtype=int64)"
            ]
          },
          "execution_count": 366,
          "metadata": {},
          "output_type": "execute_result"
        }
      ],
      "source": [
        "classe_maior_prob"
      ]
    },
    {
      "cell_type": "code",
      "execution_count": 367,
      "metadata": {},
      "outputs": [],
      "source": [
        "# Obtem os nomes das classes\n",
        "classes = le.inverse_transform(classe_maior_prob)"
      ]
    },
    {
      "cell_type": "code",
      "execution_count": 368,
      "metadata": {},
      "outputs": [
        {
          "data": {
            "text/plain": [
              "array(['fear', 'fear', 'joy'], dtype=object)"
            ]
          },
          "execution_count": 368,
          "metadata": {},
          "output_type": "execute_result"
        }
      ],
      "source": [
        "classes"
      ]
    },
    {
      "cell_type": "markdown",
      "metadata": {},
      "source": [
        "___"
      ]
    },
    {
      "cell_type": "markdown",
      "metadata": {},
      "source": [
        "# Versão 2 do modelo - Arquitetura LSTM (Long Short-Term Memory)"
      ]
    },
    {
      "cell_type": "code",
      "execution_count": 432,
      "metadata": {},
      "outputs": [
        {
          "data": {
            "text/html": [
              "<div>\n",
              "<style scoped>\n",
              "    .dataframe tbody tr th:only-of-type {\n",
              "        vertical-align: middle;\n",
              "    }\n",
              "\n",
              "    .dataframe tbody tr th {\n",
              "        vertical-align: top;\n",
              "    }\n",
              "\n",
              "    .dataframe thead th {\n",
              "        text-align: right;\n",
              "    }\n",
              "</style>\n",
              "<table border=\"1\" class=\"dataframe\">\n",
              "  <thead>\n",
              "    <tr style=\"text-align: right;\">\n",
              "      <th></th>\n",
              "      <th>texto</th>\n",
              "      <th>sentimento</th>\n",
              "      <th>texto_processado</th>\n",
              "    </tr>\n",
              "  </thead>\n",
              "  <tbody>\n",
              "    <tr>\n",
              "      <th>0</th>\n",
              "      <td>i am feeling completely overwhelmed i have two...</td>\n",
              "      <td>fear</td>\n",
              "      <td>feel completely overwhelmed strategy help feel...</td>\n",
              "    </tr>\n",
              "    <tr>\n",
              "      <th>1</th>\n",
              "      <td>i have the feeling she was amused and delighted</td>\n",
              "      <td>joy</td>\n",
              "      <td>feeling amuse delight</td>\n",
              "    </tr>\n",
              "    <tr>\n",
              "      <th>2</th>\n",
              "      <td>i was able to help chai lifeline with your sup...</td>\n",
              "      <td>joy</td>\n",
              "      <td>able help chai lifeline support encouragement ...</td>\n",
              "    </tr>\n",
              "    <tr>\n",
              "      <th>3</th>\n",
              "      <td>i already feel like i fucked up though because...</td>\n",
              "      <td>anger</td>\n",
              "      <td>feel like fuck not usually eat morning</td>\n",
              "    </tr>\n",
              "    <tr>\n",
              "      <th>4</th>\n",
              "      <td>i still love my so and wish the best for him i...</td>\n",
              "      <td>sadness</td>\n",
              "      <td>love wish good long tolerate effect bm life fa...</td>\n",
              "    </tr>\n",
              "  </tbody>\n",
              "</table>\n",
              "</div>"
            ],
            "text/plain": [
              "                                               texto sentimento  \\\n",
              "0  i am feeling completely overwhelmed i have two...       fear   \n",
              "1    i have the feeling she was amused and delighted        joy   \n",
              "2  i was able to help chai lifeline with your sup...        joy   \n",
              "3  i already feel like i fucked up though because...      anger   \n",
              "4  i still love my so and wish the best for him i...    sadness   \n",
              "\n",
              "                                    texto_processado  \n",
              "0  feel completely overwhelmed strategy help feel...  \n",
              "1                              feeling amuse delight  \n",
              "2  able help chai lifeline support encouragement ...  \n",
              "3             feel like fuck not usually eat morning  \n",
              "4  love wish good long tolerate effect bm life fa...  "
            ]
          },
          "execution_count": 432,
          "metadata": {},
          "output_type": "execute_result"
        }
      ],
      "source": [
        "# Dados processados com SpaCy\n",
        "dados_treino.head()"
      ]
    },
    {
      "cell_type": "code",
      "execution_count": 433,
      "metadata": {},
      "outputs": [],
      "source": [
        "tokenizador = Tokenizer()"
      ]
    },
    {
      "cell_type": "code",
      "execution_count": 434,
      "metadata": {},
      "outputs": [],
      "source": [
        "# Ajuste do tokenizador com os textos processados\n",
        "tokenizador.fit_on_texts(dados_treino['texto_processado'])"
      ]
    },
    {
      "cell_type": "code",
      "execution_count": 435,
      "metadata": {},
      "outputs": [],
      "source": [
        "# Criação do índice de palavras\n",
        "word_index = tokenizador.word_index"
      ]
    },
    {
      "cell_type": "code",
      "execution_count": 436,
      "metadata": {},
      "outputs": [
        {
          "data": {
            "text/plain": [
              "11896"
            ]
          },
          "execution_count": 436,
          "metadata": {},
          "output_type": "execute_result"
        }
      ],
      "source": [
        "len(word_index)"
      ]
    },
    {
      "cell_type": "code",
      "execution_count": 437,
      "metadata": {},
      "outputs": [
        {
          "data": {
            "text/plain": [
              "dict_items([('feel', 1), ('like', 2), ('m', 3), ('not', 4), ('feeling', 5), ('know', 6), ('time', 7), ('t', 8), ('want', 9), ('think', 10), ('s', 11), ('ve', 12), ('little', 13), ('go', 14), ('love', 15), ('day', 16), ('thing', 17), ('people', 18), ('life', 19), ('way', 20), ('need', 21), ('bit', 22), ('get', 23), ('good', 24), ('work', 25), ('start', 26), ('come', 27), ('look', 28), ('try', 29), ('make', 30), ('pretty', 31), ('don', 32), ('leave', 33), ('find', 34), ('right', 35), ('friend', 36), ('help', 37), ('year', 38), ('today', 39), ('tell', 40), ('say', 41), ('write', 42), ('lot', 43), ('happy', 44), ('long', 45), ('hate', 46), ('week', 47), ('sure', 48), ('read', 49), ('kind', 50), ('away', 51), ('home', 52), ('well', 53), ('person', 54), ('take', 55), ('talk', 56), ('remember', 57), ('d', 58), ('bad', 59), ('world', 60), ('actually', 61), ('let', 62), ('new', 63), ('have', 64), ('family', 65), ('http', 66), ('care', 67), ('end', 68), ('post', 69), ('hope', 70), ('moment', 71), ('lose', 72), ('live', 73), ('miss', 74), ('happen', 75), ('able', 76), ('mean', 77), ('support', 78), ('sit', 79), ('child', 80), ('place', 81), ('run', 82), ('give', 83), ('stop', 84), ('ask', 85), ('href', 86), ('heart', 87), ('ill', 88), ('blog', 89), ('walk', 90), ('hurt', 91), ('god', 92), ('spend', 93), ('wake', 94), ('old', 95), ('book', 96), ('hard', 97), ('see', 98), ('night', 99), ('morning', 100), ('point', 101), ('girl', 102), ('strange', 103), ('school', 104), ('sweet', 105), ('watch', 106), ('share', 107), ('sleep', 108), ('hear', 109), ('guess', 110), ('understand', 111), ('begin', 112), ('accept', 113), ('overwhelmed', 114), ('word', 115), ('eat', 116), ('pain', 117), ('didn', 118), ('weird', 119), ('learn', 120), ('woman', 121), ('face', 122), ('reason', 123), ('wrong', 124), ('man', 125), ('sad', 126), ('month', 127), ('angry', 128), ('body', 129), ('change', 130), ('hour', 131), ('great', 132), ('experience', 133), ('amazing', 134), ('thought', 135), ('enjoy', 136), ('passionate', 137), ('important', 138), ('maybe', 139), ('believe', 140), ('use', 141), ('kid', 142), ('stupid', 143), ('wear', 144), ('excited', 145), ('completely', 146), ('self', 147), ('especially', 148), ('helpless', 149), ('tired', 150), ('free', 151), ('sense', 152), ('strong', 153), ('head', 154), ('job', 155), ('past', 156), ('wish', 157), ('decide', 158), ('mind', 159), ('class', 160), ('wonder', 161), ('break', 162), ('afraid', 163), ('guy', 164), ('fact', 165), ('turn', 166), ('story', 167), ('hand', 168), ('realize', 169), ('cold', 170), ('trust', 171), ('cry', 172), ('sort', 173), ('inside', 174), ('real', 175), ('eye', 176), ('big', 177), ('low', 178), ('lately', 179), ('close', 180), ('totally', 181), ('stress', 182), ('thankful', 183), ('anxious', 184), ('nervous', 185), ('agitated', 186), ('probably', 187), ('glad', 188), ('ok', 189), ('generous', 190), ('sorry', 191), ('far', 192), ('stay', 193), ('wait', 194), ('situation', 195), ('safe', 196), ('cause', 197), ('bring', 198), ('slightly', 199), ('admit', 200), ('wonderful', 201), ('idea', 202), ('cool', 203), ('keep', 204), ('listen', 205), ('perfect', 206), ('house', 207), ('mother', 208), ('meet', 209), ('lonely', 210), ('content', 211), ('special', 212), ('depressed', 213), ('particularly', 214), ('comfortable', 215), ('baby', 216), ('play', 217), ('extremely', 218), ('stuff', 219), ('fine', 220), ('guilty', 221), ('suppose', 222), ('beat', 223), ('song', 224), ('matter', 225), ('bed', 226), ('horrible', 227), ('positive', 228), ('buy', 229), ('ache', 230), ('bother', 231), ('shake', 232), ('stressed', 233), ('emotional', 234), ('room', 235), ('confident', 236), ('amp', 237), ('control', 238), ('hold', 239), ('fall', 240), ('value', 241), ('hot', 242), ('miserable', 243), ('call', 244), ('truly', 245), ('proud', 246), ('relationship', 247), ('ll', 248), ('beloved', 249), ('burden', 250), ('scared', 251), ('fuck', 252), ('mom', 253), ('continue', 254), ('lovely', 255), ('future', 256), ('ashamed', 257), ('finish', 258), ('finally', 259), ('irritable', 260), ('dream', 261), ('rest', 262), ('satisfied', 263), ('open', 264), ('small', 265), ('plan', 266), ('anymore', 267), ('awkward', 268), ('allow', 269), ('stand', 270), ('mad', 271), ('selfish', 272), ('will', 273), ('usually', 274), ('parent', 275), ('calm', 276), ('lucky', 277), ('successful', 278), ('ignore', 279), ('energy', 280), ('unsure', 281), ('lethargic', 282), ('super', 283), ('frustrated', 284), ('fun', 285), ('pass', 286), ('instead', 287), ('respect', 288), ('unhappy', 289), ('funny', 290), ('creative', 291), ('popular', 292), ('amazed', 293), ('deal', 294), ('brave', 295), ('shitty', 296), ('high', 297), ('vulnerable', 298), ('food', 299), ('cute', 300), ('problem', 301), ('somewhat', 302), ('expect', 303), ('smile', 304), ('struggle', 305), ('terrified', 306), ('soon', 307), ('boy', 308), ('embarrassed', 309), ('awful', 310), ('question', 311), ('rich', 312), ('punish', 313), ('offend', 314), ('terrible', 315), ('ago', 316), ('speak', 317), ('hopeless', 318), ('greedy', 319), ('uncomfortable', 320), ('insecure', 321), ('add', 322), ('absolutely', 323), ('bless', 324), ('uncertain', 325), ('minute', 326), ('precious', 327), ('reject', 328), ('money', 329), ('rush', 330), ('nice', 331), ('exhausted', 332), ('melancholy', 333), ('set', 334), ('torture', 335), ('hair', 336), ('husband', 337), ('movie', 338), ('grow', 339), ('irritated', 340), ('win', 341), ('useful', 342), ('jealous', 343), ('resentful', 344), ('divine', 345), ('couple', 346), ('violent', 347), ('homesick', 348), ('simply', 349), ('reluctant', 350), ('blessed', 351), ('dull', 352), ('pleasant', 353), ('picture', 354), ('confused', 355), ('different', 356), ('game', 357), ('insult', 358), ('comment', 359), ('tonight', 360), ('hopeful', 361), ('inspire', 362), ('beautiful', 363), ('move', 364), ('emotion', 365), ('drive', 366), ('ugly', 367), ('music', 368), ('cranky', 369), ('create', 370), ('smart', 371), ('weekend', 372), ('paranoid', 373), ('useless', 374), ('kinda', 375), ('rude', 376), ('gorgeous', 377), ('young', 378), ('talented', 379), ('touch', 380), ('apprehensive', 381), ('curious', 382), ('fear', 383), ('die', 384), ('issue', 385), ('impressed', 386), ('sick', 387), ('groggy', 388), ('innocent', 389), ('blank', 390), ('welcome', 391), ('gloomy', 392), ('valuable', 393), ('numb', 394), ('list', 395), ('type', 396), ('unwelcome', 397), ('ready', 398), ('piece', 399), ('shy', 400), ('early', 401), ('certain', 402), ('student', 403), ('damage', 404), ('dangerous', 405), ('light', 406), ('disappointed', 407), ('incredibly', 408), ('honestly', 409), ('choose', 410), ('optimistic', 411), ('lie', 412), ('easy', 413), ('pathetic', 414), ('sound', 415), ('consider', 416), ('faithful', 417), ('act', 418), ('sympathetic', 419), ('crappy', 420), ('friendly', 421), ('dumb', 422), ('lack', 423), ('joyful', 424), ('heartbroken', 425), ('dirty', 426), ('bitter', 427), ('superior', 428), ('fake', 429), ('worthless', 430), ('weight', 431), ('second', 432), ('joy', 433), ('sincere', 434), ('order', 435), ('thank', 436), ('upset', 437), ('dissatisfied', 438), ('festive', 439), ('result', 440), ('having', 441), ('definitely', 442), ('regretful', 443), ('hesitant', 444), ('focus', 445), ('drain', 446), ('pleased', 447), ('character', 448), ('lousy', 449), ('www', 450), ('vain', 451), ('mellow', 452), ('resolve', 453), ('delicious', 454), ('clever', 455), ('naughty', 456), ('forget', 457), ('nostalgic', 458), ('romantic', 459), ('course', 460), ('surprised', 461), ('supportive', 462), ('arm', 463), ('throw', 464), ('bitchy', 465), ('productive', 466), ('desire', 467), ('isolated', 468), ('choice', 469), ('yesterday', 470), ('etc', 471), ('skin', 472), ('country', 473), ('fearful', 474), ('fantastic', 475), ('outside', 476), ('intimidate', 477), ('project', 478), ('decision', 479), ('true', 480), ('reach', 481), ('deep', 482), ('one', 483), ('half', 484), ('treat', 485), ('hit', 486), ('inadequate', 487), ('step', 488), ('relaxed', 489), ('energetic', 490), ('intelligent', 491), ('put', 492), ('suddenly', 493), ('shaky', 494), ('petty', 495), ('pay', 496), ('listless', 497), ('worry', 498), ('gentle', 499), ('answer', 500), ('unimportant', 501), ('mood', 502), ('car', 503), ('fabulous', 504), ('state', 505), ('tear', 506), ('carefree', 507), ('single', 508), ('rotten', 509), ('lame', 510), ('photo', 511), ('summer', 512), ('mention', 513), ('annoyed', 514), ('generally', 515), ('follow', 516), ('manage', 517), ('opportunity', 518), ('group', 519), ('pull', 520), ('eager', 521), ('needy', 522), ('exactly', 523), ('human', 524), ('threaten', 525), ('unfortunate', 526), ('drink', 527), ('grateful', 528), ('christmas', 529), ('pressure', 530), ('honored', 531), ('horny', 532), ('rebellious', 533), ('pick', 534), ('impatient', 535), ('suffer', 536), ('adventurous', 537), ('defeat', 538), ('explain', 539), ('worthwhile', 540), ('catch', 541), ('restless', 542), ('loyal', 543), ('tender', 544), ('determined', 545), ('age', 546), ('peaceful', 547), ('reader', 548), ('remind', 549), ('pressured', 550), ('virtuous', 551), ('imagine', 552), ('effort', 553), ('artistic', 554), ('longing', 555), ('express', 556), ('ungrateful', 557), ('late', 558), ('assure', 559), ('memory', 560), ('view', 561), ('normal', 562), ('forward', 563), ('thrilled', 564), ('wasn', 565), ('art', 566), ('notice', 567), ('team', 568), ('discontent', 569), ('challenge', 570), ('foolish', 571), ('doom', 572), ('acceptable', 573), ('disgusted', 574), ('line', 575), ('appreciate', 576), ('chance', 577), ('constantly', 578), ('grumpy', 579), ('deeply', 580), ('later', 581), ('gift', 582), ('smug', 583), ('vital', 584), ('laugh', 585), ('holiday', 586), ('abuse', 587), ('convinced', 588), ('phone', 589), ('party', 590), ('stomach', 591), ('conversation', 592), ('oh', 593), ('triumphant', 594), ('event', 595), ('delicate', 596), ('discouraged', 597), ('trip', 598), ('return', 599), ('doesn', 600), ('space', 601), ('foot', 602), ('fan', 603), ('cut', 604), ('receive', 605), ('push', 606), ('fill', 607), ('fond', 608), ('study', 609), ('privileged', 610), ('anger', 611), ('terrific', 612), ('stubborn', 613), ('offer', 614), ('healthy', 615), ('level', 616), ('truth', 617), ('shit', 618), ('son', 619), ('unloved', 620), ('area', 621), ('kick', 622), ('submissive', 623), ('casual', 624), ('frightened', 625), ('loss', 626), ('ecstatic', 627), ('damn', 628), ('writing', 629), ('sister', 630), ('figure', 631), ('present', 632), ('honoured', 633), ('src', 634), ('father', 635), ('race', 636), ('personal', 637), ('ability', 638), ('peace', 639), ('style', 640), ('frantic', 641), ('clean', 642), ('troubled', 643), ('devastate', 644), ('worth', 645), ('ground', 646), ('fit', 647), ('yes', 648), ('deserve', 649), ('short', 650), ('despite', 651), ('air', 652), ('date', 653), ('red', 654), ('possibly', 655), ('company', 656), ('warm', 657), ('complete', 658), ('seriously', 659), ('utterly', 660), ('visit', 661), ('attention', 662), ('convince', 663), ('spirit', 664), ('community', 665), ('color', 666), ('lead', 667), ('describe', 668), ('appreciative', 669), ('possible', 670), ('sentimental', 671), ('skeptical', 672), ('strongly', 673), ('pissed', 674), ('tend', 675), ('boring', 676), ('leg', 677), ('water', 678), ('disheartened', 679), ('gain', 680), ('voice', 681), ('envious', 682), ('tragic', 683), ('brain', 684), ('news', 685), ('to', 686), ('film', 687), ('shame', 688), ('effect', 689), ('tree', 690), ('dad', 691), ('dress', 692), ('tomorrow', 693), ('quickly', 694), ('fight', 695), ('kiss', 696), ('recently', 697), ('connection', 698), ('fail', 699), ('season', 700), ('provide', 701), ('unpleasant', 702), ('college', 703), ('dance', 704), ('getting', 705), ('img', 706), ('door', 707), ('death', 708), ('doubtful', 709), ('personally', 710), ('pray', 711), ('subject', 712), ('crazy', 713), ('attempt', 714), ('goal', 715), ('soul', 716), ('emotionally', 717), ('paper', 718), ('shocked', 719), ('case', 720), ('boyfriend', 721), ('sadness', 722), ('messy', 723), ('usual', 724), ('evening', 725), ('number', 726), ('everyday', 727), ('u', 728), ('blame', 729), ('show', 730), ('stick', 731), ('wall', 732), ('hostile', 733), ('physically', 734), ('relieved', 735), ('breathe', 736), ('hide', 737), ('teacher', 738), ('lazy', 739), ('worried', 740), ('fairly', 741), ('weather', 742), ('product', 743), ('belong', 744), ('remorseful', 745), ('disturb', 746), ('church', 747), ('general', 748), ('distressed', 749), ('dark', 750), ('contented', 751), ('comfort', 752), ('glamorous', 753), ('simple', 754), ('keen', 755), ('title', 756), ('bear', 757), ('lesson', 758), ('realise', 759), ('suspicious', 760), ('computer', 761), ('shop', 762), ('strength', 763), ('wanna', 764), ('save', 765), ('playful', 766), ('anxiety', 767), ('doubt', 768), ('member', 769), ('black', 770), ('loved', 771), ('deprive', 772), ('happiness', 773), ('hell', 774), ('presence', 775), ('process', 776), ('social', 777), ('busy', 778), ('teach', 779), ('knowledge', 780), ('action', 781), ('health', 782), ('avoid', 783), ('idiotic', 784), ('finger', 785), ('hateful', 786), ('fucking', 787), ('daughter', 788), ('huge', 789), ('sun', 790), ('image', 791), ('fully', 792), ('indecisive', 793), ('distracted', 794), ('invigorate', 795), ('complacent', 796), ('ahead', 797), ('check', 798), ('clear', 799), ('artist', 800), ('career', 801), ('settle', 802), ('kill', 803), ('smell', 804), ('cover', 805), ('search', 806), ('chest', 807), ('negative', 808), ('spot', 809), ('jaded', 810), ('letter', 811), ('grouchy', 812), ('fast', 813), ('physical', 814), ('sex', 815), ('feed', 816), ('handle', 817), ('dog', 818), ('street', 819), ('certainly', 820), ('mile', 821), ('honest', 822), ('waste', 823), ('large', 824), ('exercise', 825), ('breath', 826), ('term', 827), ('guilt', 828), ('distract', 829), ('base', 830), ('drop', 831), ('crap', 832), ('surprise', 833), ('send', 834), ('medium', 835), ('writer', 836), ('entirely', 837), ('brother', 838), ('reassure', 839), ('entire', 840), ('involve', 841), ('couldn', 842), ('draw', 843), ('mark', 844), ('card', 845), ('hang', 846), ('terribly', 847), ('compare', 848), ('shoe', 849), ('near', 850), ('pop', 851), ('delighted', 852), ('assault', 853), ('distraught', 854), ('training', 855), ('progress', 856), ('wife', 857), ('blogge', 858), ('extra', 859), ('freak', 860), ('achieve', 861), ('humiliated', 862), ('weepy', 863), ('exam', 864), ('fly', 865), ('bitch', 866), ('middle', 867), ('remain', 868), ('lol', 869), ('build', 870), ('window', 871), ('site', 872), ('beauty', 873), ('easily', 874), ('afternoon', 875), ('folk', 876), ('include', 877), ('series', 878), ('lively', 879), ('pregnant', 880), ('gracious', 881), ('admire', 882), ('daily', 883), ('lady', 884), ('fault', 885), ('scream', 886), ('path', 887), ('dinner', 888), ('devastated', 889), ('clothe', 890), ('difficult', 891), ('entertain', 892), ('shock', 893), ('system', 894), ('trouble', 895), ('slowly', 896), ('elegant', 897), ('humiliate', 898), ('bag', 899), ('lay', 900), ('friday', 901), ('reaction', 902), ('headache', 903), ('discover', 904), ('city', 905), ('purpose', 906), ('ride', 907), ('disturbed', 908), ('annoy', 909), ('lord', 910), ('betray', 911), ('piss', 912), ('episode', 913), ('enter', 914), ('slow', 915), ('link', 916), ('freedom', 917), ('sunday', 918), ('audience', 919), ('fix', 920), ('business', 921), ('birthday', 922), ('b', 923), ('discourage', 924), ('suck', 925), ('final', 926), ('white', 927), ('arrive', 928), ('dead', 929), ('awake', 930), ('travel', 931), ('heartless', 932), ('skill', 933), ('office', 934), ('relax', 935), ('favorite', 936), ('non', 937), ('compassionate', 938), ('video', 939), ('society', 940), ('test', 941), ('position', 942), ('page', 943), ('sarcastic', 944), ('uptight', 945), ('note', 946), ('blue', 947), ('sociable', 948), ('force', 949), ('partner', 950), ('aware', 951), ('complain', 952), ('straight', 953), ('silly', 954), ('difference', 955), ('power', 956), ('weak', 957), ('confidence', 958), ('service', 959), ('relate', 960), ('target', 961), ('pair', 962), ('badly', 963), ('fat', 964), ('practice', 965), ('current', 966), ('accomplish', 967), ('taste', 968), ('haven', 969), ('public', 970), ('mistake', 971), ('dazed', 972), ('opinion', 973), ('currently', 974), ('period', 975), ('culture', 976), ('awesome', 977), ('interest', 978), ('winter', 979), ('tv', 980), ('girlfriend', 981), ('jump', 982), ('depression', 983), ('reality', 984), ('mentally', 985), ('immediately', 986), ('lip', 987), ('rise', 988), ('mess', 989), ('carry', 990), ('considerate', 991), ('paint', 992), ('faith', 993), ('quiet', 994), ('workout', 995), ('rain', 996), ('bouncy', 997), ('cat', 998), ('forever', 999), ('beginning', 1000), ('key', 1001), ('road', 1002), ('rel', 1003), ('cross', 1004), ('obnoxious', 1005), ('design', 1006), ('neglectful', 1007), ('relieve', 1008), ('th', 1009), ('pretend', 1010), ('concern', 1011), ('direction', 1012), ('journey', 1013), ('charming', 1014), ('sore', 1015), ('review', 1016), ('facebook', 1017), ('blah', 1018), ('form', 1019), ('suffering', 1020), ('sign', 1021), ('activity', 1022), ('nearly', 1023), ('disappoint', 1024), ('nature', 1025), ('okay', 1026), ('blood', 1027), ('store', 1028), ('judge', 1029), ('doctor', 1030), ('author', 1031), ('environment', 1032), ('glass', 1033), ('flower', 1034), ('message', 1035), ('train', 1036), ('chocolate', 1037), ('genuinely', 1038), ('roll', 1039), ('universe', 1040), ('club', 1041), ('scene', 1042), ('embrace', 1043), ('ice', 1044), ('overall', 1045), ('attitude', 1046), ('muscle', 1047), ('inhibited', 1048), ('teenager', 1049), ('protect', 1050), ('depend', 1051), ('alive', 1052), ('release', 1053), ('celebrate', 1054), ('odd', 1055), ('equally', 1056), ('edge', 1057), ('main', 1058), ('outraged', 1059), ('outfit', 1060), ('responsibility', 1061), ('total', 1062), ('agree', 1063), ('bike', 1064), ('size', 1065), ('forgive', 1066), ('respected', 1067), ('player', 1068), ('heat', 1069), ('cheer', 1070), ('deprived', 1071), ('join', 1072), ('improve', 1073), ('attend', 1074), ('truthful', 1075), ('dishearten', 1076), ('internet', 1077), ('living', 1078), ('email', 1079), ('jolly', 1080), ('yeah', 1081), ('distance', 1082), ('affect', 1083), ('approach', 1084), ('develop', 1085), ('count', 1086), ('disillusioned', 1087), ('serve', 1088), ('interesting', 1089), ('mental', 1090), ('left', 1091), ('history', 1092), ('information', 1093), ('wind', 1094), ('sing', 1095), ('meeting', 1096), ('asleep', 1097), ('contact', 1098), ('earth', 1099), ('online', 1100), ('prepare', 1101), ('raise', 1102), ('coffee', 1103), ('soft', 1104), ('failure', 1105), ('shut', 1106), ('unable', 1107), ('thinking', 1108), ('particular', 1109), ('stare', 1110), ('recipe', 1111), ('prove', 1112), ('bright', 1113), ('inspired', 1114), ('attack', 1115), ('session', 1116), ('burn', 1117), ('constant', 1118), ('tortured', 1119), ('press', 1120), ('blogger', 1121), ('patient', 1122), ('success', 1123), ('ass', 1124), ('behavior', 1125), ('heavy', 1126), ('table', 1127), ('blow', 1128), ('stage', 1129), ('refuse', 1130), ('determine', 1131), ('victim', 1132), ('pound', 1133), ('resign', 1134), ('tad', 1135), ('ear', 1136), ('option', 1137), ('pregnancy', 1138), ('reading', 1139), ('regret', 1140), ('jesus', 1141), ('rock', 1142), ('response', 1143), ('brush', 1144), ('amuse', 1145), ('jade', 1146), ('basically', 1147), ('ease', 1148), ('amused', 1149), ('victimize', 1150), ('performance', 1151), ('town', 1152), ('shower', 1153), ('wash', 1154), ('bus', 1155), ('example', 1156), ('tiny', 1157), ('fucked', 1158), ('tool', 1159), ('pride', 1160), ('master', 1161), ('price', 1162), ('blessing', 1163), ('sensitive', 1164), ('frustrate', 1165), ('normally', 1166), ('perspective', 1167), ('recognize', 1168), ('till', 1169), ('expectation', 1170), ('meal', 1171), ('tough', 1172), ('balance', 1173), ('detail', 1174), ('likely', 1175), ('yell', 1176), ('sell', 1177), ('poor', 1178), ('album', 1179), ('program', 1180), ('hopefully', 1181), ('wave', 1182), ('friendship', 1183), ('marry', 1184), ('statement', 1185), ('saturday', 1186), ('mouth', 1187), ('similar', 1188), ('discuss', 1189), ('solution', 1190), ('gut', 1191), ('assured', 1192), ('kitchen', 1193), ('perfectly', 1194), ('pace', 1195), ('sexual', 1196), ('furious', 1197), ('hey', 1198), ('honor', 1199), ('shall', 1200), ('sky', 1201), ('gym', 1202), ('e', 1203), ('cos', 1204), ('aspect', 1205), ('obviously', 1206), ('text', 1207), ('benefit', 1208), ('shift', 1209), ('tip', 1210), ('field', 1211), ('steal', 1212), ('novel', 1213), ('hungry', 1214), ('seek', 1215), ('worker', 1216), ('lift', 1217), ('shoulder', 1218), ('language', 1219), ('bore', 1220), ('version', 1221), ('surround', 1222), ('brown', 1223), ('english', 1224), ('escape', 1225), ('instantly', 1226), ('government', 1227), ('task', 1228), ('flow', 1229), ('idiot', 1230), ('dread', 1231), ('possibility', 1232), ('local', 1233), ('individual', 1234), ('reflect', 1235), ('wimpy', 1236), ('grab', 1237), ('recommend', 1238), ('adventure', 1239), ('part', 1240), ('graceful', 1241), ('law', 1242), ('clearly', 1243), ('c', 1244), ('mum', 1245), ('stranger', 1246), ('rule', 1247), ('contribute', 1248), ('america', 1249), ('vacation', 1250), ('wouldn', 1251), ('block', 1252), ('socially', 1253), ('battle', 1254), ('monday', 1255), ('personality', 1256), ('plus', 1257), ('exhaust', 1258), ('hug', 1259), ('potential', 1260), ('sugar', 1261), ('interested', 1262), ('highly', 1263), ('lifestyle', 1264), ('topic', 1265), ('shoot', 1266), ('exist', 1267), ('isn', 1268), ('cycle', 1269), ('star', 1270), ('shouldn', 1271), ('diet', 1272), ('joke', 1273), ('fresh', 1274), ('invigorated', 1275), ('neurotic', 1276), ('frustration', 1277), ('million', 1278), ('core', 1279), ('fearless', 1280), ('drama', 1281), ('sexy', 1282), ('secret', 1283), ('properly', 1284), ('repeat', 1285), ('pack', 1286), ('professional', 1287), ('swear', 1288), ('overly', 1289), ('fab', 1290), ('abandon', 1291), ('eventually', 1292), ('somebody', 1293), ('nail', 1294), ('north', 1295), ('timid', 1296), ('annoying', 1297), ('entry', 1298), ('prefer', 1299), ('x', 1300), ('report', 1301), ('journal', 1302), ('sympathy', 1303), ('corner', 1304), ('reassured', 1305), ('connect', 1306), ('thin', 1307), ('prayer', 1308), ('habit', 1309), ('routine', 1310), ('pic', 1311), ('bird', 1312), ('item', 1313), ('plant', 1314), ('customer', 1315), ('unworthy', 1316), ('dismayed', 1317), ('loneliness', 1318), ('emo', 1319), ('risk', 1320), ('crave', 1321), ('sake', 1322), ('brand', 1323), ('google', 1324), ('band', 1325), ('conflict', 1326), ('discussion', 1327), ('pursue', 1328), ('wedding', 1329), ('shape', 1330), ('promise', 1331), ('research', 1332), ('garden', 1333), ('vision', 1334), ('invest', 1335), ('wine', 1336), ('degree', 1337), ('extent', 1338), ('bookmark', 1339), ('childhood', 1340), ('produce', 1341), ('natural', 1342), ('ring', 1343), ('common', 1344), ('button', 1345), ('schedule', 1346), ('sink', 1347), ('duty', 1348), ('barely', 1349), ('thanksgiving', 1350), ('devoted', 1351), ('respond', 1352), ('advice', 1353), ('anybody', 1354), ('sigh', 1355), ('depth', 1356), ('cup', 1357), ('yoga', 1358), ('neck', 1359), ('bunch', 1360), ('tea', 1361), ('maintain', 1362), ('mix', 1363), ('tone', 1364), ('cream', 1365), ('animal', 1366), ('disillusion', 1367), ('match', 1368), ('heal', 1369), ('accident', 1370), ('movement', 1371), ('circle', 1372), ('neglect', 1373), ('reply', 1374), ('scent', 1375), ('apart', 1376), ('beach', 1377), ('american', 1378), ('hop', 1379), ('london', 1380), ('box', 1381), ('lyric', 1382), ('energized', 1383), ('devote', 1384), ('surgery', 1385), ('apply', 1386), ('belief', 1387), ('throat', 1388), ('market', 1389), ('actual', 1390), ('couch', 1391), ('height', 1392), ('uncle', 1393), ('appear', 1394), ('record', 1395), ('horribly', 1396), ('bored', 1397), ('intention', 1398), ('quality', 1399), ('shaken', 1400), ('function', 1401), ('guest', 1402), ('pool', 1403), ('load', 1404), ('christian', 1405), ('n', 1406), ('passion', 1407), ('regular', 1408), ('increase', 1409), ('specific', 1410), ('survive', 1411), ('green', 1412), ('partly', 1413), ('education', 1414), ('lock', 1415), ('quote', 1416), ('morose', 1417), ('role', 1418), ('update', 1419), ('cook', 1420), ('treatment', 1421), ('hardly', 1422), ('cheap', 1423), ('haha', 1424), ('apartment', 1425), ('willing', 1426), ('reminder', 1427), ('center', 1428), ('safety', 1429), ('fashion', 1430), ('react', 1431), ('birth', 1432), ('drug', 1433), ('medicine', 1434), ('desperately', 1435), ('dear', 1436), ('concentrate', 1437), ('confuse', 1438), ('perform', 1439), ('climb', 1440), ('inspiration', 1441), ('horse', 1442), ('require', 1443), ('unsuccessful', 1444), ('land', 1445), ('burst', 1446), ('mountain', 1447), ('educate', 1448), ('succeed', 1449), ('oil', 1450), ('sand', 1451), ('material', 1452), ('capture', 1453), ('r', 1454), ('plot', 1455), ('designer', 1456), ('quit', 1457), ('sensation', 1458), ('round', 1459), ('dish', 1460), ('pity', 1461), ('chair', 1462), ('recent', 1463), ('regard', 1464), ('twitter', 1465), ('wrap', 1466), ('ball', 1467), ('breakfast', 1468), ('wise', 1469), ('ought', 1470), ('desperate', 1471), ('meaning', 1472), ('deny', 1473), ('radio', 1474), ('christ', 1475), ('spiteful', 1476), ('flawless', 1477), ('article', 1478), ('refer', 1479), ('intend', 1480), ('unwanted', 1481), ('engage', 1482), ('excitement', 1483), ('curl', 1484), ('hated', 1485), ('pink', 1486), ('gratitude', 1487), ('separate', 1488), ('strangely', 1489), ('active', 1490), ('cope', 1491), ('smoke', 1492), ('name', 1493), ('literally', 1494), ('understanding', 1495), ('increasingly', 1496), ('flight', 1497), ('powerful', 1498), ('beg', 1499), ('surface', 1500), ('bank', 1501), ('spread', 1502), ('university', 1503), ('score', 1504), ('feature', 1505), ('political', 1506), ('whilst', 1507), ('p', 1508), ('confess', 1509), ('relief', 1510), ('giggly', 1511), ('suggest', 1512), ('bet', 1513), ('spring', 1514), ('pleasure', 1515), ('delight', 1516), ('spiritual', 1517), ('collection', 1518), ('splendid', 1519), ('loving', 1520), ('necessary', 1521), ('stretch', 1522), ('influence', 1523), ('rarely', 1524), ('lunch', 1525), ('dump', 1526), ('therapy', 1527), ('worthy', 1528), ('manner', 1529), ('gear', 1530), ('motivation', 1531), ('obligation', 1532), ('outcome', 1533), ('bite', 1534), ('pattern', 1535), ('gay', 1536), ('apologize', 1537), ('cast', 1538), ('rid', 1539), ('recall', 1540), ('familiar', 1541), ('terrify', 1542), ('shirt', 1543), ('toe', 1544), ('grade', 1545), ('stunned', 1546), ('skip', 1547), ('fool', 1548), ('display', 1549), ('daze', 1550), ('industry', 1551), ('nap', 1552), ('condition', 1553), ('agitate', 1554), ('treasure', 1555), ('conscious', 1556), ('leader', 1557), ('fellow', 1558), ('painful', 1559), ('sea', 1560), ('peer', 1561), ('urge', 1562), ('fair', 1563), ('reveal', 1564), ('previous', 1565), ('dare', 1566), ('explore', 1567), ('coz', 1568), ('lost', 1569), ('affectionate', 1570), ('machine', 1571), ('experiment', 1572), ('bothered', 1573), ('male', 1574), ('adult', 1575), ('cheat', 1576), ('puppy', 1577), ('sudden', 1578), ('random', 1579), ('ex', 1580), ('background', 1581), ('utter', 1582), ('rare', 1583), ('poetry', 1584), ('jealousy', 1585), ('swim', 1586), ('la', 1587), ('average', 1588), ('awhile', 1589), ('plenty', 1590), ('basis', 1591), ('tension', 1592), ('warmth', 1593), ('available', 1594), ('wet', 1595), ('cuz', 1596), ('symptom', 1597), ('illness', 1598), ('hat', 1599), ('incredible', 1600), ('flat', 1601), ('concerned', 1602), ('bar', 1603), ('range', 1604), ('coat', 1605), ('lover', 1606), ('sport', 1607), ('represent', 1608), ('bedroom', 1609), ('zone', 1610), ('pained', 1611), ('track', 1612), ('financial', 1613), ('shot', 1614), ('vote', 1615), ('theme', 1616), ('sorrow', 1617), ('religion', 1618), ('cough', 1619), ('expose', 1620), ('cake', 1621), ('grant', 1622), ('overcome', 1623), ('creativity', 1624), ('mission', 1625), ('marriage', 1626), ('alarm', 1627), ('bill', 1628), ('measure', 1629), ('pleasantly', 1630), ('butt', 1631), ('enrage', 1632), ('f', 1633), ('print', 1634), ('ton', 1635), ('overwhelming', 1636), ('cramp', 1637), ('storm', 1638), ('quilt', 1639), ('repress', 1640), ('w', 1641), ('drag', 1642), ('defend', 1643), ('boot', 1644), ('file', 1645), ('cherish', 1646), ('attract', 1647), ('grey', 1648), ('lash', 1649), ('meat', 1650), ('perceive', 1651), ('uk', 1652), ('limit', 1653), ('fulfil', 1654), ('soo', 1655), ('back', 1656), ('exciting', 1657), ('tongue', 1658), ('contain', 1659), ('crush', 1660), ('follower', 1661), ('magic', 1662), ('graduate', 1663), ('scare', 1664), ('motion', 1665), ('hole', 1666), ('belly', 1667), ('anticipation', 1668), ('impact', 1669), ('occasionally', 1670), ('slight', 1671), ('sentence', 1672), ('log', 1673), ('isolate', 1674), ('dislike', 1675), ('homework', 1676), ('aside', 1677), ('unnecessary', 1678), ('encourage', 1679), ('marathon', 1680), ('awfully', 1681), ('spin', 1682), ('broke', 1683), ('vicious', 1684), ('angel', 1685), ('intensely', 1686), ('tackle', 1687), ('tooth', 1688), ('bashful', 1689), ('cheek', 1690), ('crash', 1691), ('remove', 1692), ('quick', 1693), ('dr', 1694), ('sight', 1695), ('bone', 1696), ('unique', 1697), ('replace', 1698), ('luck', 1699), ('sunshine', 1700), ('development', 1701), ('ridiculous', 1702), ('indulge', 1703), ('identify', 1704), ('grand', 1705), ('disrespect', 1706), ('expression', 1707), ('float', 1708), ('plane', 1709), ('repressed', 1710), ('beer', 1711), ('photography', 1712), ('commit', 1713), ('credit', 1714), ('awareness', 1715), ('accomplishment', 1716), ('camera', 1717), ('stuck', 1718), ('status', 1719), ('obvious', 1720), ('ordinary', 1721), ('whiney', 1722), ('suicide', 1723), ('seat', 1724), ('circumstance', 1725), ('scary', 1726), ('craving', 1727), ('hospital', 1728), ('stroke', 1729), ('football', 1730), ('vibe', 1731), ('sweat', 1732), ('grief', 1733), ('mode', 1734), ('generation', 1735), ('pour', 1736), ('appalled', 1737), ('chicken', 1738), ('vintage', 1739), ('hill', 1740), ('unkind', 1741), ('excuse', 1742), ('airport', 1743), ('colour', 1744), ('combination', 1745), ('advance', 1746), ('boost', 1747), ('cloud', 1748), ('poem', 1749), ('trail', 1750), ('bread', 1751), ('opposite', 1752), ('conservative', 1753), ('behave', 1754), ('talente', 1755), ('breeze', 1756), ('wednesday', 1757), ('cancer', 1758), ('praise', 1759), ('suggestion', 1760), ('majority', 1761), ('security', 1762), ('root', 1763), ('secure', 1764), ('crowd', 1765), ('suspect', 1766), ('font', 1767), ('creep', 1768), ('tranquil', 1769), ('witness', 1770), ('cigarette', 1771), ('tight', 1772), ('guide', 1773), ('holy', 1774), ('rely', 1775), ('responsible', 1776), ('resource', 1777), ('fitness', 1778), ('chat', 1779), ('slip', 1780), ('modern', 1781), ('threatened', 1782), ('shell', 1783), ('theory', 1784), ('differently', 1785), ('war', 1786), ('loud', 1787), ('moral', 1788), ('park', 1789), ('injury', 1790), ('semester', 1791), ('craft', 1792), ('switch', 1793), ('disappear', 1794), ('adore', 1795), ('co', 1796), ('chill', 1797), ('compassion', 1798), ('dry', 1799), ('bathroom', 1800), ('award', 1801), ('pie', 1802), ('major', 1803), ('screw', 1804), ('classroom', 1805), ('pm', 1806), ('aren', 1807), ('purchase', 1808), ('unknown', 1809), ('expensive', 1810), ('phrase', 1811), ('glimpse', 1812), ('scale', 1813), ('vent', 1814), ('nasty', 1815), ('appearance', 1816), ('library', 1817), ('violence', 1818), ('conclusion', 1819), ('boss', 1820), ('invite', 1821), ('earn', 1822), ('grandmother', 1823), ('ridiculously', 1824), ('pen', 1825), ('nauseous', 1826), ('laundry', 1827), ('alot', 1828), ('tuesday', 1829), ('chase', 1830), ('communicate', 1831), ('silence', 1832), ('bastard', 1833), ('object', 1834), ('aggravate', 1835), ('consequence', 1836), ('incident', 1837), ('justify', 1838), ('introduce', 1839), ('radiant', 1840), ('foundation', 1841), ('temperature', 1842), ('hadn', 1843), ('strike', 1844), ('pile', 1845), ('stun', 1846), ('argument', 1847), ('speed', 1848), ('o', 1849), ('china', 1850), ('dig', 1851), ('website', 1852), ('york', 1853), ('string', 1854), ('justice', 1855), ('outgoing', 1856), ('inner', 1857), ('international', 1858), ('equal', 1859), ('excite', 1860), ('nicely', 1861), ('flash', 1862), ('tie', 1863), ('ludicrous', 1864), ('dunno', 1865), ('ending', 1866), ('capacity', 1867), ('cousin', 1868), ('crack', 1869), ('extend', 1870), ('planet', 1871), ('floor', 1872), ('recover', 1873), ('clothing', 1874), ('presentation', 1875), ('impress', 1876), ('altogether', 1877), ('flip', 1878), ('mr', 1879), ('growth', 1880), ('method', 1881), ('strategy', 1882), ('tolerate', 1883), ('else', 1884), ('wide', 1885), ('encounter', 1886), ('feelin', 1887), ('fiction', 1888), ('makeup', 1889), ('motivate', 1890), ('thick', 1891), ('companion', 1892), ('lets', 1893), ('st', 1894), ('specifically', 1895), ('weigh', 1896), ('fabric', 1897), ('lightly', 1898), ('wood', 1899), ('shed', 1900), ('disappointment', 1901), ('slutty', 1902), ('compliment', 1903), ('gather', 1904), ('venture', 1905), ('snow', 1906), ('humorous', 1907), ('importance', 1908), ('temple', 1909), ('punch', 1910), ('dizzy', 1911), ('female', 1912), ('favourite', 1913), ('prize', 1914), ('mixture', 1915), ('charmed', 1916), ('sandwich', 1917), ('accidentally', 1918), ('participate', 1919), ('drunk', 1920), ('endeavor', 1921), ('thigh', 1922), ('bath', 1923), ('ocean', 1924), ('hero', 1925), ('consistently', 1926), ('assume', 1927), ('shadow', 1928), ('cuddle', 1929), ('shopping', 1930), ('rate', 1931), ('director', 1932), ('section', 1933), ('pot', 1934), ('loose', 1935), ('solve', 1936), ('whisper', 1937), ('closet', 1938), ('pre', 1939), ('teen', 1940), ('seemingly', 1941), ('defeated', 1942), ('lil', 1943), ('lend', 1944), ('roommate', 1945), ('copy', 1946), ('acceptance', 1947), ('address', 1948), ('aunt', 1949), ('butterfly', 1950), ('intense', 1951), ('startled', 1952), ('comparison', 1953), ('mass', 1954), ('draft', 1955), ('defective', 1956), ('nd', 1957), ('temper', 1958), ('demand', 1959), ('harm', 1960), ('capable', 1961), ('suit', 1962), ('conference', 1963), ('petrified', 1964), ('impression', 1965), ('thoroughly', 1966), ('technique', 1967), ('sheer', 1968), ('caffeine', 1969), ('ad', 1970), ('ya', 1971), ('naked', 1972), ('ultimately', 1973), ('disgust', 1974), ('despise', 1975), ('resent', 1976), ('british', 1977), ('snack', 1978), ('twice', 1979), ('unfold', 1980), ('wing', 1981), ('structure', 1982), ('forth', 1983), ('shout', 1984), ('inhibit', 1985), ('context', 1986), ('appointment', 1987), ('bum', 1988), ('prevent', 1989), ('david', 1990), ('giant', 1991), ('decent', 1992), ('side', 1993), ('mirror', 1994), ('endless', 1995), ('restaurant', 1996), ('sin', 1997), ('refresh', 1998), ('realization', 1999), ('phase', 2000), ('abused', 2001), ('oddly', 2002), ('juice', 2003), ('fever', 2004), ('dollar', 2005), ('blind', 2006), ('building', 2007), ('ministry', 2008), ('k', 2009), ('mommy', 2010), ('source', 2011), ('nofollow', 2012), ('creature', 2013), ('running', 2014), ('minor', 2015), ('nose', 2016), ('happily', 2017), ('nerve', 2018), ('bottle', 2019), ('vein', 2020), ('surely', 2021), ('grieve', 2022), ('contract', 2023), ('doll', 2024), ('factor', 2025), ('mild', 2026), ('creation', 2027), ('poke', 2028), ('peter', 2029), ('afford', 2030), ('boat', 2031), ('science', 2032), ('vigorous', 2033), ('uncertainty', 2034), ('canvas', 2035), ('hellip', 2036), ('frequently', 2037), ('manager', 2038), ('heel', 2039), ('genre', 2040), ('original', 2041), ('pang', 2042), ('tube', 2043), ('interview', 2044), ('financially', 2045), ('sharp', 2046), ('exceptionally', 2047), ('perverse', 2048), ('anti', 2049), ('width', 2050), ('px', 2051), ('runner', 2052), ('document', 2053), ('emerge', 2054), ('island', 2055), ('substance', 2056), ('swing', 2057), ('motor', 2058), ('hah', 2059), ('chemo', 2060), ('cringe', 2061), ('slide', 2062), ('layer', 2063), ('tune', 2064), ('everytime', 2065), ('jubilant', 2066), ('chapter', 2067), ('en', 2068), ('application', 2069), ('enemy', 2070), ('silent', 2071), ('portray', 2072), ('exact', 2073), ('interact', 2074), ('fulfill', 2075), ('debt', 2076), ('learning', 2077), ('someone', 2078), ('celebration', 2079), ('critical', 2080), ('med', 2081), ('sale', 2082), ('transition', 2083), ('neighborhood', 2084), ('benevolent', 2085), ('fire', 2086), ('moon', 2087), ('combine', 2088), ('click', 2089), ('april', 2090), ('cookie', 2091), ('intensity', 2092), ('caring', 2093), ('sexually', 2094), ('frankly', 2095), ('plain', 2096), ('occupy', 2097), ('stone', 2098), ('junk', 2099), ('amazingly', 2100), ('notion', 2101), ('feedback', 2102), ('wound', 2103), ('advantage', 2104), ('yay', 2105), ('disregard', 2106), ('double', 2107), ('boundary', 2108), ('army', 2109), ('intimidated', 2110), ('regain', 2111), ('religious', 2112), ('pump', 2113), ('mike', 2114), ('desk', 2115), ('upload', 2116), ('handsome', 2117), ('outsider', 2118), ('glance', 2119), ('charge', 2120), ('binge', 2121), ('toy', 2122), ('lbs', 2123), ('forum', 2124), ('previously', 2125), ('y', 2126), ('ruin', 2127), ('definition', 2128), ('darn', 2129), ('consume', 2130), ('sum', 2131), ('vaguely', 2132), ('weakness', 2133), ('resentment', 2134), ('contribution', 2135), ('whine', 2136), ('tiger', 2137), ('cash', 2138), ('gas', 2139), ('un', 2140), ('occur', 2141), ('classic', 2142), ('unmotivated', 2143), ('relative', 2144), ('fate', 2145), ('ur', 2146), ('motivated', 2147), ('apparently', 2148), ('skinny', 2149), ('catholic', 2150), ('publish', 2151), ('goodness', 2152), ('medication', 2153), ('standard', 2154), ('direct', 2155), ('october', 2156), ('darling', 2157), ('nutrition', 2158), ('lense', 2159), ('merely', 2160), ('colleague', 2161), ('mixed', 2162), ('offensive', 2163), ('empower', 2164), ('alternative', 2165), ('antsy', 2166), ('wisdom', 2167), ('nostalgia', 2168), ('silently', 2169), ('disaster', 2170), ('unprotected', 2171), ('cafe', 2172), ('west', 2173), ('relation', 2174), ('destroy', 2175), ('resist', 2176), ('heck', 2177), ('toss', 2178), ('perception', 2179), ('reference', 2180), ('vile', 2181), ('bond', 2182), ('crawl', 2183), ('staff', 2184), ('officially', 2185), ('grasp', 2186), ('medical', 2187), ('fortunate', 2188), ('jewelry', 2189), ('initial', 2190), ('dignified', 2191), ('wild', 2192), ('expert', 2193), ('everybody', 2194), ('gt', 2195), ('century', 2196), ('starve', 2197), ('billy', 2198), ('guitar', 2199), ('ticket', 2200), ('muse', 2201), ('fruit', 2202), ('pagetitle', 2203), ('speech', 2204), ('competition', 2205), ('length', 2206), ('panic', 2207), ('apology', 2208), ('youth', 2209), ('code', 2210), ('pant', 2211), ('citizen', 2212), ('model', 2213), ('closure', 2214), ('calorie', 2215), ('rape', 2216), ('disgusting', 2217), ('sooo', 2218), ('prospect', 2219), ('strip', 2220), ('atmosphere', 2221), ('humble', 2222), ('bubble', 2223), ('label', 2224), ('repeatedly', 2225), ('https', 2226), ('morally', 2227), ('chris', 2228), ('angered', 2229), ('comedy', 2230), ('alright', 2231), ('humor', 2232), ('impossible', 2233), ('claim', 2234), ('concept', 2235), ('regularly', 2236), ('afterward', 2237), ('youtube', 2238), ('president', 2239), ('mama', 2240), ('traditional', 2241), ('unfair', 2242), ('anticipate', 2243), ('danger', 2244), ('visitor', 2245), ('lap', 2246), ('satisfaction', 2247), ('clinic', 2248), ('egg', 2249), ('puzzle', 2250), ('loser', 2251), ('politician', 2252), ('rubbish', 2253), ('immature', 2254), ('positively', 2255), ('official', 2256), ('mainly', 2257), ('finance', 2258), ('anime', 2259), ('cost', 2260), ('shine', 2261), ('sorrowful', 2262), ('private', 2263), ('fund', 2264), ('relatively', 2265), ('largely', 2266), ('dvd', 2267), ('instinct', 2268), ('steve', 2269), ('grocery', 2270), ('insecurity', 2271), ('spell', 2272), ('thousand', 2273), ('paris', 2274), ('knit', 2275), ('trap', 2276), ('contemplate', 2277), ('disadvantaged', 2278), ('dramatic', 2279), ('needle', 2280), ('bury', 2281), ('dessert', 2282), ('false', 2283), ('alternate', 2284), ('pill', 2285), ('patience', 2286), ('wonderfully', 2287), ('attach', 2288), ('breast', 2289), ('actively', 2290), ('tug', 2291), ('tempt', 2292), ('brew', 2293), ('japanese', 2294), ('warning', 2295), ('fandom', 2296), ('zero', 2297), ('accord', 2298), ('irate', 2299), ('moronic', 2300), ('prior', 2301), ('california', 2302), ('ness', 2303), ('permanently', 2304), ('debate', 2305), ('amorous', 2306), ('tense', 2307), ('newborn', 2308), ('wee', 2309), ('snobbish', 2310), ('favor', 2311), ('network', 2312), ('prom', 2313), ('mask', 2314), ('account', 2315), ('murder', 2316), ('spite', 2317), ('rage', 2318), ('stair', 2319), ('clue', 2320), ('rainy', 2321), ('screen', 2322), ('rhythm', 2323), ('decade', 2324), ('heavenly', 2325), ('meditate', 2326), ('scott', 2327), ('foggy', 2328), ('secretly', 2329), ('hardcore', 2330), ('tall', 2331), ('beneath', 2332), ('trauma', 2333), ('trick', 2334), ('actor', 2335), ('sunny', 2336), ('focused', 2337), ('description', 2338), ('info', 2339), ('reduce', 2340), ('essence', 2341), ('charm', 2342), ('pause', 2343), ('explode', 2344), ('condemn', 2345), ('gun', 2346), ('soup', 2347), ('fish', 2348), ('canada', 2349), ('painting', 2350), ('hundred', 2351), ('professor', 2352), ('excellent', 2353), ('grin', 2354), ('anguish', 2355), ('aim', 2356), ('grandfather', 2357), ('hardship', 2358), ('naturally', 2359), ('soak', 2360), ('powerless', 2361), ('deem', 2362), ('cop', 2363), ('disorder', 2364), ('insist', 2365), ('sip', 2366), ('multiple', 2367), ('doomed', 2368), ('despair', 2369), ('unexpected', 2370), ('foreign', 2371), ('raw', 2372), ('magical', 2373), ('moody', 2374), ('childish', 2375), ('julia', 2376), ('santa', 2377), ('potentially', 2378), ('lee', 2379), ('collar', 2380), ('native', 2381), ('apologise', 2382), ('attribute', 2383), ('pub', 2384), ('luckily', 2385), ('clock', 2386), ('stash', 2387), ('snap', 2388), ('talent', 2389), ('adjust', 2390), ('nursing', 2391), ('upcoming', 2392), ('chinese', 2393), ('squeeze', 2394), ('labor', 2395), ('g', 2396), ('endure', 2397), ('lean', 2398), ('proper', 2399), ('income', 2400), ('ppl', 2401), ('assert', 2402), ('swallow', 2403), ('rant', 2404), ('nurse', 2405), ('solid', 2406), ('blanket', 2407), ('texte', 2408), ('warn', 2409), ('studio', 2410), ('practical', 2411), ('crisis', 2412), ('officer', 2413), ('tightly', 2414), ('hello', 2415), ('flaw', 2416), ('charity', 2417), ('exhibition', 2418), ('nod', 2419), ('em', 2420), ('simultaneously', 2421), ('regardless', 2422), ('being', 2423), ('misunderstood', 2424), ('suppress', 2425), ('wander', 2426), ('singapore', 2427), ('england', 2428), ('neutral', 2429), ('choir', 2430), ('consumer', 2431), ('viewer', 2432), ('curiosity', 2433), ('yearn', 2434), ('rice', 2435), ('contest', 2436), ('hatred', 2437), ('protest', 2438), ('bonus', 2439), ('aching', 2440), ('nation', 2441), ('rejection', 2442), ('gross', 2443), ('savage', 2444), ('crunch', 2445), ('apple', 2446), ('famous', 2447), ('musical', 2448), ('unlike', 2449), ('supply', 2450), ('select', 2451), ('norm', 2452), ('working', 2453), ('occasion', 2454), ('shade', 2455), ('board', 2456), ('smooth', 2457), ('expense', 2458), ('jim', 2459), ('authority', 2460), ('significant', 2461), ('ideal', 2462), ('therapist', 2463), ('submit', 2464), ('immensely', 2465), ('sacrifice', 2466), ('complex', 2467), ('toilet', 2468), ('wow', 2469), ('horror', 2470), ('drown', 2471), ('countless', 2472), ('bare', 2473), ('compromise', 2474), ('tap', 2475), ('ah', 2476), ('hip', 2477), ('coworker', 2478), ('thrill', 2479), ('alarmed', 2480), ('midst', 2481), ('sorta', 2482), ('giddy', 2483), ('skirt', 2484), ('profit', 2485), ('publishing', 2486), ('jerk', 2487), ('cow', 2488), ('sam', 2489), ('guarantee', 2490), ('daddy', 2491), ('roof', 2492), ('tingle', 2493), ('dwell', 2494), ('necessarily', 2495), ('achievement', 2496), ('december', 2497), ('owner', 2498), ('association', 2499), ('goodbye', 2500), ('tiredness', 2501), ('soothe', 2502), ('neighbor', 2503), ('esteem', 2504), ('spice', 2505), ('hunt', 2506), ('directly', 2507), ('butter', 2508), ('here', 2509), ('verse', 2510), ('sewing', 2511), ('sickness', 2512), ('mindset', 2513), ('practically', 2514), ('advocate', 2515), ('kit', 2516), ('nightmare', 2517), ('dose', 2518), ('diverse', 2519), ('consciously', 2520), ('glamourous', 2521), ('quarter', 2522), ('lettuce', 2523), ('handful', 2524), ('row', 2525), ('strengthen', 2526), ('academic', 2527), ('knot', 2528), ('cell', 2529), ('host', 2530), ('stock', 2531), ('porn', 2532), ('stem', 2533), ('importantly', 2534), ('mini', 2535), ('darkness', 2536), ('surprisingly', 2537), ('kindness', 2538), ('explanation', 2539), ('mid', 2540), ('milk', 2541), ('inability', 2542), ('breastfeed', 2543), ('crime', 2544), ('trial', 2545), ('anyways', 2546), ('honour', 2547), ('disorient', 2548), ('traitor', 2549), ('predictable', 2550), ('cheerful', 2551), ('village', 2552), ('observe', 2553), ('lake', 2554), ('url', 2555), ('hint', 2556), ('era', 2557), ('convenience', 2558), ('mill', 2559), ('analyze', 2560), ('trash', 2561), ('hopelessness', 2562), ('bible', 2563), ('category', 2564), ('zoom', 2565), ('difficulty', 2566), ('remark', 2567), ('rainbow', 2568), ('exchange', 2569), ('wallet', 2570), ('sadden', 2571), ('curtain', 2572), ('paranoia', 2573), ('insignificant', 2574), ('assistant', 2575), ('worship', 2576), ('bat', 2577), ('television', 2578), ('romance', 2579), ('driver', 2580), ('distress', 2581), ('stumble', 2582), ('pit', 2583), ('bind', 2584), ('logic', 2585), ('tour', 2586), ('contraction', 2587), ('slug', 2588), ('yarn', 2589), ('independent', 2590), ('nowadays', 2591), ('sock', 2592), ('sensible', 2593), ('possession', 2594), ('jack', 2595), ('eating', 2596), ('verge', 2597), ('spiritually', 2598), ('downright', 2599), ('dun', 2600), ('aid', 2601), ('everyone', 2602), ('sequel', 2603), ('instance', 2604), ('blur', 2605), ('spray', 2606), ('numerous', 2607), ('courage', 2608), ('upside', 2609), ('enjoyable', 2610), ('insane', 2611), ('julie', 2612), ('compete', 2613), ('improvement', 2614), ('heaven', 2615), ('execute', 2616), ('piano', 2617), ('tourist', 2618), ('dancer', 2619), ('pro', 2620), ('economy', 2621), ('stressful', 2622), ('notebook', 2623), ('assignment', 2624), ('unfortunately', 2625), ('inform', 2626), ('vomit', 2627), ('volunteer', 2628), ('organization', 2629), ('alcohol', 2630), ('parenting', 2631), ('boob', 2632), ('complaint', 2633), ('unhealthy', 2634), ('gamer', 2635), ('setting', 2636), ('chip', 2637), ('announce', 2638), ('contrast', 2639), ('instruction', 2640), ('bounce', 2641), ('deliver', 2642), ('broken', 2643), ('jaw', 2644), ('basic', 2645), ('inch', 2646), ('hall', 2647), ('planning', 2648), ('recognise', 2649), ('confusion', 2650), ('bah', 2651), ('serenity', 2652), ('ray', 2653), ('lung', 2654), ('transfer', 2655), ('nonsense', 2656), ('gladly', 2657), ('linger', 2658), ('strive', 2659), ('soooo', 2660), ('christians', 2661), ('whim', 2662), ('cd', 2663), ('ward', 2664), ('police', 2665), ('you', 2666), ('someday', 2667), ('evaluate', 2668), ('spending', 2669), ('frozen', 2670), ('production', 2671), ('metal', 2672), ('outing', 2673), ('pulse', 2674), ('unusual', 2675), ('magazine', 2676), ('opening', 2677), ('oppose', 2678), ('xd', 2679), ('centre', 2680), ('potato', 2681), ('supporter', 2682), ('v', 2683), ('chick', 2684), ('discovery', 2685), ('population', 2686), ('camp', 2687), ('entertainment', 2688), ('offended', 2689), ('user', 2690), ('lj', 2691), ('elated', 2692), ('addition', 2693), ('rough', 2694), ('collect', 2695), ('disability', 2696), ('doc', 2697), ('empathy', 2698), ('fairy', 2699), ('knee', 2700), ('gate', 2701), ('powder', 2702), ('be', 2703), ('strain', 2704), ('resort', 2705), ('tickle', 2706), ('melt', 2707), ('accessory', 2708), ('whip', 2709), ('reflection', 2710), ('mate', 2711), ('philosophy', 2712), ('pasta', 2713), ('burger', 2714), ('extreme', 2715), ('flavor', 2716), ('extraordinarily', 2717), ('january', 2718), ('acknowledge', 2719), ('tease', 2720), ('misery', 2721), ('aggravated', 2722), ('await', 2723), ('seed', 2724), ('conduct', 2725), ('plug', 2726), ('quest', 2727), ('musician', 2728), ('subconscious', 2729), ('miracle', 2730), ('campaign', 2731), ('bowl', 2732), ('michael', 2733), ('scheme', 2734), ('argue', 2735), ('tomato', 2736), ('web', 2737), ('african', 2738), ('cyber', 2739), ('demon', 2740), ('overload', 2741), ('helpful', 2742), ('evil', 2743), ('tale', 2744), ('treadmill', 2745), ('appreciation', 2746), ('dust', 2747), ('treasured', 2748), ('ol', 2749), ('span', 2750), ('grandparent', 2751), ('route', 2752), ('infection', 2753), ('november', 2754), ('budget', 2755), ('traffic', 2756), ('vegan', 2757), ('necessity', 2758), ('apathetic', 2759), ('refreshing', 2760), ('absolute', 2761), ('flick', 2762), ('twin', 2763), ('weapon', 2764), ('bi', 2765), ('harry', 2766), ('americans', 2767), ('flashback', 2768), ('costume', 2769), ('fancy', 2770), ('todd', 2771), ('identity', 2772), ('taylor', 2773), ('empathize', 2774), ('fog', 2775), ('preparation', 2776), ('pat', 2777), ('plate', 2778), ('fb', 2779), ('lifetime', 2780), ('chamber', 2781), ('own', 2782), ('ha', 2783), ('flood', 2784), ('photograph', 2785), ('knock', 2786), ('sheet', 2787), ('zombie', 2788), ('blonde', 2789), ('request', 2790), ('grace', 2791), ('lore', 2792), ('owl', 2793), ('cube', 2794), ('india', 2795), ('cricket', 2796), ('encouragement', 2797), ('pencil', 2798), ('property', 2799), ('agent', 2800), ('unit', 2801), ('greed', 2802), ('pale', 2803), ('rob', 2804), ('paul', 2805), ('nurture', 2806), ('stiff', 2807), ('trend', 2808), ('vibration', 2809), ('brief', 2810), ('garbage', 2811), ('greet', 2812), ('fitting', 2813), ('inclined', 2814), ('jean', 2815), ('unsafe', 2816), ('devastating', 2817), ('openly', 2818), ('dot', 2819), ('spanish', 2820), ('dash', 2821), ('emily', 2822), ('semi', 2823), ('awe', 2824), ('coope', 2825), ('alex', 2826), ('matt', 2827), ('fragrance', 2828), ('retrospect', 2829), ('define', 2830), ('amsterdam', 2831), ('uni', 2832), ('freaking', 2833), ('hesitate', 2834), ('tablet', 2835), ('polish', 2836), ('flesh', 2837), ('devotee', 2838), ('exit', 2839), ('civil', 2840), ('curse', 2841), ('tag', 2842), ('wax', 2843), ('spare', 2844), ('border', 2845), ('olympic', 2846), ('limited', 2847), ('loyalty', 2848), ('mud', 2849), ('virginia', 2850), ('seldom', 2851), ('er', 2852), ('sweaty', 2853), ('thyroid', 2854), ('whiny', 2855), ('massage', 2856), ('throbbing', 2857), ('forgiveness', 2858), ('geek', 2859), ('hike', 2860), ('mainstream', 2861), ('tire', 2862), ('articulate', 2863), ('plague', 2864), ('milestone', 2865), ('moisturizer', 2866), ('ingredient', 2867), ('spider', 2868), ('grammar', 2869), ('george', 2870), ('loathe', 2871), ('twist', 2872), ('frame', 2873), ('severely', 2874), ('formula', 2875), ('feminist', 2876), ('yearning', 2877), ('permanent', 2878), ('intellectual', 2879), ('military', 2880), ('blogging', 2881), ('fluid', 2882), ('crew', 2883), ('noise', 2884), ('oscar', 2885), ('terror', 2886), ('uneasy', 2887), ('ignorance', 2888), ('dismiss', 2889), ('cancel', 2890), ('anna', 2891), ('tuck', 2892), ('enjoyment', 2893), ('protein', 2894), ('sadly', 2895), ('essentially', 2896), ('supermarket', 2897), ('haul', 2898), ('bracelet', 2899), ('bow', 2900), ('iphone', 2901), ('scratch', 2902), ('scar', 2903), ('transcend', 2904), ('prepared', 2905), ('disagree', 2906), ('desert', 2907), ('temporarily', 2908), ('spill', 2909), ('chore', 2910), ('sample', 2911), ('grumble', 2912), ('thursday', 2913), ('impressive', 2914), ('access', 2915), ('sofa', 2916), ('singe', 2917), ('mere', 2918), ('pet', 2919), ('angle', 2920), ('brilliant', 2921), ('dissolve', 2922), ('gap', 2923), ('ultimate', 2924), ('restore', 2925), ('concert', 2926), ('baseball', 2927), ('overwhelmingly', 2928), ('dignity', 2929), ('command', 2930), ('bay', 2931), ('wipe', 2932), ('dedicate', 2933), ('upper', 2934), ('harmful', 2935), ('wrongly', 2936), ('watcher', 2937), ('lisa', 2938), ('massive', 2939), ('believer', 2940), ('aggressive', 2941), ('dint', 2942), ('prone', 2943), ('enthral', 2944), ('rescue', 2945), ('intelligence', 2946), ('haze', 2947), ('portion', 2948), ('initially', 2949), ('lipstick', 2950), ('region', 2951), ('evidence', 2952), ('palm', 2953), ('devil', 2954), ('gown', 2955), ('constructive', 2956), ('february', 2957), ('trigger', 2958), ('envelope', 2959), ('liberal', 2960), ('pinch', 2961), ('breathing', 2962), ('quietly', 2963), ('specially', 2964), ('easter', 2965), ('abit', 2966), ('nonetheless', 2967), ('harsh', 2968), ('wrist', 2969), ('assumption', 2970), ('hormone', 2971), ('listening', 2972), ('disconnect', 2973), ('remotely', 2974), ('profile', 2975), ('bundle', 2976), ('vow', 2977), ('stack', 2978), ('albeit', 2979), ('fantasy', 2980), ('frighten', 2981), ('hearing', 2982), ('communication', 2983), ('bf', 2984), ('bleed', 2985), ('intellect', 2986), ('inevitably', 2987), ('swimming', 2988), ('listener', 2989), ('surrounding', 2990), ('uber', 2991), ('pig', 2992), ('idol', 2993), ('richard', 2994), ('destiny', 2995), ('goddamn', 2996), ('incorporate', 2997), ('recovery', 2998), ('breed', 2999), ('divorce', 3000), ('lemon', 3001), ('robin', 3002), ('distinct', 3003), ('retirement', 3004), ('overwhelm', 3005), ('marketing', 3006), ('deadline', 3007), ('exception', 3008), ('counter', 3009), ('enthusiasm', 3010), ('anatomy', 3011), ('allergy', 3012), ('cave', 3013), ('daydream', 3014), ('volume', 3015), ('disease', 3016), ('split', 3017), ('bake', 3018), ('annoyance', 3019), ('separation', 3020), ('tinge', 3021), ('jeremy', 3022), ('lecture', 3023), ('recording', 3024), ('hubby', 3025), ('glory', 3026), ('determination', 3027), ('subconsciously', 3028), ('panicky', 3029), ('confirm', 3030), ('grip', 3031), ('bridge', 3032), ('lush', 3033), ('republic', 3034), ('package', 3035), ('marvelous', 3036), ('discomfort', 3037), ('shallow', 3038), ('feels', 3039), ('tutorial', 3040), ('finished', 3041), ('charlie', 3042), ('candle', 3043), ('emoticon', 3044), ('hotel', 3045), ('roast', 3046), ('relaxation', 3047), ('aussie', 3048), ('labour', 3049), ('adjustment', 3050), ('essential', 3051), ('foul', 3052), ('impolite', 3053), ('organise', 3054), ('partially', 3055), ('scripture', 3056), ('expand', 3057), ('hi', 3058), ('tech', 3059), ('teddy', 3060), ('nudge', 3061), ('conscience', 3062), ('suspense', 3063), ('legend', 3064), ('loop', 3065), ('temporary', 3066), ('dragon', 3067), ('mercy', 3068), ('senior', 3069), ('pursuit', 3070), ('psychologist', 3071), ('playing', 3072), ('psychotic', 3073), ('adopt', 3074), ('portrayal', 3075), ('intent', 3076), ('examine', 3077), ('hoo', 3078), ('accomplished', 3079), ('fuel', 3080), ('alongside', 3081), ('perfume', 3082), ('shiver', 3083), ('tummy', 3084), ('linux', 3085), ('clarity', 3086), ('inferior', 3087), ('motherhood', 3088), ('blush', 3089), ('pillow', 3090), ('stink', 3091), ('jane', 3092), ('cage', 3093), ('reread', 3094), ('choke', 3095), ('sob', 3096), ('enable', 3097), ('crumble', 3098), ('channel', 3099), ('hangover', 3100), ('massively', 3101), ('realistic', 3102), ('damaged', 3103), ('chain', 3104), ('dramatically', 3105), ('epic', 3106), ('floral', 3107), ('ed', 3108), ('hurtful', 3109), ('orange', 3110), ('smack', 3111), ('cozy', 3112), ('hire', 3113), ('australia', 3114), ('infuriate', 3115), ('clay', 3116), ('trade', 3117), ('cupcake', 3118), ('assistance', 3119), ('prompt', 3120), ('gold', 3121), ('grass', 3122), ('commercial', 3123), ('mince', 3124), ('sis', 3125), ('significantly', 3126), ('king', 3127), ('promotion', 3128), ('highschool', 3129), ('queen', 3130), ('slack', 3131), ('wicked', 3132), ('addicted', 3133), ('immediate', 3134), ('irrational', 3135), ('sarah', 3136), ('fridge', 3137), ('deceive', 3138), ('bold', 3139), ('possess', 3140), ('continually', 3141), ('jason', 3142), ('plunge', 3143), ('sour', 3144), ('farm', 3145), ('barrier', 3146), ('bump', 3147), ('generate', 3148), ('isolation', 3149), ('ancient', 3150), ('chaos', 3151), ('baptize', 3152), ('luggage', 3153), ('assessment', 3154), ('invade', 3155), ('mount', 3156), ('nausea', 3157), ('consistent', 3158), ('felt', 3159), ('technology', 3160), ('immerse', 3161), ('invitation', 3162), ('september', 3163), ('protection', 3164), ('fare', 3165), ('dan', 3166), ('ignorant', 3167), ('politic', 3168), ('multitude', 3169), ('behalf', 3170), ('investment', 3171), ('comforting', 3172), ('manuscript', 3173), ('wheel', 3174), ('dreamy', 3175), ('italian', 3176), ('please', 3177), ('revenge', 3178), ('teaching', 3179), ('abc', 3180), ('typical', 3181), ('apparent', 3182), ('saint', 3183), ('profoundly', 3184), ('mac', 3185), ('artwork', 3186), ('enrich', 3187), ('tradition', 3188), ('zealand', 3189), ('absence', 3190), ('imagination', 3191), ('highlight', 3192), ('mush', 3193), ('clip', 3194), ('etsy', 3195), ('xmas', 3196), ('stir', 3197), ('solo', 3198), ('pin', 3199), ('til', 3200), ('splash', 3201), ('potter', 3202), ('deodorant', 3203), ('bout', 3204), ('junior', 3205), ('accompany', 3206), ('laughter', 3207), ('times', 3208), ('sweater', 3209), ('appeal', 3210), ('genius', 3211), ('unnatural', 3212), ('showing', 3213), ('south', 3214), ('freely', 3215), ('stroll', 3216), ('stereotype', 3217), ('simplicity', 3218), ('steam', 3219), ('department', 3220), ('remarkably', 3221), ('decorate', 3222), ('heap', 3223), ('decline', 3224), ('election', 3225), ('existance', 3226), ('ego', 3227), ('wah', 3228), ('boil', 3229), ('seven', 3230), ('tantrum', 3231), ('comeback', 3232), ('ryan', 3233), ('jersey', 3234), ('permalink', 3235), ('anniversary', 3236), ('frustrating', 3237), ('emptiness', 3238), ('legion', 3239), ('sleepy', 3240), ('illusion', 3241), ('thai', 3242), ('peep', 3243), ('encouraging', 3244), ('obstacle', 3245), ('intimacy', 3246), ('bug', 3247), ('historical', 3248), ('newspaper', 3249), ('starter', 3250), ('pocket', 3251), ('giveaway', 3252), ('trusting', 3253), ('privilege', 3254), ('resonate', 3255), ('teenage', 3256), ('safely', 3257), ('obama', 3258), ('global', 3259), ('justin', 3260), ('married', 3261), ('mentality', 3262), ('french', 3263), ('chicago', 3264), ('empathetic', 3265), ('sober', 3266), ('noisy', 3267), ('metaphor', 3268), ('delivery', 3269), ('teary', 3270), ('classmate', 3271), ('lounge', 3272), ('rep', 3273), ('slice', 3274), ('wallpaper', 3275), ('narrow', 3276), ('negativity', 3277), ('distraction', 3278), ('toddler', 3279), ('cliff', 3280), ('shove', 3281), ('calling', 3282), ('sting', 3283), ('confession', 3284), ('impose', 3285), ('diy', 3286), ('employer', 3287), ('naive', 3288), ('quarrel', 3289), ('loner', 3290), ('affair', 3291), ('heaviness', 3292), ('violate', 3293), ('gently', 3294), ('exhibit', 3295), ('cure', 3296), ('console', 3297), ('affirmation', 3298), ('hype', 3299), ('q', 3300), ('gaze', 3301), ('indulgent', 3302), ('injure', 3303), ('mail', 3304), ('cheese', 3305), ('ugg', 3306), ('marvel', 3307), ('policy', 3308), ('iv', 3309), ('automatically', 3310), ('truck', 3311), ('indian', 3312), ('humility', 3313), ('fireplace', 3314), ('thirsty', 3315), ('immense', 3316), ('barbie', 3317), ('acutely', 3318), ('scenario', 3319), ('elderly', 3320), ('spur', 3321), ('scissor', 3322), ('asshole', 3323), ('healing', 3324), ('rejuvenate', 3325), ('roller', 3326), ('coaster', 3327), ('bomb', 3328), ('appal', 3329), ('lily', 3330), ('last', 3331), ('obtain', 3332), ('heartedly', 3333), ('grapple', 3334), ('clench', 3335), ('associate', 3336), ('disservice', 3337), ('accent', 3338), ('tango', 3339), ('appropriate', 3340), ('remembrance', 3341), ('corpse', 3342), ('element', 3343), ('examination', 3344), ('precise', 3345), ('sauce', 3346), ('privacy', 3347), ('affection', 3348), ('continuously', 3349), ('homeless', 3350), ('thief', 3351), ('nov', 3352), ('insulted', 3353), ('eyelid', 3354), ('pea', 3355), ('receiving', 3356), ('blossom', 3357), ('submission', 3358), ('slumber', 3359), ('sleeve', 3360), ('outdoors', 3361), ('thread', 3362), ('florida', 3363), ('distinctly', 3364), ('finland', 3365), ('nothing', 3366), ('gallery', 3367), ('adapt', 3368), ('abdomen', 3369), ('delay', 3370), ('meantime', 3371), ('excess', 3372), ('athletic', 3373), ('mantra', 3374), ('lump', 3375), ('cubicle', 3376), ('intentionally', 3377), ('gigantic', 3378), ('cock', 3379), ('rally', 3380), ('buck', 3381), ('literature', 3382), ('solely', 3383), ('limitation', 3384), ('nest', 3385), ('calf', 3386), ('sparkle', 3387), ('definately', 3388), ('snuggle', 3389), ('serif', 3390), ('weariness', 3391), ('daycare', 3392), ('giggle', 3393), ('min', 3394), ('rewrite', 3395), ('secretary', 3396), ('dancing', 3397), ('benign', 3398), ('heartbreak', 3399), ('shield', 3400), ('honesty', 3401), ('poison', 3402), ('preferably', 3403), ('whale', 3404), ('generic', 3405), ('prep', 3406), ('sleepless', 3407), ('arrange', 3408), ('washington', 3409), ('similarly', 3410), ('ironic', 3411), ('respectful', 3412), ('eric', 3413), ('solace', 3414), ('reasonably', 3415), ('scientist', 3416), ('publisher', 3417), ('vertigo', 3418), ('journalist', 3419), ('interaction', 3420), ('com', 3421), ('fuckin', 3422), ('pms', 3423), ('primer', 3424), ('spouse', 3425), ('agony', 3426), ('literary', 3427), ('legitimate', 3428), ('sincerity', 3429), ('lapse', 3430), ('sanity', 3431), ('resolved', 3432), ('ra', 3433), ('attractive', 3434), ('envelop', 3435), ('thirty', 3436), ('greatness', 3437), ('orphan', 3438), ('taiwan', 3439), ('arouse', 3440), ('nominate', 3441), ('outburst', 3442), ('tick', 3443), ('keyboard', 3444), ('smoothly', 3445), ('harden', 3446), ('casually', 3447), ('bottom', 3448), ('tissue', 3449), ('winner', 3450), ('hollywood', 3451), ('layout', 3452), ('agreement', 3453), ('virtual', 3454), ('relish', 3455), ('bell', 3456), ('supremely', 3457), ('pertain', 3458), ('preference', 3459), ('virgin', 3460), ('comic', 3461), ('diminish', 3462), ('homeschooling', 3463), ('dubai', 3464), ('impending', 3465), ('esp', 3466), ('firmly', 3467), ('remorse', 3468), ('booth', 3469), ('engine', 3470), ('netflix', 3471), ('vibrant', 3472), ('evolution', 3473), ('vast', 3474), ('randomly', 3475), ('kneel', 3476), ('evident', 3477), ('profession', 3478), ('incapable', 3479), ('obey', 3480), ('ballet', 3481), ('standing', 3482), ('electric', 3483), ('oxygen', 3484), ('sloth', 3485), ('stadium', 3486), ('suitcase', 3487), ('cabin', 3488), ('z', 3489), ('headphone', 3490), ('congratulation', 3491), ('amount', 3492), ('speaker', 3493), ('introduction', 3494), ('visual', 3495), ('bench', 3496), ('exhausting', 3497), ('court', 3498), ('lab', 3499), ('rat', 3500), ('cease', 3501), ('plastic', 3502), ('fashioned', 3503), ('hoard', 3504), ('blink', 3505), ('bully', 3506), ('insincere', 3507), ('virus', 3508), ('remarkable', 3509), ('beneficial', 3510), ('rapidly', 3511), ('autumn', 3512), ('shiny', 3513), ('strut', 3514), ('underrated', 3515), ('humbled', 3516), ('judgment', 3517), ('effective', 3518), ('imply', 3519), ('proclaim', 3520), ('independence', 3521), ('immune', 3522), ('uninteresting', 3523), ('sideline', 3524), ('ipod', 3525), ('rev', 3526), ('jewellery', 3527), ('nephew', 3528), ('clutch', 3529), ('distant', 3530), ('collective', 3531), ('unsettled', 3532), ('windy', 3533), ('extension', 3534), ('app', 3535), ('maker', 3536), ('visible', 3537), ('surgeon', 3538), ('coach', 3539), ('racism', 3540), ('coke', 3541), ('housewife', 3542), ('sue', 3543), ('despondent', 3544), ('dine', 3545), ('wholly', 3546), ('upbeat', 3547), ('mournful', 3548), ('kg', 3549), ('brow', 3550), ('ponder', 3551), ('scrutiny', 3552), ('asian', 3553), ('vividly', 3554), ('instructor', 3555), ('recession', 3556), ('marie', 3557), ('comparatively', 3558), ('icon', 3559), ('allah', 3560), ('trapping', 3561), ('underneath', 3562), ('factory', 3563), ('tornado', 3564), ('connected', 3565), ('equation', 3566), ('anyones', 3567), ('mi', 3568), ('hopelessly', 3569), ('cruz', 3570), ('urgency', 3571), ('client', 3572), ('eyebrow', 3573), ('differ', 3574), ('withdrawal', 3575), ('yo', 3576), ('cam', 3577), ('wierd', 3578), ('greg', 3579), ('celebrity', 3580), ('graduation', 3581), ('destructive', 3582), ('weirdly', 3583), ('pushover', 3584), ('pole', 3585), ('stat', 3586), ('perfection', 3587), ('overtake', 3588), ('percieve', 3589), ('injustice', 3590), ('syndrome', 3591), ('wrestling', 3592), ('twitchy', 3593), ('bask', 3594), ('commitment', 3595), ('wire', 3596), ('spine', 3597), ('texture', 3598), ('mystery', 3599), ('yuuki', 3600), ('despised', 3601), ('column', 3602), ('owe', 3603), ('bod', 3604), ('necklace', 3605), ('lick', 3606), ('tendency', 3607), ('edit', 3608), ('inevitable', 3609), ('mildly', 3610), ('youthful', 3611), ('underground', 3612), ('chaotic', 3613), ('abroad', 3614), ('league', 3615), ('trivial', 3616), ('hobby', 3617), ('bust', 3618), ('adorable', 3619), ('garment', 3620), ('blake', 3621), ('statistic', 3622), ('dialog', 3623), ('bunny', 3624), ('raid', 3625), ('nagging', 3626), ('sidewalk', 3627), ('poll', 3628), ('obligated', 3629), ('eternal', 3630), ('repetition', 3631), ('tangible', 3632), ('clique', 3633), ('kay', 3634), ('lemonade', 3635), ('backyard', 3636), ('kingdom', 3637), ('economic', 3638), ('productivity', 3639), ('pedestrian', 3640), ('passenger', 3641), ('emotionless', 3642), ('abandonment', 3643), ('subside', 3644), ('lessen', 3645), ('attachment', 3646), ('programming', 3647), ('coconut', 3648), ('knitting', 3649), ('capital', 3650), ('translate', 3651), ('internally', 3652), ('integrity', 3653), ('rushed', 3654), ('poo', 3655), ('km', 3656), ('ish', 3657), ('packing', 3658), ('embarrassment', 3659), ('depress', 3660), ('reilly', 3661), ('repair', 3662), ('temptation', 3663), ('resolution', 3664), ('induce', 3665), ('sew', 3666), ('ie', 3667), ('recognition', 3668), ('persona', 3669), ('heartache', 3670), ('boo', 3671), ('irritate', 3672), ('unfit', 3673), ('buff', 3674), ('fierce', 3675), ('defensive', 3676), ('limb', 3677), ('tote', 3678), ('dining', 3679), ('insight', 3680), ('attraction', 3681), ('admiration', 3682), ('confrontation', 3683), ('july', 3684), ('laptop', 3685), ('platform', 3686), ('plight', 3687), ('vet', 3688), ('sarcasm', 3689), ('vendor', 3690), ('typically', 3691), ('default', 3692), ('unease', 3693), ('france', 3694), ('beating', 3695), ('passport', 3696), ('combat', 3697), ('trainer', 3698), ('horrid', 3699), ('tribute', 3700), ('emphasize', 3701), ('indication', 3702), ('hollow', 3703), ('succumb', 3704), ('mindful', 3705), ('minister', 3706), ('bladder', 3707), ('hmmm', 3708), ('interpretation', 3709), ('implement', 3710), ('memorize', 3711), ('exhilarate', 3712), ('btw', 3713), ('zumba', 3714), ('disclaimer', 3715), ('hyper', 3716), ('enthusiastic', 3717), ('spain', 3718), ('sara', 3719), ('div', 3720), ('stellar', 3721), ('reputation', 3722), ('hidden', 3723), ('legacy', 3724), ('sugary', 3725), ('repercussion', 3726), ('strand', 3727), ('script', 3728), ('shatter', 3729), ('prick', 3730), ('secondary', 3731), ('warehouse', 3732), ('marginalize', 3733), ('station', 3734), ('central', 3735), ('singular', 3736), ('teeny', 3737), ('honey', 3738), ('drip', 3739), ('spark', 3740), ('quo', 3741), ('sponsor', 3742), ('atleast', 3743), ('stream', 3744), ('sacred', 3745), ('someway', 3746), ('priority', 3747), ('scatter', 3748), ('amy', 3749), ('balanced', 3750), ('diary', 3751), ('ambulance', 3752), ('halfway', 3753), ('dam', 3754), ('jan', 3755), ('golden', 3756), ('lighten', 3757), ('rinse', 3758), ('disney', 3759), ('bruise', 3760), ('participant', 3761), ('effectively', 3762), ('tangle', 3763), ('stable', 3764), ('lure', 3765), ('champagne', 3766), ('mexican', 3767), ('echo', 3768), ('sympathize', 3769), ('saying', 3770), ('hasn', 3771), ('engineer', 3772), ('spy', 3773), ('river', 3774), ('squad', 3775), ('merry', 3776), ('criminal', 3777), ('abusive', 3778), ('criticize', 3779), ('excitment', 3780), ('paralysed', 3781), ('demanding', 3782), ('rag', 3783), ('fetch', 3784), ('nuclear', 3785), ('subtle', 3786), ('flirty', 3787), ('lurk', 3788), ('reception', 3789), ('rack', 3790), ('soil', 3791), ('entitle', 3792), ('addiction', 3793), ('morbid', 3794), ('usa', 3795), ('insensitive', 3796), ('narrator', 3797), ('following', 3798), ('idk', 3799), ('unsavory', 3800), ('interrupt', 3801), ('revelation', 3802), ('noodle', 3803), ('goddess', 3804), ('minimum', 3805), ('observation', 3806), ('bliss', 3807), ('evolve', 3808), ('belittle', 3809), ('transport', 3810), ('awaken', 3811), ('prop', 3812), ('spiral', 3813), ('forgot', 3814), ('yard', 3815), ('ain', 3816), ('bruce', 3817), ('spontaneous', 3818), ('jackson', 3819), ('tub', 3820), ('san', 3821), ('passionately', 3822), ('validation', 3823), ('vampire', 3824), ('jacket', 3825), ('euphoria', 3826), ('pinterest', 3827), ('obsession', 3828), ('hehe', 3829), ('advertising', 3830), ('withdraw', 3831), ('soap', 3832), ('lb', 3833), ('comfortably', 3834), ('jones', 3835), ('raphael', 3836), ('exhaustion', 3837), ('bash', 3838), ('envy', 3839), ('fellowship', 3840), ('fold', 3841), ('italy', 3842), ('slut', 3843), ('throne', 3844), ('register', 3845), ('pointless', 3846), ('procedure', 3847), ('salt', 3848), ('packet', 3849), ('korean', 3850), ('nicer', 3851), ('sluggish', 3852), ('quirky', 3853), ('maternal', 3854), ('steady', 3855), ('superman', 3856), ('apathy', 3857), ('ms', 3858), ('sucker', 3859), ('mundane', 3860), ('revel', 3861), ('federal', 3862), ('joint', 3863), ('auto', 3864), ('sweep', 3865), ('tumblr', 3866), ('penn', 3867), ('gush', 3868), ('stupidity', 3869), ('device', 3870), ('yeast', 3871), ('earthquake', 3872), ('bam', 3873), ('pine', 3874), ('crystal', 3875), ('roberts', 3876), ('condescend', 3877), ('sickening', 3878), ('manifest', 3879), ('patrick', 3880), ('square', 3881), ('likeable', 3882), ('shelf', 3883), ('digital', 3884), ('everything', 3885), ('wrestle', 3886), ('entrance', 3887), ('snob', 3888), ('district', 3889), ('eld', 3890), ('muck', 3891), ('unattractive', 3892), ('ccs', 3893), ('racing', 3894), ('gel', 3895), ('optimism', 3896), ('fleeting', 3897), ('triumph', 3898), ('penny', 3899), ('dial', 3900), ('startle', 3901), ('pee', 3902), ('continuous', 3903), ('german', 3904), ('wrinkle', 3905), ('parallel', 3906), ('instagram', 3907), ('cap', 3908), ('campus', 3909), ('ailment', 3910), ('limbo', 3911), ('aftermath', 3912), ('whore', 3913), ('bob', 3914), ('transform', 3915), ('sinus', 3916), ('dependent', 3917), ('territory', 3918), ('monster', 3919), ('proceed', 3920), ('guidance', 3921), ('mummy', 3922), ('peak', 3923), ('derby', 3924), ('rip', 3925), ('appropriately', 3926), ('disciple', 3927), ('tutor', 3928), ('manipulate', 3929), ('reliable', 3930), ('disdain', 3931), ('melody', 3932), ('motivator', 3933), ('pizza', 3934), ('rhetoric', 3935), ('organic', 3936), ('empty', 3937), ('queasy', 3938), ('establish', 3939), ('careful', 3940), ('stubbornly', 3941), ('sensory', 3942), ('slap', 3943), ('acne', 3944), ('haiku', 3945), ('gender', 3946), ('conducive', 3947), ('cautious', 3948), ('passing', 3949), ('mouse', 3950), ('convey', 3951), ('mrs', 3952), ('ladder', 3953), ('backward', 3954), ('unappreciated', 3955), ('meaningless', 3956), ('politely', 3957), ('eve', 3958), ('inanimate', 3959), ('slope', 3960), ('diamond', 3961), ('swift', 3962), ('aa', 3963), ('instill', 3964), ('mediocre', 3965), ('recreate', 3966), ('fingernail', 3967), ('resume', 3968), ('luxury', 3969), ('twitch', 3970), ('siren', 3971), ('pakistan', 3972), ('declare', 3973), ('assist', 3974), ('mall', 3975), ('chunk', 3976), ('hum', 3977), ('socialize', 3978), ('sole', 3979), ('march', 3980), ('hunger', 3981), ('ordeal', 3982), ('uncharacteristically', 3983), ('unreasonable', 3984), ('ghost', 3985), ('homosexual', 3986), ('onion', 3987), ('nick', 3988), ('vanilla', 3989), ('consideration', 3990), ('prince', 3991), ('hiding', 3992), ('wiggle', 3993), ('doodle', 3994), ('hurry', 3995), ('thrift', 3996), ('traumatic', 3997), ('bang', 3998), ('irrationally', 3999), ('jordan', 4000), ('momentarily', 4001), ('bla', 4002), ('upstairs', 4003), ('prisoner', 4004), ('lds', 4005), ('su', 4006), ('wen', 4007), ('madness', 4008), ('hook', 4009), ('pierce', 4010), ('evoke', 4011), ('legitimately', 4012), ('oncologist', 4013), ('satan', 4014), ('hurricane', 4015), ('snake', 4016), ('spirituality', 4017), ('custom', 4018), ('whatsoever', 4019), ('surprising', 4020), ('festival', 4021), ('benjamin', 4022), ('wig', 4023), ('encompass', 4024), ('showcase', 4025), ('mobile', 4026), ('radiation', 4027), ('administration', 4028), ('insert', 4029), ('yash', 4030), ('pantie', 4031), ('psycho', 4032), ('input', 4033), ('turkey', 4034), ('slum', 4035), ('darle', 4036), ('transformation', 4037), ('trimester', 4038), ('aversion', 4039), ('license', 4040), ('multi', 4041), ('bald', 4042), ('mock', 4043), ('authentic', 4044), ('corn', 4045), ('weary', 4046), ('flop', 4047), ('announcement', 4048), ('queer', 4049), ('embarrass', 4050), ('polite', 4051), ('awkwardness', 4052), ('selection', 4053), ('haircut', 4054), ('behaviour', 4055), ('drawing', 4056), ('tidy', 4057), ('datum', 4058), ('gradually', 4059), ('offense', 4060), ('household', 4061), ('twinge', 4062), ('trophy', 4063), ('infertility', 4064), ('christmassy', 4065), ('bloody', 4066), ('laurie', 4067), ('fulfillment', 4068), ('james', 4069), ('pastor', 4070), ('glare', 4071), ('wince', 4072), ('alice', 4073), ('haunt', 4074), ('penis', 4075), ('preform', 4076), ('artisan', 4077), ('ethic', 4078), ('separately', 4079), ('footing', 4080), ('retain', 4081), ('nyc', 4082), ('destine', 4083), ('homophobic', 4084), ('resident', 4085), ('smirk', 4086), ('eco', 4087), ('heavily', 4088), ('stew', 4089), ('organized', 4090), ('zach', 4091), ('ferocious', 4092), ('ipad', 4093), ('unrealistic', 4094), ('workplace', 4095), ('blogosphere', 4096), ('abide', 4097), ('minority', 4098), ('carefully', 4099), ('kindly', 4100), ('european', 4101), ('convention', 4102), ('exceedingly', 4103), ('bbq', 4104), ('reckon', 4105), ('stitch', 4106), ('cutting', 4107), ('flowy', 4108), ('jumper', 4109), ('dip', 4110), ('flexible', 4111), ('retire', 4112), ('lower', 4113), ('cherry', 4114), ('inadequacy', 4115), ('preach', 4116), ('killer', 4117), ('surge', 4118), ('june', 4119), ('peek', 4120), ('shimmer', 4121), ('rub', 4122), ('minimal', 4123), ('australian', 4124), ('shinobi', 4125), ('caterpillar', 4126), ('lifeline', 4127), ('petronas', 4128), ('hamper', 4129), ('dent', 4130), ('subsequently', 4131), ('handmade', 4132), ('sane', 4133), ('paragraph', 4134), ('spoil', 4135), ('valentine', 4136), ('realm', 4137), ('detox', 4138), ('michelle', 4139), ('ballistic', 4140), ('successfully', 4141), ('usage', 4142), ('error', 4143), ('wushu', 4144), ('spritz', 4145), ('going', 4146), ('on', 4147), ('ratty', 4148), ('sweatshirt', 4149), ('assuredly', 4150), ('brotherhood', 4151), ('tsa', 4152), ('croissant', 4153), ('talkative', 4154), ('ancestral', 4155), ('pumpkin', 4156), ('affirm', 4157), ('eid', 4158), ('witch', 4159), ('nationality', 4160), ('bitterly', 4161), ('steep', 4162), ('fell', 4163), ('colon', 4164), ('enhance', 4165), ('redeem', 4166), ('meditation', 4167), ('underwear', 4168), ('drawer', 4169), ('gorgeously', 4170), ('girly', 4171), ('underway', 4172), ('misunderstanding', 4173), ('harbor', 4174), ('hilarious', 4175), ('inarticulate', 4176), ('illustrate', 4177), ('consumerism', 4178), ('revered', 4179), ('definitive', 4180), ('benedict', 4181), ('cultural', 4182), ('arcade', 4183), ('monitor', 4184), ('administrator', 4185), ('befriend', 4186), ('fed', 4187), ('xxx', 4188), ('tastic', 4189), ('advise', 4190), ('hoax', 4191), ('iron', 4192), ('bullet', 4193), ('nasal', 4194), ('sufferer', 4195), ('timetable', 4196), ('edgy', 4197), ('tempting', 4198), ('defiance', 4199), ('olivia', 4200), ('prominent', 4201), ('saving', 4202), ('maxs', 4203), ('union', 4204), ('yellow', 4205), ('faux', 4206), ('trimming', 4207), ('warmly', 4208), ('margin', 4209), ('batch', 4210), ('newtown', 4211), ('mailman', 4212), ('clerk', 4213), ('willingness', 4214), ('accumulate', 4215), ('squeal', 4216), ('glee', 4217), ('pitiful', 4218), ('wailing', 4219), ('virtually', 4220), ('quantity', 4221), ('barrage', 4222), ('lego', 4223), ('fulfilling', 4224), ('misplace', 4225), ('devoid', 4226), ('communion', 4227), ('tremendous', 4228), ('christianity', 4229), ('huckleberry', 4230), ('depressing', 4231), ('tan', 4232), ('toxin', 4233), ('slate', 4234), ('clumsy', 4235), ('confront', 4236), ('overhear', 4237), ('victory', 4238), ('soccer', 4239), ('baker', 4240), ('rex', 4241), ('ltr', 4242), ('atom', 4243), ('ovation', 4244), ('halloween', 4245), ('asking', 4246), ('kidnap', 4247), ('falsely', 4248), ('inflate', 4249), ('maria', 4250), ('torso', 4251), ('siwon', 4252), ('oily', 4253), ('georgia', 4254), ('opposition', 4255), ('counselling', 4256), ('frugal', 4257), ('soundtrack', 4258), ('media', 4259), ('op', 4260), ('entertained', 4261), ('eh', 4262), ('encase', 4263), ('underpaid', 4264), ('chemistry', 4265), ('conspiracy', 4266), ('whitley', 4267), ('arrangement', 4268), ('womanhood', 4269), ('merit', 4270), ('closing', 4271), ('wainwright', 4272), ('envision', 4273), ('staying', 4274), ('relentless', 4275), ('vitamin', 4276), ('ongoing', 4277), ('ali', 4278), ('genuine', 4279), ('keenly', 4280), ('greatly', 4281), ('offspring', 4282), ('reciprocate', 4283), ('sticky', 4284), ('dropping', 4285), ('narrate', 4286), ('erik', 4287), ('civilian', 4288), ('warrior', 4289), ('predominantly', 4290), ('autistic', 4291), ('wifi', 4292), ('situate', 4293), ('tournament', 4294), ('deck', 4295), ('plateau', 4296), ('wardrobe', 4297), ('biology', 4298), ('incomplete', 4299), ('poppy', 4300), ('beast', 4301), ('brad', 4302), ('wat', 4303), ('favour', 4304), ('inspiring', 4305), ('proof', 4306), ('wealth', 4307), ('still', 4308), ('punjabi', 4309), ('masala', 4310), ('investigate', 4311), ('mythology', 4312), ('portland', 4313), ('gravity', 4314), ('atheist', 4315), ('thrifte', 4316), ('lucy', 4317), ('entitled', 4318), ('cohen', 4319), ('pimple', 4320), ('um', 4321), ('ther', 4322), ('erupt', 4323), ('grievance', 4324), ('attire', 4325), ('consecutive', 4326), ('lace', 4327), ('pavement', 4328), ('funeral', 4329), ('intimate', 4330), ('editor', 4331), ('heartbreaking', 4332), ('inconvenience', 4333), ('excruciating', 4334), ('fig', 4335), ('dominant', 4336), ('poet', 4337), ('disturbing', 4338), ('flavour', 4339), ('prey', 4340), ('slough', 4341), ('glasgow', 4342), ('gone', 4343), ('pajama', 4344), ('societys', 4345), ('admission', 4346), ('chronically', 4347), ('enormous', 4348), ('enlist', 4349), ('tank', 4350), ('rollercoaster', 4351), ('orgasm', 4352), ('ensure', 4353), ('haptic', 4354), ('signal', 4355), ('readily', 4356), ('oatmeal', 4357), ('niggle', 4358), ('complicated', 4359), ('incase', 4360), ('loathing', 4361), ('hearted', 4362), ('impostor', 4363), ('cognitive', 4364), ('rapture', 4365), ('brag', 4366), ('annie', 4367), ('belonging', 4368), ('unsatisfied', 4369), ('denounce', 4370), ('blackburn', 4371), ('manual', 4372), ('attain', 4373), ('tragedy', 4374), ('apt', 4375), ('backwards', 4376), ('ambitious', 4377), ('disabled', 4378), ('conceal', 4379), ('revert', 4380), ('orchestra', 4381), ('hannah', 4382), ('pose', 4383), ('disliked', 4384), ('typing', 4385), ('cracker', 4386), ('tenure', 4387), ('undo', 4388), ('suffocated', 4389), ('underage', 4390), ('lane', 4391), ('cardboard', 4392), ('romeo', 4393), ('juliet', 4394), ('wayne', 4395), ('drake', 4396), ('dope', 4397), ('deed', 4398), ('vs', 4399), ('fling', 4400), ('crossing', 4401), ('teammate', 4402), ('scum', 4403), ('counselor', 4404), ('motivational', 4405), ('impractical', 4406), ('spencer', 4407), ('relive', 4408), ('vunerable', 4409), ('up', 4410), ('down', 4411), ('hedge', 4412), ('rouge', 4413), ('visibly', 4414), ('outer', 4415), ('suburban', 4416), ('ebay', 4417), ('deject', 4418), ('congress', 4419), ('graphic', 4420), ('demotivate', 4421), ('curriculum', 4422), ('plea', 4423), ('nosy', 4424), ('museum', 4425), ('unprepared', 4426), ('banker', 4427), ('dieting', 4428), ('telephone', 4429), ('grandma', 4430), ('employee', 4431), ('tenderly', 4432), ('cloudy', 4433), ('hesitation', 4434), ('engaged', 4435), ('andover', 4436), ('amusing', 4437), ('creepy', 4438), ('tat', 4439), ('noe', 4440), ('renew', 4441), ('endurance', 4442), ('drinking', 4443), ('mammoth', 4444), ('firm', 4445), ('salon', 4446), ('lacklustre', 4447), ('considerable', 4448), ('excessive', 4449), ('alteration', 4450), ('fascinated', 4451), ('sally', 4452), ('consumption', 4453), ('homosexuality', 4454), ('shamed', 4455), ('john', 4456), ('nicotine', 4457), ('stain', 4458), ('cantor', 4459), ('emergency', 4460), ('enormously', 4461), ('seam', 4462), ('batter', 4463), ('toon', 4464), ('guild', 4465), ('maid', 4466), ('frown', 4467), ('lull', 4468), ('remote', 4469), ('crossfit', 4470), ('unconscious', 4471), ('grown', 4472), ('hahaha', 4473), ('cramping', 4474), ('dorky', 4475), ('compensate', 4476), ('si', 4477), ('nursery', 4478), ('pupil', 4479), ('module', 4480), ('definite', 4481), ('branch', 4482), ('intuition', 4483), ('sleeping', 4484), ('giving', 4485), ('myspace', 4486), ('belt', 4487), ('converse', 4488), ('familiarity', 4489), ('producer', 4490), ('vista', 4491), ('unemployment', 4492), ('britain', 4493), ('louis', 4494), ('russia', 4495), ('authoritative', 4496), ('spa', 4497), ('fluffy', 4498), ('wtf', 4499), ('hood', 4500), ('illustrator', 4501), ('artistry', 4502), ('ti', 4503), ('babysit', 4504), ('exclusively', 4505), ('boisterous', 4506), ('subscriber', 4507), ('diversity', 4508), ('conventional', 4509), ('ceiling', 4510), ('fiber', 4511), ('sufficient', 4512), ('fade', 4513), ('outlet', 4514), ('rugby', 4515), ('mothering', 4516), ('witty', 4517), ('creme', 4518), ('sandal', 4519), ('excitedly', 4520), ('duck', 4521), ('leap', 4522), ('perpetually', 4523), ('impulsive', 4524), ('coordinate', 4525), ('handheld', 4526), ('adjective', 4527), ('electricity', 4528), ('sniffle', 4529), ('asset', 4530), ('lengthy', 4531), ('bathing', 4532), ('rachel', 4533), ('sams', 4534), ('angsty', 4535), ('fiance', 4536), ('hometown', 4537), ('vocal', 4538), ('blend', 4539), ('programme', 4540), ('outright', 4541), ('organisation', 4542), ('ahaha', 4543), ('wishful', 4544), ('overshadow', 4545), ('healthcare', 4546), ('anothers', 4547), ('socialise', 4548), ('smiley', 4549), ('firefly', 4550), ('sword', 4551), ('defense', 4552), ('definetly', 4553), ('detest', 4554), ('sooooo', 4555), ('concoction', 4556), ('cashier', 4557), ('logan', 4558), ('vine', 4559), ('laziness', 4560), ('narcissism', 4561), ('collaboration', 4562), ('frequent', 4563), ('myriad', 4564), ('personnel', 4565), ('unfulfilled', 4566), ('toby', 4567), ('truely', 4568), ('bunk', 4569), ('corporate', 4570), ('dave', 4571), ('solemn', 4572), ('garage', 4573), ('kim', 4574), ('tranny', 4575), ('departure', 4576), ('dublin', 4577), ('pesky', 4578), ('singing', 4579), ('rte', 4580), ('naught', 4581), ('futile', 4582), ('drastic', 4583), ('proposal', 4584), ('banana', 4585), ('pompous', 4586), ('ism', 4587), ('borrow', 4588), ('thaw', 4589), ('ensue', 4590), ('hockey', 4591), ('duke', 4592), ('prawn', 4593), ('worldly', 4594), ('retail', 4595), ('pretentious', 4596), ('chew', 4597), ('component', 4598), ('acting', 4599), ('wilder', 4600), ('photographer', 4601), ('winston', 4602), ('churchill', 4603), ('analogy', 4604), ('anxiously', 4605), ('ww', 4606), ('psychological', 4607), ('engagement', 4608), ('newbie', 4609), ('assess', 4610), ('silver', 4611), ('glitter', 4612), ('violently', 4613), ('xanax', 4614), ('making', 4615), ('mull', 4616), ('vibrate', 4617), ('morph', 4618), ('weed', 4619), ('protective', 4620), ('readership', 4621), ('springer', 4622), ('seep', 4623), ('inquire', 4624), ('knight', 4625), ('nervousness', 4626), ('feeble', 4627), ('tropical', 4628), ('reward', 4629), ('standby', 4630), ('comprehend', 4631), ('bizarre', 4632), ('adverse', 4633), ('bagel', 4634), ('giver', 4635), ('reluctantly', 4636), ('epidural', 4637), ('predict', 4638), ('picnic', 4639), ('grove', 4640), ('rot', 4641), ('deteriorate', 4642), ('unnaturally', 4643), ('brutality', 4644), ('readjust', 4645), ('contagious', 4646), ('albino', 4647), ('mosquito', 4648), ('bye', 4649), ('heroine', 4650), ('primary', 4651), ('banter', 4652), ('provocative', 4653), ('east', 4654), ('subdue', 4655), ('crazily', 4656), ('suitably', 4657), ('panel', 4658), ('notify', 4659), ('unbearable', 4660), ('vbac', 4661), ('desirable', 4662), ('deepika', 4663), ('friggin', 4664), ('dissipate', 4665), ('justification', 4666), ('dorm', 4667), ('liberty', 4668), ('representative', 4669), ('rustle', 4670), ('taking', 4671), ('donate', 4672), ('toronto', 4673), ('outdoor', 4674), ('intellectually', 4675), ('malaysia', 4676), ('menswear', 4677), ('shortlist', 4678), ('pearl', 4679), ('cleanse', 4680), ('moisturise', 4681), ('dork', 4682), ('provoke', 4683), ('medal', 4684), ('discount', 4685), ('contrary', 4686), ('saudi', 4687), ('hostel', 4688), ('fathom', 4689), ('almond', 4690), ('pb', 4691), ('suspicion', 4692), ('disagreement', 4693), ('rightly', 4694), ('flee', 4695), ('mankind', 4696), ('turkish', 4697), ('reign', 4698), ('vicarious', 4699), ('distribution', 4700), ('overweight', 4701), ('undesired', 4702), ('reconcile', 4703), ('martin', 4704), ('bleeding', 4705), ('kai', 4706), ('dentist', 4707), ('davids', 4708), ('resistant', 4709), ('islam', 4710), ('imminent', 4711), ('screenwriter', 4712), ('bush', 4713), ('criticism', 4714), ('eagle', 4715), ('dangerously', 4716), ('unsettling', 4717), ('psyche', 4718), ('overdo', 4719), ('shannon', 4720), ('j', 4721), ('h', 4722), ('constitution', 4723), ('narrative', 4724), ('composition', 4725), ('backpack', 4726), ('impatience', 4727), ('exploration', 4728), ('feast', 4729), ('grader', 4730), ('wreck', 4731), ('afield', 4732), ('bearable', 4733), ('exposure', 4734), ('decidedly', 4735), ('humbug', 4736), ('mineral', 4737), ('equivalent', 4738), ('padding', 4739), ('grill', 4740), ('decorative', 4741), ('veil', 4742), ('holly', 4743), ('dating', 4744), ('rupee', 4745), ('europe', 4746), ('stoop', 4747), ('amaze', 4748), ('fullness', 4749), ('severe', 4750), ('hone', 4751), ('wield', 4752), ('razor', 4753), ('withstand', 4754), ('bogge', 4755), ('burner', 4756), ('racist', 4757), ('asians', 4758), ('port', 4759), ('ceo', 4760), ('tower', 4761), ('swell', 4762), ('amvassago', 4763), ('beefy', 4764), ('beef', 4765), ('doubly', 4766), ('momma', 4767), ('stationary', 4768), ('percentage', 4769), ('anne', 4770), ('outrage', 4771), ('map', 4772), ('frazzle', 4773), ('melancholic', 4774), ('dm', 4775), ('jeff', 4776), ('cornbread', 4777), ('innate', 4778), ('substitute', 4779), ('moan', 4780), ('cluttered', 4781), ('sketch', 4782), ('rekindle', 4783), ('adomen', 4784), ('spontaneously', 4785), ('obese', 4786), ('veggie', 4787), ('alittle', 4788), ('originally', 4789), ('united', 4790), ('states', 4791), ('climate', 4792), ('mormon', 4793), ('startling', 4794), ('boxing', 4795), ('adequately', 4796), ('preschool', 4797), ('spotless', 4798), ('aesthetic', 4799), ('pore', 4800), ('validity', 4801), ('manila', 4802), ('fortune', 4803), ('wheat', 4804), ('relevant', 4805), ('unfairness', 4806), ('disrupt', 4807), ('claustrophobic', 4808), ('adoption', 4809), ('panicked', 4810), ('wallow', 4811), ('thoughtless', 4812), ('nut', 4813), ('bolt', 4814), ('softball', 4815), ('chatter', 4816), ('fuss', 4817), ('restricted', 4818), ('spoiler', 4819), ('badass', 4820), ('neatly', 4821), ('cray', 4822), ('shelter', 4823), ('jon', 4824), ('ping', 4825), ('costly', 4826), ('cynicism', 4827), ('overreact', 4828), ('amplify', 4829), ('falter', 4830), ('unza', 4831), ('tmr', 4832), ('bsc', 4833), ('marvellous', 4834), ('hiccup', 4835), ('drastically', 4836), ('swirl', 4837), ('snore', 4838), ('handbag', 4839), ('pickle', 4840), ('passage', 4841), ('kenny', 4842), ('stevens', 4843), ('donation', 4844), ('undercurrent', 4845), ('individuality', 4846), ('ne', 4847), ('phenomenon', 4848), ('untouched', 4849), ('checklist', 4850), ('thailand', 4851), ('coloured', 4852), ('furniture', 4853), ('spacious', 4854), ('hobble', 4855), ('delusion', 4856), ('denial', 4857), ('whack', 4858), ('psychologically', 4859), ('rejuvenated', 4860), ('polar', 4861), ('woodland', 4862), ('musing', 4863), ('launch', 4864), ('toll', 4865), ('needlessly', 4866), ('prescribed', 4867), ('supposedly', 4868), ('illicit', 4869), ('sloppy', 4870), ('creator', 4871), ('pragmatic', 4872), ('pavilion', 4873), ('national', 4874), ('energised', 4875), ('rear', 4876), ('comfy', 4877), ('courtesy', 4878), ('qualified', 4879), ('venue', 4880), ('css', 4881), ('yank', 4882), ('parcel', 4883), ('spoiled', 4884), ('brat', 4885), ('combo', 4886), ('explorer', 4887), ('divulge', 4888), ('freshman', 4889), ('jo', 4890), ('bucket', 4891), ('fanatic', 4892), ('answering', 4893), ('slighted', 4894), ('replacement', 4895), ('decently', 4896), ('lunge', 4897), ('salvation', 4898), ('alert', 4899), ('guard', 4900), ('senator', 4901), ('flag', 4902), ('holding', 4903), ('brd', 4904), ('armor', 4905), ('precisely', 4906), ('unresolved', 4907), ('journalism', 4908), ('fulfilled', 4909), ('epiphany', 4910), ('sublime', 4911), ('due', 4912), ('stagnate', 4913), ('misbehavior', 4914), ('offering', 4915), ('mayhem', 4916), ('mesh', 4917), ('printing', 4918), ('uplift', 4919), ('sage', 4920), ('pelvis', 4921), ('complainy', 4922), ('menu', 4923), ('testicle', 4924), ('elation', 4925), ('intervention', 4926), ('reinforce', 4927), ('hunter', 4928), ('bombing', 4929), ('stinky', 4930), ('requirement', 4931), ('sabotage', 4932), ('homely', 4933), ('sprint', 4934), ('questioning', 4935), ('republicans', 4936), ('salad', 4937), ('figuratively', 4938), ('preservation', 4939), ('heartburn', 4940), ('pushy', 4941), ('individually', 4942), ('sleek', 4943), ('blaster', 4944), ('caregiver', 4945), ('flatten', 4946), ('knowledgeable', 4947), ('hunting', 4948), ('fishing', 4949), ('entertainer', 4950), ('williams', 4951), ('obedient', 4952), ('arise', 4953), ('disgruntled', 4954), ('dick', 4955), ('parody', 4956), ('painless', 4957), ('ambition', 4958), ('unhappiness', 4959), ('lauren', 4960), ('knitter', 4961), ('insanity', 4962), ('apothecary', 4963), ('nominee', 4964), ('scotland', 4965), ('sans', 4966), ('sack', 4967), ('colourful', 4968), ('operation', 4969), ('majorly', 4970), ('webkit', 4971), ('closed', 4972), ('lloyd', 4973), ('ditch', 4974), ('cdn', 4975), ('donut', 4976), ('al', 4977), ('alaska', 4978), ('insidious', 4979), ('driving', 4980), ('demonstration', 4981), ('sterile', 4982), ('brim', 4983), ('gal', 4984), ('flatter', 4985), ('ing', 4986), ('tempura', 4987), ('admittedly', 4988), ('dearly', 4989), ('remedy', 4990), ('carrot', 4991), ('boutique', 4992), ('antisocial', 4993), ('cooperation', 4994), ('historian', 4995), ('strap', 4996), ('amish', 4997), ('bookstore', 4998), ('stump', 4999), ('purely', 5000), ('gm', 5001), ('rabbit', 5002), ('austen', 5003), ('luh', 5004), ('mudd', 5005), ('luminary', 5006), ('colored', 5007), ('insomnia', 5008), ('ji', 5009), ('analyse', 5010), ('woeful', 5011), ('ds', 5012), ('rd', 5013), ('dd', 5014), ('angst', 5015), ('yelp', 5016), ('deplete', 5017), ('gape', 5018), ('smoothie', 5019), ('perpetuate', 5020), ('dynamic', 5021), ('guilte', 5022), ('gaia', 5023), ('stumbleupon', 5024), ('alt', 5025), ('elementary', 5026), ('coerce', 5027), ('grimace', 5028), ('yknow', 5029), ('chalk', 5030), ('spout', 5031), ('seafood', 5032), ('unpaid', 5033), ('presumably', 5034), ('wholeness', 5035), ('ta', 5036), ('wit', 5037), ('handedly', 5038), ('relentlessly', 5039), ('energize', 5040), ('nude', 5041), ('palette', 5042), ('pe', 5043), ('nao', 5044), ('bitterness', 5045), ('soapbox', 5046), ('whiff', 5047), ('burrow', 5048), ('pete', 5049), ('egalitarian', 5050), ('tedious', 5051), ('whimsical', 5052), ('photoshoot', 5053), ('decoration', 5054), ('droop', 5055), ('straightforward', 5056), ('blade', 5057), ('caress', 5058), ('governor', 5059), ('dirt', 5060), ('idle', 5061), ('intake', 5062), ('eternally', 5063), ('cruise', 5064), ('forehead', 5065), ('scan', 5066), ('seize', 5067), ('uncare', 5068), ('dew', 5069), ('cassandra', 5070), ('barn', 5071), ('ginger', 5072), ('eater', 5073), ('better', 5074), ('flawed', 5075), ('net', 5076), ('whistle', 5077), ('math', 5078), ('unity', 5079), ('abstract', 5080), ('incorrect', 5081), ('sneeze', 5082), ('parting', 5083), ('delightful', 5084), ('whoop', 5085), ('constipate', 5086), ('britney', 5087), ('fourth', 5088), ('reckless', 5089), ('educational', 5090), ('regimented', 5091), ('midterm', 5092), ('scold', 5093), ('intentional', 5094), ('nightmarish', 5095), ('permeate', 5096), ('disinterested', 5097), ('accustomed', 5098), ('dominican', 5099), ('patriotism', 5100), ('cautiously', 5101), ('weave', 5102), ('jungle', 5103), ('sh', 5104), ('versus', 5105), ('veer', 5106), ('rite', 5107), ('hypocrite', 5108), ('housebound', 5109), ('peckish', 5110), ('gratefulness', 5111), ('approval', 5112), ('grandchild', 5113), ('revolve', 5114), ('thankfully', 5115), ('theirs', 5116), ('liquor', 5117), ('persevere', 5118), ('crotch', 5119), ('copper', 5120), ('betty', 5121), ('jolt', 5122), ('dh', 5123), ('diagnosis', 5124), ('compound', 5125), ('regurgitate', 5126), ('vulnerability', 5127), ('beijing', 5128), ('commuter', 5129), ('survey', 5130), ('lunchtime', 5131), ('harmony', 5132), ('caleb', 5133), ('rating', 5134), ('taunt', 5135), ('frailty', 5136), ('liar', 5137), ('stab', 5138), ('unattainable', 5139), ('ignite', 5140), ('wistful', 5141), ('saddle', 5142), ('dawn', 5143), ('annoyingly', 5144), ('stoic', 5145), ('icky', 5146), ('boredom', 5147), ('mascara', 5148), ('organ', 5149), ('douche', 5150), ('karen', 5151), ('actuality', 5152), ('beachy', 5153), ('superficial', 5154), ('twat', 5155), ('uhuru', 5156), ('persecute', 5157), ('martha', 5158), ('victorious', 5159), ('swamp', 5160), ('uncaring', 5161), ('luxurious', 5162), ('deer', 5163), ('thomas', 5164), ('fee', 5165), ('au', 5166), ('ng', 5167), ('void', 5168), ('hamburger', 5169), ('steak', 5170), ('fob', 5171), ('muslim', 5172), ('environmentally', 5173), ('wildly', 5174), ('ian', 5175), ('flame', 5176), ('belove', 5177), ('joey', 5178), ('sitcom', 5179), ('baggage', 5180), ('jamie', 5181), ('tremendously', 5182), ('preposterous', 5183), ('screening', 5184), ('mingle', 5185), ('stupor', 5186), ('bud', 5187), ('strop', 5188), ('quiver', 5189), ('segment', 5190), ('nearness', 5191), ('reporter', 5192), ('locker', 5193), ('tide', 5194), ('captain', 5195), ('shocking', 5196), ('cdm', 5197), ('flac', 5198), ('custodes', 5199), ('download', 5200), ('philippine', 5201), ('prime', 5202), ('variety', 5203), ('gosh', 5204), ('summary', 5205), ('women', 5206), ('sheepish', 5207), ('accuse', 5208), ('dryer', 5209), ('gimmick', 5210), ('tia', 5211), ('seventy', 5212), ('cent', 5213), ('excel', 5214), ('cab', 5215), ('spoon', 5216), ('internal', 5217), ('devour', 5218), ('psychology', 5219), ('embark', 5220), ('biscuit', 5221), ('glossy', 5222), ('meanness', 5223), ('inhaler', 5224), ('weirdo', 5225), ('blurt', 5226), ('poope', 5227), ('comp', 5228), ('buzz', 5229), ('lucas', 5230), ('cynical', 5231), ('got', 5232), ('acquaintance', 5233), ('makin', 5234), ('surf', 5235), ('broom', 5236), ('vinegar', 5237), ('cooler', 5238), ('enamoured', 5239), ('richness', 5240), ('fa', 5241), ('dreadful', 5242), ('susceptible', 5243), ('management', 5244), ('caretaker', 5245), ('congestion', 5246), ('heartbeat', 5247), ('consultation', 5248), ('classwork', 5249), ('facility', 5250), ('da', 5251), ('becuz', 5252), ('locate', 5253), ('tweet', 5254), ('frequency', 5255), ('juicy', 5256), ('moving', 5257), ('additional', 5258), ('snoop', 5259), ('loopy', 5260), ('exaggerate', 5261), ('angie', 5262), ('mature', 5263), ('intruder', 5264), ('retreat', 5265), ('ugliness', 5266), ('validate', 5267), ('consult', 5268), ('prejudiced', 5269), ('montana', 5270), ('premature', 5271), ('revisit', 5272), ('chanel', 5273), ('fist', 5274), ('men', 5275), ('snapback', 5276), ('wholesale', 5277), ('courthouse', 5278), ('unemployed', 5279), ('aku', 5280), ('advertisement', 5281), ('superstition', 5282), ('coming', 5283), ('collapse', 5284), ('blowout', 5285), ('addict', 5286), ('railway', 5287), ('knife', 5288), ('pistol', 5289), ('sassy', 5290), ('duration', 5291), ('wronged', 5292), ('crossroad', 5293), ('roughly', 5294), ('segregate', 5295), ('castle', 5296), ('referee', 5297), ('conveniently', 5298), ('pussy', 5299), ('swimsuit', 5300), ('intrigue', 5301), ('tether', 5302), ('chemical', 5303), ('classy', 5304), ('punk', 5305), ('principle', 5306), ('recount', 5307), ('hyena', 5308), ('trouser', 5309), ('flush', 5310), ('accommodate', 5311), ('sinister', 5312), ('compulsion', 5313), ('aryiku', 5314), ('accurate', 5315), ('shinae', 5316), ('cinema', 5317), ('infrastructure', 5318), ('creatively', 5319), ('hump', 5320), ('knowing', 5321), ('publicity', 5322), ('informed', 5323), ('overpower', 5324), ('ingrate', 5325), ('sweeney', 5326), ('modify', 5327), ('unusually', 5328), ('cycling', 5329), ('lightning', 5330), ('contentment', 5331), ('mutual', 5332), ('pure', 5333), ('menopause', 5334), ('twisted', 5335), ('allocate', 5336), ('sibling', 5337), ('fatigue', 5338), ('prevail', 5339), ('sucky', 5340), ('pokemon', 5341), ('boldly', 5342), ('opener', 5343), ('thug', 5344), ('lightness', 5345), ('nathan', 5346), ('cloth', 5347), ('grit', 5348), ('crowded', 5349), ('repay', 5350), ('noon', 5351), ('suspiciously', 5352), ('luke', 5353), ('gunong', 5354), ('ledang', 5355), ('sulfate', 5356), ('towel', 5357), ('hsp', 5358), ('ben', 5359), ('cia', 5360), ('oxford', 5361), ('skype', 5362), ('chuff', 5363), ('fic', 5364), ('gag', 5365), ('dee', 5366), ('triangle', 5367), ('bullshit', 5368), ('addison', 5369), ('creaminess', 5370), ('frantically', 5371), ('apron', 5372), ('recite', 5373), ('dissatisfy', 5374), ('forest', 5375), ('inspection', 5376), ('cleaning', 5377), ('savory', 5378), ('buddhism', 5379), ('leadership', 5380), ('sunlight', 5381), ('filter', 5382), ('toenail', 5383), ('stamp', 5384), ('medically', 5385), ('hussein', 5386), ('culprit', 5387), ('tigger', 5388), ('institution', 5389), ('quieter', 5390), ('kissing', 5391), ('invincible', 5392), ('cardio', 5393), ('canal', 5394), ('shaun', 5395), ('inclination', 5396), ('mumbai', 5397), ('brink', 5398), ('rave', 5399), ('grandpa', 5400), ('speculation', 5401), ('grain', 5402), ('ebony', 5403), ('agonize', 5404), ('organised', 5405), ('omg', 5406), ('zimbabwe', 5407), ('congregation', 5408), ('slam', 5409), ('query', 5410), ('thesis', 5411), ('contaminate', 5412), ('align', 5413), ('smother', 5414), ('terrain', 5415), ('mojo', 5416), ('claret', 5417), ('jug', 5418), ('rod', 5419), ('division', 5420), ('katrina', 5421), ('lighting', 5422), ('recluse', 5423), ('swan', 5424), ('appetite', 5425), ('philadelphia', 5426), ('pa', 5427), ('mph', 5428), ('funky', 5429), ('qualify', 5430), ('zen', 5431), ('daisy', 5432), ('msg', 5433), ('loudly', 5434), ('ritual', 5435), ('algebra', 5436), ('setback', 5437), ('longevity', 5438), ('turmoil', 5439), ('wip', 5440), ('genetic', 5441), ('sunrise', 5442), ('immigrant', 5443), ('rash', 5444), ('ep', 5445), ('pip', 5446), ('practise', 5447), ('uh', 5448), ('max', 5449), ('engineering', 5450), ('drinkin', 5451), ('whiskey', 5452), ('measurement', 5453), ('xx', 5454), ('verdict', 5455), ('freakishly', 5456), ('stride', 5457), ('counsel', 5458), ('rubber', 5459), ('dong', 5460), ('refreshed', 5461), ('subaru', 5462), ('trustworthy', 5463), ('explosion', 5464), ('desperation', 5465), ('cara', 5466), ('discipline', 5467), ('stray', 5468), ('predictably', 5469), ('redundant', 5470), ('wonderland', 5471), ('eyelash', 5472), ('muster', 5473), ('timing', 5474), ('soda', 5475), ('magnificent', 5476), ('supreme', 5477), ('vocalize', 5478), ('alignment', 5479), ('fame', 5480), ('adulthood', 5481), ('def', 5482), ('undertake', 5483), ('icy', 5484), ('poetic', 5485), ('convoluted', 5486), ('tom', 5487), ('manifestation', 5488), ('tattoo', 5489), ('endorphin', 5490), ('trillion', 5491), ('premonition', 5492), ('candy', 5493), ('neuropathy', 5494), ('stroller', 5495), ('ballroom', 5496), ('tape', 5497), ('masterpiece', 5498), ('trans', 5499), ('aka', 5500), ('iced', 5501), ('courtney', 5502), ('minuscule', 5503), ('tightness', 5504), ('advertise', 5505), ('josh', 5506), ('munch', 5507), ('swarm', 5508), ('zest', 5509), ('bipolar', 5510), ('positivity', 5511), ('variation', 5512), ('tax', 5513), ('erm', 5514), ('consolation', 5515), ('sasha', 5516), ('seal', 5517), ('akin', 5518), ('enthusiast', 5519), ('skincare', 5520), ('welfare', 5521), ('glycerin', 5522), ('cleansing', 5523), ('indonesia', 5524), ('gary', 5525), ('introverted', 5526), ('snail', 5527), ('nugget', 5528), ('gratuitously', 5529), ('fork', 5530), ('wounded', 5531), ('sweetheart', 5532), ('jay', 5533), ('outweigh', 5534), ('trusty', 5535), ('eventual', 5536), ('informal', 5537), ('poverty', 5538), ('stillness', 5539), ('shyness', 5540), ('conquer', 5541), ('capability', 5542), ('stuffy', 5543), ('taco', 5544), ('inclusive', 5545), ('rightfully', 5546), ('muas', 5547), ('chart', 5548), ('incense', 5549), ('wooden', 5550), ('spew', 5551), ('colby', 5552), ('contradict', 5553), ('weep', 5554), ('urgent', 5555), ('logo', 5556), ('integral', 5557), ('pipe', 5558), ('gaming', 5559), ('storage', 5560), ('haircute', 5561), ('developer', 5562), ('tha', 5563), ('unwell', 5564), ('isaac', 5565), ('schoolgirl', 5566), ('boston', 5567), ('dutch', 5568), ('poorly', 5569), ('crochet', 5570), ('swollen', 5571), ('reserve', 5572), ('ibs', 5573), ('reunite', 5574), ('facilitate', 5575), ('welcoming', 5576), ('offset', 5577), ('questionable', 5578), ('webpage', 5579), ('crutch', 5580), ('payday', 5581), ('loan', 5582), ('monthly', 5583), ('spectator', 5584), ('getaway', 5585), ('pac', 5586), ('peril', 5587), ('harrassment', 5588), ('microsoft', 5589), ('kiddy', 5590), ('paralysis', 5591), ('patch', 5592), ('kuya', 5593), ('homemade', 5594), ('performer', 5595), ('commodity', 5596), ('fraud', 5597), ('morsel', 5598), ('flattered', 5599), ('brake', 5600), ('theater', 5601), ('activist', 5602), ('rewarding', 5603), ('jazz', 5604), ('mona', 5605), ('slave', 5606), ('freeze', 5607), ('screenshot', 5608), ('gnaw', 5609), ('academia', 5610), ('savour', 5611), ('happening', 5612), ('weekly', 5613), ('plead', 5614), ('gathering', 5615), ('loki', 5616), ('survivor', 5617), ('ken', 5618), ('turning', 5619), ('hurl', 5620), ('katy', 5621), ('distinction', 5622), ('sceptical', 5623), ('boast', 5624), ('biofuel', 5625), ('gutte', 5626), ('fortitude', 5627), ('globe', 5628), ('embed', 5629), ('tsunami', 5630), ('lt', 5631), ('ink', 5632), ('sep', 5633), ('certainty', 5634), ('embarassed', 5635), ('princess', 5636), ('astonishment', 5637), ('ni', 5638), ('shiraishi', 5639), ('puncture', 5640), ('jerry', 5641), ('constructivism', 5642), ('royal', 5643), ('gospel', 5644), ('mistress', 5645), ('unwilling', 5646), ('denise', 5647), ('annual', 5648), ('te', 5649), ('duct', 5650), ('tactic', 5651), ('breakup', 5652), ('fuzzy', 5653), ('correctly', 5654), ('chorus', 5655), ('yu', 5656), ('unforgettable', 5657), ('willed', 5658), ('whooooo', 5659), ('flourish', 5660), ('muffin', 5661), ('nerd', 5662), ('coffin', 5663), ('rider', 5664), ('top', 5665), ('unintelligent', 5666), ('agency', 5667), ('sharing', 5668), ('bewildered', 5669), ('mega', 5670), ('clingy', 5671), ('wh', 5672), ('bomber', 5673), ('pester', 5674), ('stimulate', 5675), ('template', 5676), ('imprint', 5677), ('mourn', 5678), ('overeat', 5679), ('trumpeter', 5680), ('adrenaline', 5681), ('conditioning', 5682), ('etape', 5683), ('similarity', 5684), ('becasue', 5685), ('challenging', 5686), ('eyeliner', 5687), ('acquaint', 5688), ('mag', 5689), ('savior', 5690), ('verbally', 5691), ('formal', 5692), ('creed', 5693), ('fragile', 5694), ('continued', 5695), ('sensibility', 5696), ('unfinished', 5697), ('sail', 5698), ('salute', 5699), ('striking', 5700), ('temp', 5701), ('gettin', 5702), ('jens', 5703), ('occupational', 5704), ('feat', 5705), ('alien', 5706), ('landscape', 5707), ('slump', 5708), ('environmental', 5709), ('effing', 5710), ('ml', 5711), ('waft', 5712), ('humanity', 5713), ('logical', 5714), ('soulmate', 5715), ('canadian', 5716), ('iam', 5717), ('pillar', 5718), ('lh', 5719), ('exotic', 5720), ('shirley', 5721), ('sub', 5722), ('flake', 5723), ('mumble', 5724), ('absurd', 5725), ('inspect', 5726), ('stud', 5727), ('revenue', 5728), ('intercourse', 5729), ('pineapple', 5730), ('chop', 5731), ('snug', 5732), ('downstairs', 5733), ('lad', 5734), ('perceptive', 5735), ('ukrainian', 5736), ('goat', 5737), ('aretha', 5738), ('battery', 5739), ('tow', 5740), ('los', 5741), ('angeles', 5742), ('democrats', 5743), ('monastery', 5744), ('mob', 5745), ('crampy', 5746), ('di', 5747), ('oregon', 5748), ('tunnel', 5749), ('starbuck', 5750), ('posto', 5751), ('lest', 5752), ('stub', 5753), ('feauture', 5754), ('cus', 5755), ('completion', 5756), ('vancouver', 5757), ('quilting', 5758), ('rpgs', 5759), ('yomis', 5760), ('karate', 5761), ('nuance', 5762), ('watching', 5763), ('provocation', 5764), ('questionnaire', 5765), ('pal', 5766), ('carter', 5767), ('organize', 5768), ('integrate', 5769), ('effin', 5770), ('fortunately', 5771), ('delete', 5772), ('jonah', 5773), ('chai', 5774), ('bm', 5775), ('lenghth', 5776), ('pp', 5777), ('burdened', 5778), ('milligram', 5779), ('proto', 5780), ('sixty', 5781), ('compromised', 5782), ('prolong', 5783), ('gentleman', 5784), ('concealer', 5785), ('denmark', 5786), ('dough', 5787), ('stymie', 5788), ('unintende', 5789), ('qaf', 5790), ('cryin', 5791), ('jacynthe', 5792), ('lookin', 5793), ('rupaul', 5794), ('kayle', 5795), ('gerle', 5796), ('supportiveness', 5797), ('misspell', 5798), ('cumme', 5799), ('cellular', 5800), ('implant', 5801), ('hallucination', 5802), ('ovary', 5803), ('unsuitable', 5804), ('mxm', 5805), ('nay', 5806), ('firey', 5807), ('leanne', 5808), ('dannika', 5809), ('shooter', 5810), ('animosity', 5811), ('wryly', 5812), ('banal', 5813), ('attorney', 5814), ('fam', 5815), ('crying', 5816), ('alba', 5817), ('technical', 5818), ('toner', 5819), ('coronation', 5820), ('somebodys', 5821), ('overcompensate', 5822), ('effortlessly', 5823), ('pram', 5824), ('latte', 5825), ('hyperchondria', 5826), ('exaggeration', 5827), ('artifically', 5828), ('manitz', 5829), ('brazil', 5830), ('whimper', 5831), ('uncared', 5832), ('dickinson', 5833), ('enjambment', 5834), ('sonnet', 5835), ('peanut', 5836), ('lit', 5837), ('rumour', 5838), ('mak', 5839), ('enclose', 5840), ('chastise', 5841), ('solitude', 5842), ('revise', 5843), ('irrevocably', 5844), ('educationg', 5845), ('papa', 5846), ('freshen', 5847), ('wounding', 5848), ('antagonism', 5849), ('wholeheartedly', 5850), ('armistice', 5851), ('malign', 5852), ('gosman', 5853), ('touristy', 5854), ('montauk', 5855), ('infrequent', 5856), ('cawing', 5857), ('seagull', 5858), ('piling', 5859), ('hy', 5860), ('looter', 5861), ('blackmail', 5862), ('herpe', 5863), ('checkup', 5864), ('summery', 5865), ('bummin', 5866), ('ssr', 5867), ('external', 5868), ('shalt', 5869), ('din', 5870), ('hw', 5871), ('precipice', 5872), ('lobby', 5873), ('sympathic', 5874), ('tingly', 5875), ('inventory', 5876), ('perishable', 5877), ('smelly', 5878), ('jalopy', 5879), ('traditionalist', 5880), ('skeletal', 5881), ('beautifully', 5882), ('curate', 5883), ('prescribe', 5884), ('obnoxiously', 5885), ('verbal', 5886), ('tic', 5887), ('wheeeeee', 5888), ('antique', 5889), ('blatant', 5890), ('characteristic', 5891), ('spoken', 5892), ('seriouly', 5893), ('deen', 5894), ('bandhu', 5895), ('fallen', 5896), ('uplifter', 5897), ('personalitie', 5898), ('joseph', 5899), ('walt', 5900), ('excelent', 5901), ('suicidalness', 5902), ('kerry', 5903), ('equality', 5904), ('ridicule', 5905), ('brick', 5906), ('naomi', 5907), ('klein', 5908), ('unconsciousness', 5909), ('hawk', 5910), ('dykey', 5911), ('caveman', 5912), ('economically', 5913), ('provokingbeauty', 5914), ('bead', 5915), ('hemorrhoid', 5916), ('unibrow', 5917), ('li', 5918), ('bodypump', 5919), ('coaching', 5920), ('compulsory', 5921), ('cue', 5922), ('arrangment', 5923), ('weatherman', 5924), ('forecast', 5925), ('microcosm', 5926), ('nemo', 5927), ('paining', 5928), ('bouncer', 5929), ('smoker', 5930), ('mailbox', 5931), ('complimented', 5932), ('hindrance', 5933), ('conifer', 5934), ('shovel', 5935), ('honkerblonke', 5936), ('squish', 5937), ('caller', 5938), ('nauseated', 5939), ('salty', 5940), ('saturate', 5941), ('cucumber', 5942), ('clermont', 5943), ('instructable', 5944), ('janne', 5945), ('suominen', 5946), ('aac', 5947), ('buti', 5948), ('yardage', 5949), ('pileon', 5950), ('theologically', 5951), ('brig', 5952), ('toni', 5953), ('ight', 5954), ('merican', 5955), ('happpy', 5956), ('navigating', 5957), ('finn', 5958), ('censor', 5959), ('kamiki', 5960), ('kun', 5961), ('nozomi', 5962), ('nonchan', 5963), ('persistence', 5964), ('observant', 5965), ('cheerleader', 5966), ('unrewarding', 5967), ('beaubronz', 5968), ('boudoir', 5969), ('asma', 5970), ('docrat', 5971), ('romcom', 5972), ('morris', 5973), ('siege', 5974), ('allthingsbucks', 5975), ('nomme', 5976), ('nineteen', 5977), ('unilaterally', 5978), ('carelessness', 5979), ('gooooood', 5980), ('seo', 5981), ('wink', 5982), ('disbelieving', 5983), ('irresponcible', 5984), ('benzema', 5985), ('mould', 5986), ('impend', 5987), ('ringtone', 5988), ('belongingness', 5989), ('edition', 5990), ('thia', 5991), ('scruncher', 5992), ('carby', 5993), ('glycemic', 5994), ('encoding', 5995), ('utf', 5996), ('locale', 5997), ('isprivate', 5998), ('ismobile', 5999), ('mobileclass', 6000), ('isprivateblog', 6001), ('languagedirection', 6002), ('feedlink', 6003), ('xml', 6004), ('homemaking', 6005), ('reprieve', 6006), ('moz', 6007), ('lorena', 6008), ('mister', 6009), ('magnum', 6010), ('masturbate', 6011), ('stinkin', 6012), ('reviewer', 6013), ('uae', 6014), ('oblivious', 6015), ('cena', 6016), ('indifferent', 6017), ('bloom', 6018), ('moisturize', 6019), ('pagan', 6020), ('originate', 6021), ('weightless', 6022), ('repentant', 6023), ('motive', 6024), ('inbalance', 6025), ('committment', 6026), ('reconciliation', 6027), ('sneha', 6028), ('depict', 6029), ('ma', 6030), ('handss', 6031), ('aahhh', 6032), ('scone', 6033), ('nervously', 6034), ('helplessness', 6035), ('vindictive', 6036), ('nervs', 6037), ('yup', 6038), ('coverage', 6039), ('fma', 6040), ('athleticism', 6041), ('hive', 6042), ('moss', 6043), ('muffle', 6044), ('nameless', 6045), ('marginally', 6046), ('awash', 6047), ('overeducated', 6048), ('indenture', 6049), ('dupe', 6050), ('trot', 6051), ('mommyhood', 6052), ('xox', 6053), ('unsolved', 6054), ('hugely', 6055), ('wither', 6056), ('socket', 6057), ('nowwwwww', 6058), ('semblance', 6059), ('normality', 6060), ('arab', 6061), ('armed', 6062), ('soldier', 6063), ('doha', 6064), ('unrelated', 6065), ('exert', 6066), ('wretched', 6067), ('glum', 6068), ('forelorn', 6069), ('noticable', 6070), ('birding', 6071), ('squeak', 6072), ('baachan', 6073), ('trolley', 6074), ('danielle', 6075), ('shoeless', 6076), ('dennis', 6077), ('covington', 6078), ('ironically', 6079), ('loudon', 6080), ('kate', 6081), ('mcgarrigle', 6082), ('rufus', 6083), ('rafael', 6084), ('bosch', 6085), ('relocation', 6086), ('gulam', 6087), ('classical', 6088), ('singer', 6089), ('snotface', 6090), ('hookah', 6091), ('bryan', 6092), ('authenticity', 6093), ('gwiyomi', 6094), ('chalice', 6095), ('introvert', 6096), ('galley', 6097), ('bodywork', 6098), ('liberated', 6099), ('fertility', 6100), ('destruction', 6101), ('princes', 6102), ('autobiography', 6103), ('blackwater', 6104), ('unsung', 6105), ('dependency', 6106), ('neediness', 6107), ('mccarthy', 6108), ('humanize', 6109), ('spritzer', 6110), ('nagalene', 6111), ('stellarium', 6112), ('bleu', 6113), ('zendikar', 6114), ('rotate', 6115), ('brandy', 6116), ('sharpe', 6117), ('broaden', 6118), ('dreary', 6119), ('tolerable', 6120), ('sweetly', 6121), ('broadly', 6122), ('babysitting', 6123), ('ros', 6124), ('hen', 6125), ('coo', 6126), ('firstborn', 6127), ('walia', 6128), ('tarun', 6129), ('bani', 6130), ('vaughn', 6131), ('hater', 6132), ('lobia', 6133), ('terrifying', 6134), ('pensive', 6135), ('bqff', 6136), ('agnostic', 6137), ('judeo', 6138), ('fundamentalist', 6139), ('outgrow', 6140), ('fave', 6141), ('jeanette', 6142), ('winterson', 6143), ('scope', 6144), ('fluttering', 6145), ('forearm', 6146), ('leonard', 6147), ('tearful', 6148), ('printer', 6149), ('teenaged', 6150), ('fn', 6151), ('missgiving', 6152), ('terminando', 6153), ('ano', 6154), ('depois', 6155), ('inconsistent', 6156), ('euan', 6157), ('ehb', 6158), ('ow', 6159), ('attainable', 6160), ('nouveau', 6161), ('telling', 6162), ('elihu', 6163), ('christmastime', 6164), ('darkly', 6165), ('stately', 6166), ('dis', 6167), ('proplem', 6168), ('uninspired', 6169), ('bodily', 6170), ('elevated', 6171), ('lexicon', 6172), ('uncomposed', 6173), ('teachable', 6174), ('tiphany', 6175), ('alarming', 6176), ('joshua', 6177), ('dontknow', 6178), ('linus', 6179), ('bin', 6180), ('lowlight', 6181), ('rampage', 6182), ('consist', 6183), ('poop', 6184), ('horrific', 6185), ('sitting', 6186), ('hgtv', 6187), ('gene', 6188), ('covetousne', 6189), ('terpene', 6190), ('wieght', 6191), ('docile', 6192), ('exclude', 6193), ('fantabulous', 6194), ('lion', 6195), ('awkwardly', 6196), ('melbourne', 6197), ('carapace', 6198), ('crud', 6199), ('leadingstring', 6200), ('constraint', 6201), ('psalm', 6202), ('laze', 6203), ('terry', 6204), ('yippee', 6205), ('dickensian', 6206), ('seamlessly', 6207), ('infer', 6208), ('flamingo', 6209), ('shooting', 6210), ('atheism', 6211), ('biochem', 6212), ('ruach', 6213), ('hakodesh', 6214), ('nevermind', 6215), ('dale', 6216), ('frusterate', 6217), ('adaption', 6218), ('toughen', 6219), ('myelf', 6220), ('mehow', 6221), ('infield', 6222), ('insider', 6223), ('zara', 6224), ('groan', 6225), ('unplanned', 6226), ('lyme', 6227), ('coinfection', 6228), ('thankfulness', 6229), ('gesture', 6230), ('comprehensive', 6231), ('herrman', 6232), ('sxe', 6233), ('rounded', 6234), ('bop', 6235), ('espresso', 6236), ('claw', 6237), ('scratchy', 6238), ('marge', 6239), ('simpson', 6240), ('communing', 6241), ('squelch', 6242), ('unwarranted', 6243), ('societal', 6244), ('unleash', 6245), ('fromthe', 6246), ('throng', 6247), ('fervor', 6248), ('batting', 6249), ('reinforcement', 6250), ('reframe', 6251), ('defer', 6252), ('horsey', 6253), ('fattie', 6254), ('churn', 6255), ('struff', 6256), ('fedtastic', 6257), ('tennis', 6258), ('emm', 6259), ('ambleside', 6260), ('corinthian', 6261), ('incrementally', 6262), ('rigid', 6263), ('browser', 6264), ('vineman', 6265), ('racin', 6266), ('ller', 6267), ('misinformed', 6268), ('unafraid', 6269), ('unsupervise', 6270), ('sucessfully', 6271), ('handbrake', 6272), ('fulsome', 6273), ('ac', 6274), ('shafted', 6275), ('hapiness', 6276), ('desp', 6277), ('gatsby', 6278), ('vault', 6279), ('sti', 6280), ('defination', 6281), ('crucified', 6282), ('forsake', 6283), ('shun', 6284), ('jew', 6285), ('prohibition', 6286), ('fluster', 6287), ('foundry', 6288), ('wherewithal', 6289), ('uggs', 6290), ('bandwagon', 6291), ('adolescence', 6292), ('belmont', 6293), ('alc', 6294), ('goodnight', 6295), ('dunham', 6296), ('minimise', 6297), ('contort', 6298), ('ritz', 6299), ('bigotry', 6300), ('altitude', 6301), ('cliquey', 6302), ('jimmys', 6303), ('wring', 6304), ('hyperemesis', 6305), ('intermarry', 6306), ('soley', 6307), ('gladiator', 6308), ('construct', 6309), ('nikki', 6310), ('minaj', 6311), ('rucksack', 6312), ('cosmically', 6313), ('pressurized', 6314), ('takeaway', 6315), ('choccy', 6316), ('assertive', 6317), ('chasing', 6318), ('preacher', 6319), ('podium', 6320), ('vellas', 6321), ('entail', 6322), ('civilly', 6323), ('del', 6324), ('derfwadmanor', 6325), ('destinys', 6326), ('gracias', 6327), ('por', 6328), ('todo', 6329), ('idealistic', 6330), ('proported', 6331), ('nicos', 6332), ('vomity', 6333), ('slalom', 6334), ('balk', 6335), ('eighteen', 6336), ('unedited', 6337), ('favs', 6338), ('staring', 6339), ('trudge', 6340), ('revovle', 6341), ('ansi', 6342), ('gulp', 6343), ('carniola', 6344), ('suited', 6345), ('playboy', 6346), ('kairi', 6347), ('slipper', 6348), ('dopey', 6349), ('holier', 6350), ('thou', 6351), ('illustration', 6352), ('saddened', 6353), ('mcas', 6354), ('idealize', 6355), ('cajole', 6356), ('janelle', 6357), ('mon', 6358), ('elle', 6359), ('flu', 6360), ('eucharist', 6361), ('arrogant', 6362), ('crust', 6363), ('regulated', 6364), ('sustain', 6365), ('conor', 6366), ('filling', 6367), ('migraine', 6368), ('harvest', 6369), ('damp', 6370), ('motorway', 6371), ('expected', 6372), ('unavoidably', 6373), ('shortcoming', 6374), ('ramadan', 6375), ('vlog', 6376), ('retarted', 6377), ('rhythmic', 6378), ('technically', 6379), ('bs', 6380), ('immedietly', 6381), ('wal', 6382), ('mart', 6383), ('andthenwear', 6384), ('linda', 6385), ('incapacitate', 6386), ('flaring', 6387), ('macabre', 6388), ('fountain', 6389), ('itttt', 6390), ('hovel', 6391), ('creativecommon', 6392), ('errrr', 6393), ('interrupted', 6394), ('benadryl', 6395), ('herzog', 6396), ('zayne', 6397), ('churchoffuck', 6398), ('renovation', 6399), ('nvm', 6400), ('deliberation', 6401), ('predatory', 6402), ('deform', 6403), ('asylum', 6404), ('seeker', 6405), ('intermittent', 6406), ('diego', 6407), ('spacy', 6408), ('intimated', 6409), ('ordinance', 6410), ('orderly', 6411), ('procession', 6412), ('fractured', 6413), ('correction', 6414), ('hilmari', 6415), ('unsophisticated', 6416), ('katja', 6417), ('disallusioned', 6418), ('beholder', 6419), ('anansi', 6420), ('nathans', 6421), ('spurt', 6422), ('pulp', 6423), ('loves', 6424), ('snippet', 6425), ('dukes', 6426), ('mop', 6427), ('atop', 6428), ('testimony', 6429), ('overrate', 6430), ('entirety', 6431), ('untried', 6432), ('generator', 6433), ('boehner', 6434), ('copious', 6435), ('speakership', 6436), ('resonance', 6437), ('scafell', 6438), ('dependence', 6439), ('mixer', 6440), ('idreamculture', 6441), ('coloring', 6442), ('leech', 6443), ('reagan', 6444), ('slimme', 6445), ('veterinary', 6446), ('roster', 6447), ('housekeep', 6448), ('ebaye', 6449), ('hasting', 6450), ('harrass', 6451), ('oppress', 6452), ('selective', 6453), ('privacys', 6454), ('location', 6455), ('sunset', 6456), ('cliched', 6457), ('plank', 6458), ('stammer', 6459), ('burlesque', 6460), ('overt', 6461), ('nikos', 6462), ('niko', 6463), ('speechless', 6464), ('hipster', 6465), ('mousekin', 6466), ('buffy', 6467), ('pan', 6468), ('botany', 6469), ('lec', 6470), ('douevenlift', 6471), ('gotten', 6472), ('framework', 6473), ('chickie', 6474), ('mystique', 6475), ('acheivment', 6476), ('bloater', 6477), ('reiterate', 6478), ('mermaidhaire', 6479), ('baileys', 6480), ('nhs', 6481), ('breakdown', 6482), ('hr', 6483), ('archeological', 6484), ('guinea', 6485), ('baltimore', 6486), ('sparrow', 6487), ('dilute', 6488), ('bulletin', 6489), ('careess', 6490), ('hu', 6491), ('jia', 6492), ('certify', 6493), ('ace', 6494), ('dishwasher', 6495), ('discard', 6496), ('approx', 6497), ('teasing', 6498), ('compel', 6499), ('meek', 6500), ('dojo', 6501), ('obedience', 6502), ('missing', 6503), ('protectiveness', 6504), ('franz', 6505), ('liebkind', 6506), ('fuhrer', 6507), ('candyland', 6508), ('haggard', 6509), ('aconfident', 6510), ('overcomet', 6511), ('xvi', 6512), ('antoinette', 6513), ('croc', 6514), ('fashionable', 6515), ('eyeglass', 6516), ('stasia', 6517), ('puff', 6518), ('intervene', 6519), ('scribble', 6520), ('ghd', 6521), ('straightener', 6522), ('unlikeable', 6523), ('yunhos', 6524), ('rap', 6525), ('russell', 6526), ('crowe', 6527), ('merida', 6528), ('phoenix', 6529), ('crosshatch', 6530), ('lensflare', 6531), ('darren', 6532), ('dozen', 6533), ('whinge', 6534), ('undutiful', 6535), ('oomph', 6536), ('emanating', 6537), ('longingly', 6538), ('probing', 6539), ('hardness', 6540), ('foist', 6541), ('scabbe', 6542), ('unhealed', 6543), ('tween', 6544), ('moms', 6545), ('whirlwind', 6546), ('turnout', 6547), ('overwork', 6548), ('frombut', 6549), ('chunky', 6550), ('commission', 6551), ('butchery', 6552), ('hav', 6553), ('babychaser', 6554), ('headmaster', 6555), ('ratbagx', 6556), ('ration', 6557), ('influential', 6558), ('imdoe', 6559), ('vortex', 6560), ('petition', 6561), ('rampant', 6562), ('lawrencewashington', 6563), ('swag', 6564), ('unpressed', 6565), ('pronounce', 6566), ('accordance', 6567), ('faithfulness', 6568), ('redhead', 6569), ('sumthg', 6570), ('thk', 6571), ('irc', 6572), ('bb', 6573), ('leather', 6574), ('tasty', 6575), ('abound', 6576), ('unseen', 6577), ('ambient', 6578), ('renowne', 6579), ('greys', 6580), ('ty', 6581), ('molyneux', 6582), ('lemme', 6583), ('arena', 6584), ('cagey', 6585), ('quaker', 6586), ('fortnight', 6587), ('quantum', 6588), ('kleinkinder', 6589), ('gawd', 6590), ('footballer', 6591), ('extrememly', 6592), ('tibris', 6593), ('dreamworld', 6594), ('sicken', 6595), ('lance', 6596), ('paw', 6597), ('itchy', 6598), ('expansion', 6599), ('musicianship', 6600), ('resurrect', 6601), ('yk', 6602), ('leisurely', 6603), ('headspace', 6604), ('jensens', 6605), ('bon', 6606), ('jovi', 6607), ('pout', 6608), ('rustie', 6609), ('dean', 6610), ('moose', 6611), ('pregant', 6612), ('stunningly', 6613), ('samuel', 6614), ('extremley', 6615), ('likeaudrey', 6616), ('hepburn', 6617), ('tiffany', 6618), ('flounder', 6619), ('offline', 6620), ('amos', 6621), ('retrofitting', 6622), ('homage', 6623), ('restart', 6624), ('flirtie', 6625), ('alise', 6626), ('induced', 6627), ('nightlife', 6628), ('daylight', 6629), ('spit', 6630), ('crunk', 6631), ('mg', 6632), ('seroquel', 6633), ('blogpost', 6634), ('lipbalm', 6635), ('subje', 6636), ('outrageous', 6637), ('plod', 6638), ('placce', 6639), ('jubilation', 6640), ('demostrator', 6641), ('shapeshifter', 6642), ('activism', 6643), ('construe', 6644), ('damaging', 6645), ('retarded', 6646), ('calmed', 6647), ('acctually', 6648), ('wonderfull', 6649), ('israel', 6650), ('casserole', 6651), ('pitch', 6652), ('in', 6653), ('picnics', 6654), ('luncheon', 6655), ('shifty', 6656), ('aoa', 6657), ('mat', 6658), ('circuit', 6659), ('trample', 6660), ('encapsulate', 6661), ('energise', 6662), ('fester', 6663), ('detach', 6664), ('rile', 6665), ('unsheathe', 6666), ('titanium', 6667), ('hedgehog', 6668), ('trepidatious', 6669), ('idiocy', 6670), ('fastforwarde', 6671), ('wean', 6672), ('ia', 6673), ('columbia', 6674), ('browness', 6675), ('tremor', 6676), ('deaf', 6677), ('combing', 6678), ('bourbon', 6679), ('postpone', 6680), ('maury', 6681), ('evaporate', 6682), ('cyberspace', 6683), ('ahahahaha', 6684), ('morbidly', 6685), ('stpm', 6686), ('murakami', 6687), ('canaglia', 6688), ('personalize', 6689), ('lollypop', 6690), ('hausa', 6691), ('motorcyclist', 6692), ('resemblance', 6693), ('disclosure', 6694), ('warner', 6695), ('format', 6696), ('blu', 6697), ('urbanite', 6698), ('optimist', 6699), ('worrying', 6700), ('unravels', 6701), ('buzzy', 6702), ('mil', 6703), ('mouthed', 6704), ('rattle', 6705), ('exhale', 6706), ('vapor', 6707), ('continuity', 6708), ('lacy', 6709), ('employment', 6710), ('progressive', 6711), ('babysitter', 6712), ('eyed', 6713), ('reevaluate', 6714), ('czech', 6715), ('tunji', 6716), ('bonding', 6717), ('wardrode', 6718), ('relived', 6719), ('excercise', 6720), ('throb', 6721), ('irresistible', 6722), ('frock', 6723), ('operate', 6724), ('affend', 6725), ('miyavi', 6726), ('xia', 6727), ('eagerly', 6728), ('andri', 6729), ('horizon', 6730), ('pilfer', 6731), ('skater', 6732), ('stickiness', 6733), ('blurry', 6734), ('atell', 6735), ('render', 6736), ('thearchitecturality', 6737), ('utopian', 6738), ('scoff', 6739), ('kardashion', 6740), ('survival', 6741), ('onwards', 6742), ('trepidation', 6743), ('woop', 6744), ('wade', 6745), ('deflate', 6746), ('fran', 6747), ('holyhead', 6748), ('pothole', 6749), ('unearthly', 6750), ('manipulkate', 6751), ('liz', 6752), ('earle', 6753), ('coolum', 6754), ('smooch', 6755), ('grayish', 6756), ('thereof', 6757), ('investigator', 6758), ('sheriff', 6759), ('larry', 6760), ('embaresse', 6761), ('consequently', 6762), ('disco', 6763), ('uruk', 6764), ('hai', 6765), ('maine', 6766), ('unloving', 6767), ('likewise', 6768), ('philips', 6769), ('reaura', 6770), ('firming', 6771), ('smoothing', 6772), ('triple', 6773), ('notoriety', 6774), ('espouse', 6775), ('bumper', 6776), ('bid', 6777), ('neighbour', 6778), ('muze', 6779), ('mujhe', 6780), ('zay', 6781), ('ladybit', 6782), ('instigate', 6783), ('dumpling', 6784), ('chinatown', 6785), ('leafy', 6786), ('brunswick', 6787), ('barbecue', 6788), ('edinburgh', 6789), ('parmesan', 6790), ('truffle', 6791), ('lollipop', 6792), ('enviously', 6793), ('luka', 6794), ('innovation', 6795), ('chakotay', 6796), ('fascinate', 6797), ('ebb', 6798), ('sox', 6799), ('tampa', 6800), ('skilled', 6801), ('presentational', 6802), ('downer', 6803), ('persuade', 6804), ('retired', 6805), ('merge', 6806), ('youngster', 6807), ('fad', 6808), ('noah', 6809), ('alliance', 6810), ('constructively', 6811), ('snicker', 6812), ('pinpoint', 6813), ('carbohydrate', 6814), ('waistline', 6815), ('allowed', 6816), ('targeted', 6817), ('splendor', 6818), ('hansen', 6819), ('cha', 6820), ('ching', 6821), ('musically', 6822), ('mooch', 6823), ('caption', 6824), ('turbillion', 6825), ('hong', 6826), ('kong', 6827), ('oft', 6828), ('planting', 6829), ('harvesting', 6830), ('marlin', 6831), ('wimbledon', 6832), ('misscariage', 6833), ('letdown', 6834), ('incheswhyinches', 6835), ('relocate', 6836), ('drove', 6837), ('exboyfriend', 6838), ('midnight', 6839), ('sickly', 6840), ('embarrased', 6841), ('intensive', 6842), ('zackmdavis', 6843), ('lestat', 6844), ('trace', 6845), ('disgrace', 6846), ('wearily', 6847), ('derp', 6848), ('lrt', 6849), ('misfortune', 6850), ('befall', 6851), ('tribulation', 6852), ('happywarmworld', 6853), ('heartsick', 6854), ('jalapeno', 6855), ('shortness', 6856), ('gallow', 6857), ('pirate', 6858), ('landlubber', 6859), ('zipline', 6860), ('intact', 6861), ('shoelace', 6862), ('commodore', 6863), ('nicholson', 6864), ('sabrina', 6865), ('notte', 6866), ('digest', 6867), ('cyst', 6868), ('carl', 6869), ('clarke', 6870), ('mulatto', 6871), ('libido', 6872), ('displacement', 6873), ('flirtiness', 6874), ('peeta', 6875), ('katnisss', 6876), ('mite', 6877), ('drecky', 6878), ('vj', 6879), ('seth', 6880), ('heinously', 6881), ('infidelity', 6882), ('sweety', 6883), ('savingyourmarriagebeforeitstart', 6884), ('uncanny', 6885), ('laetshi', 6886), ('flustered', 6887), ('prevalent', 6888), ('unreality', 6889), ('tgt', 6890), ('unimaginable', 6891), ('saba', 6892), ('waleed', 6893), ('snatch', 6894), ('multiplayer', 6895), ('agenda', 6896), ('worse', 6897), ('caresse', 6898), ('elitist', 6899), ('silhouette', 6900), ('cede', 6901), ('doomnation', 6902), ('damnation', 6903), ('fedex', 6904), ('empowerment', 6905), ('brainless', 6906), ('mythical', 6907), ('means', 6908), ('wane', 6909), ('unconformable', 6910), ('unliked', 6911), ('ab', 6912), ('leo', 6913), ('clara', 6914), ('krupke', 6915), ('easel', 6916), ('hmmmmm', 6917), ('dazzling', 6918), ('cert', 6919), ('dingler', 6920), ('abyss', 6921), ('exempt', 6922), ('wally', 6923), ('lamb', 6924), ('synthetic', 6925), ('trinket', 6926), ('l', 6927), ('friggety', 6928), ('moisturiser', 6929), ('censorship', 6930), ('procure', 6931), ('registration', 6932), ('uneventful', 6933), ('adherence', 6934), ('august', 6935), ('despairing', 6936), ('rotund', 6937), ('bloke', 6938), ('bullying', 6939), ('quake', 6940), ('shore', 6941), ('pia', 6942), ('sexaholic', 6943), ('yoshida', 6944), ('mishandle', 6945), ('pun', 6946), ('varvel', 6947), ('accommodation', 6948), ('hypersexual', 6949), ('tartlet', 6950), ('rihanna', 6951), ('scented', 6952), ('terminal', 6953), ('dulle', 6954), ('rolex', 6955), ('vigilant', 6956), ('whoosh', 6957), ('dipshit', 6958), ('nachos', 6959), ('ubuntu', 6960), ('talking', 6961), ('execution', 6962), ('ewan', 6963), ('bravely', 6964), ('barry', 6965), ('redcoat', 6966), ('visable', 6967), ('spotlighted', 6968), ('unfashionable', 6969), ('calgary', 6970), ('germ', 6971), ('overtly', 6972), ('baltic', 6973), ('universality', 6974), ('unconditional', 6975), ('voluntary', 6976), ('cadore', 6977), ('bloodshed', 6978), ('nyquil', 6979), ('consolidate', 6980), ('gfather', 6981), ('ute', 6982), ('manure', 6983), ('compost', 6984), ('hihi', 6985), ('persist', 6986), ('wintry', 6987), ('tasteful', 6988), ('inaction', 6989), ('wwii', 6990), ('dang', 6991), ('washroom', 6992), ('fps', 6993), ('ba', 6994), ('backpacking', 6995), ('rebekah', 6996), ('satisfactory', 6997), ('klaus', 6998), ('stefan', 6999), ('damon', 7000), ('ample', 7001), ('arch', 7002), ('footbed', 7003), ('goliath', 7004), ('humblest', 7005), ('stealing', 7006), ('generosity', 7007), ('scabi', 7008), ('verona', 7009), ('untrustworthy', 7010), ('disagreeable', 7011), ('ethical', 7012), ('subtly', 7013), ('breakthrough', 7014), ('knuckle', 7015), ('uneven', 7016), ('oscillate', 7017), ('roberto', 7018), ('orcis', 7019), ('adoration', 7020), ('dubya', 7021), ('pampered', 7022), ('orci', 7023), ('yoke', 7024), ('stupidly', 7025), ('internship', 7026), ('moe', 7027), ('eyre', 7028), ('bigge', 7029), ('smith', 7030), ('abou', 7031), ('treassure', 7032), ('dickish', 7033), ('enact', 7034), ('arrogance', 7035), ('clarify', 7036), ('feelbut', 7037), ('fri', 7038), ('trainable', 7039), ('cumberland', 7040), ('pap', 7041), ('smear', 7042), ('hack', 7043), ('splutter', 7044), ('mircowaved', 7045), ('colorful', 7046), ('moffat', 7047), ('foreshadowing', 7048), ('casting', 7049), ('mm', 7050), ('dharma', 7051), ('backpacker', 7052), ('overland', 7053), ('gloat', 7054), ('escort', 7055), ('ranbir', 7056), ('ayan', 7057), ('mukerji', 7058), ('filmfare', 7059), ('reexplain', 7060), ('birthmom', 7061), ('refine', 7062), ('acuity', 7063), ('recollection', 7064), ('playlist', 7065), ('happenstance', 7066), ('lambrusco', 7067), ('bubbly', 7068), ('preface', 7069), ('peta', 7070), ('commercialism', 7071), ('holistic', 7072), ('liquid', 7073), ('sephora', 7074), ('magnitude', 7075), ('liebster', 7076), ('cushion', 7077), ('derek', 7078), ('clearboth', 7079), ('mandarin', 7080), ('edible', 7081), ('garnish', 7082), ('samphire', 7083), ('perplexed', 7084), ('liam', 7085), ('johnny', 7086), ('scrapbook', 7087), ('ingrained', 7088), ('likeguy', 7089), ('genealogical', 7090), ('incoming', 7091), ('huhuhu', 7092), ('whiz', 7093), ('overeating', 7094), ('finality', 7095), ('orleans', 7096), ('processing', 7097), ('pc', 7098), ('irregardless', 7099), ('remix', 7100), ('padlock', 7101), ('absolutly', 7102), ('flourishing', 7103), ('hindsight', 7104), ('fasts', 7105), ('ethnicity', 7106), ('lava', 7107), ('export', 7108), ('moxie', 7109), ('cath', 7110), ('applebee', 7111), ('blender', 7112), ('uninspire', 7113), ('sodden', 7114), ('sardonic', 7115), ('squat', 7116), ('ivy', 7117), ('flying', 7118), ('zimmerman', 7119), ('alton', 7120), ('beak', 7121), ('rooster', 7122), ('underwhelmed', 7123), ('ritalin', 7124), ('flias', 7125), ('amkris', 7126), ('toshibalol', 7127), ('amit', 7128), ('nooo', 7129), ('novice', 7130), ('distributor', 7131), ('waxing', 7132), ('ambulatory', 7133), ('wacky', 7134), ('coulter', 7135), ('schultz', 7136), ('tirade', 7137), ('pcm', 7138), ('underbelly', 7139), ('subway', 7140), ('meltdown', 7141), ('euro', 7142), ('hooker', 7143), ('concise', 7144), ('accurately', 7145), ('starring', 7146), ('nesty', 7147), ('weeny', 7148), ('downtempo', 7149), ('xs', 7150), ('coherent', 7151), ('lavender', 7152), ('strasbourg', 7153), ('tiring', 7154), ('prestige', 7155), ('atm', 7156), ('deceased', 7157), ('marten', 7158), ('sol', 7159), ('arugh', 7160), ('muscles', 7161), ('erratic', 7162), ('swoon', 7163), ('sustainability', 7164), ('ini', 7165), ('bodega', 7166), ('coin', 7167), ('changer', 7168), ('cocoa', 7169), ('flannel', 7170), ('nightie', 7171), ('direspecte', 7172), ('traumatised', 7173), ('fraser', 7174), ('submerge', 7175), ('wd', 7176), ('vehicle', 7177), ('iolani', 7178), ('leveled', 7179), ('accumulation', 7180), ('elusive', 7181), ('ripple', 7182), ('aloft', 7183), ('touchy', 7184), ('feely', 7185), ('depressant', 7186), ('onscreen', 7187), ('jt', 7188), ('roy', 7189), ('salutary', 7190), ('ge', 7191), ('kassim', 7192), ('selamat', 7193), ('uniform', 7194), ('glove', 7195), ('leaf', 7196), ('clover', 7197), ('mastery', 7198), ('freezing', 7199), ('uncommon', 7200), ('sharknado', 7201), ('westerner', 7202), ('liver', 7203), ('bt', 7204), ('thn', 7205), ('glamour', 7206), ('cx', 7207), ('adams', 7208), ('thorough', 7209), ('bull', 7210), ('skinnyg', 7211), ('provider', 7212), ('venerate', 7213), ('bride', 7214), ('reeeeeeeeally', 7215), ('clog', 7216), ('divide', 7217), ('housing', 7218), ('nonchalant', 7219), ('easi', 7220), ('diabetic', 7221), ('sorbet', 7222), ('strawberry', 7223), ('agiatated', 7224), ('mane', 7225), ('lp', 7226), ('dezinesamaze', 7227), ('cavalier', 7228), ('trim', 7229), ('stance', 7230), ('chiharu', 7231), ('istanbul', 7232), ('homesickish', 7233), ('snowpea', 7234), ('nissan', 7235), ('stanza', 7236), ('rt', 7237), ('downvote', 7238), ('rugmi', 7239), ('readmit', 7240), ('collin', 7241), ('finnerty', 7242), ('buuuuuut', 7243), ('rach', 7244), ('subcontinent', 7245), ('umbrella', 7246), ('christine', 7247), ('peruse', 7248), ('skull', 7249), ('putrid', 7250), ('weismans', 7251), ('pinnacle', 7252), ('materialistic', 7253), ('careeeeee', 7254), ('thoughtful', 7255), ('sec', 7256), ('arrival', 7257), ('silky', 7258), ('elaborate', 7259), ('nitche', 7260), ('sweating', 7261), ('disadvantage', 7262), ('muaz', 7263), ('abruptly', 7264), ('pelvic', 7265), ('compere', 7266), ('rolling', 7267), ('thwart', 7268), ('immobile', 7269), ('bestfriend', 7270), ('bff', 7271), ('coeur', 7272), ('alene', 7273), ('nuts', 7274), ('therapeutic', 7275), ('compress', 7276), ('bestselle', 7277), ('kathy', 7278), ('lette', 7279), ('phobia', 7280), ('empathtic', 7281), ('prequel', 7282), ('jedi', 7283), ('tbh', 7284), ('bobo', 7285), ('drum', 7286), ('smash', 7287), ('deployment', 7288), ('homis', 7289), ('kite', 7290), ('jacque', 7291), ('meath', 7292), ('rudolph', 7293), ('valentino', 7294), ('unspeakable', 7295), ('missile', 7296), ('testing', 7297), ('chromosome', 7298), ('conquerer', 7299), ('homey', 7300), ('cared', 7301), ('dsp', 7302), ('software', 7303), ('ou', 7304), ('tidbit', 7305), ('xdd', 7306), ('hohoho', 7307), ('foward', 7308), ('cya', 7309), ('ally', 7310), ('prank', 7311), ('skillzz', 7312), ('onset', 7313), ('heathen', 7314), ('dreamland', 7315), ('sachaye', 7316), ('sombre', 7317), ('charitable', 7318), ('sodding', 7319), ('canteen', 7320), ('transgender', 7321), ('brainwashing', 7322), ('physician', 7323), ('germany', 7324), ('intersex', 7325), ('maggie', 7326), ('vol', 7327), ('humungous', 7328), ('federer', 7329), ('gifted', 7330), ('awesomness', 7331), ('douse', 7332), ('freind', 7333), ('asasoulawaken', 7334), ('feeli', 7335), ('cathartic', 7336), ('mychem', 7337), ('cred', 7338), ('backdrop', 7339), ('affected', 7340), ('catalyst', 7341), ('doucher', 7342), ('ptsd', 7343), ('burmeister', 7344), ('ivory', 7345), ('consultant', 7346), ('suppous', 7347), ('barefoot', 7348), ('whining', 7349), ('counsellor', 7350), ('plummet', 7351), ('tot', 7352), ('paratrooper', 7353), ('specialness', 7354), ('occassionally', 7355), ('earring', 7356), ('mu', 7357), ('tou', 7358), ('suppport', 7359), ('diane', 7360), ('von', 7361), ('furstenberg', 7362), ('rodarte', 7363), ('wu', 7364), ('sophomore', 7365), ('drainage', 7366), ('intolerably', 7367), ('indigo', 7368), ('disperse', 7369), ('fragmented', 7370), ('eternity', 7371), ('rediculous', 7372), ('negatively', 7373), ('crake', 7374), ('occasional', 7375), ('monroe', 7376), ('remodel', 7377), ('amenity', 7378), ('lookout', 7379), ('pr', 7380), ('doer', 7381), ('leopard', 7382), ('hallucinate', 7383), ('variant', 7384), ('supplement', 7385), ('liteheaded', 7386), ('laser', 7387), ('perserverence', 7388), ('squirt', 7389), ('bloat', 7390), ('rundown', 7391), ('duno', 7392), ('wondrous', 7393), ('maschke', 7394), ('cruel', 7395), ('dire', 7396), ('triggering', 7397), ('usmleasy', 7398), ('immigration', 7399), ('province', 7400), ('prudent', 7401), ('evangelical', 7402), ('absorb', 7403), ('tome', 7404), ('strew', 7405), ('shackle', 7406), ('pearly', 7407), ('justanswer', 7408), ('viewpoint', 7409), ('rising', 7410), ('turd', 7411), ('toast', 7412), ('stylesheet', 7413), ('jdelivery', 7414), ('chief', 7415), ('ccw', 7416), ('whingee', 7417), ('exceptional', 7418), ('timer', 7419), ('diabete', 7420), ('shockingly', 7421), ('ibleeditout', 7422), ('kodi', 7423), ('jakun', 7424), ('glam', 7425), ('nuptial', 7426), ('schizofrenic', 7427), ('maryland', 7428), ('forefront', 7429), ('kinship', 7430), ('customary', 7431), ('siesta', 7432), ('tbr', 7433), ('workload', 7434), ('gabapentin', 7435), ('zonisamide', 7436), ('obligate', 7437), ('enuff', 7438), ('baffroom', 7439), ('styling', 7440), ('uplifting', 7441), ('graduating', 7442), ('glue', 7443), ('embarrassing', 7444), ('bfd', 7445), ('strictly', 7446), ('anaesthetic', 7447), ('spook', 7448), ('sympathise', 7449), ('bernard', 7450), ('ativan', 7451), ('dumpee', 7452), ('unbearably', 7453), ('crushingly', 7454), ('creativeliar', 7455), ('nonexistence', 7456), ('sneakily', 7457), ('mas', 7458), ('prance', 7459), ('eartha', 7460), ('kitt', 7461), ('blare', 7462), ('fervent', 7463), ('yiling', 7464), ('merciless', 7465), ('unreliable', 7466), ('biblical', 7467), ('pressed', 7468), ('msm', 7469), ('urgh', 7470), ('cnn', 7471), ('divorcee', 7472), ('antonio', 7473), ('nl', 7474), ('cog', 7475), ('championship', 7476), ('procrastinator', 7477), ('reel', 7478), ('sible', 7479), ('bro', 7480), ('hyperventilate', 7481), ('foodie', 7482), ('aircleaner', 7483), ('wispy', 7484), ('organizational', 7485), ('masochist', 7486), ('leak', 7487), ('full', 7488), ('sheri', 7489), ('lottery', 7490), ('unavoidable', 7491), ('acknowledgment', 7492), ('origin', 7493), ('vale', 7494), ('transient', 7495), ('gandhigiri', 7496), ('munnabhai', 7497), ('inescapable', 7498), ('hindu', 7499), ('quiltcon', 7500), ('lizzy', 7501), ('can', 7502), ('martinez', 7503), ('prompting', 7504), ('familys', 7505), ('headachie', 7506), ('taboo', 7507), ('oversized', 7508), ('tee', 7509), ('baggy', 7510), ('streaked', 7511), ('aiiiiighhhht', 7512), ('monogamous', 7513), ('recommendation', 7514), ('contradictory', 7515), ('gasp', 7516), ('marybeth', 7517), ('isabella', 7518), ('groundless', 7519), ('dlk', 7520), ('butttt', 7521), ('semuanya', 7522), ('sudah', 7523), ('terlambat', 7524), ('healer', 7525), ('xbla', 7526), ('sony', 7527), ('elder', 7528), ('repetetive', 7529), ('decrease', 7530), ('urinate', 7531), ('semen', 7532), ('suicidal', 7533), ('norah', 7534), ('omega', 7535), ('reverse', 7536), ('weightlessly', 7537), ('laiya', 7538), ('jennifer', 7539), ('scamper', 7540), ('unintentionally', 7541), ('alfred', 7542), ('molina', 7543), ('dimensional', 7544), ('caricature', 7545), ('losse', 7546), ('int', 7547), ('knowlege', 7548), ('wanderlust', 7549), ('loquacious', 7550), ('dung', 7551), ('coca', 7552), ('cola', 7553), ('warhound', 7554), ('fieldi', 7555), ('scroll', 7556), ('twentysomething', 7557), ('ravenous', 7558), ('jesse', 7559), ('tought', 7560), ('banking', 7561), ('diwali', 7562), ('spurn', 7563), ('sitter', 7564), ('craziness', 7565), ('bedriacum', 7566), ('henrietta', 7567), ('ariel', 7568), ('chelmsford', 7569), ('unreal', 7570), ('noticeable', 7571), ('ingrain', 7572), ('undoubtedly', 7573), ('pundit', 7574), ('vinegary', 7575), ('calli', 7576), ('submarine', 7577), ('cartwheel', 7578), ('ankle', 7579), ('uneffected', 7580), ('destashe', 7581), ('sai', 7582), ('sympathizing', 7583), ('cinderalla', 7584), ('prizecompetition', 7585), ('scoop', 7586), ('spinach', 7587), ('feta', 7588), ('cranberry', 7589), ('balsamic', 7590), ('viniagrette', 7591), ('unemotional', 7592), ('perfumed', 7593), ('tilt', 7594), ('coercive', 7595), ('heals', 7596), ('laughable', 7597), ('tychelle', 7598), ('nonexistent', 7599), ('thepage', 7600), ('natasha', 7601), ('gan', 7602), ('suede', 7603), ('chadstone', 7604), ('tonite', 7605), ('commandment', 7606), ('trapped', 7607), ('ethiopia', 7608), ('metier', 7609), ('doodly', 7610), ('trendy', 7611), ('pious', 7612), ('uppity', 7613), ('montague', 7614), ('rmb', 7615), ('hobb', 7616), ('rebecca', 7617), ('mcpherson', 7618), ('bgr', 7619), ('dylan', 7620), ('dorama', 7621), ('aaaaand', 7622), ('cutesy', 7623), ('pg', 7624), ('roundly', 7625), ('ravage', 7626), ('elliptical', 7627), ('stature', 7628), ('jimmy', 7629), ('teeter', 7630), ('congratulate', 7631), ('intro', 7632), ('fff', 7633), ('trebuchet', 7634), ('helvetica', 7635), ('bitstream', 7636), ('vera', 7637), ('discernment', 7638), ('woody', 7639), ('allen', 7640), ('brooks', 7641), ('earl', 7642), ('paperwork', 7643), ('bureaucrat', 7644), ('cling', 7645), ('heave', 7646), ('unrest', 7647), ('warp', 7648), ('dallas', 7649), ('californian', 7650), ('stumped', 7651), ('legitemately', 7652), ('reluctance', 7653), ('employ', 7654), ('cluster', 7655), ('backache', 7656), ('feefyefo', 7657), ('blabber', 7658), ('transparent', 7659), ('sanctity', 7660), ('inline', 7661), ('mistreat', 7662), ('kook', 7663), ('grossman', 7664), ('vuitton', 7665), ('lv', 7666), ('impressionable', 7667), ('sonipro', 7668), ('geekparty', 7669), ('linkedin', 7670), ('attached', 7671), ('sift', 7672), ('mound', 7673), ('atari', 7674), ('taker', 7675), ('entrust', 7676), ('janis', 7677), ('sander', 7678), ('gander', 7679), ('originality', 7680), ('conformity', 7681), ('prius', 7682), ('gore', 7683), ('patagonia', 7684), ('warrick', 7685), ('naivety', 7686), ('efficient', 7687), ('joan', 7688), ('corinthians', 7689), ('specimen', 7690), ('glisten', 7691), ('accentuate', 7692), ('cans', 7693), ('vagina', 7694), ('christchurch', 7695), ('depart', 7696), ('northwestern', 7697), ('superstorm', 7698), ('sandy', 7699), ('eagleandhammer', 7700), ('reserved', 7701), ('shimmy', 7702), ('whitney', 7703), ('sundae', 7704), ('unlock', 7705), ('estrangement', 7706), ('batman', 7707), ('radiator', 7708), ('skinned', 7709), ('gere', 7710), ('lea', 7711), ('pleasent', 7712), ('monetarily', 7713), ('kakashi', 7714), ('rapist', 7715), ('rigorously', 7716), ('involved', 7717), ('toddlerhood', 7718), ('primetime', 7719), ('murderer', 7720), ('scheduling', 7721), ('notch', 7722), ('goodie', 7723), ('eschew', 7724), ('forage', 7725), ('palate', 7726), ('messianic', 7727), ('bicep', 7728), ('sprinkling', 7729), ('sturdy', 7730), ('avery', 7731), ('nightly', 7732), ('clueless', 7733), ('meaningful', 7734), ('caf', 7735), ('lupron', 7736), ('spreadsheet', 7737), ('someplace', 7738), ('whir', 7739), ('mda', 7740), ('telethon', 7741), ('agonise', 7742), ('continental', 7743), ('asbestos', 7744), ('iframe', 7745), ('allowfullscreen', 7746), ('frameborder', 7747), ('insatiably', 7748), ('alphabet', 7749), ('jsk', 7750), ('lolita', 7751), ('hydration', 7752), ('psychically', 7753), ('galvanise', 7754), ('nanashi', 7755), ('aged', 7756), ('pyongyang', 7757), ('preceptor', 7758), ('gleefully', 7759), ('marshmallow', 7760), ('overseas', 7761), ('scenery', 7762), ('swinelord', 7763), ('deluxe', 7764), ('kin', 7765), ('spore', 7766), ('mailorder', 7767), ('kome', 7768), ('deffinately', 7769), ('berate', 7770), ('reproduce', 7771), ('mariah', 7772), ('carey', 7773), ('justified', 7774), ('threat', 7775), ('teet', 7776), ('totere', 7777), ('wantd', 7778), ('thrown', 7779), ('uw', 7780), ('uwilnevrknow', 7781), ('reset', 7782), ('milonga', 7783), ('acclimated', 7784), ('observer', 7785), ('susan', 7786), ('cum', 7787), ('educator', 7788), ('legitimize', 7789), ('bio', 7790), ('flail', 7791), ('bridget', 7792), ('bunnysuit', 7793), ('admittance', 7794), ('chaste', 7795), ('persom', 7796), ('wickdly', 7797), ('ssba', 7798), ('crushing', 7799), ('lunchroom', 7800), ('likelihood', 7801), ('wobbly', 7802), ('projector', 7803), ('displease', 7804), ('musty', 7805), ('vegitarianism', 7806), ('joyous', 7807), ('katniss', 7808), ('happiuness', 7809), ('absurdity', 7810), ('pigeon', 7811), ('uninhabited', 7812), ('gallivant', 7813), ('interminable', 7814), ('lapel', 7815), ('spectacle', 7816), ('steroid', 7817), ('beacuse', 7818), ('scratcheverythe', 7819), ('discomforting', 7820), ('interpret', 7821), ('blackpool', 7822), ('holloway', 7823), ('paella', 7824), ('sangria', 7825), ('recreational', 7826), ('unwillingly', 7827), ('willingly', 7828), ('gambia', 7829), ('supping', 7830), ('uniqueness', 7831), ('presupposition', 7832), ('clown', 7833), ('fle', 7834), ('unfurl', 7835), ('jz', 7836), ('anonymous', 7837), ('zack', 7838), ('lola', 7839), ('demographic', 7840), ('dt', 7841), ('lawn', 7842), ('upsetting', 7843), ('paige', 7844), ('deke', 7845), ('residue', 7846), ('brownish', 7847), ('tint', 7848), ('bodyguard', 7849), ('ste', 7850), ('cologne', 7851), ('johann', 7852), ('khartoum', 7853), ('descara', 7854), ('dismay', 7855), ('thebalm', 7856), ('tude', 7857), ('broomfield', 7858), ('grim', 7859), ('sustained', 7860), ('janine', 7861), ('inflict', 7862), ('refusal', 7863), ('jun', 7864), ('crone', 7865), ('selfs', 7866), ('sir', 7867), ('mba', 7868), ('eloquent', 7869), ('array', 7870), ('legard', 7871), ('hacking', 7872), ('unnoticeable', 7873), ('ny', 7874), ('hotshot', 7875), ('lunajubilee', 7876), ('mcdonald', 7877), ('edochie', 7878), ('olajideolafunmbi', 7879), ('fiddly', 7880), ('purposely', 7881), ('jonalyn', 7882), ('fincher', 7883), ('soulation', 7884), ('compartmentalise', 7885), ('backing', 7886), ('twd', 7887), ('dual', 7888), ('excellence', 7889), ('superhero', 7890), ('nellie', 7891), ('leslie', 7892), ('detailed', 7893), ('flutter', 7894), ('hairstyle', 7895), ('frizz', 7896), ('envous', 7897), ('tomfoolery', 7898), ('shenanigan', 7899), ('crisp', 7900), ('rollere', 7901), ('diaper', 7902), ('sensational', 7903), ('ash', 7904), ('stench', 7905), ('greasy', 7906), ('tail', 7907), ('cesspool', 7908), ('metaphorically', 7909), ('michigan', 7910), ('prostitute', 7911), ('simplify', 7912), ('soaking', 7913), ('castanet', 7914), ('raposa', 7915), ('crest', 7916), ('snooze', 7917), ('tenge', 7918), ('riot', 7919), ('fiddle', 7920), ('liveagainsttheflow', 7921), ('duluth', 7922), ('systematically', 7923), ('assassinate', 7924), ('callous', 7925), ('unfaithful', 7926), ('estimate', 7927), ('nepali', 7928), ('tith', 7929), ('ath', 7930), ('afp', 7931), ('scrunching', 7932), ('robot', 7933), ('mis', 7934), ('stepping', 7935), ('dishonor', 7936), ('eerily', 7937), ('flexy', 7938), ('advancement', 7939), ('attic', 7940), ('abelard', 7941), ('unused', 7942), ('plateaus', 7943), ('pgce', 7944), ('symbol', 7945), ('gina', 7946), ('misgiving', 7947), ('bandaid', 7948), ('critically', 7949), ('ryodan', 7950), ('alight', 7951), ('bellmen', 7952), ('adress', 7953), ('undeservedly', 7954), ('acknowledgement', 7955), ('eddie', 7956), ('eg', 7957), ('rapport', 7958), ('grossly', 7959), ('runny', 7960), ('ebooks', 7961), ('mighty', 7962), ('roar', 7963), ('forego', 7964), ('futon', 7965), ('paparazzo', 7966), ('zq', 7967), ('jcho', 7968), ('cpine', 7969), ('prelim', 7970), ('poggy', 7971), ('cambodia', 7972), ('lax', 7973), ('irresistable', 7974), ('expload', 7975), ('unmentioned', 7976), ('rehearsal', 7977), ('obsessively', 7978), ('varnish', 7979), ('brazilian', 7980), ('numbness', 7981), ('laura', 7982), ('gilbert', 7983), ('theybf', 7984), ('sniiiiifff', 7985), ('telstra', 7986), ('pessimistic', 7987), ('carson', 7988), ('anesthetized', 7989), ('bunion', 7990), ('baba', 7991), ('emote', 7992), ('madre', 7993), ('possessive', 7994), ('grabbing', 7995), ('bail', 7996), ('cooper', 7997), ('ted', 7998), ('shaving', 7999), ('precision', 8000), ('decaf', 8001), ('opinionate', 8002), ('holler', 8003), ('yhhhay', 8004), ('femme', 8005), ('fatale', 8006), ('corey', 8007), ('ashame', 8008), ('shrug', 8009), ('enthralled', 8010), ('constitutional', 8011), ('bureaucracy', 8012), ('deedee', 8013), ('curiously', 8014), ('sophist', 8015), ('physics', 8016), ('oblige', 8017), ('homeschool', 8018), ('sobriety', 8019), ('eatery', 8020), ('ecstasy', 8021), ('dvds', 8022), ('blindly', 8023), ('estate', 8024), ('brooklyn', 8025), ('latch', 8026), ('riva', 8027), ('harvey', 8028), ('weinstein', 8029), ('patronize', 8030), ('md', 8031), ('prowl', 8032), ('deserted', 8033), ('hummpffff', 8034), ('winterpaysforsummer', 8035), ('eurovision', 8036), ('harmonious', 8037), ('tatsuma', 8038), ('aoi', 8039), ('ron', 8040), ('palin', 8041), ('matty', 8042), ('unexplained', 8043), ('canon', 8044), ('iii', 8045), ('clinique', 8046), ('ffs', 8047), ('ashlotte', 8048), ('talim', 8049), ('gucci', 8050), ('jeer', 8051), ('mica', 8052), ('slash', 8053), ('kuwait', 8054), ('coward', 8055), ('ew', 8056), ('maze', 8057), ('lighter', 8058), ('preclude', 8059), ('ting', 8060), ('detoxified', 8061), ('iws', 8062), ('outlandish', 8063), ('unresponsive', 8064), ('driftingthroughlife', 8065), ('moulding', 8066), ('gloominess', 8067), ('ffviii', 8068), ('compagnon', 8069), ('advanced', 8070), ('snowboard', 8071), ('generalised', 8072), ('joie', 8073), ('de', 8074), ('vivre', 8075), ('jumbleupon', 8076), ('eva', 8077), ('frenh', 8078), ('dontt', 8079), ('coldness', 8080), ('plural', 8081), ('snarky', 8082), ('disinfected', 8083), ('caffeinate', 8084), ('sauna', 8085), ('goldilock', 8086), ('gameplay', 8087), ('asd', 8088), ('scheduler', 8089), ('repairman', 8090), ('wimp', 8091), ('onel', 8092), ('eminent', 8093), ('patriotic', 8094), ('mushroom', 8095), ('pitcher', 8096), ('conscientious', 8097), ('dao', 8098), ('ethan', 8099), ('mary', 8100), ('alabama', 8101), ('displace', 8102), ('disorientate', 8103), ('frumpy', 8104), ('forgave', 8105), ('peregrinos', 8106), ('iris', 8107), ('arc', 8108), ('gwen', 8109), ('stacey', 8110), ('freakin', 8111), ('orthodox', 8112), ('duplex', 8113), ('dsl', 8114), ('wireless', 8115), ('blair', 8116), ('admin', 8117), ('landing', 8118), ('homepage', 8119), ('keyword', 8120), ('cru', 8121), ('realness', 8122), ('liverpool', 8123), ('exterior', 8124), ('masculinity', 8125), ('upstream', 8126), ('ole', 8127), ('alec', 8128), ('prolonged', 8129), ('flighty', 8130), ('knowingly', 8131), ('alexis', 8132), ('lone', 8133), ('nationalism', 8134), ('aryans', 8135), ('jews', 8136), ('worthlessness', 8137), ('foment', 8138), ('slapping', 8139), ('limply', 8140), ('aspieness', 8141), ('iq', 8142), ('unmotivate', 8143), ('tbt', 8144), ('strait', 8145), ('fertile', 8146), ('roundabout', 8147), ('murmur', 8148), ('skinn', 8149), ('seduce', 8150), ('con', 8151), ('connive', 8152), ('cite', 8153), ('scarce', 8154), ('legality', 8155), ('tatter', 8156), ('briton', 8157), ('monogramme', 8158), ('dub', 8159), ('something', 8160), ('apendage', 8161), ('hobnob', 8162), ('canoe', 8163), ('front', 8164), ('branding', 8165), ('bohemian', 8166), ('liked', 8167), ('devin', 8168), ('clutter', 8169), ('inherently', 8170), ('lease', 8171), ('moderately', 8172), ('collaborative', 8173), ('willy', 8174), ('nilly', 8175), ('karua', 8176), ('essay', 8177), ('spat', 8178), ('anchorage', 8179), ('imagebox', 8180), ('hurtle', 8181), ('relaxing', 8182), ('unfeeling', 8183), ('humanbeing', 8184), ('pollution', 8185), ('parade', 8186), ('spasm', 8187), ('diarrhea', 8188), ('mouthful', 8189), ('defriende', 8190), ('frank', 8191), ('workshop', 8192), ('werner', 8193), ('khi', 8194), ('rephrase', 8195), ('heidi', 8196), ('unspoilt', 8197), ('documentary', 8198), ('usarious', 8199), ('parlor', 8200), ('oooh', 8201), ('achy', 8202), ('blahness', 8203), ('mia', 8204), ('restful', 8205), ('telegram', 8206), ('guardian', 8207), ('indiscriminately', 8208), ('jaeryong', 8209), ('jungeuns', 8210), ('barbeque', 8211), ('sensationalist', 8212), ('connecticut', 8213), ('polyvore', 8214), ('advent', 8215), ('universally', 8216), ('bent', 8217), ('thaliad', 8218), ('lex', 8219), ('misty', 8220), ('bombardment', 8221), ('notcie', 8222), ('copycat', 8223), ('sifting', 8224), ('earplug', 8225), ('okc', 8226), ('eharmony', 8227), ('rrreeaallyy', 8228), ('tracifishbowl', 8229), ('sensibly', 8230), ('preppe', 8231), ('supervisor', 8232), ('expansive', 8233), ('pioneer', 8234), ('roomates', 8235), ('shermin', 8236), ('surmise', 8237), ('rightful', 8238), ('predecessor', 8239), ('renaissance', 8240), ('baroque', 8241), ('purge', 8242), ('dunstable', 8243), ('trialling', 8244), ('entitile', 8245), ('unwisely', 8246), ('spooky', 8247), ('matin', 8248), ('stewarts', 8249), ('dpns', 8250), ('offender', 8251), ('richie', 8252), ('wildstar', 8253), ('yummy', 8254), ('leftover', 8255), ('tonguey', 8256), ('clit', 8257), ('shonas', 8258), ('athe', 8259), ('diabetes', 8260), ('clinical', 8261), ('abstinence', 8262), ('specialist', 8263), ('sloshy', 8264), ('deepen', 8265), ('murt', 8266), ('clarinet', 8267), ('disintereste', 8268), ('accelerate', 8269), ('flicker', 8270), ('herald', 8271), ('gluten', 8272), ('nestle', 8273), ('sundry', 8274), ('blogstalker', 8275), ('datey', 8276), ('commonplace', 8277), ('revis', 8278), ('jet', 8279), ('dom', 8280), ('calvaryccv', 8281), ('captivity', 8282), ('formulate', 8283), ('fraction', 8284), ('nakahara', 8285), ('mai', 8286), ('mightily', 8287), ('scandalize', 8288), ('nfl', 8289), ('fro', 8290), ('playoff', 8291), ('ruslan', 8292), ('fedotenko', 8293), ('aroma', 8294), ('bhubaneswar', 8295), ('orissa', 8296), ('evans', 8297), ('donor', 8298), ('alibi', 8299), ('premium', 8300), ('called', 8301), ('bertram', 8302), ('ptbertram', 8303), ('pawn', 8304), ('hospitalize', 8305), ('pervert', 8306), ('abnormally', 8307), ('stake', 8308), ('feeder', 8309), ('endzone', 8310), ('itsy', 8311), ('bitsy', 8312), ('vogue', 8313), ('uganda', 8314), ('workmate', 8315), ('transcribe', 8316), ('tak', 8317), ('backfire', 8318), ('solondz', 8319), ('hackle', 8320), ('marketer', 8321), ('gaga', 8322), ('twosong', 8323), ('fighting', 8324), ('prupose', 8325), ('dink', 8326), ('prettymuch', 8327), ('acronym', 8328), ('antipasti', 8329), ('mozzarella', 8330), ('proscuito', 8331), ('cottage', 8332), ('blogspot', 8333), ('debris', 8334), ('compile', 8335), ('carcenogenic', 8336), ('pleasantness', 8337), ('songy', 8338), ('camilla', 8339), ('passengere', 8340), ('cutie', 8341), ('mathematical', 8342), ('exhilirated', 8343), ('tpt', 8344), ('aversary', 8345), ('gunk', 8346), ('treader', 8347), ('hardcover', 8348), ('weightloss', 8349), ('chef', 8350), ('academy', 8351), ('profound', 8352), ('manifesting', 8353), ('yuck', 8354), ('adequate', 8355), ('entrenched', 8356), ('gerrymander', 8357), ('reelect', 8358), ('gabriella', 8359), ('crisps', 8360), ('sonam', 8361), ('genelia', 8362), ('tubelight', 8363), ('laced', 8364), ('bra', 8365), ('edith', 8366), ('stoner', 8367), ('mee', 8368), ('emotionaly', 8369), ('baremineral', 8370), ('muay', 8371), ('kangna', 8372), ('ranaut', 8373), ('invisible', 8374), ('dubstep', 8375), ('thunder', 8376), ('lightening', 8377), ('enriching', 8378), ('kindergartener', 8379), ('vm', 8380), ('superduperreally', 8381), ('christma', 8382), ('leaden', 8383), ('coldsore', 8384), ('rank', 8385), ('antic', 8386), ('improv', 8387), ('carolina', 8388), ('vastly', 8389), ('rut', 8390), ('abstain', 8391), ('ashley', 8392), ('rommel', 8393), ('horizontal', 8394), ('cramped', 8395), ('shamefully', 8396), ('guru', 8397), ('persuasively', 8398), ('axel', 8399), ('shortage', 8400), ('portable', 8401), ('compatible', 8402), ('cohesive', 8403), ('arist', 8404), ('aaron', 8405), ('dorothy', 8406), ('kelsey', 8407), ('machinery', 8408), ('rememberie', 8409), ('marillac', 8410), ('residential', 8411), ('freezer', 8412), ('nostril', 8413), ('gig', 8414), ('biopsy', 8415), ('unfocused', 8416), ('swaddle', 8417), ('woefully', 8418), ('illogically', 8419), ('mysalvagedtreasure', 8420), ('homelessness', 8421), ('detatche', 8422), ('grandson', 8423), ('sled', 8424), ('refrain', 8425), ('cineplex', 8426), ('photographically', 8427), ('passersby', 8428), ('scrub', 8429), ('holden', 8430), ('caulfield', 8431), ('rent', 8432), ('porcelain', 8433), ('cgi', 8434), ('refrigerator', 8435), ('bonka', 8436), ('neva', 8437), ('illinois', 8438), ('horrendously', 8439), ('pristine', 8440), ('mortuary', 8441), ('compasionate', 8442), ('greive', 8443), ('hung', 8444), ('slung', 8445), ('embalm', 8446), ('rightness', 8447), ('mbourgon', 8448), ('elect', 8449), ('rotation', 8450), ('celebratory', 8451), ('gona', 8452), ('decribe', 8453), ('deepening', 8454), ('enchanting', 8455), ('evar', 8456), ('bc', 8457), ('efficiently', 8458), ('dittmar', 8459), ('chendol', 8460), ('kacang', 8461), ('ivspirit', 8462), ('translatethis', 8463), ('intercessor', 8464), ('bul', 8465), ('taewuhbeoryeo', 8466), ('niga', 8467), ('ulbujitneun', 8468), ('nal', 8469), ('neoneun', 8470), ('wiheomhae', 8471), ('ttaekkaji', 8472), ('gatsseo', 8473), ('woooo', 8474), ('denim', 8475), ('shandur', 8476), ('polo', 8477), ('western', 8478), ('dudley', 8479), ('dursley', 8480), ('cornelius', 8481), ('fudge', 8482), ('minerva', 8483), ('mcgonnagall', 8484), ('neville', 8485), ('longbottom', 8486), ('pettigrew', 8487), ('oliver', 8488), ('neuroticworkaholic', 8489), ('twas', 8490), ('bedside', 8491), ('magi', 8492), ('herod', 8493), ('exaggerated', 8494), ('indulgence', 8495), ('audacity', 8496), ('fifth', 8497), ('yearbook', 8498), ('commemorate', 8499), ('rudy', 8500), ('automation', 8501), ('memset', 8502), ('tab', 8503), ('trafford', 8504), ('stamford', 8505), ('grudgingly', 8506), ('enliven', 8507), ('rockabilly', 8508), ('moisture', 8509), ('insufficiency', 8510), ('inherent', 8511), ('sneak', 8512), ('indigestion', 8513), ('guitarist', 8514), ('prideful', 8515), ('unmitigate', 8516), ('carol', 8517), ('atletico', 8518), ('clasheen', 8519), ('nicola', 8520), ('keepmeinstitchez', 8521), ('nervouse', 8522), ('usain', 8523), ('griff', 8524), ('disorientated', 8525), ('sentiment', 8526), ('schindler', 8527), ('trav', 8528), ('mope', 8529), ('exposed', 8530), ('soothing', 8531), ('cosmetic', 8532), ('sasuke', 8533), ('fatally', 8534), ('moriartys', 8535), ('horrified', 8536), ('evilness', 8537), ('bridal', 8538), ('steinbeck', 8539), ('broadcast', 8540), ('protocol', 8541), ('handsomefamily', 8542), ('snidey', 8543), ('soooooooooooo', 8544), ('bibliography', 8545), ('bachelorette', 8546), ('engrain', 8547), ('colbert', 8548), ('owen', 8549), ('morgan', 8550), ('undertaking', 8551), ('lemony', 8552), ('buttermilk', 8553), ('deprecation', 8554), ('multitaske', 8555), ('destination', 8556), ('feverish', 8557), ('graying', 8558), ('demise', 8559), ('womb', 8560), ('pinky', 8561), ('dysphoria', 8562), ('fend', 8563), ('ome', 8564), ('blubbering', 8565), ('infantry', 8566), ('motorbike', 8567), ('zhu', 8568), ('lotus', 8569), ('prosecution', 8570), ('monger', 8571), ('elashis', 8572), ('noor', 8573), ('suppliment', 8574), ('disastrous', 8575), ('merasa', 8576), ('luar', 8577), ('biasa', 8578), ('karena', 8579), ('kulihat', 8580), ('sendi', 8581), ('simplethoughtsonthing', 8582), ('stays', 8583), ('maeve', 8584), ('promotional', 8585), ('dialogue', 8586), ('caution', 8587), ('consciousness', 8588), ('competent', 8589), ('perspire', 8590), ('muddy', 8591), ('worsen', 8592), ('voter', 8593), ('elbow', 8594), ('banged', 8595), ('grandiosely', 8596), ('shortsighted', 8597), ('oakland', 8598), ('database', 8599), ('totality', 8600), ('indicate', 8601), ('luftwaffe', 8602), ('kerouac', 8603), ('marble', 8604), ('maelstrom', 8605), ('sur', 8606), ('abundantly', 8607), ('mombasa', 8608), ('stirring', 8609), ('duckie', 8610), ('commie', 8611), ('corset', 8612), ('postgraduate', 8613), ('hijack', 8614), ('fudgy', 8615), ('walking', 8616), ('taryn', 8617), ('unsteady', 8618), ('simon', 8619), ('jag', 8620), ('jointly', 8621), ('brendon', 8622), ('interpersonal', 8623), ('bargain', 8624), ('intimidation', 8625), ('mira', 8626), ('partial', 8627), ('unwind', 8628), ('breather', 8629), ('usher', 8630), ('tracy', 8631), ('worked', 8632), ('chug', 8633), ('worm', 8634), ('cashmere', 8635), ('rainboot', 8636), ('everybodys', 8637), ('andy', 8638), ('messed', 8639), ('goth', 8640), ('getyourprettyon', 8641), ('wuss', 8642), ('contemplation', 8643), ('consolidation', 8644), ('elf', 8645), ('flaky', 8646), ('streaky', 8647), ('swath', 8648), ('gook', 8649), ('mathematic', 8650), ('fourteen', 8651), ('alter', 8652), ('warming', 8653), ('correctness', 8654), ('incompetent', 8655), ('looser', 8656), ('truthfully', 8657), ('benny', 8658), ('dumbfound', 8659), ('touching', 8660), ('iya', 8661), ('uncomfterble', 8662), ('distanced', 8663), ('shh', 8664), ('patio', 8665), ('foster', 8666), ('mediterranean', 8667), ('charade', 8668), ('hobica', 8669), ('frost', 8670), ('frosting', 8671), ('shortening', 8672), ('tran', 8673), ('deformed', 8674), ('enought', 8675), ('yorkshire', 8676), ('inaccurate', 8677), ('bludgeon', 8678), ('onlooker', 8679), ('acquire', 8680), ('ho', 8681), ('weighin', 8682), ('aout', 8683), ('signify', 8684), ('undue', 8685), ('aimless', 8686), ('sor', 8687), ('payoff', 8688), ('grabby', 8689), ('redden', 8690), ('manhood', 8691), ('laundering', 8692), ('inequality', 8693), ('embarrase', 8694), ('evey', 8695), ('mercilessly', 8696), ('abominable', 8697), ('newsprint', 8698), ('bulls', 8699), ('celtic', 8700), ('permanence', 8701), ('fingertip', 8702), ('oak', 8703), ('recycle', 8704), ('happend', 8705), ('tallinn', 8706), ('pimp', 8707), ('raini', 8708), ('rocky', 8709), ('mommys', 8710), ('adversely', 8711), ('hearnsay', 8712), ('baht', 8713), ('usd', 8714), ('alway', 8715), ('elusively', 8716), ('misrepresent', 8717), ('dosage', 8718), ('supplemental', 8719), ('estrogen', 8720), ('facial', 8721), ('biannual', 8722), ('mammogram', 8723), ('woodstock', 8724), ('defiant', 8725), ('theatre', 8726), ('gw', 8727), ('karma', 8728), ('outcast', 8729), ('trendier', 8730), ('unfriendly', 8731), ('staggering', 8732), ('irresponsible', 8733), ('auster', 8734), ('bleak', 8735), ('noconscience', 8736), ('counterproductive', 8737), ('nic', 8738), ('missy', 8739), ('confrontational', 8740), ('thrive', 8741), ('executive', 8742), ('regent', 8743), ('torne', 8744), ('haley', 8745), ('animesh', 8746), ('napkin', 8747), ('reusable', 8748), ('shoulde', 8749), ('guideline', 8750), ('moreso', 8751), ('chiangmai', 8752), ('dwelling', 8753), ('restrain', 8754), ('oakwood', 8755), ('elevate', 8756), ('metabolism', 8757), ('hyperthyroidism', 8758), ('firstly', 8759), ('secondly', 8760), ('kitwe', 8761), ('amma', 8762), ('resting', 8763), ('atlanta', 8764), ('poignant', 8765), ('penetrate', 8766), ('figment', 8767), ('amorphous', 8768), ('ryder', 8769), ('baffle', 8770), ('spitball', 8771), ('lair', 8772), ('chewie', 8773), ('puteri', 8774), ('nicole', 8775), ('grandeur', 8776), ('andrew', 8777), ('reputable', 8778), ('geocentric', 8779), ('cheaply', 8780), ('margaret', 8781), ('superpower', 8782), ('il', 8783), ('rosa', 8784), ('chasm', 8785), ('universal', 8786), ('etrie', 8787), ('upheaval', 8788), ('gatorade', 8789), ('uncontrollably', 8790), ('hyde', 8791), ('kat', 8792), ('denningss', 8793), ('deadpan', 8794), ('crab', 8795), ('aol', 8796), ('verizon', 8797), ('ari', 8798), ('menashe', 8799), ('mousavi', 8800), ('manuchehr', 8801), ('ghorbani', 8802), ('packed', 8803), ('correspond', 8804), ('catsa', 8805), ('afrad', 8806), ('flab', 8807), ('migrate', 8808), ('stimulating', 8809), ('partnership', 8810), ('nip', 8811), ('xma', 8812), ('orthotic', 8813), ('writte', 8814), ('writting', 8815), ('writter', 8816), ('heartdesire', 8817), ('mentel', 8818), ('disjointed', 8819), ('decluttere', 8820), ('peeing', 8821), ('irritability', 8822), ('sniffer', 8823), ('reflex', 8824), ('euphermal', 8825), ('soporific', 8826), ('luscious', 8827), ('hazy', 8828), ('kara', 8829), ('ounce', 8830), ('treacherous', 8831), ('ecker', 8832), ('beware', 8833), ('kitty', 8834), ('racial', 8835), ('slur', 8836), ('inverted', 8837), ('suspension', 8838), ('awesomeness', 8839), ('togehter', 8840), ('reed', 8841), ('collector', 8842), ('coldstone', 8843), ('waaaaayyyy', 8844), ('delicous', 8845), ('peacefulness', 8846), ('reactive', 8847), ('swap', 8848), ('gorge', 8849), ('disgustingly', 8850), ('undergo', 8851), ('spiel', 8852), ('scarlet', 8853), ('maladaptive', 8854), ('architecturally', 8855), ('americana', 8856), ('gump', 8857), ('stayviolation', 8858), ('pistil', 8859), ('manliness', 8860), ('organising', 8861), ('tidying', 8862), ('daytime', 8863), ('arlovski', 8864), ('ufc', 8865), ('dismantle', 8866), ('beet', 8867), ('rabiola', 8868), ('fresca', 8869), ('ravioli', 8870), ('yin', 8871), ('yang', 8872), ('damned', 8873), ('prosperity', 8874), ('seattle', 8875), ('concidence', 8876), ('uneasiness', 8877), ('velvet', 8878), ('ploy', 8879), ('ashraf', 8880), ('pakistani', 8881), ('overboard', 8882), ('nigga', 8883), ('unpopular', 8884), ('ominous', 8885), ('initally', 8886), ('internist', 8887), ('sarcoma', 8888), ('aimlessly', 8889), ('jeannie', 8890), ('keith', 8891), ('detour', 8892), ('xela', 8893), ('unspecified', 8894), ('equipment', 8895), ('friendfeed', 8896), ('dearwendy', 8897), ('entrenchedly', 8898), ('pureland', 8899), ('chabad', 8900), ('sukkah', 8901), ('woven', 8902), ('schach', 8903), ('lattice', 8904), ('verbalize', 8905), ('imagi', 8906), ('nigeria', 8907), ('olden', 8908), ('sarawak', 8909), ('jugra', 8910), ('chronicle', 8911), ('pointlessness', 8912), ('cu', 8913), ('chaperone', 8914), ('unlikely', 8915), ('punctual', 8916), ('breaking', 8917), ('vex', 8918), ('mohammed', 8919), ('xango', 8920), ('yahoo', 8921), ('verrrrrrrryyyy', 8922), ('ntoward', 8923), ('studying', 8924), ('dissect', 8925), ('backlog', 8926), ('lindo', 8927), ('jumble', 8928), ('compliant', 8929), ('voip', 8930), ('telephony', 8931), ('desktop', 8932), ('shush', 8933), ('arun', 8934), ('someones', 8935), ('harmless', 8936), ('insect', 8937), ('overpowered', 8938), ('fateh', 8939), ('intrusion', 8940), ('vengeance', 8941), ('granny', 8942), ('thriller', 8943), ('betrayal', 8944), ('pluto', 8945), ('pacesetter', 8946), ('hp', 8947), ('supervising', 8948), ('dealer', 8949), ('philter', 8950), ('paaker', 8951), ('certifiably', 8952), ('cunt', 8953), ('scarred', 8954), ('mso', 8955), ('bidi', 8956), ('concurrently', 8957), ('trajectory', 8958), ('fil', 8959), ('julian', 8960), ('spazzing', 8961), ('thingy', 8962), ('gikwang', 8963), ('emilyhursh', 8964), ('childlike', 8965), ('clicking', 8966), ('ply', 8967), ('tweedy', 8968), ('rowan', 8969), ('shawl', 8970), ('mishap', 8971), ('discouraging', 8972), ('mereka', 8973), ('penyeri', 8974), ('tofurkey', 8975), ('transparence', 8976), ('contentedly', 8977), ('dictate', 8978), ('nerdy', 8979), ('assuage', 8980), ('realism', 8981), ('suckere', 8982), ('siri', 8983), ('hondura', 8984), ('equilibrium', 8985), ('sim', 8986), ('bernie', 8987), ('reground', 8988), ('nutrient', 8989), ('dense', 8990), ('spaghetti', 8991), ('meatball', 8992), ('workaholic', 8993), ('mating', 8994), ('calculate', 8995), ('revealthestaryoutrulyare', 8996), ('blushes', 8997), ('corrupting', 8998), ('foreigner', 8999), ('thunk', 9000), ('kala', 9001), ('fangirl', 9002), ('quell', 9003), ('dodd', 9004), ('overanalyze', 9005), ('speaking', 9006), ('hibernating', 9007), ('compunction', 9008), ('adf', 9009), ('consecrate', 9010), ('satiate', 9011), ('affordable', 9012), ('pompom', 9013), ('braided', 9014), ('flap', 9015), ('lyman', 9016), ('malignant', 9017), ('melonoma', 9018), ('shoplift', 9019), ('gummy', 9020), ('architectural', 9021), ('io', 9022), ('galaxy', 9023), ('sii', 9024), ('lumia', 9025), ('specie', 9026), ('bishop', 9027), ('stave', 9028), ('remainder', 9029), ('emphasise', 9030), ('ugh', 9031), ('naight', 9032), ('spurge', 9033), ('humid', 9034), ('advocacy', 9035), ('hudson', 9036), ('accuser', 9037), ('mashmellow', 9038), ('treble', 9039), ('handbook', 9040), ('discharge', 9041), ('doctorate', 9042), ('tyler', 9043), ('durden', 9044), ('unpleasantly', 9045), ('noticer', 9046), ('phil', 9047), ('jess', 9048), ('ka', 9049), ('daunt', 9050), ('romanticise', 9051), ('castiel', 9052), ('earreade', 9053), ('audiobook', 9054), ('sweetness', 9055), ('recess', 9056), ('digress', 9057), ('zimbabwean', 9058), ('harshness', 9059), ('relentlessness', 9060), ('fabolous', 9061), ('loso', 9062), ('graham', 9063), ('rylin', 9064), ('carrry', 9065), ('jahmene', 9066), ('fundraiser', 9067), ('calle', 9068), ('blister', 9069), ('unheard', 9070), ('fleece', 9071), ('prejudice', 9072), ('ene', 9073), ('farewell', 9074), ('airplane', 9075), ('platitude', 9076), ('cuff', 9077), ('anklet', 9078), ('washing', 9079), ('ragged', 9080), ('cooperative', 9081), ('harass', 9082), ('drowsy', 9083), ('exspress', 9084), ('appriciation', 9085), ('taryns', 9086), ('taxis', 9087), ('jin', 9088), ('hee', 9089), ('lotte', 9090), ('lunapad', 9091), ('wap', 9092), ('folder', 9093), ('dashboard', 9094), ('nickname', 9095), ('moanday', 9096), ('maximise', 9097), ('eff', 9098), ('detrimental', 9099), ('finke', 9100), ('begleiter', 9101), ('randythoma', 9102), ('irwin', 9103), ('norma', 9104), ('stall', 9105), ('pesticide', 9106), ('adrift', 9107), ('underwater', 9108), ('lenten', 9109), ('transitory', 9110), ('jumping', 9111), ('gusto', 9112), ('cobwebs', 9113), ('psychopathology', 9114), ('rawly', 9115), ('loft', 9116), ('ditlevsen', 9117), ('lovebox', 9118), ('comedian', 9119), ('defence', 9120), ('mechanism', 9121), ('sniping', 9122), ('insdie', 9123), ('curry', 9124), ('dressing', 9125), ('potatoe', 9126), ('miso', 9127), ('insanely', 9128), ('cascade', 9129), ('sexualy', 9130), ('wealthy', 9131), ('tuition', 9132), ('jongwoon', 9133), ('ryeowook', 9134), ('retort', 9135), ('sensed', 9136), ('reestablish', 9137), ('offence', 9138), ('delhi', 9139), ('possesive', 9140), ('hallmark', 9141), ('seriousness', 9142), ('oven', 9143), ('greatbritain', 9144), ('hatch', 9145), ('holland', 9146), ('bikini', 9147), ('utmost', 9148), ('froze', 9149), ('replica', 9150), ('spock', 9151), ('cheerfully', 9152), ('sweden', 9153), ('parable', 9154), ('publicly', 9155), ('laminate', 9156), ('transportation', 9157), ('truley', 9158), ('resupplie', 9159), ('pipsqueak', 9160), ('outstanding', 9161), ('stephanie', 9162), ('bernd', 9163), ('sportsbook', 9164), ('khatsii', 9165), ('mug', 9166), ('bowler', 9167), ('urging', 9168), ('frickin', 9169), ('kisser', 9170), ('nijifagilie', 9171), ('biological', 9172), ('le', 9173), ('methodically', 9174), ('antidote', 9175), ('unlucky', 9176), ('orthodontist', 9177), ('pediatric', 9178), ('aftereffect', 9179), ('coupon', 9180), ('boardwalk', 9181), ('refugee', 9182), ('israelites', 9183), ('vip', 9184), ('sticker', 9185), ('perpetrator', 9186), ('crim', 9187), ('hefty', 9188), ('weighting', 9189), ('burgo', 9190), ('auggie', 9191), ('outta', 9192), ('disruptive', 9193), ('electrified', 9194), ('unworthiness', 9195), ('penance', 9196), ('lurgy', 9197), ('needless', 9198), ('bellingham', 9199), ('apc', 9200), ('suffocate', 9201), ('avoidable', 9202), ('mango', 9203), ('walmart', 9204), ('maceys', 9205), ('allergen', 9206), ('cooking', 9207), ('restriction', 9208), ('appearanc', 9209), ('ewhich', 9210), ('movign', 9211), ('romantically', 9212), ('uv', 9213), ('tyrant', 9214), ('pander', 9215), ('misinterpret', 9216), ('pleasing', 9217), ('deceptively', 9218), ('curb', 9219), ('sophat', 9220), ('kandal', 9221), ('colorado', 9222), ('progression', 9223), ('pneumonia', 9224), ('pony', 9225), ('uncoil', 9226), ('chesley', 9227), ('fierceness', 9228), ('specialty', 9229), ('mechanical', 9230), ('utilize', 9231), ('klysta', 9232), ('andrea', 9233), ('et', 9234), ('cetera', 9235), ('les', 9236), ('ruffle', 9237), ('zucchini', 9238), ('tart', 9239), ('cereal', 9240), ('pagetype', 9241), ('mimedoger', 9242), ('upfront', 9243), ('mes', 9244), ('sod', 9245), ('aubrey', 9246), ('baptism', 9247), ('depressive', 9248), ('jumpy', 9249), ('seoul', 9250), ('nothingness', 9251), ('repulsion', 9252), ('transpire', 9253), ('roethisberger', 9254), ('steeler', 9255), ('avon', 9256), ('occupied', 9257), ('heartrende', 9258), ('oprah', 9259), ('xelliealicex', 9260), ('wod', 9261), ('aaaaaaand', 9262), ('baton', 9263), ('ganging', 9264), ('shakiness', 9265), ('wyatt', 9266), ('bowie', 9267), ('iman', 9268), ('limbed', 9269), ('hardworke', 9270), ('anything', 9271), ('copay', 9272), ('planner', 9273), ('bridezillas', 9274), ('groom', 9275), ('uninformed', 9276), ('tna', 9277), ('crimson', 9278), ('sweetener', 9279), ('refined', 9280), ('starting', 9281), ('untidiness', 9282), ('hoarder', 9283), ('maximize', 9284), ('upgrade', 9285), ('raising', 9286), ('flashy', 9287), ('adversary', 9288), ('geez', 9289), ('mord', 9290), ('sith', 9291), ('robbed', 9292), ('hendrick', 9293), ('dreading', 9294), ('enmayi', 9295), ('counseling', 9296), ('mense', 9297), ('conversion', 9298), ('rounder', 9299), ('convict', 9300), ('getty', 9301), ('renowned', 9302), ('photographic', 9303), ('credential', 9304), ('presidency', 9305), ('synod', 9306), ('irreplaceable', 9307), ('idrc', 9308), ('fron', 9309), ('trader', 9310), ('battalion', 9311), ('dehydrate', 9312), ('girlie', 9313), ('caribbean', 9314), ('diving', 9315), ('dive', 9316), ('carole', 9317), ('karaoke', 9318), ('bewertung', 9319), ('ifyouwanttoknow', 9320), ('smite', 9321), ('snowglobe', 9322), ('incessant', 9323), ('bitching', 9324), ('rammstein', 9325), ('turbulently', 9326), ('container', 9327), ('thirteen', 9328), ('shishido', 9329), ('senpai', 9330), ('nauseas', 9331), ('clams', 9332), ('shark', 9333), ('fin', 9334), ('lethal', 9335), ('overdose', 9336), ('ect', 9337), ('mollusk', 9338), ('solopgangfor', 9339), ('barnog', 9340), ('unconsciously', 9341), ('shiftles', 9342), ('browse', 9343), ('dart', 9344), ('undress', 9345), ('inspite', 9346), ('yogurt', 9347), ('trudger', 9348), ('ig', 9349), ('cartoonish', 9350), ('leading', 9351), ('divas', 9352), ('wrestler', 9353), ('accrue', 9354), ('barista', 9355), ('psychopath', 9356), ('carb', 9357), ('addictive', 9358), ('artefact', 9359), ('locomotive', 9360), ('atrocious', 9361), ('babe', 9362), ('peaches', 9363), ('marilyn', 9364), ('directionless', 9365), ('artificially', 9366), ('ripe', 9367), ('multiband', 9368), ('effectual', 9369), ('asami', 9370), ('mutter', 9371), ('violin', 9372), ('vocab', 9373), ('springpad', 9374), ('abdominal', 9375), ('duality', 9376), ('upright', 9377), ('protagonist', 9378), ('curveball', 9379), ('peggy', 9380), ('mara', 9381), ('disdainful', 9382), ('babysat', 9383), ('dimple', 9384), ('sag', 9385), ('serendipity', 9386), ('collide', 9387), ('slacker', 9388), ('mcslackerson', 9389), ('nipping', 9390), ('dewi', 9391), ('lestari', 9392), ('patent', 9393), ('metallic', 9394), ('dayummm', 9395), ('synthwave', 9396), ('neds', 9397), ('atomic', 9398), ('dustbin', 9399), ('posie', 9400), ('pixie', 9401), ('springhouse', 9402), ('morrissey', 9403), ('incision', 9404), ('residual', 9405), ('unproductive', 9406), ('crudely', 9407), ('trinity', 9408), ('tuxedo', 9409), ('cufflink', 9410), ('aspire', 9411), ('somethign', 9412), ('ayumi', 9413), ('bodys', 9414), ('aging', 9415), ('constrained', 9416), ('extrovert', 9417), ('digg', 9418), ('sooooooooooo', 9419), ('aligncenter', 9420), ('wp', 9421), ('mrdanbaird', 9422), ('tumor', 9423), ('amiss', 9424), ('jareth', 9425), ('labyrinth', 9426), ('righteous', 9427), ('digust', 9428), ('permission', 9429), ('bun', 9430), ('nuh', 9431), ('va', 9432), ('prandi', 9433), ('npr', 9434), ('motherland', 9435), ('bittersweet', 9436), ('giardina', 9437), ('sandblog', 9438), ('craftisan', 9439), ('muffled', 9440), ('hideakis', 9441), ('forcefully', 9442), ('daiki', 9443), ('amusement', 9444), ('olympian', 9445), ('hugh', 9446), ('sarcoidosis', 9447), ('gyp', 9448), ('capp', 9449), ('hyphen', 9450), ('unstable', 9451), ('inexperience', 9452), ('spitak', 9453), ('lotta', 9454), ('heinous', 9455), ('insular', 9456), ('xviith', 9457), ('strick', 9458), ('van', 9459), ('den', 9460), ('velde', 9461), ('opt', 9462), ('hiit', 9463), ('interval', 9464), ('sm', 9465), ('believ', 9466), ('unexpectedly', 9467), ('aiw', 9468), ('phantomwise', 9469), ('apologetic', 9470), ('drivel', 9471), ('stupendous', 9472), ('incredulity', 9473), ('harshly', 9474), ('waiting', 9475), ('debacle', 9476), ('shubhi', 9477), ('feb', 9478), ('juliannas', 9479), ('snooty', 9480), ('gauche', 9481), ('expressway', 9482), ('knotted', 9483), ('platonic', 9484), ('synchronicity', 9485), ('lite', 9486), ('reali', 9487), ('afrade', 9488), ('moonlighting', 9489), ('drill', 9490), ('unencumberedness', 9491), ('exhilaration', 9492), ('opis', 9493), ('sashy', 9494), ('toned', 9495), ('purple', 9496), ('lavander', 9497), ('mesmerism', 9498), ('casablanca', 9499), ('vinnie', 9500), ('kompany', 9501), ('joleon', 9502), ('kolo', 9503), ('toure', 9504), ('innovative', 9505), ('shroud', 9506), ('flaccid', 9507), ('colic', 9508), ('imma', 9509), ('exclaim', 9510), ('personify', 9511), ('progeny', 9512), ('genuflect', 9513), ('unjust', 9514), ('snippy', 9515), ('momentum', 9516), ('isolating', 9517), ('titanic', 9518), ('inferiority', 9519), ('pumpin', 9520), ('undeserve', 9521), ('wage', 9522), ('inept', 9523), ('payer', 9524), ('bungling', 9525), ('naega', 9526), ('deo', 9527), ('apaya', 9528), ('hae', 9529), ('dasi', 9530), ('neol', 9531), ('chajeul', 9532), ('itge', 9533), ('sigani', 9534), ('heureulsurok', 9535), ('gaseumi', 9536), ('apawa', 9537), ('hanbeon', 9538), ('manirado', 9539), ('doedollil', 9540), ('suman', 9541), ('itdamyeon', 9542), ('gotong', 9543), ('ttawin', 9544), ('naegen', 9545), ('fightstar', 9546), ('catchy', 9547), ('fantastically', 9548), ('ceramic', 9549), ('repairment', 9550), ('atelier', 9551), ('patrimony', 9552), ('specialize', 9553), ('primitive', 9554), ('antiquity', 9555), ('ashtray', 9556), ('divert', 9557), ('monthe', 9558), ('flirt', 9559), ('tulip', 9560), ('sadhana', 9561), ('diner', 9562), ('oppie', 9563), ('desolation', 9564), ('beyonc', 9565), ('hitler', 9566), ('lawless', 9567), ('innuendo', 9568), ('picky', 9569), ('favorable', 9570), ('bishan', 9571), ('viewing', 9572), ('filmic', 9573), ('orgy', 9574), ('depravity', 9575), ('blissfully', 9576), ('unaware', 9577), ('subsidization', 9578), ('looses', 9579), ('heather', 9580), ('settlement', 9581), ('recur', 9582), ('inexcusable', 9583), ('bestial', 9584), ('macho', 9585), ('lag', 9586), ('botanical', 9587), ('tor', 9588), ('poseur', 9589), ('keiko', 9590), ('zoll', 9591), ('blisse', 9592), ('spotlight', 9593), ('craziest', 9594), ('weirdest', 9595), ('karin', 9596), ('conspire', 9597), ('distortion', 9598), ('existent', 9599), ('kathumpe', 9600), ('therapi', 9601), ('packaging', 9602), ('luxe', 9603), ('papermakeupstamp', 9604), ('bass', 9605), ('shahzad', 9606), ('ismaily', 9607), ('prevention', 9608), ('vegetable', 9609), ('leare', 9610), ('diktat', 9611), ('jeoffrey', 9612), ('eyo', 9613), ('loom', 9614), ('horned', 9615), ('cathy', 9616), ('techno', 9617), ('slander', 9618), ('mucus', 9619), ('nokia', 9620), ('gp', 9621), ('katanya', 9622), ('ulysse', 9623), ('speedy', 9624), ('filmmaker', 9625), ('conceive', 9626), ('peasy', 9627), ('anipike', 9628), ('fanfiction', 9629), ('belle', 9630), ('sebastian', 9631), ('snowy', 9632), ('southern', 9633), ('discriminated', 9634), ('serina', 9635), ('cleaner', 9636), ('tch', 9637), ('accessary', 9638), ('coax', 9639), ('nastily', 9640), ('kinison', 9641), ('ax', 9642), ('tounge', 9643), ('indide', 9644), ('bereft', 9645), ('persistent', 9646), ('nothnig', 9647), ('someoen', 9648), ('lauge', 9649), ('kiddo', 9650), ('daniel', 9651), ('biggie', 9652), ('kevin', 9653), ('hart', 9654), ('wiz', 9655), ('khalifa', 9656), ('bu', 9657), ('thaim', 9658), ('lurker', 9659), ('demos', 9660), ('communal', 9661), ('memorable', 9662), ('squint', 9663), ('magnify', 9664), ('dictionary', 9665), ('eyesight', 9666), ('quixote', 9667), ('blinding', 9668), ('rushing', 9669), ('windmill', 9670), ('lin', 9671), ('chubby', 9672), ('ocd', 9673), ('strict', 9674), ('torment', 9675), ('korea', 9676), ('kj', 9677), ('middot', 9678), ('vanquished', 9679), ('mooshilu', 9680), ('nylon', 9681), ('victoria', 9682), ('ruby', 9683), ('professionalism', 9684), ('imperturbable', 9685), ('cataclysmic', 9686), ('manufacturing', 9687), ('ollie', 9688), ('indy', 9689), ('founder', 9690), ('clot', 9691), ('clint', 9692), ('fetish', 9693), ('projection', 9694), ('repression', 9695), ('womens', 9696), ('befc', 9697), ('giraffe', 9698), ('majestic', 9699), ('descriptive', 9700), ('aloof', 9701), ('wherefore', 9702), ('ableness', 9703), ('gmc', 9704), ('denali', 9705), ('explorable', 9706), ('ungodly', 9707), ('approve', 9708), ('disapprove', 9709), ('yesubais', 9710), ('professionally', 9711), ('misrepresented', 9712), ('acco', 9713), ('nahariya', 9714), ('hogmanay', 9715), ('nonstop', 9716), ('outset', 9717), ('mccann', 9718), ('disappearance', 9719), ('sci', 9720), ('congest', 9721), ('velocity', 9722), ('picoult', 9723), ('sporkgasm', 9724), ('backstage', 9725), ('phenomenal', 9726), ('travesty', 9727), ('bobby', 9728), ('melodramatically', 9729), ('ade', 9730), ('dakota', 9731), ('hiatus', 9732), ('reaffirm', 9733), ('chemotherapy', 9734), ('poach', 9735), ('agtalk', 9736), ('krem', 9737), ('ye', 9738), ('tget', 9739), ('continent', 9740), ('imbicilic', 9741), ('elizabeth', 9742), ('unbelievable', 9743), ('undeveloped', 9744), ('extensive', 9745), ('atrophy', 9746), ('rlsh', 9747), ('focalor', 9748), ('sigil', 9749), ('opium', 9750), ('divinity', 9751), ('sizzler', 9752), ('rv', 9753), ('dinette', 9754), ('driveway', 9755), ('trembly', 9756), ('johnson', 9757), ('pi', 9758), ('ata', 9759), ('kristie', 9760), ('reshape', 9761), ('jhbdjhdfbjdfhbfd', 9762), ('upbringing', 9763), ('cocky', 9764), ('alhamdulillah', 9765), ('hoop', 9766), ('befuddle', 9767), ('bengal', 9768), ('degrassi', 9769), ('oftentime', 9770), ('coasted', 9771), ('stalker', 9772), ('receiver', 9773), ('steamy', 9774), ('strangle', 9775), ('syae', 9776), ('wisely', 9777), ('milly', 9778), ('concieve', 9779), ('sexuality', 9780), ('inadvertently', 9781), ('smidgen', 9782), ('negligible', 9783), ('blip', 9784), ('melty', 9785), ('energetically', 9786), ('atlephobia', 9787), ('discontinue', 9788), ('theif', 9789), ('outward', 9790), ('instinctively', 9791), ('passer', 9792), ('sausage', 9793), ('nw', 9794), ('cumbersome', 9795), ('additionally', 9796), ('clumsiness', 9797), ('victorian', 9798), ('niece', 9799), ('woah', 9800), ('phyica', 9801), ('jigsaw', 9802), ('clich', 9803), ('outlook', 9804), ('derbyshire', 9805), ('county', 9806), ('suburb', 9807), ('midwest', 9808), ('heimbuch', 9809), ('midwestern', 9810), ('manly', 9811), ('actauly', 9812), ('willis', 9813), ('monkey', 9814), ('shack', 9815), ('follicle', 9816), ('beluga', 9817), ('embarassing', 9818), ('formation', 9819), ('tec', 9820), ('parish', 9821), ('albuquerque', 9822), ('preferred', 9823), ('earthly', 9824), ('sufficiently', 9825), ('athlete', 9826), ('jonti', 9827), ('valorize', 9828), ('cig', 9829), ('colomn', 9830), ('conservatish', 9831), ('bfs', 9832), ('reuse', 9833), ('scrap', 9834), ('extended', 9835), ('ashton', 9836), ('irritation', 9837), ('lovin', 9838), ('cafeteria', 9839), ('pocketbook', 9840), ('antm', 9841), ('handed', 9842), ('beam', 9843), ('metre', 9844), ('materialise', 9845), ('sector', 9846), ('overshare', 9847), ('orgasmic', 9848), ('brokeup', 9849), ('utopia', 9850), ('spoonful', 9851), ('disconnected', 9852), ('innanimate', 9853), ('carpet', 9854), ('zenden', 9855), ('reuters', 9856), ('kidnapper', 9857), ('magnate', 9858), ('freddy', 9859), ('heineken', 9860), ('retribution', 9861), ('incentive', 9862), ('cindy', 9863), ('atticus', 9864), ('ttc', 9865), ('koyama', 9866), ('jene', 9867), ('worn', 9868), ('gland', 9869), ('cm', 9870), ('thickness', 9871), ('slat', 9872), ('mattress', 9873), ('unsurprisingly', 9874), ('relent', 9875), ('correct', 9876), ('angled', 9877), ('chin', 9878), ('solitary', 9879), ('krista', 9880), ('putter', 9881), ('kubricks', 9882), ('ediebloom', 9883), ('bowel', 9884), ('unreasonably', 9885), ('idiosyncrasy', 9886), ('celebrated', 9887), ('diversified', 9888), ('enchanted', 9889), ('shire', 9890), ('placement', 9891), ('misjudge', 9892), ('unsuspecting', 9893), ('oneself', 9894), ('bowling', 9895), ('blogoversary', 9896), ('lightheaded', 9897), ('clump', 9898), ('homeschoole', 9899), ('freelance', 9900), ('deity', 9901), ('intrusive', 9902), ('foray', 9903), ('unacceptable', 9904), ('omit', 9905), ('nyps', 9906), ('marlon', 9907), ('brando', 9908), ('bradbury', 9909), ('lightweight', 9910), ('babys', 9911), ('logically', 9912), ('midori', 9913), ('doorway', 9914), ('cruelty', 9915), ('azul', 9916), ('conflicted', 9917), ('deranged', 9918), ('villian', 9919), ('schalm', 9920), ('radical', 9921), ('mislead', 9922), ('woe', 9923), ('meditative', 9924), ('pam', 9925), ('grotesque', 9926), ('cal', 9927), ('pear', 9928), ('blueberry', 9929), ('implication', 9930), ('glitch', 9931), ('panorma', 9932), ('superbike', 9933), ('cbs', 9934), ('sportsline', 9935), ('irl', 9936), ('communicator', 9937), ('quitter', 9938), ('morrow', 9939), ('runnin', 9940), ('bein', 9941), ('confine', 9942), ('stic', 9943), ('dangle', 9944), ('tgirl', 9945), ('ignorantly', 9946), ('convenient', 9947), ('barking', 9948), ('squirrel', 9949), ('frail', 9950), ('catapult', 9951), ('buddy', 9952), ('angee', 9953), ('tugging', 9954), ('fluffed', 9955), ('cbc', 9956), ('jazzyboy', 9957), ('fucker', 9958), ('lowest', 9959), ('zap', 9960), ('standout', 9961), ('feist', 9962), ('lawyer', 9963), ('effectiveness', 9964), ('snare', 9965), ('sd', 9966), ('joyfully', 9967), ('illegitimate', 9968), ('midcentury', 9969), ('dresser', 9970), ('whelming', 9971), ('tighten', 9972), ('eradication', 9973), ('nearby', 9974), ('frosty', 9975), ('bloated', 9976), ('abduct', 9977), ('hinterland', 9978), ('gaige', 9979), ('scrape', 9980), ('nook', 9981), ('cranny', 9982), ('vacancy', 9983), ('sciatica', 9984), ('swinge', 9985), ('pedal', 9986), ('heir', 9987), ('normative', 9988), ('crol', 9989), ('tl', 9990), ('skew', 9991), ('polenta', 9992), ('convos', 9993), ('broad', 9994), ('categorie', 9995), ('impe', 9996), ('unsurprising', 9997), ('baffled', 9998), ('assaulted', 9999), ('exuberance', 10000), ('latex', 10001), ('hungover', 10002), ('marketplace', 10003), ('sycf', 10004), ('indie', 10005), ('sorted', 10006), ('edmontonian', 10007), ('scandalous', 10008), ('swimwear', 10009), ('crowed', 10010), ('appease', 10011), ('laughing', 10012), ('audie', 10013), ('multiply', 10014), ('abate', 10015), ('vegetarian', 10016), ('andintrupte', 10017), ('trad', 10018), ('bagan', 10019), ('nakedness', 10020), ('umlungu', 10021), ('hahahahahha', 10022), ('unfurling', 10023), ('accessibility', 10024), ('warfighter', 10025), ('waterside', 10026), ('brood', 10027), ('forefoot', 10028), ('lateral', 10029), ('wary', 10030), ('risen', 10031), ('desolate', 10032), ('soundscape', 10033), ('detoxing', 10034), ('scarecrow', 10035), ('wizard', 10036), ('oz', 10037), ('undone', 10038), ('lard', 10039), ('throe', 10040), ('ownership', 10041), ('culturally', 10042), ('peg', 10043), ('unbound', 10044), ('embossed', 10045), ('feather', 10046), ('orihime', 10047), ('imaginary', 10048), ('blunt', 10049), ('dir', 10050), ('henypire', 10051), ('brasse', 10052), ('contention', 10053), ('header', 10054), ('blowjob', 10055), ('senegal', 10056), ('farafina', 10057), ('cassava', 10058), ('loreal', 10059), ('adn', 10060), ('someobdy', 10061), ('cinematic', 10062), ('florence', 10063), ('lunar', 10064), ('papamoka', 10065), ('fahad', 10066), ('skeleton', 10067), ('everchange', 10068), ('sailormoon', 10069), ('gateway', 10070), ('unsupported', 10071), ('avril', 10072), ('lavigne', 10073), ('psych', 10074), ('jayson', 10075), ('mensa', 10076), ('sharia', 10077), ('glc', 10078), ('maddening', 10079), ('splurge', 10080), ('epithet', 10081), ('soooooooo', 10082), ('rearrange', 10083), ('assemble', 10084), ('interlochen', 10085), ('jonathan', 10086), ('incessantly', 10087), ('livevideo', 10088), ('ptk', 10089), ('vey', 10090), ('oncology', 10091), ('dpt', 10092), ('paranoiud', 10093), ('perry', 10094), ('comfident', 10095), ('cheerfull', 10096), ('wendy', 10097), ('alexa', 10098), ('vigorously', 10099), ('orient', 10100), ('hyundai', 10101), ('tucson', 10102), ('savor', 10103), ('mistreatment', 10104), ('theo', 10105), ('eli', 10106), ('skillz', 10107), ('rebuild', 10108), ('rudley', 10109), ('blurred', 10110), ('bumbe', 10111), ('strained', 10112), ('sculpt', 10113), ('mystical', 10114), ('culmination', 10115), ('dancefloor', 10116), ('tempo', 10117), ('humming', 10118), ('ecology', 10119), ('joe', 10120), ('prosperous', 10121), ('radiate', 10122), ('inlove', 10123), ('sean', 10124), ('faris', 10125), ('sleepover', 10126), ('scavenger', 10127), ('graze', 10128), ('imporant', 10129), ('vermont', 10130), ('tabloid', 10131), ('comedic', 10132), ('alva', 10133), ('suuuper', 10134), ('nipple', 10135), ('slew', 10136), ('fitch', 10137), ('mihm', 10138), ('kyuhyun', 10139), ('apgujeong', 10140), ('hyunjin', 10141), ('mopping', 10142), ('gracefully', 10143), ('humbly', 10144), ('rubble', 10145), ('deborah', 10146), ('lippmann', 10147), ('ws', 10148), ('peachy', 10149), ('jelly', 10150), ('sation', 10151), ('byte', 10152), ('crop', 10153), ('fossil', 10154), ('biofuels', 10155), ('unwashe', 10156), ('revision', 10157), ('ampatuan', 10158), ('odor', 10159), ('glowy', 10160), ('afaerytaleinmakebelieve', 10161), ('salvage', 10162), ('residence', 10163), ('powell', 10164), ('clan', 10165), ('colombian', 10166), ('gringa', 10167), ('el', 10168), ('amparo', 10169), ('eurodancemix', 10170), ('omegle', 10171), ('balloon', 10172), ('kiyoshi', 10173), ('impromptu', 10174), ('tampon', 10175), ('firs', 10176), ('ii', 10177), ('installment', 10178), ('hairstye', 10179), ('disengage', 10180), ('prenatal', 10181), ('legtimately', 10182), ('hammer', 10183), ('pilate', 10184), ('katie', 10185), ('craisin', 10186), ('thinker', 10187), ('jerald', 10188), ('rue', 10189), ('dianne', 10190), ('realisation', 10191), ('berk', 10192), ('lisas', 10193), ('shred', 10194), ('folkeskole', 10195), ('lowdown', 10196), ('scim', 10197), ('analysis', 10198), ('moribund', 10199), ('valid', 10200), ('subjective', 10201), ('mri', 10202), ('semipro', 10203), ('sharply', 10204), ('overworked', 10205), ('fume', 10206), ('progressively', 10207), ('saunter', 10208), ('flickr', 10209), ('hatchet', 10210), ('convolute', 10211), ('skdd', 10212), ('regional', 10213), ('inauguration', 10214), ('maturestudenthanginginthere', 10215), ('miniscule', 10216), ('thumbnail', 10217), ('changele', 10218), ('easygoing', 10219), ('cabbage', 10220), ('venison', 10221), ('pomegranate', 10222), ('oiliness', 10223), ('kali', 10224), ('dah', 10225), ('bertukar', 10226), ('jadi', 10227), ('benci', 10228), ('bothersome', 10229), ('kenya', 10230), ('reflective', 10231), ('tyre', 10232), ('mediate', 10233), ('condone', 10234), ('revalidation', 10235), ('portfolio', 10236), ('hun', 10237), ('cello', 10238), ('hath', 10239), ('solomon', 10240), ('affiliate', 10241), ('neil', 10242), ('odonnell', 10243), ('interception', 10244), ('pittsburgh', 10245), ('chivalry', 10246), ('magnanimity', 10247), ('pesach', 10248), ('ethnic', 10249), ('jingly', 10250), ('ars', 10251), ('nes', 10252), ('croatians', 10253), ('moist', 10254), ('stuffing', 10255), ('ahhh', 10256), ('shopper', 10257), ('fuchsia', 10258), ('unfairly', 10259), ('supervision', 10260), ('heroic', 10261), ('humiliating', 10262), ('guffaw', 10263), ('came', 10264), ('unconcern', 10265), ('trope', 10266), ('minimize', 10267), ('complication', 10268), ('flogger', 10269), ('fearlessness', 10270), ('tribal', 10271), ('waking', 10272), ('wisconsin', 10273), ('insyallah', 10274), ('fullbright', 10275), ('pacify', 10276), ('selfless', 10277), ('northern', 10278), ('saskatchewan', 10279), ('buffalo', 10280), ('widow', 10281), ('ridgerunner', 10282), ('solberg', 10283), ('lightsync', 10284), ('blouse', 10285), ('spiked', 10286), ('warsaw', 10287), ('nutshell', 10288), ('emillionstar', 10289), ('sadistic', 10290), ('opinon', 10291), ('restlessness', 10292), ('videotape', 10293), ('naman', 10294), ('na', 10295), ('marshal', 10296), ('glenn', 10297), ('shameful', 10298), ('allegation', 10299), ('untalented', 10300), ('handrail', 10301), ('basement', 10302), ('gauge', 10303), ('flog', 10304), ('mine', 10305), ('buying', 10306), ('defile', 10307), ('ski', 10308), ('mulligan', 10309), ('traction', 10310), ('outbreak', 10311), ('ptpt', 10312), ('pouhere', 10313), ('mistaken', 10314), ('normalcy', 10315), ('wearer', 10316), ('prestigious', 10317), ('unclear', 10318), ('joel', 10319), ('scrubbed', 10320), ('huddle', 10321), ('masse', 10322), ('congregate', 10323), ('rhinebeck', 10324), ('percolate', 10325), ('synonym', 10326), ('homemaker', 10327), ('edmonton', 10328), ('dodge', 10329), ('seedy', 10330), ('permanenter', 10331), ('zum', 10332), ('eintrag', 10333), ('mediation', 10334), ('funk', 10335), ('prematurely', 10336), ('multiplication', 10337), ('tremus', 10338), ('surmountable', 10339), ('brittney', 10340), ('ampe', 10341), ('books', 10342), ('peppermint', 10343), ('patty', 10344), ('anguished', 10345), ('runneth', 10346), ('improvise', 10347), ('comforted', 10348), ('omangy', 10349), ('heung', 10350), ('clash', 10351), ('laconic', 10352), ('polished', 10353), ('hog', 10354), ('deliberate', 10355), ('hercule', 10356), ('voicesfromkrypton', 10357), ('paulie', 10358), ('bezos', 10359), ('outro', 10360), ('aforementione', 10361), ('schmidt', 10362), ('esily', 10363), ('airritate', 10364), ('rested', 10365), ('dnt', 10366), ('fr', 10367), ('knwe', 10368), ('nthing', 10369), ('plastikan', 10370), ('makeover', 10371), ('roslin', 10372), ('acause', 10373), ('lightmeter', 10374), ('existence', 10375), ('godly', 10376), ('jamba', 10377), ('frappucino', 10378), ('downtime', 10379), ('teresa', 10380), ('expansiveperspective', 10381), ('walter', 10382), ('eastern', 10383), ('devastation', 10384), ('danny', 10385), ('stalk', 10386), ('erica', 10387), ('tx', 10388), ('sassiness', 10389), ('javascript', 10390), ('membre', 10391), ('recless', 10392), ('mamma', 10393), ('headlock', 10394), ('whooooooooo', 10395), ('craaaaaaack', 10396), ('ensign', 10397), ('camper', 10398), ('atoshealthcare', 10399), ('paraphrase', 10400), ('revulsion', 10401), ('elicit', 10402), ('fascination', 10403), ('trite', 10404), ('bartender', 10405), ('kx', 10406), ('disc', 10407), ('paypal', 10408), ('copyright', 10409), ('violation', 10410), ('machiavellian', 10411), ('philip', 10412), ('lens', 10413), ('witted', 10414), ('alley', 10415), ('gentrifie', 10416), ('ghetto', 10417), ('chukey', 10418), ('inapporpriate', 10419), ('fergie', 10420), ('downwards', 10421), ('scientific', 10422), ('playhousecomm', 10423), ('adhere', 10424), ('memoir', 10425), ('holli', 10426), ('reese', 10427), ('witnese', 10428), ('coil', 10429), ('conform', 10430), ('rocker', 10431), ('demoralize', 10432), ('beirut', 10433), ('distaste', 10434), ('godaddy', 10435), ('privellege', 10436), ('domain', 10437), ('vehemently', 10438), ('elvive', 10439), ('sls', 10440), ('dim', 10441), ('sinai', 10442), ('sheep', 10443), ('amd', 10444), ('undiscovered', 10445), ('todayyy', 10446), ('habitual', 10447), ('initiation', 10448), ('inconsequential', 10449), ('ungraciously', 10450), ('liking', 10451), ('convoy', 10452), ('hauler', 10453), ('zine', 10454), ('sience', 10455), ('feminism', 10456), ('bauer', 10457), ('unconvinced', 10458), ('venu', 10459), ('smugly', 10460), ('textile', 10461), ('appt', 10462), ('acker', 10463), ('drunken', 10464), ('agility', 10465), ('srcurl', 10466), ('draftbloger', 10467), ('lsd', 10468), ('chemist', 10469), ('shroomery', 10470), ('smarty', 10471), ('dubied', 10472), ('dampen', 10473), ('sentinel', 10474), ('hanford', 10475), ('councilman', 10476), ('chins', 10477), ('propose', 10478), ('committee', 10479), ('justly', 10480), ('wristwatch', 10481), ('judgement', 10482), ('pointing', 10483), ('homophobia', 10484), ('mend', 10485), ('burgeon', 10486), ('sri', 10487), ('lankas', 10488), ('flatmate', 10489), ('shoudlnt', 10490), ('jacksonville', 10491), ('seminar', 10492), ('linklater', 10493), ('stinging', 10494), ('confidential', 10495), ('intermediary', 10496), ('pollicino', 10497), ('piddi', 10498), ('eurgh', 10499), ('scout', 10500), ('pinewood', 10501), ('cleat', 10502), ('flooring', 10503), ('chuffed', 10504), ('cox', 10505), ('liv', 10506), ('pail', 10507), ('tommy', 10508), ('flashlight', 10509), ('asher', 10510), ('distill', 10511), ('complexity', 10512), ('objective', 10513), ('tantric', 10514), ('pry', 10515), ('partake', 10516), ('litte', 10517), ('carping', 10518), ('extremly', 10519), ('setup', 10520), ('ffxi', 10521), ('duh', 10522), ('flusher', 10523), ('eqafe', 10524), ('monopoly', 10525), ('cocktail', 10526), ('inquisitive', 10527), ('barcial', 10528), ('allowance', 10529), ('surreal', 10530), ('caledonia', 10531), ('accepted', 10532), ('gervase', 10533), ('unfollow', 10534), ('crown', 10535), ('decite', 10536), ('avalanche', 10537), ('wesleyan', 10538), ('kitoben', 10539), ('playground', 10540), ('queezy', 10541), ('carcass', 10542), ('nordstrom', 10543), ('hatter', 10544), ('subpar', 10545), ('reproductive', 10546), ('everybitterthingissweet', 10547), ('jonese', 10548), ('ineffective', 10549), ('chiuv', 10550), ('kaddish', 10551), ('daven', 10552), ('amud', 10553), ('straightforwardness', 10554), ('cantina', 10555), ('marginalised', 10556), ('deploy', 10557), ('panty', 10558), ('council', 10559), ('drift', 10560), ('decompress', 10561), ('freeer', 10562), ('curler', 10563), ('atention', 10564), ('misstreate', 10565), ('affeccion', 10566), ('zoo', 10567), ('cordial', 10568), ('exemplify', 10569), ('apprise', 10570), ('approximately', 10571), ('buddys', 10572), ('disgestive', 10573), ('eighth', 10574), ('suzanne', 10575), ('vegas', 10576), ('evaluation', 10577), ('inconsiderate', 10578), ('sissy', 10579), ('missionary', 10580), ('palcebowhore', 10581), ('paternal', 10582), ('procrastinate', 10583), ('rational', 10584), ('enquiry', 10585), ('solidarity', 10586), ('iraq', 10587), ('stripping', 10588), ('ptl', 10589), ('dabble', 10590), ('pubicly', 10591), ('caste', 10592), ('elite', 10593), ('mogul', 10594), ('comatose', 10595), ('timely', 10596), ('kremlin', 10597), ('chechen', 10598), ('afghan', 10599), ('mujahedin', 10600), ('flakiness', 10601), ('materialist', 10602), ('newton', 10603), ('panther', 10604), ('dkang', 10605), ('acuman', 10606), ('ensues', 10607), ('subscription', 10608), ('andreas', 10609), ('annotation', 10610), ('thequeenbuzz', 10611), ('mun', 10612), ('puzzled', 10613), ('thump', 10614), ('liberate', 10615), ('nutritional', 10616), ('demonstrate', 10617), ('shedding', 10618), ('finding', 10619), ('moaning', 10620), ('inject', 10621), ('venom', 10622), ('outrageously', 10623), ('tourette', 10624), ('unpredictability', 10625), ('carnage', 10626), ('skudrive', 10627), ('becsuse', 10628), ('physicality', 10629), ('bacuse', 10630), ('passerby', 10631), ('sulk', 10632), ('spazze', 10633), ('three', 10634), ('kiat', 10635), ('obsessive', 10636), ('anal', 10637), ('tis', 10638), ('reddit', 10639), ('dispaire', 10640), ('poser', 10641), ('libertine', 10642), ('jail', 10643), ('inhuman', 10644), ('netherlands', 10645), ('macendarfer', 10646), ('justquiltn', 10647), ('thrifty', 10648), ('tdy', 10649), ('convert', 10650), ('currency', 10651), ('radar', 10652), ('unnoticed', 10653), ('slink', 10654), ('invariably', 10655), ('indirectly', 10656), ('manhandle', 10657), ('hertha', 10658), ('rejoice', 10659), ('err', 10660), ('jurys', 10661), ('reincarnation', 10662), ('arabia', 10663), ('indigenous', 10664), ('heater', 10665), ('muddle', 10666), ('wot', 10667), ('marching', 10668), ('rudderless', 10669), ('murua', 10670), ('wakeup', 10671), ('nourish', 10672), ('lajoie', 10673), ('famer', 10674), ('infuriated', 10675), ('lowly', 10676), ('khezef', 10677), ('effeminacy', 10678), ('scad', 10679), ('nailart', 10680), ('headlamp', 10681), ('tent', 10682), ('dharavi', 10683), ('turnover', 10684), ('stitching', 10685), ('daddys', 10686), ('feelingless', 10687), ('nighter', 10688), ('hierarchy', 10689), ('shampoo', 10690), ('lather', 10691), ('selectively', 10692), ('chink', 10693), ('sustainabilitys', 10694), ('hinder', 10695), ('genentech', 10696), ('takeover', 10697), ('hernia', 10698), ('pageview', 10699), ('reaaallyyyy', 10700), ('touched', 10701), ('mobility', 10702), ('rego', 10703), ('instant', 10704), ('refocus', 10705), ('epileptic', 10706), ('melee', 10707), ('dps', 10708), ('exertion', 10709), ('pendant', 10710), ('mousse', 10711), ('swedish', 10712), ('turnip', 10713), ('metropolitan', 10714), ('mushy', 10715), ('feverishly', 10716), ('ship', 10717), ('seeing', 10718), ('inter', 10719), ('generational', 10720), ('bridgewater', 10721), ('reactor', 10722), ('rebel', 10723), ('funding', 10724), ('wt', 10725), ('txl', 10726), ('esteemed', 10727), ('ultralight', 10728), ('newcomer', 10729), ('tangent', 10730), ('emma', 10731), ('hypnosis', 10732), ('porcupine', 10733), ('inexplicably', 10734), ('unfounded', 10735), ('wrongfully', 10736), ('astray', 10737), ('sonia', 10738), ('yixuan', 10739), ('atiqah', 10740), ('shortly', 10741), ('circus', 10742), ('ambience', 10743), ('cantankerous', 10744), ('marijuana', 10745), ('js', 10746), ('jilt', 10747), ('committed', 10748), ('architect', 10749), ('whatever', 10750), ('bee', 10751), ('kristi', 10752), ('gastric', 10753), ('iteration', 10754), ('fiercely', 10755), ('superdrug', 10756), ('bunche', 10757), ('slog', 10758), ('sips', 10759), ('substantially', 10760), ('charred', 10761), ('hypocritical', 10762), ('bard', 10763), ('hillary', 10764), ('elude', 10765), ('colin', 10766), ('entirelly', 10767), ('dawning', 10768), ('marlowe', 10769), ('humanitys', 10770), ('ruthless', 10771), ('rapacity', 10772), ('susanna', 10773), ('viste', 10774), ('devestate', 10775), ('grave', 10776), ('andangry', 10777), ('glint', 10778), ('pathological', 10779), ('overslept', 10780), ('drape', 10781), ('conection', 10782), ('customize', 10783), ('winey', 10784), ('scummy', 10785), ('autism', 10786), ('witless', 10787), ('bontoc', 10788), ('ribbon', 10789), ('flossing', 10790), ('sabbatical', 10791), ('oxbow', 10792), ('kentucky', 10793), ('preakness', 10794), ('sloan', 10795), ('utah', 10796), ('logistics', 10797), ('prediction', 10798), ('cathe', 10799), ('thatrupert', 10800), ('jam', 10801), ('jazzed', 10802), ('biz', 10803), ('kierkegaard', 10804), ('philosopher', 10805), ('interference', 10806), ('stunt', 10807), ('headcold', 10808), ('perusal', 10809), ('intensify', 10810), ('recruiter', 10811), ('opiate', 10812), ('infant', 10813), ('clairee', 10814), ('undecorating', 10815), ('cornish', 10816), ('cornwall', 10817), ('imbibe', 10818), ('incalculable', 10819), ('mischief', 10820), ('lovedi', 10821), ('creamy', 10822), ('cheesecake', 10823), ('seemad', 10824), ('nadia', 10825), ('neal', 10826), ('frappe', 10827), ('cliche', 10828), ('parked', 10829), ('soulbitesblog', 10830), ('louder', 10831), ('raider', 10832), ('methink', 10833), ('egypt', 10834), ('goddamne', 10835), ('stereotypical', 10836), ('openness', 10837), ('disorganised', 10838), ('uuuugh', 10839), ('recourse', 10840), ('cabeal', 10841), ('viral', 10842), ('hotline', 10843), ('reliant', 10844), ('foible', 10845), ('storytelling', 10846), ('pew', 10847), ('inundate', 10848), ('dominate', 10849), ('dissappear', 10850), ('qq', 10851), ('impoverished', 10852), ('traveler', 10853), ('freestone', 10854), ('irritant', 10855), ('fundamentally', 10856), ('democratic', 10857), ('alexander', 10858), ('hectic', 10859), ('publication', 10860), ('espa', 10861), ('hd', 10862), ('lifes', 10863), ('marbled', 10864), ('murrelet', 10865), ('conductor', 10866), ('oiut', 10867), ('minibus', 10868), ('saddest', 10869), ('restrained', 10870), ('impotent', 10871), ('artificial', 10872), ('externally', 10873), ('faithsedge', 10874), ('archdiocese', 10875), ('restoration', 10876), ('cathedral', 10877), ('strategic', 10878), ('esque', 10879), ('bondmusing', 10880), ('hills', 10881), ('hickory', 10882), ('lenoir', 10883), ('morganton', 10884), ('lathi', 10885), ('yea', 10886), ('foreboding', 10887), ('fragment', 10888), ('vietnam', 10889), ('tazi', 10890), ('devise', 10891), ('bias', 10892), ('anthology', 10893), ('drs', 10894), ('herd', 10895), ('mindless', 10896), ('cohort', 10897), ('inadaquate', 10898), ('vocalist', 10899), ('femininely', 10900), ('overrrrrrrrrrrr', 10901), ('sachet', 10902), ('rose', 10903), ('brandish', 10904), ('abortion', 10905), ('overdone', 10906), ('matte', 10907), ('laden', 10908), ('roasted', 10909), ('understandable', 10910), ('bioware', 10911), ('proximity', 10912), ('playroom', 10913), ('bombsite', 10914), ('conservatory', 10915), ('coolness', 10916), ('timeline', 10917), ('carseat', 10918), ('energetics', 10919), ('cinnamon', 10920), ('egan', 10921), ('kurt', 10922), ('intentionality', 10923), ('interactive', 10924), ('travelogue', 10925), ('bough', 10926), ('cardiff', 10927), ('pervasive', 10928), ('wagon', 10929), ('par', 10930), ('faculty', 10931), ('crossword', 10932), ('milkshake', 10933), ('habanero', 10934), ('rad', 10935), ('stimulation', 10936), ('maclaine', 10937), ('abundance', 10938), ('extraordinary', 10939), ('obesity', 10940), ('invent', 10941), ('hail', 10942), ('ember', 10943), ('whalentee', 10944), ('benson', 10945), ('monica', 10946), ('relegate', 10947), ('wanatribe', 10948), ('tranquility', 10949), ('spotlessly', 10950), ('tattere', 10951), ('gust', 10952), ('dedicated', 10953), ('plein', 10954), ('dlpt', 10955), ('stressor', 10956), ('consignment', 10957), ('goodwill', 10958), ('scarf', 10959), ('flux', 10960), ('biochemistry', 10961), ('zambia', 10962), ('ransom', 10963), ('nancy', 10964), ('alotta', 10965), ('sonogram', 10966), ('coldplays', 10967), ('manicure', 10968), ('overtone', 10969), ('jonny', 10970), ('off', 10971), ('cardiovascular', 10972), ('emoexaderistic', 10973), ('providence', 10974), ('evgeni', 10975), ('malkin', 10976), ('timmy', 10977), ('ytear', 10978), ('justwhen', 10979), ('futrue', 10980), ('timesa', 10981), ('efeele', 10982), ('slit', 10983), ('tartandheathere', 10984), ('louche', 10985), ('disbelief', 10986), ('fixture', 10987), ('jajaja', 10988), ('overtaken', 10989), ('greenery', 10990), ('harmfully', 10991), ('jogless', 10992), ('stripe', 10993), ('oogle', 10994), ('actress', 10995), ('vague', 10996), ('forefinger', 10997), ('thumb', 10998), ('idaho', 10999), ('kudo', 11000), ('organizer', 11001), ('summit', 11002), ('carla', 11003), ('creating', 11004), ('burkie', 11005), ('banish', 11006), ('exhibitionism', 11007), ('newrhinegargoyle', 11008), ('adrasteius', 11009), ('eulalias', 11010), ('tho', 11011), ('incest', 11012), ('mar', 11013), ('prose', 11014), ('particulary', 11015), ('folksy', 11016), ('rawr', 11017), ('fictional', 11018), ('jillian', 11019), ('grape', 11020), ('watermelon', 11021), ('berry', 11022), ('mint', 11023), ('liqueur', 11024), ('rum', 11025), ('drambuie', 11026), ('documenti', 11027), ('ffayth', 11028), ('armpit', 11029), ('fleet', 11030), ('hopper', 11031), ('widely', 11032), ('dianam', 11033), ('cricnepal', 11034), ('faint', 11035), ('lll', 11036), ('karmardav', 11037), ('unappreciative', 11038), ('peel', 11039), ('allergic', 11040), ('distrustful', 11041), ('tout', 11042), ('cognize', 11043), ('cosmos', 11044), ('years', 11045), ('hamster', 11046), ('sylvanian', 11047), ('flocked', 11048), ('fur', 11049), ('zenos', 11050), ('generalization', 11051), ('solver', 11052), ('sermon', 11053), ('scotty', 11054), ('mural', 11055), ('painstakingly', 11056), ('rigorous', 11057), ('ingenious', 11058), ('baking', 11059), ('dummy', 11060), ('pariah', 11061), ('lve', 11062), ('homeland', 11063), ('mansion', 11064), ('thrilling', 11065), ('plantar', 11066), ('fascitis', 11067), ('reported', 11068), ('dissassociate', 11069), ('grudge', 11070), ('glow', 11071), ('expressive', 11072), ('jasmine', 11073), ('teapot', 11074), ('pretzel', 11075), ('athf', 11076), ('minded', 11077), ('sweatpant', 11078), ('commute', 11079), ('ferry', 11080), ('armani', 11081), ('blazer', 11082), ('overthink', 11083), ('disband', 11084), ('server', 11085), ('herbal', 11086), ('autonomy', 11087), ('disposable', 11088), ('pani', 11089), ('nonbipartisan', 11090), ('aluminum', 11091), ('hrs', 11092), ('conversational', 11093), ('deader', 11094), ('predawn', 11095), ('scape', 11096), ('ehh', 11097), ('canadas', 11098), ('govern', 11099), ('lungful', 11100), ('hideously', 11101), ('guily', 11102), ('befoe', 11103), ('tod', 11104), ('keeper', 11105), ('journaling', 11106), ('suzanna', 11107), ('idyllic', 11108), ('vacationer', 11109), ('batchmate', 11110), ('aggression', 11111), ('jamaica', 11112), ('thundershower', 11113), ('ginormous', 11114), ('earley', 11115), ('alan', 11116), ('unloveable', 11117), ('exfoliate', 11118), ('mimic', 11119), ('longlasting', 11120), ('winehouse', 11121), ('ford', 11122), ('mysterious', 11123), ('intimately', 11124), ('buoy', 11125), ('surrender', 11126), ('transcendent', 11127), ('started', 11128), ('unsatisfying', 11129), ('internetsphere', 11130), ('sojourn', 11131), ('judy', 11132), ('glasberg', 11133), ('unduly', 11134), ('detector', 11135), ('anthem', 11136), ('practicie', 11137), ('cult', 11138), ('falun', 11139), ('gong', 11140), ('bemused', 11141), ('venting', 11142), ('signing', 11143), ('children', 11144), ('hurried', 11145), ('fray', 11146), ('spinner', 11147), ('detachedly', 11148), ('jammed', 11149), ('noseband', 11150), ('infusion', 11151), ('unkindness', 11152), ('selfishness', 11153), ('distorted', 11154), ('liek', 11155), ('logging', 11156), ('eloquence', 11157), ('vienna', 11158), ('endorse', 11159), ('litter', 11160), ('swingset', 11161), ('curfew', 11162), ('hb', 11163), ('nemesis', 11164), ('pickup', 11165), ('orlando', 11166), ('hirsi', 11167), ('ingrid', 11168), ('affectionately', 11169), ('sparsh', 11170), ('climax', 11171), ('quench', 11172), ('extinguish', 11173), ('mold', 11174), ('rivalry', 11175), ('riley', 11176), ('republican', 11177), ('unseat', 11178), ('insatiable', 11179), ('frilly', 11180), ('bloomer', 11181), ('babydoll', 11182), ('hehehehehe', 11183), ('selling', 11184), ('dissatisfaction', 11185), ('misused', 11186), ('apostrophe', 11187), ('bbc', 11188), ('spelling', 11189), ('itv', 11190), ('jittery', 11191), ('meh', 11192), ('looooong', 11193), ('melodious', 11194), ('benno', 11195), ('motorcycle', 11196), ('slouchy', 11197), ('resilience', 11198), ('royally', 11199), ('var', 11200), ('bogart', 11201), ('bewilder', 11202), ('arvo', 11203), ('appreciated', 11204), ('benedictine', 11205), ('monastic', 11206), ('statesman', 11207), ('lynch', 11208), ('contend', 11209), ('morality', 11210), ('pediatrician', 11211), ('aaaand', 11212), ('detergent', 11213), ('satisfy', 11214), ('newly', 11215), ('addled', 11216), ('emtyness', 11217), ('taint', 11218), ('unbelievably', 11219), ('jot', 11220), ('traumatise', 11221), ('pestilence', 11222), ('starvation', 11223), ('pepper', 11224), ('zico', 11225), ('elevation', 11226), ('leer', 11227), ('firsthand', 11228), ('outstretched', 11229), ('purposeless', 11230), ('hermione', 11231), ('spazzola', 11232), ('prima', 11233), ('andare', 11234), ('dormire', 11235), ('pamper', 11236), ('diligently', 11237), ('underline', 11238), ('manageable', 11239), ('oxtail', 11240), ('tomoe', 11241), ('theofilou', 11242), ('kastrioti', 11243), ('eaten', 11244), ('impenetrable', 11245), ('crescent', 11246), ('havet', 11247), ('gloss', 11248), ('heed', 11249), ('obsess', 11250), ('hilariously', 11251), ('lodge', 11252), ('oesophagus', 11253), ('insipid', 11254), ('boomer', 11255), ('unamerican', 11256), ('detention', 11257), ('figt', 11258), ('withdrawn', 11259), ('emergence', 11260), ('badman', 11261), ('cammie', 11262), ('headless', 11263), ('competitive', 11264), ('shrink', 11265), ('risky', 11266), ('vary', 11267), ('destroyer', 11268), ('imitate', 11269), ('reminisce', 11270), ('millennium', 11271), ('brainstorm', 11272), ('vice', 11273), ('sanitiation', 11274), ('snoozel', 11275), ('contractual', 11276), ('vietnamese', 11277), ('unbreakable', 11278), ('writin', 11279), ('gs', 11280), ('dwindle', 11281), ('arsenal', 11282), ('mack', 11283), ('revamp', 11284), ('impulse', 11285), ('nik', 11286), ('dinn', 11287), ('socializing', 11288), ('headed', 11289), ('roam', 11290), ('opponent', 11291), ('disqualification', 11292), ('hawaiian', 11293), ('serioulsy', 11294), ('jreyez', 11295), ('jenny', 11296), ('persuasion', 11297), ('alll', 11298), ('veryy', 11299), ('crunchy', 11300), ('waitrose', 11301), ('parking', 11302), ('yearly', 11303), ('hollyoak', 11304), ('liriano', 11305), ('ardmore', 11306), ('kaikohe', 11307), ('pilot', 11308), ('licence', 11309), ('problematic', 11310), ('heightened', 11311), ('endlessly', 11312), ('riku', 11313), ('extract', 11314), ('kindaish', 11315), ('sighhh', 11316), ('playwright', 11317), ('robert', 11318), ('reid', 11319), ('calculated', 11320), ('portugu', 11321), ('boredwithquinn', 11322), ('popeye', 11323), ('cartoon', 11324), ('nano', 11325), ('levi', 11326), ('tread', 11327), ('osteopath', 11328), ('boulder', 11329), ('snappy', 11330), ('bayou', 11331), ('cypress', 11332), ('wildlife', 11333), ('ringing', 11334), ('unpaved', 11335), ('undergraduate', 11336), ('humanly', 11337), ('shailene', 11338), ('undeserving', 11339), ('annulment', 11340), ('intuitive', 11341), ('sectret', 11342), ('egf', 11343), ('jar', 11344), ('sparkleapple', 11345), ('akward', 11346), ('powerlessness', 11347), ('tizzy', 11348), ('haagen', 11349), ('dazs', 11350), ('indisputably', 11351), ('posting', 11352), ('doorknob', 11353), ('clo', 11354), ('privately', 11355), ('growl', 11356), ('nevercontrary', 11357), ('jake', 11358), ('mongoose', 11359), ('tai', 11360), ('chi', 11361), ('dehydrated', 11362), ('hasan', 11363), ('modest', 11364), ('schadenfreude', 11365), ('voyeur', 11366), ('neurosurgeon', 11367), ('ick', 11368), ('selena', 11369), ('rupture', 11370), ('skid', 11371), ('churchy', 11372), ('cheesy', 11373), ('hourglass', 11374), ('rfttttttttttsjiowefmklldkavsvdsbtwrsbdvfocxfibjxrklrgrmvaeridubneosdvfrwfd', 11375), ('stressing', 11376), ('gen', 11377), ('xer', 11378), ('heeled', 11379), ('finalist', 11380), ('expend', 11381), ('miscreant', 11382), ('diagnostician', 11383), ('lauper', 11384), ('sadlovequotesforhim', 11385), ('travis', 11386), ('heighten', 11387), ('crucial', 11388), ('expatriate', 11389), ('budgetary', 11390), ('fascinating', 11391), ('ant', 11392), ('cudnt', 11393), ('fren', 11394), ('philippines', 11395), ('dat', 11396), ('rapid', 11397), ('br', 11398), ('roman', 11399), ('freaky', 11400), ('sat', 11401), ('monarch', 11402), ('geographically', 11403), ('overemotional', 11404), ('donna', 11405), ('jtwoo', 11406), ('fixable', 11407), ('horrifying', 11408), ('longed', 11409), ('tenderness', 11410), ('overconfident', 11411), ('mohdashif', 11412), ('underappreciated', 11413), ('mcraven', 11414), ('ut', 11415), ('plusone', 11416), ('data', 11417), ('wilcfry', 11418), ('freud', 11419), ('irma', 11420), ('injection', 11421), ('lifespan', 11422), ('alli', 11423), ('twiggy', 11424), ('holder', 11425), ('neon', 11426), ('shizz', 11427), ('oppressive', 11428), ('sniff', 11429), ('rockette', 11430), ('feminine', 11431), ('masculine', 11432), ('stipulation', 11433), ('skeere', 11434), ('allusion', 11435), ('massou', 11436), ('puter', 11437), ('invasion', 11438), ('re', 11439), ('lik', 11440), ('debra', 11441), ('woodston', 11442), ('kansas', 11443), ('assemblies', 11444), ('fiesty', 11445), ('haggle', 11446), ('willfully', 11447), ('nickey', 11448), ('slogging', 11449), ('out', 11450), ('popcorn', 11451), ('pinot', 11452), ('gris', 11453), ('obbie', 11454), ('consulate', 11455), ('infp', 11456), ('hassle', 11457), ('curly', 11458), ('straighten', 11459), ('tabby', 11460), ('creek', 11461), ('meadow', 11462), ('fighter', 11463), ('upholstered', 11464), ('timeless', 11465), ('gertrude', 11466), ('stuckin', 11467), ('discombobulate', 11468), ('poster', 11469), ('bryangregorylewi', 11470), ('blogland', 11471), ('dunnno', 11472), ('miniature', 11473), ('alcoholic', 11474), ('dribble', 11475), ('dispute', 11476), ('universalized', 11477), ('accustom', 11478), ('imperfection', 11479), ('sexist', 11480), ('whispering', 11481), ('diss', 11482), ('fug', 11483), ('keynotes', 11484), ('hypocrisy', 11485), ('wantig', 11486), ('yawn', 11487), ('thankk', 11488), ('mange', 11489), ('jrpgs', 11490), ('righteousness', 11491), ('weren', 11492), ('unprofessional', 11493), ('detroit', 11494), ('specialized', 11495), ('imperfect', 11496), ('oiler', 11497), ('pt', 11498), ('gloom', 11499), ('overheat', 11500), ('ren', 11501), ('stimpy', 11502), ('gemini', 11503), ('scorpio', 11504), ('gardening', 11505), ('slr', 11506), ('goer', 11507), ('awoken', 11508), ('zz', 11509), ('keychain', 11510), ('tltg', 11511), ('peach', 11512), ('delve', 11513), ('mystify', 11514), ('kicking', 11515), ('diagonal', 11516), ('kendo', 11517), ('frog', 11518), ('downstream', 11519), ('motel', 11520), ('char', 11521), ('cleary', 11522), ('assurance', 11523), ('merson', 11524), ('badger', 11525), ('arse', 11526), ('wolfiewolfgang', 11527), ('numbingly', 11528), ('nudist', 11529), ('sl', 11530), ('snorkeling', 11531), ('activation', 11532), ('eclipse', 11533), ('pond', 11534), ('scramble', 11535), ('meticulously', 11536), ('frightening', 11537), ('frightful', 11538), ('abdoman', 11539), ('winetasting', 11540), ('neferet', 11541), ('kuribayashi', 11542), ('psssh', 11543), ('hesei', 11544), ('kamen', 11545), ('americas', 11546), ('descend', 11547), ('sooooooooper', 11548), ('wrapping', 11549), ('conclude', 11550), ('rocket', 11551), ('satire', 11552), ('springy', 11553), ('camwhore', 11554), ('pudding', 11555), ('anotehr', 11556), ('ftw', 11557), ('paramilitary', 11558), ('nag', 11559), ('tody', 11560), ('decal', 11561), ('deride', 11562), ('swearing', 11563), ('apocalypse', 11564), ('ica', 11565), ('loosen', 11566), ('restrict', 11567), ('infatuation', 11568), ('civilization', 11569), ('vase', 11570), ('buoie', 11571), ('tryin', 11572), ('gud', 11573), ('understad', 11574), ('abt', 11575), ('dats', 11576), ('problemn', 11577), ('carin', 11578), ('cape', 11579), ('akron', 11580), ('odkh', 11581), ('kilter', 11582), ('shameless', 11583), ('blond', 11584), ('gunna', 11585), ('venerable', 11586), ('calmly', 11587), ('forwards', 11588), ('hymn', 11589), ('proffer', 11590), ('duet', 11591), ('oop', 11592), ('conqueror', 11593), ('wretch', 11594), ('pissy', 11595), ('awed', 11596), ('dumbass', 11597), ('rukia', 11598), ('wiki', 11599), ('rudely', 11600), ('influx', 11601), ('alsway', 11602), ('intubate', 11603), ('ime', 11604), ('hunch', 11605), ('disruption', 11606), ('behold', 11607), ('indulged', 11608), ('gop', 11609), ('drinky', 11610), ('lemur', 11611), ('animated', 11612), ('slobby', 11613), ('incestuous', 11614), ('twoyear', 11615), ('abhorrent', 11616), ('clodia', 11617), ('everitt', 11618), ('kina', 11619), ('peice', 11620), ('marginalise', 11621), ('bicycle', 11622), ('obrian', 11623), ('characterisation', 11624), ('rec', 11625), ('thompson', 11626), ('fluff', 11627), ('eepctqlhiafjwnrrmas', 11628), ('permit', 11629), ('flour', 11630), ('tricky', 11631), ('complement', 11632), ('chic', 11633), ('structured', 11634), ('wizarde', 11635), ('mudblood', 11636), ('whatnot', 11637), ('hockney', 11638), ('saloon', 11639), ('undertone', 11640), ('convo', 11641), ('humping', 11642), ('aj', 11643), ('burnout', 11644), ('derange', 11645), ('helena', 11646), ('bonham', 11647), ('johnnykaje', 11648), ('scotch', 11649), ('intended', 11650), ('expedition', 11651), ('amazingness', 11652), ('noticeably', 11653), ('ideally', 11654), ('acim', 11655), ('abraham', 11656), ('caramel', 11657), ('syrup', 11658), ('shhh', 11659), ('laddie', 11660), ('crib', 11661), ('vantage', 11662), ('flagellate', 11663), ('priest', 11664), ('hmm', 11665), ('rhyme', 11666), ('potion', 11667), ('dessen', 11668), ('generalize', 11669), ('retaliation', 11670), ('opera', 11671), ('shhhhhhh', 11672), ('hella', 11673), ('juggle', 11674), ('navigate', 11675), ('amazement', 11676), ('looking', 11677), ('trigonometry', 11678), ('tutee', 11679), ('shuffle', 11680), ('liable', 11681), ('aussy', 11682), ('paulo', 11683), ('coelho', 11684), ('pende', 11685), ('preschooler', 11686), ('miller', 11687), ('trickery', 11688), ('dullness', 11689), ('fraudulent', 11690), ('geography', 11691), ('rosary', 11692), ('treachery', 11693), ('xl', 11694), ('gimme', 11695), ('lulu', 11696), ('mover', 11697), ('ann', 11698), ('supplicate', 11699), ('celexa', 11700), ('se', 11701), ('spectra', 11702), ('gfb', 11703), ('finale', 11704), ('bookworm', 11705), ('choc', 11706), ('bloc', 11707), ('yawwwn', 11708), ('freshly', 11709), ('doodlesandscrapsofme', 11710), ('bal', 11711), ('thackerey', 11712), ('palpably', 11713), ('diazepam', 11714), ('clozapine', 11715), ('sepang', 11716), ('axilla', 11717), ('morla', 11718), ('transformer', 11719), ('fluidly', 11720), ('jude', 11721), ('asciatic', 11722), ('nikola', 11723), ('torward', 11724), ('moisturized', 11725), ('tryst', 11726), ('jurer', 11727), ('construction', 11728), ('pulpit', 11729), ('efficacy', 11730), ('varsity', 11731), ('weaving', 11732), ('tim', 11733), ('psyched', 11734), ('empathise', 11735), ('trailer', 11736), ('taxation', 11737), ('mayor', 11738), ('byron', 11739), ('sized', 11740), ('haka', 11741), ('pointy', 11742), ('floss', 11743), ('medicate', 11744), ('jog', 11745), ('overnight', 11746), ('ahem', 11747), ('arty', 11748), ('ahkman', 11749), ('maniacal', 11750), ('aboard', 11751), ('gillard', 11752), ('undefinable', 11753), ('bleh', 11754), ('irreparably', 11755), ('nolean', 11756), ('wihtout', 11757), ('needin', 11758), ('beth', 11759), ('kindda', 11760), ('brunch', 11761), ('waldo', 11762), ('flinch', 11763), ('seasonal', 11764), ('airtime', 11765), ('unrealistically', 11766), ('hubbie', 11767), ('tin', 11768), ('chant', 11769), ('reverberate', 11770), ('remotional', 11771), ('clammy', 11772), ('flaunt', 11773), ('cotton', 11774), ('barker', 11775), ('proudly', 11776), ('mimm', 11777), ('thislifeissparkle', 11778), ('tinsel', 11779), ('headband', 11780), ('brooch', 11781), ('nashville', 11782), ('shave', 11783), ('refrence', 11784), ('mallrat', 11785), ('torch', 11786), ('posh', 11787), ('cushy', 11788), ('clamour', 11789), ('exicting', 11790), ('petrify', 11791), ('nannye', 11792), ('snark', 11793), ('greeting', 11794), ('avenue', 11795), ('goin', 11796), ('moshav', 11797), ('dancin', 11798), ('beatle', 11799), ('prosecutor', 11800), ('dc', 11801), ('legal', 11802), ('blunder', 11803), ('downtown', 11804), ('terrribly', 11805), ('livejournal', 11806), ('ryota', 11807), ('keita', 11808), ('kota', 11809), ('undeniably', 11810), ('iggy', 11811), ('azealea', 11812), ('louboutin', 11813), ('rita', 11814), ('ora', 11815), ('vivienne', 11816), ('westwood', 11817), ('managment', 11818), ('rural', 11819), ('vocref', 11820), ('ontology', 11821), ('affirmative', 11822), ('disastered', 11823), ('stylish', 11824), ('auction', 11825), ('daley', 11826), ('bronze', 11827), ('wi', 11828), ('carnivore', 11829), ('councillor', 11830), ('audre', 11831), ('lorde', 11832), ('antidepressant', 11833), ('miraculously', 11834), ('brach', 11835), ('chipmunk', 11836), ('elegance', 11837), ('vulturous', 11838), ('sic', 11839), ('poisonous', 11840), ('psychiatry', 11841), ('gfs', 11842), ('vivek', 11843), ('oberoi', 11844), ('herb', 11845), ('arrow', 11846), ('jerome', 11847), ('supersensitive', 11848), ('contamination', 11849), ('enraged', 11850), ('abbigail', 11851), ('apraxia', 11852), ('completeness', 11853), ('everyfuckingthing', 11854), ('passive', 11855), ('lovecraft', 11856), ('sparkly', 11857), ('policeman', 11858), ('mammal', 11859), ('accompaniment', 11860), ('overlap', 11861), ('squeek', 11862), ('underlie', 11863), ('hachi', 11864), ('nobu', 11865), ('nana', 11866), ('riotousrambling', 11867), ('ps', 11868), ('odeon', 11869), ('portugal', 11870), ('philosophical', 11871), ('lev', 11872), ('eachother', 11873), ('killjoy', 11874), ('terrorised', 11875), ('forsaken', 11876), ('isobelmeg', 11877), ('squirm', 11878), ('ribcage', 11879), ('japan', 11880), ('manchester', 11881), ('ones', 11882), ('aunty', 11883), ('disconsolate', 11884), ('bungalow', 11885), ('thanksgive', 11886), ('paste', 11887), ('saved', 11888), ('pandora', 11889), ('cosmopolitian', 11890), ('calming', 11891), ('monkee', 11892), ('irrelevant', 11893), ('braeden', 11894), ('calvin', 11895), ('beanbag', 11896)])"
            ]
          },
          "execution_count": 437,
          "metadata": {},
          "output_type": "execute_result"
        }
      ],
      "source": [
        "word_index.items()"
      ]
    },
    {
      "cell_type": "code",
      "execution_count": 438,
      "metadata": {},
      "outputs": [
        {
          "name": "stdout",
          "output_type": "stream",
          "text": [
            "feel 1\n",
            "like 2\n",
            "m 3\n",
            "not 4\n",
            "feeling 5\n",
            "know 6\n",
            "time 7\n",
            "t 8\n",
            "want 9\n",
            "think 10\n",
            "s 11\n"
          ]
        }
      ],
      "source": [
        "# Itera sobre os pares Chave-Valor do dicionário\n",
        "for i, (chave, valor) in enumerate(word_index.items()):\n",
        "    print(chave, valor)\n",
        "    if i == 10:\n",
        "        break"
      ]
    },
    {
      "cell_type": "code",
      "execution_count": 439,
      "metadata": {},
      "outputs": [],
      "source": [
        "sequencias_treino = tokenizador.texts_to_sequences(dados_treino['texto_processado'])"
      ]
    },
    {
      "cell_type": "code",
      "execution_count": 440,
      "metadata": {},
      "outputs": [],
      "source": [
        "max_length = 100"
      ]
    },
    {
      "cell_type": "code",
      "execution_count": 441,
      "metadata": {},
      "outputs": [],
      "source": [
        "# Padding das sequências de treino\n",
        "sequencias_treino_pad = pad_sequences(sequencias_treino, maxlen=max_length, truncating='post')\t"
      ]
    },
    {
      "cell_type": "code",
      "execution_count": 442,
      "metadata": {},
      "outputs": [],
      "source": [
        "sequencias_teste = tokenizador.texts_to_sequences(dados_teste['texto_processado'])"
      ]
    },
    {
      "cell_type": "code",
      "execution_count": 443,
      "metadata": {},
      "outputs": [],
      "source": [
        "sequencias_teste_pad = pad_sequences(sequencias_teste, maxlen=max_length)"
      ]
    },
    {
      "cell_type": "code",
      "execution_count": 444,
      "metadata": {},
      "outputs": [],
      "source": [
        "len_v2 = LabelEncoder()"
      ]
    },
    {
      "cell_type": "code",
      "execution_count": 445,
      "metadata": {},
      "outputs": [],
      "source": [
        "y_treino_le = len_v2.fit_transform(dados_treino['sentimento'])"
      ]
    },
    {
      "cell_type": "code",
      "execution_count": 446,
      "metadata": {},
      "outputs": [],
      "source": [
        "y_teste_le = len_v2.transform(dados_teste['sentimento'])"
      ]
    },
    {
      "cell_type": "code",
      "execution_count": 447,
      "metadata": {},
      "outputs": [],
      "source": [
        "y_treino_encoded = to_categorical(y_treino_le)\n",
        "y_teste_encoded = to_categorical(y_teste_le)"
      ]
    },
    {
      "cell_type": "code",
      "execution_count": 448,
      "metadata": {},
      "outputs": [],
      "source": [
        "vocab_size = len(word_index) + 1"
      ]
    },
    {
      "cell_type": "code",
      "execution_count": 449,
      "metadata": {},
      "outputs": [
        {
          "data": {
            "text/plain": [
              "11897"
            ]
          },
          "execution_count": 449,
          "metadata": {},
          "output_type": "execute_result"
        }
      ],
      "source": [
        "vocab_size"
      ]
    },
    {
      "cell_type": "code",
      "execution_count": 464,
      "metadata": {},
      "outputs": [],
      "source": [
        "embedding_dim = max_length"
      ]
    },
    {
      "cell_type": "code",
      "execution_count": 503,
      "metadata": {},
      "outputs": [
        {
          "name": "stderr",
          "output_type": "stream",
          "text": [
            "c:\\Users\\angel\\anaconda3\\envs\\dsa-formacao-ia\\Lib\\site-packages\\keras\\src\\layers\\core\\embedding.py:90: UserWarning: Argument `input_length` is deprecated. Just remove it.\n",
            "  warnings.warn(\n"
          ]
        }
      ],
      "source": [
        "model_v2 = tf.keras.Sequential([\n",
        "    Embedding(vocab_size, embedding_dim, input_length=max_length),\n",
        "    Bidirectional(LSTM(64)),\n",
        "    Dropout(0.4),\n",
        "    Dense(32, activation = 'leaky_relu', kernel_regularizer=l1_l2(l1 = 0.01,l2 = 0.01)),\n",
        "    Dropout(0.4),\n",
        "    Dense(6, activation='softmax')\n",
        "])"
      ]
    },
    {
      "cell_type": "code",
      "execution_count": 504,
      "metadata": {},
      "outputs": [],
      "source": [
        "model_v2.compile(optimizer='adam', loss='categorical_crossentropy', metrics=['accuracy', Precision(), Recall(), AUC()])"
      ]
    },
    {
      "cell_type": "code",
      "execution_count": 511,
      "metadata": {},
      "outputs": [
        {
          "data": {
            "text/html": [
              "<pre style=\"white-space:pre;overflow-x:auto;line-height:normal;font-family:Menlo,'DejaVu Sans Mono',consolas,'Courier New',monospace\"><span style=\"font-weight: bold\">Model: \"sequential_20\"</span>\n",
              "</pre>\n"
            ],
            "text/plain": [
              "\u001b[1mModel: \"sequential_20\"\u001b[0m\n"
            ]
          },
          "metadata": {},
          "output_type": "display_data"
        },
        {
          "data": {
            "text/html": [
              "<pre style=\"white-space:pre;overflow-x:auto;line-height:normal;font-family:Menlo,'DejaVu Sans Mono',consolas,'Courier New',monospace\">┏━━━━━━━━━━━━━━━━━━━━━━━━━━━━━━━━━┳━━━━━━━━━━━━━━━━━━━━━━━━┳━━━━━━━━━━━━━━━┓\n",
              "┃<span style=\"font-weight: bold\"> Layer (type)                    </span>┃<span style=\"font-weight: bold\"> Output Shape           </span>┃<span style=\"font-weight: bold\">       Param # </span>┃\n",
              "┡━━━━━━━━━━━━━━━━━━━━━━━━━━━━━━━━━╇━━━━━━━━━━━━━━━━━━━━━━━━╇━━━━━━━━━━━━━━━┩\n",
              "│ embedding_32 (<span style=\"color: #0087ff; text-decoration-color: #0087ff\">Embedding</span>)        │ (<span style=\"color: #00af00; text-decoration-color: #00af00\">32</span>, <span style=\"color: #00af00; text-decoration-color: #00af00\">100</span>, <span style=\"color: #00af00; text-decoration-color: #00af00\">100</span>)         │     <span style=\"color: #00af00; text-decoration-color: #00af00\">1,189,700</span> │\n",
              "├─────────────────────────────────┼────────────────────────┼───────────────┤\n",
              "│ bidirectional_32                │ (<span style=\"color: #00af00; text-decoration-color: #00af00\">32</span>, <span style=\"color: #00af00; text-decoration-color: #00af00\">128</span>)              │        <span style=\"color: #00af00; text-decoration-color: #00af00\">84,480</span> │\n",
              "│ (<span style=\"color: #0087ff; text-decoration-color: #0087ff\">Bidirectional</span>)                 │                        │               │\n",
              "├─────────────────────────────────┼────────────────────────┼───────────────┤\n",
              "│ dropout_49 (<span style=\"color: #0087ff; text-decoration-color: #0087ff\">Dropout</span>)            │ (<span style=\"color: #00af00; text-decoration-color: #00af00\">32</span>, <span style=\"color: #00af00; text-decoration-color: #00af00\">128</span>)              │             <span style=\"color: #00af00; text-decoration-color: #00af00\">0</span> │\n",
              "├─────────────────────────────────┼────────────────────────┼───────────────┤\n",
              "│ dense_61 (<span style=\"color: #0087ff; text-decoration-color: #0087ff\">Dense</span>)                │ (<span style=\"color: #00af00; text-decoration-color: #00af00\">32</span>, <span style=\"color: #00af00; text-decoration-color: #00af00\">32</span>)               │         <span style=\"color: #00af00; text-decoration-color: #00af00\">4,128</span> │\n",
              "├─────────────────────────────────┼────────────────────────┼───────────────┤\n",
              "│ dropout_50 (<span style=\"color: #0087ff; text-decoration-color: #0087ff\">Dropout</span>)            │ (<span style=\"color: #00af00; text-decoration-color: #00af00\">32</span>, <span style=\"color: #00af00; text-decoration-color: #00af00\">32</span>)               │             <span style=\"color: #00af00; text-decoration-color: #00af00\">0</span> │\n",
              "├─────────────────────────────────┼────────────────────────┼───────────────┤\n",
              "│ dense_62 (<span style=\"color: #0087ff; text-decoration-color: #0087ff\">Dense</span>)                │ (<span style=\"color: #00af00; text-decoration-color: #00af00\">32</span>, <span style=\"color: #00af00; text-decoration-color: #00af00\">6</span>)                │           <span style=\"color: #00af00; text-decoration-color: #00af00\">198</span> │\n",
              "└─────────────────────────────────┴────────────────────────┴───────────────┘\n",
              "</pre>\n"
            ],
            "text/plain": [
              "┏━━━━━━━━━━━━━━━━━━━━━━━━━━━━━━━━━┳━━━━━━━━━━━━━━━━━━━━━━━━┳━━━━━━━━━━━━━━━┓\n",
              "┃\u001b[1m \u001b[0m\u001b[1mLayer (type)                   \u001b[0m\u001b[1m \u001b[0m┃\u001b[1m \u001b[0m\u001b[1mOutput Shape          \u001b[0m\u001b[1m \u001b[0m┃\u001b[1m \u001b[0m\u001b[1m      Param #\u001b[0m\u001b[1m \u001b[0m┃\n",
              "┡━━━━━━━━━━━━━━━━━━━━━━━━━━━━━━━━━╇━━━━━━━━━━━━━━━━━━━━━━━━╇━━━━━━━━━━━━━━━┩\n",
              "│ embedding_32 (\u001b[38;5;33mEmbedding\u001b[0m)        │ (\u001b[38;5;34m32\u001b[0m, \u001b[38;5;34m100\u001b[0m, \u001b[38;5;34m100\u001b[0m)         │     \u001b[38;5;34m1,189,700\u001b[0m │\n",
              "├─────────────────────────────────┼────────────────────────┼───────────────┤\n",
              "│ bidirectional_32                │ (\u001b[38;5;34m32\u001b[0m, \u001b[38;5;34m128\u001b[0m)              │        \u001b[38;5;34m84,480\u001b[0m │\n",
              "│ (\u001b[38;5;33mBidirectional\u001b[0m)                 │                        │               │\n",
              "├─────────────────────────────────┼────────────────────────┼───────────────┤\n",
              "│ dropout_49 (\u001b[38;5;33mDropout\u001b[0m)            │ (\u001b[38;5;34m32\u001b[0m, \u001b[38;5;34m128\u001b[0m)              │             \u001b[38;5;34m0\u001b[0m │\n",
              "├─────────────────────────────────┼────────────────────────┼───────────────┤\n",
              "│ dense_61 (\u001b[38;5;33mDense\u001b[0m)                │ (\u001b[38;5;34m32\u001b[0m, \u001b[38;5;34m32\u001b[0m)               │         \u001b[38;5;34m4,128\u001b[0m │\n",
              "├─────────────────────────────────┼────────────────────────┼───────────────┤\n",
              "│ dropout_50 (\u001b[38;5;33mDropout\u001b[0m)            │ (\u001b[38;5;34m32\u001b[0m, \u001b[38;5;34m32\u001b[0m)               │             \u001b[38;5;34m0\u001b[0m │\n",
              "├─────────────────────────────────┼────────────────────────┼───────────────┤\n",
              "│ dense_62 (\u001b[38;5;33mDense\u001b[0m)                │ (\u001b[38;5;34m32\u001b[0m, \u001b[38;5;34m6\u001b[0m)                │           \u001b[38;5;34m198\u001b[0m │\n",
              "└─────────────────────────────────┴────────────────────────┴───────────────┘\n"
            ]
          },
          "metadata": {},
          "output_type": "display_data"
        },
        {
          "data": {
            "text/html": [
              "<pre style=\"white-space:pre;overflow-x:auto;line-height:normal;font-family:Menlo,'DejaVu Sans Mono',consolas,'Courier New',monospace\"><span style=\"font-weight: bold\"> Total params: </span><span style=\"color: #00af00; text-decoration-color: #00af00\">3,835,520</span> (14.63 MB)\n",
              "</pre>\n"
            ],
            "text/plain": [
              "\u001b[1m Total params: \u001b[0m\u001b[38;5;34m3,835,520\u001b[0m (14.63 MB)\n"
            ]
          },
          "metadata": {},
          "output_type": "display_data"
        },
        {
          "data": {
            "text/html": [
              "<pre style=\"white-space:pre;overflow-x:auto;line-height:normal;font-family:Menlo,'DejaVu Sans Mono',consolas,'Courier New',monospace\"><span style=\"font-weight: bold\"> Trainable params: </span><span style=\"color: #00af00; text-decoration-color: #00af00\">1,278,506</span> (4.88 MB)\n",
              "</pre>\n"
            ],
            "text/plain": [
              "\u001b[1m Trainable params: \u001b[0m\u001b[38;5;34m1,278,506\u001b[0m (4.88 MB)\n"
            ]
          },
          "metadata": {},
          "output_type": "display_data"
        },
        {
          "data": {
            "text/html": [
              "<pre style=\"white-space:pre;overflow-x:auto;line-height:normal;font-family:Menlo,'DejaVu Sans Mono',consolas,'Courier New',monospace\"><span style=\"font-weight: bold\"> Non-trainable params: </span><span style=\"color: #00af00; text-decoration-color: #00af00\">0</span> (0.00 B)\n",
              "</pre>\n"
            ],
            "text/plain": [
              "\u001b[1m Non-trainable params: \u001b[0m\u001b[38;5;34m0\u001b[0m (0.00 B)\n"
            ]
          },
          "metadata": {},
          "output_type": "display_data"
        },
        {
          "data": {
            "text/html": [
              "<pre style=\"white-space:pre;overflow-x:auto;line-height:normal;font-family:Menlo,'DejaVu Sans Mono',consolas,'Courier New',monospace\"><span style=\"font-weight: bold\"> Optimizer params: </span><span style=\"color: #00af00; text-decoration-color: #00af00\">2,557,014</span> (9.75 MB)\n",
              "</pre>\n"
            ],
            "text/plain": [
              "\u001b[1m Optimizer params: \u001b[0m\u001b[38;5;34m2,557,014\u001b[0m (9.75 MB)\n"
            ]
          },
          "metadata": {},
          "output_type": "display_data"
        },
        {
          "name": "stdout",
          "output_type": "stream",
          "text": [
            "None\n"
          ]
        }
      ],
      "source": [
        "print(model_v2.summary())"
      ]
    },
    {
      "cell_type": "code",
      "execution_count": 506,
      "metadata": {},
      "outputs": [],
      "source": [
        "dados_entrada = np.array(sequencias_treino_pad)"
      ]
    },
    {
      "cell_type": "code",
      "execution_count": 507,
      "metadata": {},
      "outputs": [],
      "source": [
        "dados_saida = np.array(y_treino_encoded)"
      ]
    },
    {
      "cell_type": "code",
      "execution_count": 508,
      "metadata": {},
      "outputs": [],
      "source": [
        "num_epochs = 35\n",
        "validation_split = 0.2\n",
        "paciencia = 5"
      ]
    },
    {
      "cell_type": "code",
      "execution_count": 509,
      "metadata": {},
      "outputs": [],
      "source": [
        "early_stopping = EarlyStopping(patience=paciencia)"
      ]
    },
    {
      "cell_type": "code",
      "execution_count": 512,
      "metadata": {},
      "outputs": [
        {
          "name": "stdout",
          "output_type": "stream",
          "text": [
            "Epoch 1/35\n",
            "\u001b[1m400/400\u001b[0m \u001b[32m━━━━━━━━━━━━━━━━━━━━\u001b[0m\u001b[37m\u001b[0m \u001b[1m11s\u001b[0m 28ms/step - accuracy: 0.3410 - auc_14: 0.7790 - loss: 1.5040 - precision_14: 0.4774 - recall_14: 0.0622 - val_accuracy: 0.4206 - val_auc_14: 0.8548 - val_loss: 1.2722 - val_precision_14: 0.5313 - val_recall_14: 0.2309\n",
            "Epoch 2/35\n",
            "\u001b[1m400/400\u001b[0m \u001b[32m━━━━━━━━━━━━━━━━━━━━\u001b[0m\u001b[37m\u001b[0m \u001b[1m14s\u001b[0m 35ms/step - accuracy: 0.4499 - auc_14: 0.8697 - loss: 1.2011 - precision_14: 0.5395 - recall_14: 0.2113 - val_accuracy: 0.4391 - val_auc_14: 0.8638 - val_loss: 1.2195 - val_precision_14: 0.5055 - val_recall_14: 0.2734\n",
            "Epoch 3/35\n",
            "\u001b[1m400/400\u001b[0m \u001b[32m━━━━━━━━━━━━━━━━━━━━\u001b[0m\u001b[37m\u001b[0m \u001b[1m13s\u001b[0m 32ms/step - accuracy: 0.4585 - auc_14: 0.8793 - loss: 1.1209 - precision_14: 0.5391 - recall_14: 0.2369 - val_accuracy: 0.4578 - val_auc_14: 0.8715 - val_loss: 1.1668 - val_precision_14: 0.5098 - val_recall_14: 0.2434\n",
            "Epoch 4/35\n",
            "\u001b[1m400/400\u001b[0m \u001b[32m━━━━━━━━━━━━━━━━━━━━\u001b[0m\u001b[37m\u001b[0m \u001b[1m13s\u001b[0m 33ms/step - accuracy: 0.5001 - auc_14: 0.8914 - loss: 1.0446 - precision_14: 0.5443 - recall_14: 0.2636 - val_accuracy: 0.4822 - val_auc_14: 0.8842 - val_loss: 1.0882 - val_precision_14: 0.5079 - val_recall_14: 0.2931\n",
            "Epoch 5/35\n",
            "\u001b[1m400/400\u001b[0m \u001b[32m━━━━━━━━━━━━━━━━━━━━\u001b[0m\u001b[37m\u001b[0m \u001b[1m14s\u001b[0m 35ms/step - accuracy: 0.5212 - auc_14: 0.9020 - loss: 0.9656 - precision_14: 0.5550 - recall_14: 0.3384 - val_accuracy: 0.4869 - val_auc_14: 0.8865 - val_loss: 1.0696 - val_precision_14: 0.5104 - val_recall_14: 0.4069\n",
            "Epoch 6/35\n",
            "\u001b[1m400/400\u001b[0m \u001b[32m━━━━━━━━━━━━━━━━━━━━\u001b[0m\u001b[37m\u001b[0m \u001b[1m14s\u001b[0m 35ms/step - accuracy: 0.5235 - auc_14: 0.9053 - loss: 0.9307 - precision_14: 0.5580 - recall_14: 0.3964 - val_accuracy: 0.5003 - val_auc_14: 0.8907 - val_loss: 1.0473 - val_precision_14: 0.5202 - val_recall_14: 0.4266\n",
            "Epoch 7/35\n",
            "\u001b[1m400/400\u001b[0m \u001b[32m━━━━━━━━━━━━━━━━━━━━\u001b[0m\u001b[37m\u001b[0m \u001b[1m14s\u001b[0m 34ms/step - accuracy: 0.5882 - auc_14: 0.9217 - loss: 0.8818 - precision_14: 0.6151 - recall_14: 0.4686 - val_accuracy: 0.7347 - val_auc_14: 0.9530 - val_loss: 0.8295 - val_precision_14: 0.7772 - val_recall_14: 0.6956\n",
            "Epoch 8/35\n",
            "\u001b[1m400/400\u001b[0m \u001b[32m━━━━━━━━━━━━━━━━━━━━\u001b[0m\u001b[37m\u001b[0m \u001b[1m14s\u001b[0m 34ms/step - accuracy: 0.7962 - auc_14: 0.9764 - loss: 0.6206 - precision_14: 0.8526 - recall_14: 0.7213 - val_accuracy: 0.7656 - val_auc_14: 0.9630 - val_loss: 0.7304 - val_precision_14: 0.8217 - val_recall_14: 0.7056\n",
            "Epoch 9/35\n",
            "\u001b[1m400/400\u001b[0m \u001b[32m━━━━━━━━━━━━━━━━━━━━\u001b[0m\u001b[37m\u001b[0m \u001b[1m14s\u001b[0m 35ms/step - accuracy: 0.8291 - auc_14: 0.9850 - loss: 0.5196 - precision_14: 0.8818 - recall_14: 0.7598 - val_accuracy: 0.7837 - val_auc_14: 0.9656 - val_loss: 0.7197 - val_precision_14: 0.8097 - val_recall_14: 0.7528\n",
            "Epoch 10/35\n",
            "\u001b[1m400/400\u001b[0m \u001b[32m━━━━━━━━━━━━━━━━━━━━\u001b[0m\u001b[37m\u001b[0m \u001b[1m14s\u001b[0m 35ms/step - accuracy: 0.8454 - auc_14: 0.9877 - loss: 0.4722 - precision_14: 0.8836 - recall_14: 0.7942 - val_accuracy: 0.8275 - val_auc_14: 0.9693 - val_loss: 0.6940 - val_precision_14: 0.8466 - val_recall_14: 0.7984\n",
            "Epoch 11/35\n",
            "\u001b[1m400/400\u001b[0m \u001b[32m━━━━━━━━━━━━━━━━━━━━\u001b[0m\u001b[37m\u001b[0m \u001b[1m14s\u001b[0m 35ms/step - accuracy: 0.8878 - auc_14: 0.9917 - loss: 0.4305 - precision_14: 0.9130 - recall_14: 0.8539 - val_accuracy: 0.8672 - val_auc_14: 0.9724 - val_loss: 0.6457 - val_precision_14: 0.8815 - val_recall_14: 0.8600\n",
            "Epoch 12/35\n",
            "\u001b[1m400/400\u001b[0m \u001b[32m━━━━━━━━━━━━━━━━━━━━\u001b[0m\u001b[37m\u001b[0m \u001b[1m14s\u001b[0m 35ms/step - accuracy: 0.9332 - auc_14: 0.9954 - loss: 0.3730 - precision_14: 0.9501 - recall_14: 0.9149 - val_accuracy: 0.8819 - val_auc_14: 0.9761 - val_loss: 0.5889 - val_precision_14: 0.8929 - val_recall_14: 0.8756\n",
            "Epoch 13/35\n",
            "\u001b[1m400/400\u001b[0m \u001b[32m━━━━━━━━━━━━━━━━━━━━\u001b[0m\u001b[37m\u001b[0m \u001b[1m14s\u001b[0m 34ms/step - accuracy: 0.9545 - auc_14: 0.9974 - loss: 0.3130 - precision_14: 0.9654 - recall_14: 0.9411 - val_accuracy: 0.8825 - val_auc_14: 0.9769 - val_loss: 0.5875 - val_precision_14: 0.8906 - val_recall_14: 0.8753\n",
            "Epoch 14/35\n",
            "\u001b[1m400/400\u001b[0m \u001b[32m━━━━━━━━━━━━━━━━━━━━\u001b[0m\u001b[37m\u001b[0m \u001b[1m13s\u001b[0m 32ms/step - accuracy: 0.9600 - auc_14: 0.9976 - loss: 0.2946 - precision_14: 0.9684 - recall_14: 0.9473 - val_accuracy: 0.8800 - val_auc_14: 0.9762 - val_loss: 0.5943 - val_precision_14: 0.8882 - val_recall_14: 0.8741\n",
            "Epoch 15/35\n",
            "\u001b[1m400/400\u001b[0m \u001b[32m━━━━━━━━━━━━━━━━━━━━\u001b[0m\u001b[37m\u001b[0m \u001b[1m13s\u001b[0m 32ms/step - accuracy: 0.9677 - auc_14: 0.9983 - loss: 0.2666 - precision_14: 0.9748 - recall_14: 0.9558 - val_accuracy: 0.8838 - val_auc_14: 0.9753 - val_loss: 0.5853 - val_precision_14: 0.8895 - val_recall_14: 0.8806\n",
            "Epoch 16/35\n",
            "\u001b[1m400/400\u001b[0m \u001b[32m━━━━━━━━━━━━━━━━━━━━\u001b[0m\u001b[37m\u001b[0m \u001b[1m13s\u001b[0m 32ms/step - accuracy: 0.9695 - auc_14: 0.9982 - loss: 0.2572 - precision_14: 0.9763 - recall_14: 0.9605 - val_accuracy: 0.8853 - val_auc_14: 0.9767 - val_loss: 0.5821 - val_precision_14: 0.8914 - val_recall_14: 0.8822\n",
            "Epoch 17/35\n",
            "\u001b[1m400/400\u001b[0m \u001b[32m━━━━━━━━━━━━━━━━━━━━\u001b[0m\u001b[37m\u001b[0m \u001b[1m13s\u001b[0m 31ms/step - accuracy: 0.9718 - auc_14: 0.9983 - loss: 0.2448 - precision_14: 0.9779 - recall_14: 0.9624 - val_accuracy: 0.8875 - val_auc_14: 0.9780 - val_loss: 0.5711 - val_precision_14: 0.8914 - val_recall_14: 0.8825\n",
            "Epoch 18/35\n",
            "\u001b[1m400/400\u001b[0m \u001b[32m━━━━━━━━━━━━━━━━━━━━\u001b[0m\u001b[37m\u001b[0m \u001b[1m13s\u001b[0m 33ms/step - accuracy: 0.9737 - auc_14: 0.9988 - loss: 0.2302 - precision_14: 0.9803 - recall_14: 0.9676 - val_accuracy: 0.8856 - val_auc_14: 0.9715 - val_loss: 0.6030 - val_precision_14: 0.8911 - val_recall_14: 0.8844\n",
            "Epoch 19/35\n",
            "\u001b[1m400/400\u001b[0m \u001b[32m━━━━━━━━━━━━━━━━━━━━\u001b[0m\u001b[37m\u001b[0m \u001b[1m13s\u001b[0m 33ms/step - accuracy: 0.9786 - auc_14: 0.9989 - loss: 0.2134 - precision_14: 0.9834 - recall_14: 0.9735 - val_accuracy: 0.8831 - val_auc_14: 0.9759 - val_loss: 0.5831 - val_precision_14: 0.8892 - val_recall_14: 0.8806\n",
            "Epoch 20/35\n",
            "\u001b[1m400/400\u001b[0m \u001b[32m━━━━━━━━━━━━━━━━━━━━\u001b[0m\u001b[37m\u001b[0m \u001b[1m13s\u001b[0m 32ms/step - accuracy: 0.9793 - auc_14: 0.9989 - loss: 0.2102 - precision_14: 0.9839 - recall_14: 0.9735 - val_accuracy: 0.8834 - val_auc_14: 0.9719 - val_loss: 0.6354 - val_precision_14: 0.8898 - val_recall_14: 0.8809\n",
            "Epoch 21/35\n",
            "\u001b[1m400/400\u001b[0m \u001b[32m━━━━━━━━━━━━━━━━━━━━\u001b[0m\u001b[37m\u001b[0m \u001b[1m12s\u001b[0m 30ms/step - accuracy: 0.9760 - auc_14: 0.9989 - loss: 0.2090 - precision_14: 0.9808 - recall_14: 0.9694 - val_accuracy: 0.8853 - val_auc_14: 0.9716 - val_loss: 0.6213 - val_precision_14: 0.8889 - val_recall_14: 0.8825\n",
            "Epoch 22/35\n",
            "\u001b[1m400/400\u001b[0m \u001b[32m━━━━━━━━━━━━━━━━━━━━\u001b[0m\u001b[37m\u001b[0m \u001b[1m12s\u001b[0m 31ms/step - accuracy: 0.9822 - auc_14: 0.9990 - loss: 0.1973 - precision_14: 0.9862 - recall_14: 0.9773 - val_accuracy: 0.8894 - val_auc_14: 0.9731 - val_loss: 0.6030 - val_precision_14: 0.8932 - val_recall_14: 0.8863\n"
          ]
        }
      ],
      "source": [
        "history_v2 = model_v2.fit(\n",
        "    dados_entrada,\n",
        "    dados_saida,\n",
        "    epochs=num_epochs,\n",
        "    validation_split=validation_split,\n",
        "    callbacks=[early_stopping]\n",
        ")"
      ]
    },
    {
      "cell_type": "code",
      "execution_count": 513,
      "metadata": {},
      "outputs": [
        {
          "data": {
            "image/png": "[encoded data removed]",
            "text/plain": [
              "<Figure size 640x480 with 1 Axes>"
            ]
          },
          "metadata": {},
          "output_type": "display_data"
        }
      ],
      "source": [
        "loss, val_loss = history_v2.history['loss'], history_v2.history['val_loss']\n",
        "plt.plot(loss, label = 'Erro em Treino')\n",
        "plt.plot(val_loss, label = 'Erro em Validação')\n",
        "plt.legend()\n",
        "plt.show()"
      ]
    },
    {
      "cell_type": "code",
      "execution_count": 514,
      "metadata": {},
      "outputs": [
        {
          "name": "stdout",
          "output_type": "stream",
          "text": [
            "\u001b[1m63/63\u001b[0m \u001b[32m━━━━━━━━━━━━━━━━━━━━\u001b[0m\u001b[37m\u001b[0m \u001b[1m1s\u001b[0m 11ms/step\n"
          ]
        }
      ],
      "source": [
        "previsoes_v2 = model_v2.predict(sequencias_teste_pad)"
      ]
    },
    {
      "cell_type": "code",
      "execution_count": 515,
      "metadata": {},
      "outputs": [],
      "source": [
        "labels_previsoes_v2 = previsoes_v2.argmax(axis=1)"
      ]
    },
    {
      "cell_type": "code",
      "execution_count": 516,
      "metadata": {},
      "outputs": [
        {
          "name": "stdout",
          "output_type": "stream",
          "text": [
            "              precision    recall  f1-score   support\n",
            "\n",
            "           0       0.89      0.87      0.88       275\n",
            "           1       0.86      0.85      0.86       224\n",
            "           2       0.91      0.93      0.92       695\n",
            "           3       0.77      0.75      0.76       159\n",
            "           4       0.94      0.92      0.93       581\n",
            "           5       0.65      0.74      0.70        66\n",
            "\n",
            "    accuracy                           0.89      2000\n",
            "   macro avg       0.84      0.84      0.84      2000\n",
            "weighted avg       0.89      0.89      0.89      2000\n",
            "\n"
          ]
        }
      ],
      "source": [
        "print(classification_report(y_teste_le, labels_previsoes_v2))"
      ]
    },
    {
      "cell_type": "code",
      "execution_count": 517,
      "metadata": {},
      "outputs": [
        {
          "name": "stdout",
          "output_type": "stream",
          "text": [
            "[[240  11   4   3  17   0]\n",
            " [ 11 191   1   0   3  18]\n",
            " [  3   3 648  27   7   7]\n",
            " [  2   1  32 119   4   1]\n",
            " [ 14   9  19   4 535   0]\n",
            " [  0   6   7   2   2  49]]\n"
          ]
        }
      ],
      "source": [
        "print(confusion_matrix(y_teste_le, labels_previsoes_v2))"
      ]
    },
    {
      "cell_type": "code",
      "execution_count": 518,
      "metadata": {},
      "outputs": [
        {
          "name": "stdout",
          "output_type": "stream",
          "text": [
            "0.891\n"
          ]
        }
      ],
      "source": [
        "print(accuracy_score(y_teste_le, labels_previsoes_v2))"
      ]
    },
    {
      "cell_type": "code",
      "execution_count": 519,
      "metadata": {},
      "outputs": [],
      "source": [
        "model_v2.save(\"model_v2.keras\")"
      ]
    },
    {
      "cell_type": "code",
      "execution_count": 520,
      "metadata": {},
      "outputs": [],
      "source": [
        "model_v2_carregado = load_model(\"model_v2.keras\")"
      ]
    },
    {
      "cell_type": "code",
      "execution_count": 521,
      "metadata": {},
      "outputs": [],
      "source": [
        "df_novo_v2 = pd.DataFrame({ 'Frase': frases })"
      ]
    },
    {
      "cell_type": "code",
      "execution_count": 522,
      "metadata": {},
      "outputs": [],
      "source": [
        "df_novo_v2['Frase_Processada'] = df_novo_v2['Frase'].apply(preprocessamento_texto)"
      ]
    },
    {
      "cell_type": "code",
      "execution_count": 523,
      "metadata": {},
      "outputs": [],
      "source": [
        "sequencias_novas = tokenizador.texts_to_sequences(df_novo_v2['Frase_Processada'])"
      ]
    },
    {
      "cell_type": "code",
      "execution_count": 524,
      "metadata": {},
      "outputs": [],
      "source": [
        "sequecias_novas_pad = pad_sequences(sequencias_novas, maxlen=max_length)"
      ]
    },
    {
      "cell_type": "code",
      "execution_count": 525,
      "metadata": {},
      "outputs": [
        {
          "name": "stdout",
          "output_type": "stream",
          "text": [
            "\u001b[1m1/1\u001b[0m \u001b[32m━━━━━━━━━━━━━━━━━━━━\u001b[0m\u001b[37m\u001b[0m \u001b[1m0s\u001b[0m 235ms/step\n"
          ]
        }
      ],
      "source": [
        "previsoes_v2 = model_v2_carregado.predict(sequecias_novas_pad)"
      ]
    },
    {
      "cell_type": "code",
      "execution_count": 527,
      "metadata": {},
      "outputs": [
        {
          "data": {
            "text/plain": [
              "array(['fear', 'fear', 'joy'], dtype=object)"
            ]
          },
          "execution_count": 527,
          "metadata": {},
          "output_type": "execute_result"
        }
      ],
      "source": [
        "previsoes_v2\n",
        "classe_maior_prob_v2 = previsoes_v2.argmax(axis=1)\n",
        "classe_maior_prob_v2\n",
        "classes_v2 = len_v2.inverse_transform(classe_maior_prob_v2)\n",
        "classes_v2"
      ]
    }
  ],
  "metadata": {
    "accelerator": "GPU",
    "colab": {
      "gpuType": "T4",
      "provenance": []
    },
    "kernelspec": {
      "display_name": "dsa-formacao-ia",
      "language": "python",
      "name": "python3"
    },
    "language_info": {
      "codemirror_mode": {
        "name": "ipython",
        "version": 3
      },
      "file_extension": ".py",
      "mimetype": "text/x-python",
      "name": "python",
      "nbconvert_exporter": "python",
      "pygments_lexer": "ipython3",
      "version": "3.11.11"
    }
  },
  "nbformat": 4,
  "nbformat_minor": 0
}
