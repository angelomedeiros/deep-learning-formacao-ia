{
 "cells": [
  {
   "cell_type": "markdown",
   "metadata": {},
   "source": [
    "# Hyperparâmentros Iniciais"
   ]
  },
  {
   "cell_type": "code",
   "execution_count": 6,
   "metadata": {},
   "outputs": [
    {
     "name": "stdout",
     "output_type": "stream",
     "text": [
      "Requirement already satisfied: numpy in c:\\users\\angel\\anaconda3\\envs\\dsa-formacao-ia\\lib\\site-packages (2.2.0)\n",
      "Note: you may need to restart the kernel to use updated packages.\n"
     ]
    }
   ],
   "source": [
    "# Imports\n",
    "%pip install numpy\n",
    "import numpy as np"
   ]
  },
  {
   "cell_type": "code",
   "execution_count": 3,
   "metadata": {},
   "outputs": [],
   "source": [
    "# Dimensão do modelo\n",
    "dim_model = 64"
   ]
  },
  {
   "cell_type": "code",
   "execution_count": 4,
   "metadata": {},
   "outputs": [],
   "source": [
    "# Comprimento da sequência\n",
    "seq_length = 10"
   ]
  },
  {
   "cell_type": "code",
   "execution_count": 8,
   "metadata": {},
   "outputs": [],
   "source": [
    "# Tamanho do vocabulário\n",
    "vocab_size = 100"
   ]
  },
  {
   "cell_type": "markdown",
   "metadata": {},
   "source": [
    "# Camada Embedding"
   ]
  },
  {
   "cell_type": "code",
   "execution_count": null,
   "metadata": {},
   "outputs": [],
   "source": [
    "# Define a função para criar uma matriz de embedding\n",
    "def embedding(input, vocab_size, dim_model):\n",
    "    embed = np.random.randn(vocab_size, dim_model)\n",
    "\n",
    "    return np.array([embed[i] for i in input])"
   ]
  },
  {
   "cell_type": "code",
   "execution_count": 41,
   "metadata": {},
   "outputs": [
    {
     "name": "stdout",
     "output_type": "stream",
     "text": [
      "[[-0.05830968  0.36599524]\n",
      " [ 1.97664191 -1.28569412]\n",
      " [-1.1009494  -0.18344419]]\n",
      "[array([-0.05830968,  0.36599524]), array([ 1.97664191, -1.28569412]), array([-1.1009494 , -0.18344419])]\n"
     ]
    },
    {
     "data": {
      "text/plain": [
       "array([[-0.05830968,  0.36599524],\n",
       "       [ 1.97664191, -1.28569412],\n",
       "       [-1.1009494 , -0.18344419]])"
      ]
     },
     "execution_count": 41,
     "metadata": {},
     "output_type": "execute_result"
    }
   ],
   "source": [
    "embedding([0,1,2], 3, 2)"
   ]
  }
 ],
 "metadata": {
  "kernelspec": {
   "display_name": "dsa-formacao-ia",
   "language": "python",
   "name": "python3"
  },
  "language_info": {
   "codemirror_mode": {
    "name": "ipython",
    "version": 3
   },
   "file_extension": ".py",
   "mimetype": "text/x-python",
   "name": "python",
   "nbconvert_exporter": "python",
   "pygments_lexer": "ipython3",
   "version": "3.11.11"
  }
 },
 "nbformat": 4,
 "nbformat_minor": 2
}
