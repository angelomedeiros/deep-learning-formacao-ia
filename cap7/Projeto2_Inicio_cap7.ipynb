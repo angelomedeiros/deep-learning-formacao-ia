{
  "cells": [
    {
      "cell_type": "markdown",
      "metadata": {
        "id": "bnHDtzoUkj7S"
      },
      "source": [
        "# Projeto 2 - Fine-Tuning de um modelo transformer para classificação de sentimento"
      ]
    },
    {
      "cell_type": "code",
      "execution_count": 8,
      "metadata": {
        "colab": {
          "base_uri": "https://localhost:8080/"
        },
        "id": "ea2bHoMQlLnt",
        "outputId": "3835da50-134e-4198-84c1-d2cfee41ea42"
      },
      "outputs": [
        {
          "name": "stdout",
          "output_type": "stream",
          "text": [
            "Note: you may need to restart the kernel to use updated packages.\n"
          ]
        }
      ],
      "source": [
        "%pip install -q -U watermark"
      ]
    },
    {
      "cell_type": "code",
      "execution_count": null,
      "metadata": {},
      "outputs": [],
      "source": [
        "# %pip install -q transformers==4.46.3\n",
        "# %pip install -q scikit-learn==1.5.2\n",
        "# %pip install -q tokenizers==0.20.3\n",
        "# %pip install -q numpy==1.26.2\n",
        "# %pip install -q tqdm==4.65.0\n",
        "# %pip install -q tensorflow==2.18.0\n",
        "# %pip install -q keras==3.7.0\n",
        "# %pip install -q spacy==3.7.2\n",
        "# %pip install -q scipy==1.11.1\n",
        "# %pip install -q nltk==3.8.1\n",
        "# %pip install -q pandas==2.2.3\n",
        "# %pip install -q keras-preprocessing==1.1.2\n",
        "# %pip install -q matplotlib==3.7.4"
      ]
    },
    {
      "cell_type": "code",
      "execution_count": 9,
      "metadata": {
        "id": "EwLPqJzxr5F9"
      },
      "outputs": [],
      "source": [
        "# %watermark --iversions"
      ]
    },
    {
      "cell_type": "code",
      "execution_count": 162,
      "metadata": {
        "id": "ffHLauv-lz07"
      },
      "outputs": [],
      "source": [
        "# Imports\n",
        "\n",
        "import math\n",
        "import nltk\n",
        "import spacy\n",
        "import numpy as np\n",
        "import pandas as pd\n",
        "import tensorflow as tf\n",
        "import matplotlib.pyplot as plt\n",
        "import transformers\n",
        "from tokenizers import BertWordPieceTokenizer\n",
        "from tqdm import tqdm\n",
        "from nltk.corpus import stopwords\n",
        "from sklearn.preprocessing import LabelEncoder\n",
        "from sklearn.feature_extraction.text import TfidfVectorizer\n",
        "from sklearn.model_selection import train_test_split\n",
        "from sklearn.utils.class_weight import compute_class_weight\n",
        "from sklearn.metrics import confusion_matrix, accuracy_score, classification_report\n",
        "from tensorflow import keras\n",
        "from keras.utils import to_categorical\n",
        "from keras.models import Sequential\n",
        "from keras.models import load_model\n",
        "from keras_preprocessing.text import Tokenizer\n",
        "from keras_preprocessing.sequence import pad_sequences\n",
        "from keras.metrics import Precision, Recall, AUC\n",
        "from keras.layers import Embedding, LSTM, Dense, Dropout, Bidirectional\n",
        "from keras.callbacks import EarlyStopping, LearningRateScheduler, CallbackList, ReduceLROnPlateau\n",
        "from keras.optimizers import Adam\n"
      ]
    },
    {
      "cell_type": "code",
      "execution_count": 11,
      "metadata": {
        "colab": {
          "base_uri": "https://localhost:8080/"
        },
        "id": "vSOZVr6frLOF",
        "outputId": "ac330d29-081b-41ba-f809-c188f32b1240"
      },
      "outputs": [
        {
          "name": "stdout",
          "output_type": "stream",
          "text": [
            "Author: Angelo Medeiros Nóbrega\n",
            "\n"
          ]
        }
      ],
      "source": [
        "%reload_ext watermark\n",
        "%watermark -a \"Angelo Medeiros Nóbrega\""
      ]
    },
    {
      "cell_type": "markdown",
      "metadata": {
        "id": "JaHXTRDWu5re"
      },
      "source": [
        "# Carregando os dados de texto"
      ]
    },
    {
      "cell_type": "code",
      "execution_count": 12,
      "metadata": {
        "id": "drT3-W8qu450"
      },
      "outputs": [],
      "source": [
        "# Carrega os dados de treino\n",
        "dados_treino = pd.read_csv(\"dados_treino.txt\", header=None, delimiter=\";\")"
      ]
    },
    {
      "cell_type": "code",
      "execution_count": 13,
      "metadata": {
        "id": "4x1CBRq9vONl"
      },
      "outputs": [],
      "source": [
        "# Carrega os dados de teste\n",
        "dados_teste = pd.read_csv(\"dados_teste.txt\", header=None, delimiter=\";\")"
      ]
    },
    {
      "cell_type": "code",
      "execution_count": 14,
      "metadata": {
        "id": "6vT_NLsGvhuL"
      },
      "outputs": [],
      "source": [
        "# Ajusta os nomes das colunas\n",
        "dados_treino = dados_treino.rename(columns={0: \"texto\", 1: \"sentimento\"})\n",
        "dados_teste = dados_teste.rename(columns={0: \"texto\", 1: \"sentimento\"})"
      ]
    },
    {
      "cell_type": "code",
      "execution_count": 15,
      "metadata": {
        "colab": {
          "base_uri": "https://localhost:8080/"
        },
        "id": "Gtr2x8SPwFce",
        "outputId": "d384a7e4-0465-4fa6-fbe5-ff69c87ca851"
      },
      "outputs": [
        {
          "data": {
            "text/plain": [
              "(16000, 2)"
            ]
          },
          "execution_count": 15,
          "metadata": {},
          "output_type": "execute_result"
        }
      ],
      "source": [
        "# Shape - Dados de treino\n",
        "dados_treino.shape"
      ]
    },
    {
      "cell_type": "code",
      "execution_count": 16,
      "metadata": {
        "colab": {
          "base_uri": "https://localhost:8080/"
        },
        "id": "oo4790UpwJWX",
        "outputId": "d1b3c3aa-6137-4214-ea91-5d45123455d5"
      },
      "outputs": [
        {
          "data": {
            "text/plain": [
              "(2000, 2)"
            ]
          },
          "execution_count": 16,
          "metadata": {},
          "output_type": "execute_result"
        }
      ],
      "source": [
        "# Shape - Dados de teste\n",
        "dados_teste.shape"
      ]
    },
    {
      "cell_type": "code",
      "execution_count": 17,
      "metadata": {
        "id": "KEVzWsLTwmmd"
      },
      "outputs": [
        {
          "data": {
            "text/html": [
              "<div>\n",
              "<style scoped>\n",
              "    .dataframe tbody tr th:only-of-type {\n",
              "        vertical-align: middle;\n",
              "    }\n",
              "\n",
              "    .dataframe tbody tr th {\n",
              "        vertical-align: top;\n",
              "    }\n",
              "\n",
              "    .dataframe thead th {\n",
              "        text-align: right;\n",
              "    }\n",
              "</style>\n",
              "<table border=\"1\" class=\"dataframe\">\n",
              "  <thead>\n",
              "    <tr style=\"text-align: right;\">\n",
              "      <th></th>\n",
              "      <th>texto</th>\n",
              "      <th>sentimento</th>\n",
              "    </tr>\n",
              "  </thead>\n",
              "  <tbody>\n",
              "    <tr>\n",
              "      <th>0</th>\n",
              "      <td>i feel like my only role now would be to tear ...</td>\n",
              "      <td>sadness</td>\n",
              "    </tr>\n",
              "    <tr>\n",
              "      <th>1</th>\n",
              "      <td>i feel just bcoz a fight we get mad to each ot...</td>\n",
              "      <td>anger</td>\n",
              "    </tr>\n",
              "    <tr>\n",
              "      <th>2</th>\n",
              "      <td>i feel like reds and purples are just so rich ...</td>\n",
              "      <td>joy</td>\n",
              "    </tr>\n",
              "    <tr>\n",
              "      <th>3</th>\n",
              "      <td>im not sure the feeling of loss will ever go a...</td>\n",
              "      <td>sadness</td>\n",
              "    </tr>\n",
              "    <tr>\n",
              "      <th>4</th>\n",
              "      <td>i feel like ive gotten to know many of you thr...</td>\n",
              "      <td>joy</td>\n",
              "    </tr>\n",
              "  </tbody>\n",
              "</table>\n",
              "</div>"
            ],
            "text/plain": [
              "                                               texto sentimento\n",
              "0  i feel like my only role now would be to tear ...    sadness\n",
              "1  i feel just bcoz a fight we get mad to each ot...      anger\n",
              "2  i feel like reds and purples are just so rich ...        joy\n",
              "3  im not sure the feeling of loss will ever go a...    sadness\n",
              "4  i feel like ive gotten to know many of you thr...        joy"
            ]
          },
          "execution_count": 17,
          "metadata": {},
          "output_type": "execute_result"
        }
      ],
      "source": [
        "# Amostra de teste\n",
        "dados_teste.head()"
      ]
    },
    {
      "cell_type": "code",
      "execution_count": 18,
      "metadata": {
        "colab": {
          "base_uri": "https://localhost:8080/",
          "height": 206
        },
        "id": "YZFNZ3XNwSGK",
        "outputId": "c180c164-22e9-48c1-eb2c-02cca275694b"
      },
      "outputs": [
        {
          "data": {
            "text/html": [
              "<div>\n",
              "<style scoped>\n",
              "    .dataframe tbody tr th:only-of-type {\n",
              "        vertical-align: middle;\n",
              "    }\n",
              "\n",
              "    .dataframe tbody tr th {\n",
              "        vertical-align: top;\n",
              "    }\n",
              "\n",
              "    .dataframe thead th {\n",
              "        text-align: right;\n",
              "    }\n",
              "</style>\n",
              "<table border=\"1\" class=\"dataframe\">\n",
              "  <thead>\n",
              "    <tr style=\"text-align: right;\">\n",
              "      <th></th>\n",
              "      <th>texto</th>\n",
              "      <th>sentimento</th>\n",
              "    </tr>\n",
              "  </thead>\n",
              "  <tbody>\n",
              "    <tr>\n",
              "      <th>0</th>\n",
              "      <td>i am feeling completely overwhelmed i have two...</td>\n",
              "      <td>fear</td>\n",
              "    </tr>\n",
              "    <tr>\n",
              "      <th>1</th>\n",
              "      <td>i have the feeling she was amused and delighted</td>\n",
              "      <td>joy</td>\n",
              "    </tr>\n",
              "    <tr>\n",
              "      <th>2</th>\n",
              "      <td>i was able to help chai lifeline with your sup...</td>\n",
              "      <td>joy</td>\n",
              "    </tr>\n",
              "    <tr>\n",
              "      <th>3</th>\n",
              "      <td>i already feel like i fucked up though because...</td>\n",
              "      <td>anger</td>\n",
              "    </tr>\n",
              "    <tr>\n",
              "      <th>4</th>\n",
              "      <td>i still love my so and wish the best for him i...</td>\n",
              "      <td>sadness</td>\n",
              "    </tr>\n",
              "  </tbody>\n",
              "</table>\n",
              "</div>"
            ],
            "text/plain": [
              "                                               texto sentimento\n",
              "0  i am feeling completely overwhelmed i have two...       fear\n",
              "1    i have the feeling she was amused and delighted        joy\n",
              "2  i was able to help chai lifeline with your sup...        joy\n",
              "3  i already feel like i fucked up though because...      anger\n",
              "4  i still love my so and wish the best for him i...    sadness"
            ]
          },
          "execution_count": 18,
          "metadata": {},
          "output_type": "execute_result"
        }
      ],
      "source": [
        "# Amostra de treino\n",
        "dados_treino.head()"
      ]
    },
    {
      "cell_type": "code",
      "execution_count": 19,
      "metadata": {
        "colab": {
          "base_uri": "https://localhost:8080/",
          "height": 303
        },
        "id": "ts4Hz4-BxT4h",
        "outputId": "ce969593-0460-4e60-818a-555405013030"
      },
      "outputs": [
        {
          "data": {
            "text/plain": [
              "sentimento\n",
              "joy         5362\n",
              "sadness     4666\n",
              "anger       2159\n",
              "fear        1937\n",
              "love        1304\n",
              "surprise     572\n",
              "Name: count, dtype: int64"
            ]
          },
          "execution_count": 19,
          "metadata": {},
          "output_type": "execute_result"
        }
      ],
      "source": [
        "# Sentimentos presentes nos dados de treino\n",
        "dados_treino[\"sentimento\"].value_counts()"
      ]
    },
    {
      "cell_type": "code",
      "execution_count": 20,
      "metadata": {
        "colab": {
          "base_uri": "https://localhost:8080/",
          "height": 303
        },
        "id": "Sbt7c4vhxxAi",
        "outputId": "d28d0960-0773-402a-f29e-6ee6490321da"
      },
      "outputs": [
        {
          "data": {
            "text/plain": [
              "sentimento\n",
              "joy         695\n",
              "sadness     581\n",
              "anger       275\n",
              "fear        224\n",
              "love        159\n",
              "surprise     66\n",
              "Name: count, dtype: int64"
            ]
          },
          "execution_count": 20,
          "metadata": {},
          "output_type": "execute_result"
        }
      ],
      "source": [
        "# Sentimentos presentes nos dados de teste\n",
        "dados_teste[\"sentimento\"].value_counts()"
      ]
    },
    {
      "cell_type": "markdown",
      "metadata": {
        "id": "GNeIXSCd5TEA"
      },
      "source": [
        "# Pré-processamento dos dados de texto com SpaCy"
      ]
    },
    {
      "cell_type": "code",
      "execution_count": 21,
      "metadata": {
        "colab": {
          "base_uri": "https://localhost:8080/"
        },
        "id": "0BBL-1an5YjE",
        "outputId": "0d9495da-319e-40df-8055-bd532e87a6f1"
      },
      "outputs": [
        {
          "name": "stdout",
          "output_type": "stream",
          "text": [
            "\u001b[38;5;2m✔ Download and installation successful\u001b[0m\n",
            "You can now load the package via spacy.load('en_core_web_md')\n"
          ]
        }
      ],
      "source": [
        "!python -m spacy download en_core_web_md -q"
      ]
    },
    {
      "cell_type": "code",
      "execution_count": 49,
      "metadata": {
        "id": "b-Om1Ifh5lmy"
      },
      "outputs": [],
      "source": [
        "# Carrega o dicionário\n",
        "nlp = spacy.load(\"en_core_web_md\")"
      ]
    },
    {
      "cell_type": "code",
      "execution_count": 23,
      "metadata": {
        "id": "Li6v4Ecl7Wc9"
      },
      "outputs": [],
      "source": [
        "# Definição da função `preprocessamento_texto` que recebe um texto como parâmetro\n",
        "def preprocessamento_texto(text):\n",
        "  # Processa o texto usando o dicionário\n",
        "  doc = nlp(text)\n",
        "\n",
        "  # Cria umalista de lemas dos tokens, convertidos para minúsculas e sem espaços em branco,\n",
        "  # excluindo as palabras que são stopwords\n",
        "  tokens = [token.lemma_.lower().strip() for token in doc if not token.is_stop]\n",
        "\n",
        "  # Retorna os tokens processados como uma string única, unindo-os com espaços\n",
        "  return ' '.join(tokens)"
      ]
    },
    {
      "cell_type": "code",
      "execution_count": 24,
      "metadata": {
        "id": "7_Jz1M908Ooo"
      },
      "outputs": [],
      "source": [
        "# Aplica a função em treino\n",
        "dados_treino['texto_processado'] = dados_treino['texto'].apply(preprocessamento_texto)"
      ]
    },
    {
      "cell_type": "code",
      "execution_count": 25,
      "metadata": {
        "id": "wDlEPYQ-8a37"
      },
      "outputs": [],
      "source": [
        "# Aplica a função em teste\n",
        "dados_teste['texto_processado'] = dados_teste['texto'].apply(preprocessamento_texto)"
      ]
    },
    {
      "cell_type": "code",
      "execution_count": 26,
      "metadata": {
        "colab": {
          "base_uri": "https://localhost:8080/",
          "height": 206
        },
        "id": "Yez2PAli8kfn",
        "outputId": "a87425bb-5458-4f09-87c2-06c7d316a24d"
      },
      "outputs": [
        {
          "data": {
            "text/html": [
              "<div>\n",
              "<style scoped>\n",
              "    .dataframe tbody tr th:only-of-type {\n",
              "        vertical-align: middle;\n",
              "    }\n",
              "\n",
              "    .dataframe tbody tr th {\n",
              "        vertical-align: top;\n",
              "    }\n",
              "\n",
              "    .dataframe thead th {\n",
              "        text-align: right;\n",
              "    }\n",
              "</style>\n",
              "<table border=\"1\" class=\"dataframe\">\n",
              "  <thead>\n",
              "    <tr style=\"text-align: right;\">\n",
              "      <th></th>\n",
              "      <th>texto</th>\n",
              "      <th>sentimento</th>\n",
              "      <th>texto_processado</th>\n",
              "    </tr>\n",
              "  </thead>\n",
              "  <tbody>\n",
              "    <tr>\n",
              "      <th>0</th>\n",
              "      <td>i am feeling completely overwhelmed i have two...</td>\n",
              "      <td>fear</td>\n",
              "      <td>feel completely overwhelmed strategy help feel...</td>\n",
              "    </tr>\n",
              "    <tr>\n",
              "      <th>1</th>\n",
              "      <td>i have the feeling she was amused and delighted</td>\n",
              "      <td>joy</td>\n",
              "      <td>feeling amuse delight</td>\n",
              "    </tr>\n",
              "    <tr>\n",
              "      <th>2</th>\n",
              "      <td>i was able to help chai lifeline with your sup...</td>\n",
              "      <td>joy</td>\n",
              "      <td>able help chai lifeline support encouragement ...</td>\n",
              "    </tr>\n",
              "    <tr>\n",
              "      <th>3</th>\n",
              "      <td>i already feel like i fucked up though because...</td>\n",
              "      <td>anger</td>\n",
              "      <td>feel like fuck not usually eat morning</td>\n",
              "    </tr>\n",
              "    <tr>\n",
              "      <th>4</th>\n",
              "      <td>i still love my so and wish the best for him i...</td>\n",
              "      <td>sadness</td>\n",
              "      <td>love wish good long tolerate effect bm life fa...</td>\n",
              "    </tr>\n",
              "  </tbody>\n",
              "</table>\n",
              "</div>"
            ],
            "text/plain": [
              "                                               texto sentimento  \\\n",
              "0  i am feeling completely overwhelmed i have two...       fear   \n",
              "1    i have the feeling she was amused and delighted        joy   \n",
              "2  i was able to help chai lifeline with your sup...        joy   \n",
              "3  i already feel like i fucked up though because...      anger   \n",
              "4  i still love my so and wish the best for him i...    sadness   \n",
              "\n",
              "                                    texto_processado  \n",
              "0  feel completely overwhelmed strategy help feel...  \n",
              "1                              feeling amuse delight  \n",
              "2  able help chai lifeline support encouragement ...  \n",
              "3             feel like fuck not usually eat morning  \n",
              "4  love wish good long tolerate effect bm life fa...  "
            ]
          },
          "execution_count": 26,
          "metadata": {},
          "output_type": "execute_result"
        }
      ],
      "source": [
        "# Amostra dos dados de treino\n",
        "dados_treino.head()"
      ]
    },
    {
      "cell_type": "markdown",
      "metadata": {},
      "source": [
        "# Versao 1 do modelo - Arquitetura Fully Connected neural network"
      ]
    },
    {
      "cell_type": "markdown",
      "metadata": {},
      "source": [
        "Vetorização serve para converter os dados de entrada em uma representação numérica. Ideal para textos muito simples onde o contexto não é tão relevante. Calcula a frequência de cada palavra em cada texto e cria um vetor com essas frequências.\n",
        "\n",
        "Desvantagens do TF-IDF:\n",
        "- Não consegue capturar o contexto;"
      ]
    },
    {
      "cell_type": "markdown",
      "metadata": {},
      "source": [
        "## Passo 1: Vetorização com TF-IDF"
      ]
    },
    {
      "cell_type": "code",
      "execution_count": 50,
      "metadata": {},
      "outputs": [],
      "source": [
        "tfidf = TfidfVectorizer(max_df=0.95, min_df=2, stop_words='english')"
      ]
    },
    {
      "cell_type": "code",
      "execution_count": 91,
      "metadata": {},
      "outputs": [],
      "source": [
        "# Aplicar o vetorizador\n",
        "dados_treino_tfidf = tfidf.fit_transform(dados_treino['texto_processado'])\n",
        "dados_teste_tfidf = tfidf.transform(dados_teste['texto_processado'])"
      ]
    },
    {
      "cell_type": "code",
      "execution_count": 110,
      "metadata": {},
      "outputs": [
        {
          "data": {
            "text/plain": [
              "(16000, 5586)"
            ]
          },
          "execution_count": 110,
          "metadata": {},
          "output_type": "execute_result"
        }
      ],
      "source": [
        "dados_treino_tfidf.shape"
      ]
    },
    {
      "cell_type": "code",
      "execution_count": 113,
      "metadata": {},
      "outputs": [
        {
          "data": {
            "text/plain": [
              "(2000, 5586)"
            ]
          },
          "execution_count": 113,
          "metadata": {},
          "output_type": "execute_result"
        }
      ],
      "source": [
        "dados_teste_tfidf.shape"
      ]
    },
    {
      "cell_type": "code",
      "execution_count": 115,
      "metadata": {},
      "outputs": [
        {
          "data": {
            "text/plain": [
              "scipy.sparse._csr.csr_matrix"
            ]
          },
          "execution_count": 115,
          "metadata": {},
          "output_type": "execute_result"
        }
      ],
      "source": [
        "type(dados_treino_tfidf)"
      ]
    },
    {
      "cell_type": "code",
      "execution_count": 116,
      "metadata": {},
      "outputs": [
        {
          "data": {
            "text/plain": [
              "scipy.sparse._csr.csr_matrix"
            ]
          },
          "execution_count": 116,
          "metadata": {},
          "output_type": "execute_result"
        }
      ],
      "source": [
        "type(dados_teste_tfidf)"
      ]
    },
    {
      "cell_type": "code",
      "execution_count": 150,
      "metadata": {},
      "outputs": [
        {
          "data": {
            "text/plain": [
              "numpy.ndarray"
            ]
          },
          "execution_count": 150,
          "metadata": {},
          "output_type": "execute_result"
        }
      ],
      "source": [
        "# Converte os dados de entrada (text) para array\n",
        "X_treino_array = dados_treino_tfidf.toarray()\n",
        "X_teste_array = dados_teste_tfidf.toarray()\n",
        "\n",
        "type(X_treino_array)"
      ]
    },
    {
      "cell_type": "markdown",
      "metadata": {},
      "source": [
        "## Passo 2: Preparaçào dos dados\n"
      ]
    },
    {
      "cell_type": "markdown",
      "metadata": {},
      "source": [
        "Precisamos agora converter a variável alvo para representaçào numérica. Para isso, vamos usar a função LabelEncoder do scikit-learn."
      ]
    },
    {
      "cell_type": "code",
      "execution_count": 118,
      "metadata": {},
      "outputs": [],
      "source": [
        "# Cria o label encoder\n",
        "le = LabelEncoder()"
      ]
    },
    {
      "cell_type": "code",
      "execution_count": 120,
      "metadata": {},
      "outputs": [],
      "source": [
        "# Faz o fit e transform na variável alvo em treino\n",
        "y_treino_le = le.fit_transform(dados_treino['sentimento'])"
      ]
    },
    {
      "cell_type": "code",
      "execution_count": 121,
      "metadata": {},
      "outputs": [],
      "source": [
        "# Faz o transform na variável alvo em teste\n",
        "y_teste_le = le.transform(dados_teste['sentimento'])"
      ]
    },
    {
      "cell_type": "markdown",
      "metadata": {},
      "source": [
        "Vamos tratar de forma automática o desbalanceamento de classe"
      ]
    },
    {
      "cell_type": "code",
      "execution_count": 122,
      "metadata": {},
      "outputs": [],
      "source": [
        "# Peso das classes\n",
        "pesos_classes = compute_class_weight('balanced', classes=np.unique(y_treino_le), y=y_treino_le)"
      ]
    },
    {
      "cell_type": "code",
      "execution_count": 131,
      "metadata": {},
      "outputs": [
        {
          "data": {
            "text/plain": [
              "array([0, 1, 2, 3, 4, 5])"
            ]
          },
          "execution_count": 131,
          "metadata": {},
          "output_type": "execute_result"
        }
      ],
      "source": [
        "np.unique(y_treino_le)"
      ]
    },
    {
      "cell_type": "code",
      "execution_count": 123,
      "metadata": {},
      "outputs": [
        {
          "data": {
            "text/plain": [
              "numpy.ndarray"
            ]
          },
          "execution_count": 123,
          "metadata": {},
          "output_type": "execute_result"
        }
      ],
      "source": [
        "type(pesos_classes)"
      ]
    },
    {
      "cell_type": "code",
      "execution_count": 136,
      "metadata": {},
      "outputs": [
        {
          "name": "stdout",
          "output_type": "stream",
          "text": [
            "[1.23513973 1.37669936 0.49732687 2.04498978 0.57151022 4.66200466]\n"
          ]
        }
      ],
      "source": [
        "print(pesos_classes)"
      ]
    },
    {
      "cell_type": "markdown",
      "metadata": {},
      "source": [
        "### Validação"
      ]
    },
    {
      "cell_type": "code",
      "execution_count": 146,
      "metadata": {},
      "outputs": [
        {
          "data": {
            "text/plain": [
              "numpy.ndarray"
            ]
          },
          "execution_count": 146,
          "metadata": {},
          "output_type": "execute_result"
        }
      ],
      "source": [
        "# Divisão em dados de treino e teste (validação)\n",
        "X_treino, X_val, y_treino, y_val = train_test_split(X_treino_array, y_treino_le, test_size=0.2, random_state=42, stratify=y_treino_le)"
      ]
    },
    {
      "cell_type": "code",
      "execution_count": 140,
      "metadata": {},
      "outputs": [],
      "source": [
        "# Ajusta a variável alvo como tipo categórica\n",
        "y_treino_encoded = to_categorical(y_treino)\n",
        "y_teste_encoded = to_categorical(y_teste_le)\n",
        "y_val_encoded = to_categorical(y_val)"
      ]
    },
    {
      "cell_type": "code",
      "execution_count": 142,
      "metadata": {},
      "outputs": [
        {
          "data": {
            "text/plain": [
              "((12800, 6), (2000, 6), (3200, 6))"
            ]
          },
          "execution_count": 142,
          "metadata": {},
          "output_type": "execute_result"
        }
      ],
      "source": [
        "# Shapes\n",
        "y_treino_encoded.shape, y_teste_encoded.shape, y_val_encoded.shape"
      ]
    },
    {
      "cell_type": "markdown",
      "metadata": {},
      "source": [
        "# Passo 3: Construção do modelo"
      ]
    },
    {
      "cell_type": "code",
      "execution_count": 170,
      "metadata": {},
      "outputs": [
        {
          "name": "stderr",
          "output_type": "stream",
          "text": [
            "c:\\Users\\angel\\anaconda3\\envs\\dsa-formacao-ia\\Lib\\site-packages\\keras\\src\\layers\\core\\dense.py:87: UserWarning: Do not pass an `input_shape`/`input_dim` argument to a layer. When using Sequential models, prefer using an `Input(shape)` object as the first layer in the model instead.\n",
            "  super().__init__(activity_regularizer=activity_regularizer, **kwargs)\n"
          ]
        }
      ],
      "source": [
        "# Cria o modelo\n",
        "\n",
        "# Inicializa um modelo sequencial. Modelos sequencias sao uma pilha linear de camadas.\n",
        "model_v1 = Sequential()\n",
        "\n",
        "# Define o número de colunas do X_treino\n",
        "numero_de_colunas_X_treino = X_treino.shape[1]\n",
        "\n",
        "# Adiciona a primeira camada densa (Fully-connected) ao modelo\n",
        "model_v1.add(\n",
        "    Dense(\n",
        "        4096,\n",
        "        # Utiliza a funcao de ativacao SELU (Scaled Exponential Linear Unit)\n",
        "        activation='selu',\n",
        "\n",
        "        # Inicializa os pesos com a distribuicao LeCun Normal\n",
        "        kernel_initializer='lecun_normal',\n",
        "\n",
        "        # Define o formato da entrada com base no número de features do X_treino\n",
        "        input_shape=(numero_de_colunas_X_treino,),\n",
        "\n",
        "        # Aplica regularização L2 para reduzir o overfitting\n",
        "        kernel_regularizer=tf.keras.regularizers.l2(0.01)\n",
        "    )\n",
        ")\n",
        "\n",
        "# Adiciona a segunda camada densa\n",
        "model_v1.add(\n",
        "    Dense(\n",
        "        2048,\n",
        "        activation='selu',\n",
        "        kernel_initializer='lecun_normal',\n",
        "        kernel_regularizer=tf.keras.regularizers.l2(0.01)\n",
        "    )\n",
        ")\n",
        "\n",
        "# Adiciona a terceira camada densa\n",
        "model_v1.add(\n",
        "    Dense(\n",
        "        1024,\n",
        "        activation='selu',\n",
        "        kernel_initializer='lecun_normal',\n",
        "        kernel_regularizer=tf.keras.regularizers.l2(0.01)\n",
        "    )\n",
        ")\n",
        "\n",
        "# Adiciona a quarta camada densa\n",
        "# Camada com 64 neurônios e ativacao SELU\n",
        "model_v1.add(\n",
        "    Dense(\n",
        "        64,\n",
        "        activation='selu',\n",
        "    )\n",
        ")\n",
        "\n",
        "# Adiciona a camada de saída\n",
        "# Camada com 6 neurônios e ativacao softmax para classificação multiclasse\n",
        "model_v1.add(Dense(6, activation='softmax'))\n",
        "\n",
        "# O número de neuronios de cada camada é definido a partir de testes e experimentações.\n",
        "# Não existe uma regra fixa para definir o número de neurônios de cada camada.\n",
        "# O número de camadas e neurônios é um hiperparâmetro que deve ser ajustado de acordo com o problema."
      ]
    }
  ],
  "metadata": {
    "accelerator": "GPU",
    "colab": {
      "gpuType": "T4",
      "provenance": []
    },
    "kernelspec": {
      "display_name": "dsa-formacao-ia",
      "language": "python",
      "name": "python3"
    },
    "language_info": {
      "codemirror_mode": {
        "name": "ipython",
        "version": 3
      },
      "file_extension": ".py",
      "mimetype": "text/x-python",
      "name": "python",
      "nbconvert_exporter": "python",
      "pygments_lexer": "ipython3",
      "version": "3.11.11"
    }
  },
  "nbformat": 4,
  "nbformat_minor": 0
}
